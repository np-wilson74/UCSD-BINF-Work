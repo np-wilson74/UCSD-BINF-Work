{
 "cells": [
  {
   "cell_type": "markdown",
   "metadata": {
    "deletable": false,
    "editable": false,
    "nbgrader": {
     "cell_type": "markdown",
     "checksum": "60985ff1e6c1def70d4838363702d592",
     "grade": false,
     "grade_id": "cell-d7df9378f730312d",
     "locked": true,
     "schema_version": 3,
     "solution": false,
     "task": false
    }
   },
   "source": [
    "# Week 7 Lab: Phylogenetics and COVID-19\n",
    "\n",
    "Skills: Multiple sequence alignment, Phylogenetics, Installing tools, Finding data\n",
    "\n",
    "Note, there are no exercise notebooks this week. Just one report notebook to fill out. This will give you extra time to work on your proposals, which are due on Friday!\n",
    "\n",
    "## Intro\n",
    "\n",
    "COVID-19 is caused by a novel type of coronavirus, a class of viruses that can cause disease ranging from the common cold to more severe conditions like MERS or SARS. In this lab, we'll analyze the genome multiple strains of the novel coronavirus (SARS-CoV-2), and use comparative genomics techniques to explore how the virus relates to other types of coronaviruses.\n",
    "\n",
    "In your final project, you will aim to reproduce results of a published paper by obtaining their data and following their methods. In this lab, we will similarly use published work to guide us (although we're combining data from multiple sources and deviating a bit since we don't have acces to all the same datasets, and are trying to use tools that take less time to run).\n",
    "\n",
    "Our primary goal will be to reconstruct the phylogenetics analysis from [A Novel Coronavirus from Patients with Pneumonia in China, 2019](https://www.nejm.org/doi/full/10.1056/NEJMoa2001017), one of the earliest reports of the full SARS-CoV-2 genome. Specifically, we'll be producing something like their [Figure 4b](https://www.nejm.org/doi/full/10.1056/NEJMoa2001017):\n",
    "\n",
    "<img src=\"COVID-19-tree.png\">\n",
    "\n",
    "This tree shows the relationship between multiple SARS-CoV-2 genomes and other coronavirus strains, including SARS, MERS, and coronavirus strains isolated from bats.\n",
    "\n",
    "Unfortunately, they don't give us a whole lot of methods info to go on. Here is a snippet from the relevant methods part: \"Multiple-sequence alignment of the 2019-nCoV and reference sequences was performed with the use of Muscle. Phylogenetic analysis of the complete genomes was performed with RAxML (13) with 1000 bootstrap replicates and a general time-reversible model used as the nucleotide substitution model.\" Not a whole lot of details, but with enough detective work we'll still be able to construct a similar tree!\n",
    "\n",
    "## Overview\n",
    "\n",
    "Our overall goal will be to compare genomes of different virus species. Whereas in previous labs, we usually started from raw reads (in fastq format), for this lab, we'll work with existing assemblies for the viral genomes of interest and skip doing the assembly ourselves. If you choose to do the extra credit part, you'll try your hand at starting from the raw reads and using your own assembly in the phylogenetics analysis.\n",
    "\n",
    "In this lab, we'll go through:\n",
    "1. Obtaining genome assemblies from NCBI and raw reads from SRA.\n",
    "2. Performing multiple sequence alignment.\n",
    "3. Building a phylogenetic tree to explore the evolutionary relationship between virus strains.\n",
    "4. Visualizing phylogenetic trees.\n",
    "5. (Extra credit) Obtaining raw reads from SRA and performing assembly.\n",
    "\n",
    "This lab will also be a warm-up for your final project. In previous labs, we have mostly set up the data and tools for you beforehand. But when you start working on your own research projects, you'll probably find that the setup process, and wrangling datasets into the correct formats, often is harder to figure out than actually doing the analysis! So in this lab, we'll give you some pointers on how to obtain the data and tools you need. We'll also give some tips in lecture. But you'll be doing a lot of those steps on your own.\n",
    "\n",
    "### Summary of tools covered\n",
    "In this lab we'll be using or referring to the following tools:\n",
    "\n",
    "* [mafft](https://mafft.cbrc.jp/alignment/software/): for performing multiple sequence alignment\n",
    "* [RaxML](https://github.com/stamatak/standard-RAxML): for building phylogenetics trees\n",
    "\n",
    "\n",
    "## Note\n",
    "\n",
    "Unlike in previous weeks, rather than scattering questions throughout the instructions notebook, this week all report instructions are just given in the report notebook."
   ]
  },
  {
   "cell_type": "markdown",
   "metadata": {
    "deletable": false,
    "editable": false,
    "nbgrader": {
     "cell_type": "markdown",
     "checksum": "d4ae207f6c0e3c2417598a0e0a41c66c",
     "grade": false,
     "grade_id": "cell-af8f8a8c9dc6e64a",
     "locked": true,
     "schema_version": 3,
     "solution": false,
     "task": false
    }
   },
   "source": [
    "# 1. Downloading the data\n",
    "\n",
    "Our first step will be to download the assembled genomes for the viruses we'd like to compare. To help you get started, we've provided (based on manually copying from the figure above...) the NCBI accession numbers for the genomes to compare:\n",
    "\n",
    "```\n",
    "/datasets/cs185-sp21-A00-public/week7/lab7_accessions.txt\n",
    "```\n",
    "\n",
    "This is just a text file, with one accession per line, where each accession is unique to a virus strain. These accessions, and brief descriptions, are also listed here: https://docs.google.com/spreadsheets/d/1p1JpKKj1lUmGqrq2fdnX-FHvv7wt-jIdyY4qrRXyT9I/edit?usp=sharing\n",
    "\n",
    "To see info about a certain accession, you can go to NCBI using a link like: https://www.ncbi.nlm.nih.gov/nuccore/AY508724.1\n",
    "\n",
    "You'll see for instance that this genome is from \"SARS coronavirus NS-1, complete genome\" (the original SARS from the early 2000s). You can also scroll through the entire genome sequence since it's so short!\n",
    "\n",
    "To see another accession, replace the last value after the \"/\" in the URL with the genome you're interested in.\n",
    "\n",
    "Our goal in this first section is to download the genomes for each of these accessions into one big fasta file, which we will need to input into the tools we use below. So you'd like to create a fasta file that looks something like this:\n",
    "\n",
    "\n",
    "```\n",
    ">AY508724.1 SARS coronavirus NS-1, complete genome\n",
    "TACCCAGGAAAAGCCAACCAACCTCGATCTCTTGTAGATCTGTTCTCTAAACGAACTTTAAAATCTGTGT...\n",
    ">AY485277.1 SARS coronavirus Sino1-11, complete genome\n",
    "ATATTAGGTTTTTACCTACCCAGGAAAAGCCAACCAACCTCGATCTCTTGTAGATCTGTTCTCTAAACG...\n",
    "```\n",
    "\n",
    "Put your fasta file in  `~/week7/lab7_virus_genomes.fa`.\n",
    "\n",
    "Some things you might find helpful:\n",
    "* URLs of the form: https://eutils.ncbi.nlm.nih.gov/entrez/eutils/efetch.fcgi?db=nuccore&id=AY508724&rettype=fasta&retmode=text (similar for other accessions) will point you to the genome sequence for each accession (in fasta format)\n",
    "* You can use the commands `wget` or `curl` to directly download files from URLs.\n",
    "\n",
    "A good way to go about this would be to write a for loop or similar script that would loop through accessions, construct a URL to the fasta file for each, then use `wget` to download. Our solution is able to do all of this in just one line of UNIX commands. Although your solution doesn't have to."
   ]
  },
  {
   "cell_type": "markdown",
   "metadata": {
    "deletable": false,
    "editable": false,
    "nbgrader": {
     "cell_type": "markdown",
     "checksum": "75da2eadaa8b09ca6131f47f30d5ef60",
     "grade": false,
     "grade_id": "cell-5f8322bc255ee855",
     "locked": true,
     "schema_version": 3,
     "solution": false,
     "task": false
    }
   },
   "source": [
    "# 2. Performing multiple sequence alignment\n",
    "\n",
    "Now that we've collected all the genome sequences we need in a single fasta file, we'll want to compare them to each other. A typical and critical step in order to do so is to create a \"multiple sequence alignment\" between them so we can compare nucleotides at specific bases across strains.\n",
    "\n",
    "The NEJM paper used a tool called [MUSCLE](https://www.ebi.ac.uk/Tools/msa/muscle/) for this. We'll deviate from their methods and use an alternative tool called [mafft](https://mafft.cbrc.jp/alignment/software/), since we found that it runs quite a bit faster. `mafft` (and `MUSCLE`) take as input a fasta file with multiple genomes, and outputs a new fasta-like file showing the alignment between those genomes.\n",
    "\n",
    "## 2.1 Install mafft\n",
    "You'll first need to install `mafft`. Since we don't have \"root\" permissions, you'll want to follow their instructions here: https://mafft.cbrc.jp/alignment/software/installation_without_root.html to install to your own home directory.\n",
    "\n",
    "Some notes that may be helpful:\n",
    "* If you change the top line of the Makefile to `PREFIX=$(HOME)/local`, it will install to your home directory\n",
    "* This will install `mafft` to `$HOME/local/bin`. You can run on the command line with the full path: `$HOME/local/bin/mafft`. \n",
    "* Alternatively, you can add this directory to your `$PATH`, which is where UNIX searches for tools. For instance if you do\n",
    "```\n",
    "export PATH=$PATH:$HOME/local/bin\n",
    "```\n",
    "You should then be able to just type `mafft` at the command line like you would for other tools. Before moving on make sure when you type `mafft` or `$HOME/local/bin/mafft` in the command line the mafft instructions come up.\n",
    "\n",
    "Note, if you close and reopen your terminal, you'll have to type this line again to reset the $PATH.\n",
    "\n",
    "## 2.2 Run mafft\n",
    "\n",
    "Once mafft is installed, you'll need to run it! If you type the `mafft` command, it will walk you through inputting the fasta file and ask a name for our output file. Run `mafft` and save the output to a file `lab7_virus_genomes.aln`. Look at the output file. It should have many gap \"-\" characters in addition to nucleotides in it. This so that all the comparable nucleotides are lined up in the final multiple sequence alignment."
   ]
  },
  {
   "cell_type": "markdown",
   "metadata": {
    "deletable": false,
    "editable": false,
    "nbgrader": {
     "cell_type": "markdown",
     "checksum": "71fd74ba0253c9330942878807f5a19a",
     "grade": false,
     "grade_id": "cell-27af16620631ad11",
     "locked": true,
     "schema_version": 3,
     "solution": false,
     "task": false
    }
   },
   "source": [
    "# 3. Building a tree\n",
    "\n",
    "Now, we're ready to build our tree. We'll use a tool called RaxML (the same one used in the NEJM paper). You can find the RaxML manual here: https://github.com/stamatak/standard-RAxML/blob/master/manual/NewManual.pdf. I found this manual *very overwhelming*. We'll give some guidance in how to use this tool to build our tree. \n",
    "\n",
    "## 3.1 Install RaxML\n",
    "\n",
    "You'll first have to install RaxML. We downloaded the `.tar.gz` file for v8.2.12 from the Github releases page: https://github.com/stamatak/standard-RAxML/releases and followed the instructions on their Github home page (https://github.com/stamatak/standard-RAxML) for compiling the version \"SSE3.PTHREADS\". After it compiles, it should create a binary file ` raxmlHPC-PTHREADS-SSE3`. It is convenient to add to a location on your $PATH, e.g.:\n",
    "\n",
    "```\n",
    "cp raxmlHPC-PTHREADS-SSE3 ~/local/bin/raxml\n",
    "```\n",
    "\n",
    "Then you can just run the commands by typing `raxml` at the command line.\n",
    "\n",
    "## 3.2 Run RaxML\n",
    "\n",
    "Now, use RaxML to build a tree. We will first build a maximum likelihood tree, and annotate the branches with  confidence values, as was done in the NEJM figure. Even though they didn't give us much detail, we do know:\n",
    "* They used bootstrapping to annotate support for each split. Their methods say they did 1000 bootstraps. We'll do fewer to save time. Our solution used 100. But you might want to try with fewer to make sure things are working first.\n",
    "* They used a \"general time-reversible model\". (Hint look for \"GTRCAT\" in the RaxML manual).\n",
    "\n",
    "We'll actually need to use multiple RaxML commands:\n",
    "* The first will find the maximum likelihood tree based on our mafft alignment.\n",
    "* The second will perform the bootstrap search. This one can take a while. You might want to use `nohup`.\n",
    "* The third will draw the bipartitions (bootstrap values) on the best tree generated by the first command. This should be fast.\n",
    "\n",
    "Figure out from the RaxML manual, or from googling, how to do this. You might find Step 4 of this tutorial helpful: https://cme.h-its.org/exelixis/web/software/raxml/hands_on.html. (more helpful than the manual...)\n",
    "\n",
    "You should end up with a file named something like `RAxML_bipartitionsBranchLabels.lab7_raxml_bs` with your final tree containing branch labels with the bootstrap values. This file is in [newick format](https://en.wikipedia.org/wiki/Newick_format), a common file format to describe trees."
   ]
  },
  {
   "cell_type": "markdown",
   "metadata": {
    "deletable": false,
    "editable": false,
    "nbgrader": {
     "cell_type": "markdown",
     "checksum": "f05f422669cb651b4691e31034a5e29f",
     "grade": false,
     "grade_id": "cell-16c8579bbd6580a0",
     "locked": true,
     "schema_version": 3,
     "solution": false,
     "task": false
    }
   },
   "source": [
    "# 4. Visualize the tree\n",
    "\n",
    "Finally, visualize your tree. We recommend you use one of multiple online tools for viewing trees from Newick files. e.g.:\n",
    "\n",
    "* [iTOL](https://itol.embl.de/upload.cgi)\n",
    "* [ETE Treeview](http://etetoolkit.org/treeview/)\n",
    "\n",
    "For both of these, you can directly copy the text of your newick file into the text box provided and visualize the output. You might want to improve on the intitial visualization they provide. e.g.:\n",
    "* Make sure bootstrap support values are displayed at the branchpoints.\n",
    "* You may want to change the node labels, either programmatically or manually, to make interpreting your tree easier. For instance, rather than display accessing codes like AY508724.1 you could label the nodes something like \"SARS coronavirus NS-1\" based on the annotations here: https://docs.google.com/spreadsheets/d/1p1JpKKj1lUmGqrq2fdnX-FHvv7wt-jIdyY4qrRXyT9I/edit?usp=sharing.\n",
    "* You'll want to at least be able to pick out which leaves correspond to COVID-19 samples, the original SARS, and MERS."
   ]
  },
  {
   "cell_type": "markdown",
   "metadata": {
    "deletable": false,
    "editable": false,
    "nbgrader": {
     "cell_type": "markdown",
     "checksum": "6482f0f6863fab66350d7d558374d05d",
     "grade": false,
     "grade_id": "cell-cef6775cb31beefc",
     "locked": true,
     "schema_version": 3,
     "solution": false,
     "task": false
    }
   },
   "source": [
    "# 5. Write up\n",
    "\n",
    "Once you've finished building your tree, head over to the report notebook to complete the lab!"
   ]
  }
 ],
 "metadata": {
  "kernelspec": {
   "display_name": "Python 3",
   "language": "python",
   "name": "python3"
  },
  "language_info": {
   "codemirror_mode": {
    "name": "ipython",
    "version": 3
   },
   "file_extension": ".py",
   "mimetype": "text/x-python",
   "name": "python",
   "nbconvert_exporter": "python",
   "pygments_lexer": "ipython3",
   "version": "3.6.7"
  }
 },
 "nbformat": 4,
 "nbformat_minor": 2
}
