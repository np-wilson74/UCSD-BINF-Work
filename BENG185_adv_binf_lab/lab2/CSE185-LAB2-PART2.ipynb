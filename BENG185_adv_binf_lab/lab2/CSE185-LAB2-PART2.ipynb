{
 "cells": [
  {
   "cell_type": "markdown",
   "metadata": {
    "deletable": false,
    "editable": false,
    "nbgrader": {
     "cell_type": "markdown",
     "checksum": "9e2512753664b5422df717e3ab05e3d9",
     "grade": false,
     "grade_id": "cell-09c72397d8d57cb3",
     "locked": true,
     "schema_version": 3,
     "solution": false,
     "task": false
    }
   },
   "source": [
    "# Week 2 Lab: So where do all those reference genomes come from anyway? (Sequence assembly)\n",
    "\n",
    "## Part 2 (40 pts)\n",
    "\n",
    "Notes:\n",
    "* there should be \"high memory\" instances available to complete this lab, which should make the commands run faster.\n",
    "* Multiple commands in this lab might take a while to run. Strongly consider using \"nohup\" to run commands in the background so you can keep working through the rest of the lab while you wait for commands to finish.\n",
    "* To make sure you stay on the right track, many of the autograder tests are fully visible.\n",
    "\n",
    "In this lab, we will assemble the genome of E. coli using two different sequencing technologies: short reads from Illumina, and long reads from PacBio, and compare the results."
   ]
  },
  {
   "cell_type": "markdown",
   "metadata": {
    "deletable": false,
    "editable": false,
    "nbgrader": {
     "cell_type": "markdown",
     "checksum": "b59555f553e93c2604c91902bcb93a41",
     "grade": false,
     "grade_id": "cell-f4a699ad1160b99a",
     "locked": true,
     "schema_version": 3,
     "solution": false,
     "task": false
    }
   },
   "source": [
    "## 1. E. coli sequencing datasets\n",
    "\n",
    "We will be working with two E. coli sequencing datasets in this lab:\n",
    "\n",
    "1. **Illumina paired-end short reads**. We used this dataset for kmer analysis in part 1. Recall you can find the two fastq files at:\n",
    "\n",
    "```shell\n",
    "/datasets/cs185-sp21-A00-public/week2/shortfrag_1.fq\n",
    "/datasets/cs185-sp21-A00-public/week2/shortfrag_2.fq\n",
    "```\n",
    "\n",
    "2. **Pacbio \"hifi\" reads**. We will additionally be working with a long-read dataset generated using the PacBio hifi technology. You can find the fasta file in the same directory:\n",
    "\n",
    "```shell\n",
    "/datasets/cs185-sp21-A00-public/week2/pacbio.fastq\n",
    "```\n",
    "\n",
    "We'll perform assembly using these two different datasets, and then use an online tool called QUAST to evaluate our results.\n",
    "\n",
    "But let's first just get some basic info about the datasets we're working with.\n",
    "\n",
    "You might find some of the following UNIX commands helpful in answering some of the questions below:\n",
    "\n",
    "* `awk` is a general purpose tool for all sorts of data wrangling. Awk excels at parsing delimited data, where you have a lot of fields. The simplest form of an awk command is (all one line):\n",
    "```\n",
    "awk '/search_pattern/ {action to take on matches; another_action;}' [path to file]\n",
    "```\n",
    "\n",
    "For example, the following command prints out the length of each read in our fastq file: \n",
    "\n",
    "```shell\n",
    "cat /datasets/cs185-sp21-A00-public/week2/pacbio.fastq | awk 'NR%4==2 {print length}' | head\n",
    "```\n",
    "\n",
    "Here `NR` means \"row number\" (or record number) and prints out rows where the row number mod 4 is 2 (so, the lines corresponding to the nucleotide sequences). `length` prints the length of the line. For files with many columns, you can also do `length($i)` to print the length of column `i`.\n",
    "\n",
    "* `datamash` is a really helpful tool for cmputing simple operations on columns of data. Below is an example of how to use the command. Type `datamash --help` for more usage info.\n",
    "\n",
    "```shell\n",
    "cat /datasets/cs185-sp21-A00-public/week2/pacbio.fastq | awk 'NR%4==2 {print length}' | datamash mean 1 # print min of column 1\n",
    "```\n",
    "\n",
    "**Question 1 (3 pts)**: How many read pairs are in the Illumina dataset? What is their length (in bp)? Based on a genome size of 4.6 million bp for the E. coli genome, what average sequencing coverage do you expect? (Be sure to take into account the fact that this library is paired-end). Fill in the python variables with your answers below."
   ]
  },
  {
   "cell_type": "code",
   "execution_count": 5,
   "metadata": {
    "deletable": false,
    "nbgrader": {
     "cell_type": "code",
     "checksum": "5c24fd782eaa2bd7d23eba3080365e42",
     "grade": false,
     "grade_id": "cell-5daa7f4f07311512",
     "locked": false,
     "schema_version": 3,
     "solution": true,
     "task": false
    }
   },
   "outputs": [
    {
     "data": {
      "text/plain": [
       "309.00704347826087"
      ]
     },
     "execution_count": 5,
     "metadata": {},
     "output_type": "execute_result"
    }
   ],
   "source": [
    "shortfrag_numpairs = 14214324 # Fill this in with the number of read pairs\n",
    "shortfrag_readlen = 100 # Fill this in with the read length in bp\n",
    "shortfrag_coverage = shortfrag_numpairs*shortfrag_readlen/4600000 # Fill this in with the coverage\n",
    "# YOUR CODE HERE\n",
    "#raise NotImplementedError()"
   ]
  },
  {
   "cell_type": "code",
   "execution_count": 2,
   "metadata": {
    "deletable": false,
    "editable": false,
    "nbgrader": {
     "cell_type": "code",
     "checksum": "92117c127bcebddcf282aa1cf9d2f962",
     "grade": true,
     "grade_id": "ilmn-readpairs",
     "locked": true,
     "points": 1,
     "schema_version": 3,
     "solution": false,
     "task": false
    }
   },
   "outputs": [],
   "source": [
    "\"\"\"Check shortfrag_numpairs\"\"\"\n",
    "assert(shortfrag_numpairs > 14000000 and shortfrag_numpairs < 20000000)\n"
   ]
  },
  {
   "cell_type": "code",
   "execution_count": 3,
   "metadata": {
    "deletable": false,
    "editable": false,
    "nbgrader": {
     "cell_type": "code",
     "checksum": "1aec13d64e7a5edfc8a6e34ce17d81dd",
     "grade": true,
     "grade_id": "ilmn-readlen",
     "locked": true,
     "points": 1,
     "schema_version": 3,
     "solution": false,
     "task": false
    }
   },
   "outputs": [],
   "source": [
    "\"\"\"Check shortfrag_readlen\"\"\"\n",
    "\n",
    "assert(shortfrag_readlen > 50 and shortfrag_readlen < 500)\n"
   ]
  },
  {
   "cell_type": "code",
   "execution_count": 4,
   "metadata": {
    "deletable": false,
    "editable": false,
    "nbgrader": {
     "cell_type": "code",
     "checksum": "6f56f39103abb2f6044f8bb402e2e7d6",
     "grade": true,
     "grade_id": "ilmn-coverage",
     "locked": true,
     "points": 1,
     "schema_version": 3,
     "solution": false,
     "task": false
    }
   },
   "outputs": [],
   "source": [
    "\"\"\"Check shortfrag_coverage\"\"\"\n",
    "assert(shortfrag_coverage > 100 and shortfrag_coverage < 1000)\n",
    "assert(type(shortfrag_coverage)==float)\n"
   ]
  },
  {
   "cell_type": "markdown",
   "metadata": {
    "deletable": false,
    "editable": false,
    "nbgrader": {
     "cell_type": "markdown",
     "checksum": "de4714189d33f5e2516b8a3c214dd0c2",
     "grade": false,
     "grade_id": "cell-be1c106b6da779ee",
     "locked": true,
     "schema_version": 3,
     "solution": false,
     "task": false
    }
   },
   "source": [
    "**Question 2 (3 pts)**: How many reads (single end) are in the Pacbio dataset? What is their *average* length (in bp)? What average coverage across the E. coli genome do you expect? Fill in the python variables with your answers below."
   ]
  },
  {
   "cell_type": "code",
   "execution_count": 7,
   "metadata": {
    "deletable": false,
    "nbgrader": {
     "cell_type": "code",
     "checksum": "81a62b56581158777c683355d6cf4399",
     "grade": false,
     "grade_id": "cell-1e2fb136ebd50760",
     "locked": false,
     "schema_version": 3,
     "solution": true,
     "task": false
    }
   },
   "outputs": [],
   "source": [
    "pacbio_numreads = 95514 # Fill in with the number of reads\n",
    "pacbio_mean_readlen = 14547.60957556 # Fill this in with the read length\n",
    "pacbio_coverage = shortfrag_numpairs*shortfrag_readlen/4600000 # Fill this in with the coverage\n",
    "\n",
    "# YOUR CODE HERE\n",
    "#raise NotImplementedError()"
   ]
  },
  {
   "cell_type": "code",
   "execution_count": 8,
   "metadata": {
    "deletable": false,
    "editable": false,
    "nbgrader": {
     "cell_type": "code",
     "checksum": "45a97b89d9db832046ddaacbd4609cef",
     "grade": true,
     "grade_id": "pacbio-numreads",
     "locked": true,
     "points": 1,
     "schema_version": 3,
     "solution": false,
     "task": false
    }
   },
   "outputs": [],
   "source": [
    "\"\"\"Check pacbio_numreads\"\"\"\n",
    "assert(pacbio_numreads > 80000 and pacbio_numreads < 100000)\n"
   ]
  },
  {
   "cell_type": "code",
   "execution_count": 9,
   "metadata": {
    "deletable": false,
    "editable": false,
    "nbgrader": {
     "cell_type": "code",
     "checksum": "a708dd3b6221d098809f129421307922",
     "grade": true,
     "grade_id": "pacbio-readlen",
     "locked": true,
     "points": 1,
     "schema_version": 3,
     "solution": false,
     "task": false
    }
   },
   "outputs": [],
   "source": [
    "\"\"\"Check pacbio_mean_readlen\"\"\"\n",
    "assert(pacbio_mean_readlen > 10000 and pacbio_mean_readlen < 20000)\n"
   ]
  },
  {
   "cell_type": "code",
   "execution_count": 10,
   "metadata": {
    "deletable": false,
    "editable": false,
    "nbgrader": {
     "cell_type": "code",
     "checksum": "fb3e11fc03b64b5338b85c1523c91450",
     "grade": true,
     "grade_id": "pacbio-coverage",
     "locked": true,
     "points": 1,
     "schema_version": 3,
     "solution": false,
     "task": false
    }
   },
   "outputs": [],
   "source": [
    "\"\"\"Check pacbio_coverage\"\"\"\n",
    "assert(pacbio_coverage > 100 and pacbio_coverage < 1000)\n",
    "assert(type(pacbio_coverage)==float)\n"
   ]
  },
  {
   "cell_type": "markdown",
   "metadata": {
    "deletable": false,
    "editable": false,
    "nbgrader": {
     "cell_type": "markdown",
     "checksum": "0c91eef9b7b286ec4d644fbe376b22db",
     "grade": false,
     "grade_id": "cell-82068021eac2a530",
     "locked": true,
     "schema_version": 3,
     "solution": false
    }
   },
   "source": [
    "## 2. Assemble reads with minia\n",
    "\n",
    "First, we'll use a lightweight program called `minia`, which is based on de Bruijn graphs, to assemble the Illumina reads. Even though the questions above asked about the original sequencing datasets, for the assembly we'll be using the trimmed reads you generated in part 1.\n",
    "\n",
    "To get started, type `minia` at the command line to see how to use it.\n",
    "\n",
    "```\n",
    "minia\n",
    "```\n",
    "\n",
    "`minia` needs a list of our files as input, so let's make a list of files to include. We'll use this opportunity to learn about some cool Jupyter \"magics\". Cell magics start with `%%`. The cell below uses the `%%file` magic, which writes the contents of that cell to the specified file. If necessary you can edit the file below to reflect actual paths to your trimmed fastq files if you named them something else. For assembling *contigs* with minia, we will use only the shortgrag library, which is what we used to get our kmer distributions using jellyfish on Tuesday."
   ]
  },
  {
   "cell_type": "code",
   "execution_count": 11,
   "metadata": {},
   "outputs": [
    {
     "name": "stdout",
     "output_type": "stream",
     "text": [
      "Writing /home/n4wilson/week2/minia_input_files.txt\n"
     ]
    }
   ],
   "source": [
    "%%file ~/week2/minia_input_files.txt\n",
    "shortfrag_trimmed_1.fq\n",
    "shortfrag_trimmed_2.fq"
   ]
  },
  {
   "cell_type": "markdown",
   "metadata": {
    "deletable": false,
    "editable": false,
    "nbgrader": {
     "cell_type": "markdown",
     "checksum": "e43b09629cc8a14f9bbbc7646318435b",
     "grade": false,
     "grade_id": "cell-3d178c1d62fdf8e4",
     "locked": true,
     "schema_version": 3,
     "solution": false
    }
   },
   "source": [
    "Test that the above cell wrote your file correctly on the terminal:\n",
    "```\n",
    "cat ~/week2/minia_input_files.txt\n",
    "```"
   ]
  },
  {
   "cell_type": "markdown",
   "metadata": {
    "deletable": false,
    "editable": false,
    "nbgrader": {
     "cell_type": "markdown",
     "checksum": "8c28cc2db6b48acce66e524928323667",
     "grade": false,
     "grade_id": "cell-46c69bfeebf5b862",
     "locked": true,
     "schema_version": 3,
     "solution": false
    }
   },
   "source": [
    "Now let's get back to running `minia`. \n",
    "\n",
    "The most important parameter is the `kmer-size`. From our jellyfish histogram of the corrected data, we know that a kmer of 18 produces a defined ‘true-reads’ peak, and we know where the valley is. For the minia command, you only want to use k-mers with abundance higher than this valley point (`-abundance-min`). Later we'll experiment with different kmer lengths.\n",
    " \n",
    "Set the output prefix to `minia_assembly_18`.\n",
    "\n",
    "**Question 3 (2 pts)**: Run `minia`, using a kmer size of 18 and setting the min abundance to 23. Paste your command into the variable `minia_cmd` below."
   ]
  },
  {
   "cell_type": "code",
   "execution_count": 12,
   "metadata": {
    "deletable": false,
    "nbgrader": {
     "cell_type": "code",
     "checksum": "1814f0692100824b1e1bb5ac7b50a27e",
     "grade": false,
     "grade_id": "minia-cmd-answer",
     "locked": false,
     "schema_version": 3,
     "solution": true,
     "task": false
    }
   },
   "outputs": [],
   "source": [
    "minia_cmd = \"\"\"\n",
    "minia -in minia_input_files.txt -out minia_assembly_18 -kmer-size 18 -abundance-min 23\n",
    "\"\"\"\n",
    "\n",
    "# YOUR CODE HERE\n",
    "#raise NotImplementedError()"
   ]
  },
  {
   "cell_type": "code",
   "execution_count": 13,
   "metadata": {
    "deletable": false,
    "editable": false,
    "nbgrader": {
     "cell_type": "code",
     "checksum": "ee89d8f441341b18d1abc94eebbbd3dd",
     "grade": true,
     "grade_id": "minia-cmd-test",
     "locked": true,
     "points": 2,
     "schema_version": 3,
     "solution": false,
     "task": false
    }
   },
   "outputs": [],
   "source": [
    "\"\"\"Basic checks on minia command\"\"\"\n",
    "assert(\"minia\" in minia_cmd)\n",
    "assert(\"-in\" in minia_cmd)\n"
   ]
  },
  {
   "cell_type": "markdown",
   "metadata": {
    "deletable": false,
    "editable": false,
    "nbgrader": {
     "cell_type": "markdown",
     "checksum": "21bc6d61bd26168b39eed1cfc463f14f",
     "grade": false,
     "grade_id": "cell-21d056abc84e8ae2",
     "locked": true,
     "schema_version": 3,
     "solution": false
    }
   },
   "source": [
    "Examine your assembly. The most important file minia created is the `minia_assembly_18.contigs.fa` file, which is a list of each assembled contigs in fasta format. Use `head` to look at the first few contigs.\n",
    "\n",
    "**Question 4 (5 pts)**: Gather some basic statistics about the contigs. Write one-line UNIX commands to answer the following. Paste your commands in the variable `minia_stats_cmd` (1 pt). Set the variables `num_contigs`, `longest_contig_length`,  `shortest_contig_length`, and `median_contig_length` to your answers to the questions below.\n",
    "* How many contigs are there? (1 pt)\n",
    "* What is the longest contig length? (1 pt)\n",
    "* What is the shortest contig length? (1 pt)\n",
    "* What is the median contig length? (1pt)"
   ]
  },
  {
   "cell_type": "code",
   "execution_count": 15,
   "metadata": {
    "deletable": false,
    "nbgrader": {
     "cell_type": "code",
     "checksum": "e4959645bdb63f04a5413f0b7ed491f3",
     "grade": false,
     "grade_id": "minia-inspection-results",
     "locked": false,
     "schema_version": 3,
     "solution": true
    }
   },
   "outputs": [],
   "source": [
    "minia_stats_cmds = \"\"\"\n",
    "\n",
    "Paste your commands used to get the stats  for \n",
    "How many contigs are there? \n",
    "wc minia_assembly_18.contigs.fa\n",
    "What is the longest contig length? \n",
    "cat minia_assembly_18.contigs.fa | awk 'NR%4==2 {print length}' | datamash max 1\n",
    "What is the shortest contig length?\n",
    "cat minia_assembly_18.contigs.fa | awk 'NR%4==2 {print length}' | datamash min 1\n",
    "What is the median contig length? \n",
    "cat minia_assembly_18.contigs.fa | awk 'NR%4==2 {print length}' | datamash median 1\n",
    "\"\"\"\n",
    "\n",
    "# Set the variables to your answers from the above commands\n",
    "num_contigs = 27084/2\n",
    "longest_contig_length = 5374\n",
    "shortest_contig_length = 18\n",
    "median_contig_length = 174\n",
    "\n",
    "\n",
    "# YOUR CODE HERE\n",
    "#raise NotImplementedError()"
   ]
  },
  {
   "cell_type": "code",
   "execution_count": 16,
   "metadata": {
    "deletable": false,
    "editable": false,
    "nbgrader": {
     "cell_type": "code",
     "checksum": "d8b067539ad6cc3f0b09100969a03c26",
     "grade": true,
     "grade_id": "correct-minia-inspection-9",
     "locked": true,
     "points": 1,
     "schema_version": 3,
     "solution": false,
     "task": false
    }
   },
   "outputs": [],
   "source": [
    "assert(\"minia_assembly_18.contigs.fa\" in minia_stats_cmds)"
   ]
  },
  {
   "cell_type": "code",
   "execution_count": 17,
   "metadata": {
    "deletable": false,
    "editable": false,
    "nbgrader": {
     "cell_type": "code",
     "checksum": "d46c9ba1ca502bef470f42b0b25a9517",
     "grade": true,
     "grade_id": "correct-minia-inspection-1",
     "locked": true,
     "points": 1,
     "schema_version": 3,
     "solution": false,
     "task": false
    }
   },
   "outputs": [],
   "source": [
    "\"\"\"Check num_contigs\"\"\"\n",
    "# Note allow some wiggle room. in past years people have gotten slightly different answers,\n",
    "# and we couldn't figure out a reason why\n",
    "assert(abs(num_contigs - 13539)<100)"
   ]
  },
  {
   "cell_type": "code",
   "execution_count": 18,
   "metadata": {
    "deletable": false,
    "editable": false,
    "nbgrader": {
     "cell_type": "code",
     "checksum": "1c1627e483ba737f5b005c698ba7fef1",
     "grade": true,
     "grade_id": "correct-minia-inspection-results-longest",
     "locked": true,
     "points": 1,
     "schema_version": 3,
     "solution": false
    }
   },
   "outputs": [],
   "source": [
    "\"\"\"Check longest contig\"\"\"\n",
    "assert(abs(longest_contig_length - 5374)<100)"
   ]
  },
  {
   "cell_type": "code",
   "execution_count": 19,
   "metadata": {
    "deletable": false,
    "editable": false,
    "nbgrader": {
     "cell_type": "code",
     "checksum": "b80e232b160926347837d4034ecbc586",
     "grade": true,
     "grade_id": "correct-minia-inspection-results-shortest",
     "locked": true,
     "points": 1,
     "schema_version": 3,
     "solution": false,
     "task": false
    }
   },
   "outputs": [
    {
     "data": {
      "text/plain": [
       "'Check shortest contig'"
      ]
     },
     "execution_count": 19,
     "metadata": {},
     "output_type": "execute_result"
    }
   ],
   "source": [
    "\"\"\"Check shortest contig\"\"\""
   ]
  },
  {
   "cell_type": "code",
   "execution_count": 20,
   "metadata": {
    "deletable": false,
    "editable": false,
    "nbgrader": {
     "cell_type": "code",
     "checksum": "76144df6b7b90deaec4b1e617294f1d2",
     "grade": true,
     "grade_id": "correct-minia-inspection-median",
     "locked": true,
     "points": 1,
     "schema_version": 3,
     "solution": false
    }
   },
   "outputs": [
    {
     "data": {
      "text/plain": [
       "'Check median lengths'"
      ]
     },
     "execution_count": 20,
     "metadata": {},
     "output_type": "execute_result"
    }
   ],
   "source": [
    "\"\"\"Check median lengths\"\"\""
   ]
  },
  {
   "cell_type": "markdown",
   "metadata": {
    "deletable": false,
    "editable": false,
    "nbgrader": {
     "cell_type": "markdown",
     "checksum": "5b8e6533108883179e9b4f7b159fb54d",
     "grade": false,
     "grade_id": "cell-d7585eb7b4c22210",
     "locked": true,
     "schema_version": 3,
     "solution": false
    }
   },
   "source": [
    "**Question 5 (5 pts)**:  Compute the N50 value of your short read assembly. You may use whatever method you like to compute this based on your contigs fasta file. For example, you can write your own script or UNIX command, or you may search for a tool online that can compute this for you.\n",
    "\n",
    "Report the N50 that you get in the variable `minia_n50`. Paste any commands, or point to any code you used to do this, in the variable `n50_cmd`."
   ]
  },
  {
   "cell_type": "code",
   "execution_count": 50,
   "metadata": {
    "deletable": false,
    "nbgrader": {
     "cell_type": "code",
     "checksum": "c52acc2a369c91df61416696376b29b8",
     "grade": false,
     "grade_id": "n50-answer",
     "locked": false,
     "schema_version": 3,
     "solution": true,
     "task": false
    }
   },
   "outputs": [
    {
     "name": "stdout",
     "output_type": "stream",
     "text": [
      "760\n"
     ]
    }
   ],
   "source": [
    "# paste any commands you used to get the N50 below\n",
    "n50_cmd=\"\"\"\n",
    "cat minia_assembly_18.contigs.fa | awk 'NR%4==2 {print length}' > read_lengths.txt\n",
    "\"\"\" \n",
    "\n",
    "minia_n50 = 0\n",
    "\n",
    "# YOUR CODE HERE\n",
    "#read in data from unix command above\n",
    "with open(\"/home/n4wilson/week2/read_lengths.txt\", \"r\") as f:\n",
    "    lengths = f.read()\n",
    "lengths = lengths.split(\"\\n\")\n",
    "int_lengths = []\n",
    "for i in range(0, len(lengths)):\n",
    "    if lengths[i] == '':\n",
    "        continue\n",
    "    else:\n",
    "        int_lengths.append(int(lengths[i]))\n",
    "int_lengths.sort(reverse=True)\n",
    "lengths = int_lengths\n",
    "#size of all contigs\n",
    "G = sum(lengths)\n",
    "\n",
    "#calculate N50\n",
    "n50 = 0\n",
    "running_total = 0\n",
    "for length in lengths:\n",
    "    running_total += length\n",
    "    if running_total >= G/2:\n",
    "        n50 = length\n",
    "        break\n",
    "minia_n50 = n50\n",
    "print(n50)"
   ]
  },
  {
   "cell_type": "code",
   "execution_count": 51,
   "metadata": {
    "deletable": false,
    "editable": false,
    "nbgrader": {
     "cell_type": "code",
     "checksum": "b6cf953ae2e6d0045b37865b8437232e",
     "grade": true,
     "grade_id": "n50-test-cmd",
     "locked": true,
     "points": 2,
     "schema_version": 3,
     "solution": false,
     "task": false
    }
   },
   "outputs": [],
   "source": [
    "\"\"\"Check n50_cmd\"\"\"\n",
    "assert(n50_cmd.strip() != \"\")"
   ]
  },
  {
   "cell_type": "code",
   "execution_count": 52,
   "metadata": {
    "deletable": false,
    "editable": false,
    "nbgrader": {
     "cell_type": "code",
     "checksum": "f7060e755a8c94ef8895c3c64b99a8ba",
     "grade": true,
     "grade_id": "n50-test-val",
     "locked": true,
     "points": 3,
     "schema_version": 3,
     "solution": false,
     "task": false
    }
   },
   "outputs": [],
   "source": [
    "\"\"\"Check n50 value\"\"\"\n",
    "assert(minia_n50 > 500 and minia_n50 < 1000)\n"
   ]
  },
  {
   "cell_type": "markdown",
   "metadata": {
    "deletable": false,
    "editable": false,
    "nbgrader": {
     "cell_type": "markdown",
     "checksum": "dd1d482893439cd503838aa6d4c54cea",
     "grade": false,
     "grade_id": "cell-4e8f7026e755ea0b",
     "locked": true,
     "schema_version": 3,
     "solution": false,
     "task": false
    }
   },
   "source": [
    "**Question 6 (4 pts)**: We chose a specific value for $k$ (18) for our `minia` assembly. What do you think would happen if we chose a larger value of $k$? What are the tradeoffs of larger vs. shorter kmer sizes? Answer the True or False questions below by setting each variable to `True` or `False`."
   ]
  },
  {
   "cell_type": "code",
   "execution_count": 55,
   "metadata": {
    "deletable": false,
    "nbgrader": {
     "cell_type": "code",
     "checksum": "9d58150f7246aaf687f03047a4904bb7",
     "grade": false,
     "grade_id": "cell-f08f5e03fc48157f",
     "locked": false,
     "schema_version": 3,
     "solution": true,
     "task": false
    }
   },
   "outputs": [],
   "source": [
    "'''\n",
    "6.1 True or False, if you choose too short of a kmer, indivudal kmers will be more unique\n",
    "'''\n",
    "q6_ans1 = False # True or False\n",
    "\n",
    "'''\n",
    "6.2 True or False, too short of kmers result in unresolved loops in the assembly\n",
    "'''\n",
    "q6_ans2 = True # True or False\n",
    "\n",
    "'''\n",
    "6.3 True or False, if you choose too long of a kmer, it will be unlikely to observe the same \n",
    "kmer multiple times\n",
    "'''\n",
    "q6_ans3 = True # True or False\n",
    "\n",
    "'''\n",
    "6.4 True or False, too long of kmers makes it easy to find reads and stitch them together \n",
    "resulting in incorrect stitching patterns\n",
    "'''\n",
    "q6_ans4 = False # True or False\n",
    "\n",
    "# YOUR CODE HERE\n",
    "#raise NotImplementedError()"
   ]
  },
  {
   "cell_type": "code",
   "execution_count": 56,
   "metadata": {
    "deletable": false,
    "editable": false,
    "nbgrader": {
     "cell_type": "code",
     "checksum": "0a4523a42051a44a71ee4e8319dcd300",
     "grade": true,
     "grade_id": "cell-0eb98110939600cd",
     "locked": true,
     "points": 0,
     "schema_version": 3,
     "solution": false,
     "task": false
    }
   },
   "outputs": [],
   "source": [
    "# Check that an answer is given\n",
    "assert(q6_ans1 in [True, False])\n",
    "assert(q6_ans2 in [True, False])\n",
    "assert(q6_ans3 in [True, False])\n",
    "assert(q6_ans4 in [True, False])"
   ]
  },
  {
   "cell_type": "code",
   "execution_count": 57,
   "metadata": {
    "deletable": false,
    "editable": false,
    "nbgrader": {
     "cell_type": "code",
     "checksum": "72176940749dc8b22c7cb15211b0d72d",
     "grade": true,
     "grade_id": "q6-1",
     "locked": true,
     "points": 1,
     "schema_version": 3,
     "solution": false,
     "task": false
    }
   },
   "outputs": [
    {
     "data": {
      "text/plain": [
       "'Check q6_ans1'"
      ]
     },
     "execution_count": 57,
     "metadata": {},
     "output_type": "execute_result"
    }
   ],
   "source": [
    "\"\"\"Check q6_ans1\"\"\""
   ]
  },
  {
   "cell_type": "code",
   "execution_count": 58,
   "metadata": {
    "deletable": false,
    "editable": false,
    "nbgrader": {
     "cell_type": "code",
     "checksum": "3900c617ee30a93dfec690ddce7b5989",
     "grade": true,
     "grade_id": "q6-2",
     "locked": true,
     "points": 1,
     "schema_version": 3,
     "solution": false,
     "task": false
    }
   },
   "outputs": [
    {
     "data": {
      "text/plain": [
       "'Check q6_ans2'"
      ]
     },
     "execution_count": 58,
     "metadata": {},
     "output_type": "execute_result"
    }
   ],
   "source": [
    "\"\"\"Check q6_ans2\"\"\""
   ]
  },
  {
   "cell_type": "code",
   "execution_count": 59,
   "metadata": {
    "deletable": false,
    "editable": false,
    "nbgrader": {
     "cell_type": "code",
     "checksum": "cad9fe5d13de26f71a3a1975010a7a54",
     "grade": true,
     "grade_id": "q6-3",
     "locked": true,
     "points": 1,
     "schema_version": 3,
     "solution": false,
     "task": false
    }
   },
   "outputs": [
    {
     "data": {
      "text/plain": [
       "'Check q6_ans3'"
      ]
     },
     "execution_count": 59,
     "metadata": {},
     "output_type": "execute_result"
    }
   ],
   "source": [
    "\"\"\"Check q6_ans3\"\"\""
   ]
  },
  {
   "cell_type": "code",
   "execution_count": 60,
   "metadata": {
    "deletable": false,
    "editable": false,
    "nbgrader": {
     "cell_type": "code",
     "checksum": "d4d1c2a39c300ee336fba176e8174c7d",
     "grade": true,
     "grade_id": "q6-4",
     "locked": true,
     "points": 1,
     "schema_version": 3,
     "solution": false,
     "task": false
    }
   },
   "outputs": [
    {
     "data": {
      "text/plain": [
       "'Check q6_ans4'"
      ]
     },
     "execution_count": 60,
     "metadata": {},
     "output_type": "execute_result"
    }
   ],
   "source": [
    "\"\"\"Check q6_ans4\"\"\""
   ]
  },
  {
   "cell_type": "markdown",
   "metadata": {
    "deletable": false,
    "editable": false,
    "nbgrader": {
     "cell_type": "markdown",
     "checksum": "129916e667ba2008eb9285d332d93d35",
     "grade": false,
     "grade_id": "cell-e5b998d3baf9be75",
     "locked": true,
     "schema_version": 3,
     "solution": false,
     "task": false
    }
   },
   "source": [
    "In a perfect world, we'd end up with an assembly of E. coli with only a single contig, since E. coli has only a single chromosome. You'll notice that our results with short reads still have a long way to go! (We ended up with thousands of contigs, and don't know how they should all be stitched together). In the next section, we'll see how much better we can do when performing assembly with long reads instead."
   ]
  },
  {
   "cell_type": "markdown",
   "metadata": {
    "deletable": false,
    "editable": false,
    "nbgrader": {
     "cell_type": "markdown",
     "checksum": "50dd757ef39a7488bea490e8bc2a6316",
     "grade": false,
     "grade_id": "cell-cd44d1db9ac7274a",
     "locked": true,
     "schema_version": 3,
     "solution": false,
     "task": false
    }
   },
   "source": [
    "## 3. Installing Flye\n",
    "\n",
    "Now, we will assemble the E. coli genome using long reads from the Pacbio Hifi platform. As we'll discuss in class, assembly methods that work for short reads (like from Illumina) will not work as well for long read data. For this section, we'll be using a different assembly tool, called Flye (see https://www.nature.com/articles/s41587-019-0072-8, developed right here at UCSD!).\n",
    "\n",
    "To prepare you for your final project (and bioinformatics in the real world), we have not installed Flye, so you will need to install it yourself. Note, there are two ways that command line tools can be installed:\n",
    "\n",
    "* \"Global\": tools that are installed globally are available to all users in the system. Usually you need to have root (sudo) permissions to install tools globally. We have installed many tools, such as `minia` and `bwa`, globally so that you didn't have to install those on your own.\n",
    "\n",
    "* \"Local\": tools that are installed locally are only available to the user that installed them. While you do not have permissions to install tools globally, you can usually install a tool locally just for yourself.\n",
    "\n",
    "When a command is \"installed\", the tool to run the command (a \"binary\", or executable file) is simply placed in a  directory listed under a special bash variable called the `PATH`. Type:\n",
    "\n",
    "```shell\n",
    "echo $PATH\n",
    "```\n",
    "\n",
    "To see a `:` delimited list of directories on your `PATH`. If you type a command, bash will search for it in those directories in the order they are listed. If you want to know where the executable file for a tool is located, you can do type:\n",
    "\n",
    "```shell\n",
    "which [command]\n",
    "```\n",
    "\n",
    "e.g. `which minia` should return `/usr/local/bin/minia` (and you should have seen `/usr/local/bin` in the `$PATH`).\n",
    "\n",
    "Now, back to installing `Flye`. Head on over to the github page for Flye: https://github.com/fenderglass/Flye, and follow the link for \"Installation instructions\". Follow the instructions under \"Installing from source\" to install Flye. You should see the following instructions:\n",
    "\n",
    "```shell\n",
    "git clone https://github.com/fenderglass/Flye # make a copy of the repo in your local directory on datahub\n",
    "cd Flye # change to the Flye directory\n",
    "python setup.py install # run the python package install script. \n",
    "```\n",
    "\n",
    "Note, since you don't have root permissions to install tools globally, you'll get an error on the last command. You'll need to modify it to `python setup.py install --prefix=$HOME`. This tells the install script to install everything in your home directory (type `echo $HOME` to see the full path to your home directory).\n",
    "\n",
    "To see if your install worked, type:\n",
    "\n",
    "```shell\n",
    "flye\n",
    "```\n",
    "\n",
    "This should bring up a help message. If it gives you an error that the command is not found, you might need to add `$HOME/bin` to your `PATH`:\n",
    "\n",
    "```\n",
    "export PATH=$PATH:$HOME/bin\n",
    "```"
   ]
  },
  {
   "cell_type": "markdown",
   "metadata": {
    "deletable": false,
    "editable": false,
    "nbgrader": {
     "cell_type": "markdown",
     "checksum": "1db2d78585d8f232838bf950ab1ec03d",
     "grade": false,
     "grade_id": "cell-676028d444f753cd",
     "locked": true,
     "schema_version": 3,
     "solution": false,
     "task": false
    }
   },
   "source": [
    "## 4. Assemble the PacBio reads with Flye\n",
    "\n",
    "Now, we're ready to run Flye! Read through the Flye website, or the help message when you type `flye`, to see how to run it on our pacbio reads. Set the estimated genome size to 4.6 million. Save the output to `~/week2`. You can also use multiple threads (I used 4) on the high memory instances.\n",
    "\n",
    "Note, this might take a little while. With 4 threads, our test run took less than an hour. Recall, to run a process in the background you can do:\n",
    "\n",
    "```shell\n",
    "nohup [command] &\n",
    "```\n",
    "\n",
    "This will write everything that would have been printed to the terminal to `nohup.out` and will keep running even after you close your computer.\n",
    "\n",
    "**Question 7 (5 pts)**: Paste the command you used to run `flye` below in the variable `flye_cmd`. Your command should output multiple files, including `~/week2/assembly.fasta`. Set the variable `assembly_fsize` to the size in megabytes of that file (recall you can use `ls -ltrh` to get the size)"
   ]
  },
  {
   "cell_type": "code",
   "execution_count": null,
   "metadata": {
    "deletable": false,
    "nbgrader": {
     "cell_type": "code",
     "checksum": "0afb456ed717fc0bffa2eddfe5d2ebbd",
     "grade": false,
     "grade_id": "flye-answer",
     "locked": false,
     "schema_version": 3,
     "solution": true,
     "task": false
    }
   },
   "outputs": [],
   "source": [
    "# Paste the command you used to run flye\n",
    "flye_cmd = \"\"\"\n",
    "flye --pacbio-raw /home/n4wilson/week2/pacbio.fastq --out-dir /home/n4wilson/week2 \n",
    "\"\"\"\n",
    "#I had an error below when running 'flye' in terminal with instructions given above\n",
    "#pkg_resources.DistributionNotFound: The 'flye==2.8.3' distribution was not found and is required by the application\n",
    "#I just set up an anaconda environment and installed it thru there since I'm familiar w/ anaconda\n",
    "assembly_fsize = 0 # Set to the size of ~/week2/assembly.fasta in Mb\n",
    "#So Flye is working, but I started late and I don't think it will finish running before this assignment is due\n",
    "#So I guess that's a lesson learned there\n",
    "\n",
    "# YOUR CODE HERE\n",
    "#raise NotImplementedError()"
   ]
  },
  {
   "cell_type": "code",
   "execution_count": null,
   "metadata": {
    "deletable": false,
    "editable": false,
    "nbgrader": {
     "cell_type": "code",
     "checksum": "49db24239ec378c6158c9216f99ea638",
     "grade": true,
     "grade_id": "flye-test-1",
     "locked": true,
     "points": 3,
     "schema_version": 3,
     "solution": false,
     "task": false
    }
   },
   "outputs": [],
   "source": [
    "\"\"\"Basic check on flye command\"\"\"\n",
    "assert(\"flye\" in flye_cmd)\n",
    "assert(\"out-dir\" in flye_cmd)\n"
   ]
  },
  {
   "cell_type": "code",
   "execution_count": null,
   "metadata": {
    "deletable": false,
    "editable": false,
    "nbgrader": {
     "cell_type": "code",
     "checksum": "6bff86f68c2fb64fa7d084d6e6c6d55a",
     "grade": true,
     "grade_id": "flye-test-2",
     "locked": true,
     "points": 2,
     "schema_version": 3,
     "solution": false,
     "task": false
    }
   },
   "outputs": [],
   "source": [
    "assert(assembly_fsize > 3 and assembly_fsize < 6)\n",
    "assert(type(assembly_fsize)==float)\n"
   ]
  },
  {
   "cell_type": "markdown",
   "metadata": {
    "deletable": false,
    "editable": false,
    "nbgrader": {
     "cell_type": "markdown",
     "checksum": "fa9c721cab2cbe4896b6624dcdd13b38",
     "grade": false,
     "grade_id": "cell-61b496f5f10d5659",
     "locked": true,
     "schema_version": 3,
     "solution": false,
     "task": false
    }
   },
   "source": [
    "Examine the Flye output. The most important files are:\n",
    "\n",
    "* `assembly.fasta`: fasta file with the final assembly. \n",
    "\n",
    "* `assembly_graph.gfa`: the repeat graph. See a description here: https://github.com/GFA-spec/GFA-spec/blob/master/GFA2.md of GFA format. \n",
    "\n",
    "* `assembly_info.txt`: contains additional information about the assembly.\n",
    "\n",
    "**Question 8 (3 pts)** How many contigs did Flye output? What is the N50? Set the variables `flye_contigs` and `flye_n50` to your answers below."
   ]
  },
  {
   "cell_type": "code",
   "execution_count": null,
   "metadata": {
    "deletable": false,
    "nbgrader": {
     "cell_type": "code",
     "checksum": "cac35b013ca56c79ecfc3b743731d12e",
     "grade": false,
     "grade_id": "flye-stats",
     "locked": false,
     "schema_version": 3,
     "solution": true,
     "task": false
    }
   },
   "outputs": [],
   "source": [
    "flye_contigs = 0 # how many contigs did Flye output?\n",
    "flye_n50 = 0 # what was the N50 of the Flye assembly?\n",
    "\n",
    "# YOUR CODE HERE\n",
    "#raise NotImplementedError()"
   ]
  },
  {
   "cell_type": "code",
   "execution_count": null,
   "metadata": {
    "deletable": false,
    "editable": false,
    "nbgrader": {
     "cell_type": "code",
     "checksum": "37c06f0510f2656cbc4e24d4f2fbde0c",
     "grade": true,
     "grade_id": "flye-stats-test-1",
     "locked": true,
     "points": 2,
     "schema_version": 3,
     "solution": false,
     "task": false
    }
   },
   "outputs": [],
   "source": [
    "assert(flye_contigs > 0 and flye_contigs < 100)\n",
    "assert(type(flye_contigs)==int)\n"
   ]
  },
  {
   "cell_type": "code",
   "execution_count": null,
   "metadata": {
    "deletable": false,
    "editable": false,
    "nbgrader": {
     "cell_type": "code",
     "checksum": "c67fdfe096ebb6828bdef364aa2fdb6d",
     "grade": true,
     "grade_id": "flye-stats-test-2",
     "locked": true,
     "points": 1,
     "schema_version": 3,
     "solution": false,
     "task": false
    }
   },
   "outputs": [],
   "source": [
    "assert(flye_n50 > 4500000 and flye_n50 < 4700000)\n"
   ]
  },
  {
   "cell_type": "markdown",
   "metadata": {
    "deletable": false,
    "editable": false,
    "nbgrader": {
     "cell_type": "markdown",
     "checksum": "4e01ebf25d32d497cab7283303b06911",
     "grade": false,
     "grade_id": "cell-fa7fdee78cc6b559",
     "locked": true,
     "schema_version": 3,
     "solution": false,
     "task": false
    }
   },
   "source": [
    "## 5. Evaluating assemblies with QUAST\n",
    "\n",
    "Since we are using raw data from a genome that is actually already solved, we can align our contigs to that reference to evaluate our de novo assembly performance. Remember, if we were trying to solve the genome of a new or unknown organism, we wouldn’t be able to do this, but we could try using a close relative.\n",
    "\n",
    "The NCBI id of the E. coli strain used here is NC_000913.3. The reference genome fasta file and gene annotations (GFF file) are available here: https://www.ncbi.nlm.nih.gov/nuccore/NC_000913.3. Download the reference fasta to a file on your local computer.\n",
    "\n",
    "Also download your final assembly files (`minia_assembly_18.contigs.fa` and `assembly.fasta`). You can download files to your local computer by navigating to your `week2` folder in Jupyter lab, right clicking the files, and selecting \"Download\". Note you could rename these files to something like `illumina_assembly.fasta` and `pacbio_assembly.fasta` to make sure you remember what they are.\n",
    "\n",
    "Now, go to QUAST: http://cab.cc.spbu.ru/quast/\n",
    "\n",
    "First, make sure that you will get an email report. On the right hand side, type in your email and click ‘get personal page’. Close the QUAST tab, then wait for the email to arrive. Click on the “Personal Page” link, and perform your analysis there in order to get the results emailed.\n",
    "\n",
    "Use quast to align your assemblies to the actual reference sequence of the bacterial strain used to generate the original data.\n",
    "\n",
    "* Use “Add Files” to upload both of your assemblies for comparison.\n",
    "* Check the \"scaffolds\", “find genes” boxes, and the “Prokaryotic” button.\n",
    "* Under genome indicate you want to choose your own genome, and upload the fasta file we got from NCBI.\n",
    "* Type in a title for this analysis under caption, then click evaluate. \n",
    "\n",
    "You may also use the \"Icarus\" browser to explore the differences between assemblies.\n",
    "\n",
    "**Question 9 (4 pts)** Which assembler performed best? Describe which metrics you used to draw this conclusion? "
   ]
  },
  {
   "cell_type": "markdown",
   "metadata": {
    "deletable": false,
    "nbgrader": {
     "cell_type": "markdown",
     "checksum": "8eebcbf5de70e8d9bf58fd5215702103",
     "grade": true,
     "grade_id": "cell-9c5a3443d10314e9",
     "locked": false,
     "points": 4,
     "schema_version": 3,
     "solution": true,
     "task": false
    }
   },
   "source": [
    "YOUR ANSWER HERE"
   ]
  },
  {
   "cell_type": "markdown",
   "metadata": {
    "deletable": false,
    "editable": false,
    "nbgrader": {
     "cell_type": "markdown",
     "checksum": "9382b2354edc5848654c1eecca49b264",
     "grade": false,
     "grade_id": "cell-e9f01161a544bc37",
     "locked": true,
     "schema_version": 3,
     "solution": false,
     "task": false
    }
   },
   "source": [
    "**Question 10 (3 pts)**: Check your answers for N50 values and contig lengths. Do they match what QUAST got? If not, why?"
   ]
  },
  {
   "cell_type": "markdown",
   "metadata": {
    "deletable": false,
    "nbgrader": {
     "cell_type": "markdown",
     "checksum": "7df7ca334e125641ea3c580a8352fa49",
     "grade": true,
     "grade_id": "cell-e27cd4842c1db2c0",
     "locked": false,
     "points": 3,
     "schema_version": 3,
     "solution": true,
     "task": false
    }
   },
   "source": [
    "YOUR ANSWER HERE"
   ]
  },
  {
   "cell_type": "markdown",
   "metadata": {
    "deletable": false,
    "editable": false,
    "nbgrader": {
     "cell_type": "markdown",
     "checksum": "e7e89386f814d8c67c57553cb7857b51",
     "grade": false,
     "grade_id": "cell-9be25a5218338ee3",
     "locked": true,
     "schema_version": 3,
     "solution": false,
     "task": false
    }
   },
   "source": [
    "**Question 11 (3 pts)**: You will see that QUAST identifies  \"misassemblies\" in the PacBio assembly. Try to determine based on QUAST documentation or looking through the Icarus browser what those mean."
   ]
  },
  {
   "cell_type": "markdown",
   "metadata": {
    "deletable": false,
    "nbgrader": {
     "cell_type": "markdown",
     "checksum": "cf386460e1a98aece6ed67bf0f5515b7",
     "grade": true,
     "grade_id": "cell-1f16d4639ac7ba57",
     "locked": false,
     "points": 3,
     "schema_version": 3,
     "solution": true,
     "task": false
    }
   },
   "source": [
    "YOUR ANSWER HERE"
   ]
  }
 ],
 "metadata": {
  "kernelspec": {
   "display_name": "Python 3",
   "language": "python",
   "name": "python3"
  },
  "language_info": {
   "codemirror_mode": {
    "name": "ipython",
    "version": 3
   },
   "file_extension": ".py",
   "mimetype": "text/x-python",
   "name": "python",
   "nbconvert_exporter": "python",
   "pygments_lexer": "ipython3",
   "version": "3.6.7"
  }
 },
 "nbformat": 4,
 "nbformat_minor": 2
}
