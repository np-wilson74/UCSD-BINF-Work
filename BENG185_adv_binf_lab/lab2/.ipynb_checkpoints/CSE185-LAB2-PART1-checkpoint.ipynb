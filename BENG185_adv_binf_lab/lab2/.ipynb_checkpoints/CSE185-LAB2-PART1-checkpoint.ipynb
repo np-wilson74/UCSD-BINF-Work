{
 "cells": [
  {
   "cell_type": "markdown",
   "metadata": {
    "deletable": false,
    "editable": false,
    "nbgrader": {
     "cell_type": "markdown",
     "checksum": "422f629b76cfd0629d1ba31629f53e14",
     "grade": false,
     "grade_id": "cell-996f121c9e88ca3e",
     "locked": true,
     "schema_version": 3,
     "solution": false,
     "task": false
    }
   },
   "source": [
    "# Week 2 Lab: So where do all those reference genomes come from anyway? (Sequence assembly)\n",
    "\n",
    "## Part 1 (40 pts)\n",
    "\n",
    "Reminder, you can work with your classmates! And feel free to use the internet to help you.\n",
    "\n",
    "<font color=\"red\">**REMINDER**: We will have our first quiz at the start of the next lab section. The quiz will cover what we have learned in the first five lectures and the first lab session. The exercises notebook for this week contains quiz review questions. We have also posted example quiz questions from previous years on Canvas.</font>\n",
    "\n",
    "Skills covered: genome size estimation, sequence assembly, command line one-liners, managing computational resources\n",
    "\n",
    "### Intro\n",
    "\n",
    "Today, you will explore using kmer count histograms to estimate the size of a sequenced *E. coli* strain and compare your result to existing software packages for performing this task. Next time, you will assemble the sequencing reads into a (semi) complete genome and evaluate the quality of the resulting sequence.\n",
    "\n",
    "Today we will focus on an Illumina whole genome sequencing dataset from an E. coli sample. The dataset has paired-end reads with an average insert size of 215.4 bp (+/- 10.6bp). Reads are 100bp each.\n",
    "\n",
    "Fastq files can be found in the `week2` directory:\n",
    "```shell\n",
    "ls /datasets/cs185-sp21-A00-public/week2/\n",
    "```\n",
    "\n",
    "You should see `shortfrag_1.fq`, `shortfrag_2.fq`, which are the files we will use today. There are additional files in that directory that we'll be looking at next lab session."
   ]
  },
  {
   "cell_type": "markdown",
   "metadata": {
    "deletable": false,
    "editable": false,
    "nbgrader": {
     "cell_type": "markdown",
     "checksum": "59318403e906abc27edcba0dfd1351a4",
     "grade": false,
     "grade_id": "fastqc",
     "locked": true,
     "schema_version": 3,
     "solution": false
    }
   },
   "source": [
    "## 1. Inspecting reads with fasqtc\n",
    "\n",
    "First, open up a terminal and create a `week2` directory in your home directory. `cd` into it and work out of there for today.\n",
    "\n",
    "**Question 1 (2 pts)**: Recall from lab 1 how we used the `fastqc` tool to examine the quality of our reads as a preprocesing step. Apply `fastqc` to the two fastq files from the \"shortfrag\" dataset. Paste the exact command(s) you used to do so in the variable `fastqc_cmd` below."
   ]
  },
  {
   "cell_type": "code",
   "execution_count": 2,
   "metadata": {
    "deletable": false,
    "nbgrader": {
     "cell_type": "code",
     "checksum": "a0395927f40a946c991eed6701f252a9",
     "grade": false,
     "grade_id": "fastqc-answer",
     "locked": false,
     "schema_version": 3,
     "solution": true,
     "task": false
    }
   },
   "outputs": [],
   "source": [
    "fastqc_cmd = \"\"\"\n",
    "fastqc -o . shortfrag_1.fq shortfrag_2.fq\n",
    "\"\"\"\n",
    "\n",
    "# YOUR CODE HERE\n",
    "#raise NotImplementedError()"
   ]
  },
  {
   "cell_type": "code",
   "execution_count": 3,
   "metadata": {
    "deletable": false,
    "editable": false,
    "nbgrader": {
     "cell_type": "code",
     "checksum": "29ea6dc3c5eb213195b55733a7e4cb70",
     "grade": true,
     "grade_id": "fastqc-correct",
     "locked": true,
     "points": 2,
     "schema_version": 3,
     "solution": false,
     "task": false
    }
   },
   "outputs": [],
   "source": [
    "\"\"\"Basic checks on the commands\"\"\"\n",
    "assert(\"fastqc\" in fastqc_cmd)\n",
    "assert(\"shortfrag_1.fq\" in fastqc_cmd)\n",
    "assert(\"shortfrag_2.fq\" in fastqc_cmd)"
   ]
  },
  {
   "cell_type": "markdown",
   "metadata": {
    "deletable": false,
    "editable": false,
    "nbgrader": {
     "cell_type": "markdown",
     "checksum": "faf29bb7d192298f7ce53646edef46ba",
     "grade": false,
     "grade_id": "fastqc-eval",
     "locked": true,
     "schema_version": 3,
     "solution": false
    }
   },
   "source": [
    "**Question 2 (2 pts)**: Do you see any concerning things (red X's) in the fastqc output? Which of the following categories failed fastqc's checks?\n",
    "\n",
    "* A: Basic Statistics\n",
    "* B: Per-base sequence quality\n",
    "* C: Per sequence quality scores\n",
    "* D: Per base sequence content\n",
    "* E: Overrepresented sequences\n",
    "* F: Both B and D\n",
    "\n",
    "Set the variable `q2` to your answer below."
   ]
  },
  {
   "cell_type": "code",
   "execution_count": 6,
   "metadata": {
    "deletable": false,
    "nbgrader": {
     "cell_type": "code",
     "checksum": "6841d33b8a3d5128026d1374ed80bad9",
     "grade": false,
     "grade_id": "fastqc-eval-answer",
     "locked": false,
     "schema_version": 3,
     "solution": true,
     "task": false
    }
   },
   "outputs": [],
   "source": [
    "q2 = \"B\" # Set to \"A\", \"B\", \"C\", \"D\", \"E\", or \"F\"\n",
    "\n",
    "# YOUR CODE HERE\n",
    "#raise NotImplementedError()"
   ]
  },
  {
   "cell_type": "code",
   "execution_count": 7,
   "metadata": {
    "deletable": false,
    "editable": false,
    "nbgrader": {
     "cell_type": "code",
     "checksum": "d525867200a8b81f49237b6be745b1f2",
     "grade": true,
     "grade_id": "fastqc-eval-test",
     "locked": true,
     "points": 2,
     "schema_version": 3,
     "solution": false,
     "task": false
    }
   },
   "outputs": [],
   "source": [
    "\"\"\"Basic check on the answer\"\"\"\n",
    "assert(q2 in [\"A\",\"B\",\"C\",\"D\",\"E\",\"F\"])\n"
   ]
  },
  {
   "cell_type": "markdown",
   "metadata": {
    "deletable": false,
    "editable": false,
    "nbgrader": {
     "cell_type": "markdown",
     "checksum": "ac0a6c336251efb8b6d298acb047af49",
     "grade": false,
     "grade_id": "cell-c536e7db01572ba7",
     "locked": true,
     "schema_version": 3,
     "solution": false
    }
   },
   "source": [
    "## 2. Trimming reads for quality control\n",
    "\n",
    "Before we move forward with genome size estimation, let's try to address the quality control issues flagged by `fastqc`. We'll be using a new tool to help with this.\n",
    "\n",
    "`sickle` is a tool for trimming low quality ends of reads. It uses a sliding window trimming algorithm, where a small window slides along the sequence, starting from one end, cutting off sequence until the average quality is above a user specified threshold, then the window keeps going until the average quality drops below that threshold, and cuts off any sequence past that point.\n",
    "\n",
    "First, to learn about `sickle`, type `sickle pe` at the command line.\n",
    "\n",
    "You can specify both the quality threshold and a length threshold, which will discard any sequences that are shorter than a certain length after trimming. The defaults for both of these values are 20. Run sickle on your data with the default settings, remembering to specify the full paths to the fastq files in the public folder. Below is an example command.\n",
    "\n",
    "```shell\n",
    "sickle pe \\\n",
    "    -f file_1.fq \\\n",
    "    -r file_2.fq \\\n",
    "    -t sanger \\\n",
    "    -o ~/week2/shortfrag_trimmed_1.fq \\\n",
    "    -p ~/week2/shortfrag_trimmed_2.fq \\\n",
    "    -s ~/week2/shortfrag_singletons.fq\n",
    "```\n",
    "\n",
    "This command should all be on one line. To make it more readable it is broken up into multiple lines. A `\\` means the command is continued on the next line. Note the paths given above are not real and are just meant as examples. \n",
    "\n",
    "You’ll notice that there are 3 output files (`-o`, `-p`, and `-s`). The first two are the trimmed forward and reverse reads, where BOTH the forward and its matching reverse read passed the trimming filter. The singletons file contains reads where one read passed the trimming filter, but its partner did not. The reads that do not pass are not output.\n",
    "\n",
    "**Question 3 (3 pts):** Run `sickle pe` to trim the `shortfrag` library using default parameters. Be sure to write the output files (`-o`, `-p`, and `-s` files) to your `~/week2` directory. \n",
    "\n",
    "Your command should create output files:\n",
    "* `~/week2/shortfrag_trimmed_1.fq` \n",
    "* `~/week2/shortfrag_trimmed_2.fq` \n",
    "* `~/week2/shortfrag_singletons.fq`\n",
    "\n",
    "This will take a couple minutes. You can go on to the next part while you wait.\n",
    "\n",
    "<blockquote>\n",
    "**UNIX TIP**: If a command is taking a long time to run, and you want to close your computer, you can use `nohup` to run it in the background. See example below:\n",
    "</blockquote>\n",
    "\n",
    "```shell\n",
    "nohup sickle pe .... &\n",
    "```\n",
    "\n",
    "This will write the output that would have printed to the screen to `nohup.out`. You can use `ls -ltrh` in the output directory to make sure the file sizes keep growing and see \"human readable\" filesizes in terms of gigabytes, megabytes, etc. \n",
    "\n",
    "**3.1 (1 pt)**: Paste the exact command(s) you used to run `sickle` in the variable `sickle_cmd` below.\n",
    "\n",
    "**3.2 (1 pt)**: What is the size of the output file `~/week2/shortfrag_trimmed_1.fq` in gigabytes? Set the variable `trimmed1_size` to your answer.\n",
    "\n",
    "**3.3 (1 pt)**: What is the size of the output file `~/week2/shortfrag_singletons.fq` in megabytes? Set the variable `singletons_size` to your answer."
   ]
  },
  {
   "cell_type": "code",
   "execution_count": 23,
   "metadata": {},
   "outputs": [
    {
     "name": "stdout",
     "output_type": "stream",
     "text": [
      "cp ~/week2/shortfrag_q.fq /home/n4wilson/lab2-spring21\r\n"
     ]
    }
   ],
   "source": [
    "!echo \"cp ~/week2/shortfrag_1.fq\" $PWD"
   ]
  },
  {
   "cell_type": "code",
   "execution_count": 24,
   "metadata": {},
   "outputs": [
    {
     "name": "stdout",
     "output_type": "stream",
     "text": [
      "cp ~/week2/shortfrag_2.fq  /home/n4wilson/lab2-spring21\r\n"
     ]
    }
   ],
   "source": [
    "!echo \"cp ~/week2/shortfrag_2.fq \" $PWD"
   ]
  },
  {
   "cell_type": "code",
   "execution_count": 12,
   "metadata": {
    "deletable": false,
    "nbgrader": {
     "cell_type": "code",
     "checksum": "38b92a7a407af5cabc641cef88d91656",
     "grade": false,
     "grade_id": "sickle_answer",
     "locked": false,
     "schema_version": 3,
     "solution": true,
     "task": false
    }
   },
   "outputs": [],
   "source": [
    "sickle_cmd = \"\"\"\n",
    "cd ~/week2\n",
    "sickle pe -f shortfrag_1.fq -r shortfrag_2.fq -t sanger -o shortfrag_trimmed_1.fq -p shortfrag_trimmed_2.fq -s shortfrag_singletons.fq\n",
    "\"\"\"\n",
    "#Note: I copied the fq files into ~/week2\n",
    "trimmed1_size = 2.8 # set to size of ~/week2/shortfrag_trimmed_1.fq in GB\n",
    "singletons_size = 64 # set to the size of ~/week2/shortfrag_singletons.fq in MB\n",
    "\n",
    "# YOUR CODE HERE\n",
    "#raise NotImplementedError()"
   ]
  },
  {
   "cell_type": "code",
   "execution_count": 13,
   "metadata": {
    "deletable": false,
    "editable": false,
    "nbgrader": {
     "cell_type": "code",
     "checksum": "6467f2b1aa7142a81d071fc4fb9a40fc",
     "grade": true,
     "grade_id": "q3-test1",
     "locked": true,
     "points": 1,
     "schema_version": 3,
     "solution": false,
     "task": false
    }
   },
   "outputs": [],
   "source": [
    "assert(\"sickle pe\" in sickle_cmd)\n",
    "assert(\"sanger\" in sickle_cmd)\n"
   ]
  },
  {
   "cell_type": "code",
   "execution_count": 14,
   "metadata": {
    "deletable": false,
    "editable": false,
    "nbgrader": {
     "cell_type": "code",
     "checksum": "5dd75942192038f90c642d9c085c6cd0",
     "grade": true,
     "grade_id": "q3-test2",
     "locked": true,
     "points": 1,
     "schema_version": 3,
     "solution": false,
     "task": false
    }
   },
   "outputs": [],
   "source": [
    "assert(trimmed1_size > 2 and trimmed1_size < 3)\n",
    "assert(type(trimmed1_size)==float)\n"
   ]
  },
  {
   "cell_type": "code",
   "execution_count": 15,
   "metadata": {
    "deletable": false,
    "editable": false,
    "nbgrader": {
     "cell_type": "code",
     "checksum": "e6061126a0d294f9997af34d165c7c9c",
     "grade": true,
     "grade_id": "q3-test3",
     "locked": true,
     "points": 1,
     "schema_version": 3,
     "solution": false,
     "task": false
    }
   },
   "outputs": [],
   "source": [
    "assert(singletons_size > 50 and singletons_size < 70)\n"
   ]
  },
  {
   "cell_type": "markdown",
   "metadata": {
    "deletable": false,
    "editable": false,
    "nbgrader": {
     "cell_type": "markdown",
     "checksum": "f3312bd92a74d668e03d3aafaf7d145f",
     "grade": false,
     "grade_id": "fastqc2",
     "locked": true,
     "schema_version": 3,
     "solution": false
    }
   },
   "source": [
    "**Question 4 (3 pts):** Rerun `fastqc` on the trimmed dataset. Paste the exact command(s) you used to do so in the variable `fastqc_cmd2` below. Set the variable `issues_remaining` to `True` if there are still categories flagged by fastqc, and write in a comment what those are. Otherwise, set `issues_remaining` to `False."
   ]
  },
  {
   "cell_type": "code",
   "execution_count": 16,
   "metadata": {
    "deletable": false,
    "nbgrader": {
     "cell_type": "code",
     "checksum": "e5a44c7d0d34a06cc78ecb2da83ba73a",
     "grade": false,
     "grade_id": "fastqc2-answer",
     "locked": false,
     "schema_version": 3,
     "solution": true,
     "task": false
    }
   },
   "outputs": [],
   "source": [
    "fastqc_cmd2 = \"\"\"\n",
    "fastqc -o . shortfrag_trimmed_1.fq shortfrag_trimmed_2.fq\n",
    "\"\"\"\n",
    "\n",
    "issues_remaining = False # Set to True or False. If you set to True, write in a comment what issues you still see\n",
    "\n",
    "# YOUR CODE HERE\n",
    "#raise NotImplementedError()"
   ]
  },
  {
   "cell_type": "code",
   "execution_count": 17,
   "metadata": {
    "deletable": false,
    "editable": false,
    "nbgrader": {
     "cell_type": "code",
     "checksum": "845b2749c8475d85f1eb822418ec99cb",
     "grade": true,
     "grade_id": "fastqc2-test1",
     "locked": true,
     "points": 2,
     "schema_version": 3,
     "solution": false,
     "task": false
    }
   },
   "outputs": [],
   "source": [
    "\"\"\"Basic checks on fastqc command\"\"\"\n",
    "assert(\"fastqc\" in fastqc_cmd2)\n"
   ]
  },
  {
   "cell_type": "code",
   "execution_count": 18,
   "metadata": {
    "deletable": false,
    "editable": false,
    "nbgrader": {
     "cell_type": "code",
     "checksum": "07d9b120071ed41c64bb80745da4ecbc",
     "grade": true,
     "grade_id": "fastqc2-test2",
     "locked": true,
     "points": 1,
     "schema_version": 3,
     "solution": false,
     "task": false
    }
   },
   "outputs": [],
   "source": [
    "assert(issues_remaining in [True, False])\n"
   ]
  },
  {
   "cell_type": "markdown",
   "metadata": {
    "deletable": false,
    "editable": false,
    "nbgrader": {
     "cell_type": "markdown",
     "checksum": "e46461d56068656c80ca07b0911e6a21",
     "grade": false,
     "grade_id": "cell-27b12ce8f9e2df9a",
     "locked": true,
     "schema_version": 3,
     "solution": false
    }
   },
   "source": [
    "## 3. Generating and visualizing the kmer distribution\n",
    "\n",
    "We'll use the trimmed \"shortfrag\" dataset to first count k-mers in our data to generate kmer count distributions similar to in the exercises. For this purpose it's ok to only analyze the forward fragment (your trimmed version of `shortfrag_1.fq`).\n",
    "\n",
    "**Jellyfish** is a kmer counting program that will count the frequency of all possible k-mers of a given length in our data.\n",
    "\n",
    "We will use two subcommands. `jellyfish count` counts kmers and creates a hash table. \n",
    "\n",
    "* `-m` specifies the kmer length\n",
    "* `-C` tells it to ignore directionality (it treats each read the same as its reverse complement)\n",
    "* `-s` is an initial estimate for the size of the hash table jellyfish uses. Let's set to 100M (100 million).\n",
    "* `-o` specifies the name of the output file.\n",
    "\n",
    "`jellyfish histo` computes a histogram of kmer count occurrences. You can use the two tools to create a histogram file. e.g.:\n",
    "\n",
    "```shell\n",
    "jellyfish count -m 18 -C -s 100M -o output.jf input.fq\n",
    "jellyish histo output.jf > output.histo\n",
    "```\n",
    "\n",
    "Note the `>` symbol means put the output of the previous command into the specified file. If you don't use `>` it will output the results to standard output (your terminal screen).\n",
    "\n",
    "**Question 5 (2 pts):** Run `jellyfish count` on the trimmed `shortfrag_1.fq` file using a kmer size of 18. Then use `jellyfish histo` to create a histogram file (we assume you named this `shortfrag.histo` below). Paste the commands you used below in the variable `jellyfish_cmds`. Set `histo_size` to the size in kilobytes of your output histogram file.\n",
    "\n",
    "(This might take a couple minutes for this command to run.)"
   ]
  },
  {
   "cell_type": "code",
   "execution_count": 19,
   "metadata": {
    "deletable": false,
    "nbgrader": {
     "cell_type": "code",
     "checksum": "df05b96d00833025e9234d9db18f1868",
     "grade": false,
     "grade_id": "jellyfish-answer",
     "locked": false,
     "schema_version": 3,
     "solution": true,
     "task": false
    }
   },
   "outputs": [],
   "source": [
    "jellyfish_cmds = \"\"\"\n",
    "\n",
    "jellyfish count -m 18 -C -s 100M -o output.jf shortfrag_trimmed_1.fq\n",
    "jellyfish histo output.jf > shortfrag.histo\n",
    "\n",
    "\"\"\"\n",
    "\n",
    "histo_size = 20 # set to the size of your output file e.g. shortfrag.histo\n",
    "\n",
    "# YOUR CODE HERE\n",
    "#raise NotImplementedError()"
   ]
  },
  {
   "cell_type": "code",
   "execution_count": 20,
   "metadata": {
    "deletable": false,
    "editable": false,
    "nbgrader": {
     "cell_type": "code",
     "checksum": "bd7d0b2be66e8faba42344a4445a64fc",
     "grade": true,
     "grade_id": "jellyfish-test",
     "locked": true,
     "points": 1,
     "schema_version": 3,
     "solution": false,
     "task": false
    }
   },
   "outputs": [],
   "source": [
    "\"\"\"Basic checks on the command\"\"\"\n",
    "assert(\"jellyfish count\" in jellyfish_cmds)\n",
    "assert(\"jellyfish histo\" in jellyfish_cmds)\n",
    "assert(\"-m 18\" in jellyfish_cmds)"
   ]
  },
  {
   "cell_type": "code",
   "execution_count": 21,
   "metadata": {
    "deletable": false,
    "editable": false,
    "nbgrader": {
     "cell_type": "code",
     "checksum": "ae3535b03cfcc6bc4a0d01f1a74aad47",
     "grade": true,
     "grade_id": "cell-b66570d386ea73e1",
     "locked": true,
     "points": 1,
     "schema_version": 3,
     "solution": false,
     "task": false
    }
   },
   "outputs": [],
   "source": [
    "\"\"\"Check output file size\"\"\"\n",
    "assert(histo_size > 15 and histo_size < 25)\n"
   ]
  },
  {
   "cell_type": "markdown",
   "metadata": {
    "deletable": false,
    "editable": false,
    "nbgrader": {
     "cell_type": "markdown",
     "checksum": "d21e5a0fdbbff83710eea4d5f2774ac6",
     "grade": false,
     "grade_id": "cell-4bffb617a5b6948e",
     "locked": true,
     "schema_version": 3,
     "solution": false
    }
   },
   "source": [
    "You can inspect the histogram output using the UNIX `cat` command, which we saw last week:\n",
    "\n",
    "```shell\n",
    "cat shortfrag.histo\n",
    "```\n",
    "\n",
    "You should see two columns: the first gives the number of times a kmer was seen. The second gives the number of kmers seen that many times. So, for example, the first line gives the number of kmers seen exactly once. \n",
    "\n",
    "**Question 6 (3 pts):** Complete the function `PlotKmerHistogram` below to read in the histo file and plot the kmer count histogram. (The x-axis represents column 1 in the `.histo` file, or number of occurrences, and the y-axis is given by column 2, or number of kmers.) Hint: you should see a big spike at 1 and a bell curve further to the right. You might want to play with the variables `max_xval` and `max_yval` to make your visualization more informative by zooming in on the most important region. Without setting those you might have some pretty extreme x- and y-value data points dominating your plot.\n",
    "\n",
    "**IMPORTANT NOTE**: When we grade your notebook, we will not have access to your home directories. So for any code that will directly read in a file, like the cell for plotting below, we ask that you first copy the file to the same directory as this notebook. **If you do not do this you may lose points since we won't have access to your file**. To get the file to this directory copy the output of the Jupyter Notebook cell below into your terminal. \n",
    "\n",
    "You'll know if this didn't work if the plotting cell breaks with a FileNotFound error."
   ]
  },
  {
   "cell_type": "code",
   "execution_count": 22,
   "metadata": {
    "deletable": false,
    "editable": false,
    "nbgrader": {
     "cell_type": "code",
     "checksum": "02d877d106937d8b5ef032f3b721a711",
     "grade": false,
     "grade_id": "cell-7394ac02403f5f48",
     "locked": true,
     "schema_version": 3,
     "solution": false,
     "task": false
    }
   },
   "outputs": [
    {
     "name": "stdout",
     "output_type": "stream",
     "text": [
      "cp ~/week2/shortfrag.histo  /home/n4wilson/lab2-spring21\r\n"
     ]
    }
   ],
   "source": [
    "!echo \"cp ~/week2/shortfrag.histo \" $PWD"
   ]
  },
  {
   "cell_type": "code",
   "execution_count": 47,
   "metadata": {
    "deletable": false,
    "nbgrader": {
     "cell_type": "code",
     "checksum": "2168c9171666202c0d1efa35f739ba02",
     "grade": false,
     "grade_id": "correct-plot-kmer-hist",
     "locked": false,
     "schema_version": 3,
     "solution": true,
     "task": false
    }
   },
   "outputs": [
    {
     "name": "stdout",
     "output_type": "stream",
     "text": [
      "Populating the interactive namespace from numpy and matplotlib\n",
      "13789063\n"
     ]
    },
    {
     "data": {
      "image/png": "[encoded data removed]",
      "text/plain": [
       "<Figure size 432x288 with 1 Axes>"
      ]
     },
     "metadata": {
      "needs_background": "light"
     },
     "output_type": "display_data"
    }
   ],
   "source": [
    "%pylab inline\n",
    "import os\n",
    "\n",
    "def PlotKmerHistogram(histofile, plot=True):\n",
    "    \"\"\" Plot a histogram of the kmer counts\n",
    "    \n",
    "    Parameters\n",
    "    ----------\n",
    "    histofile : str\n",
    "       Path to a histogram file from jellyfish and \n",
    "    plot : bool\n",
    "       If set to False, don't output the plot. Used for tests\n",
    "       \n",
    "    Returns\n",
    "    -------\n",
    "    kmer_counts : dict of int -> int \n",
    "       Dictionary with key=count, value=num kmers seen that many times\n",
    "    \"\"\"\n",
    "    max_xval = None\n",
    "    max_yval = None\n",
    "    kmer_counts = {} # Dictionary of count -> number of kmers\n",
    "    # Read the histofile\n",
    "    # Use its contents to update kmer_counts\n",
    "    # You also will need to set max_xval and max_yval to something appropriate\n",
    "    # YOUR CODE HERE\n",
    "    #raise NotImplementedError()\n",
    "    with open(\"shortfrag.histo\", \"r\") as f:\n",
    "        for line in f:\n",
    "            line = line.strip()\n",
    "            xval = int(line.split(\" \")[0])\n",
    "            yval = int(line.split(\" \")[1])\n",
    "            kmer_counts[xval] = yval\n",
    "    max_xval = max(kmer_counts.keys())\n",
    "    max_yval = max(kmer_counts.values())\n",
    "    if plot:\n",
    "        fig = plt.figure()\n",
    "        ax = fig.add_subplot(111)\n",
    "        ax.bar(kmer_counts.keys(), kmer_counts.values())\n",
    "        ax.set_xlabel(\"Count\")\n",
    "        ax.set_ylabel(\"Number of kmers\")\n",
    "        if max_xval is not None: ax.set_xlim(left=0, right=max_xval)\n",
    "        if max_yval is not None: ax.set_ylim(bottom=0, top=max_yval)\n",
    "    return kmer_counts # return so we can check it!\n",
    "\n",
    "PlotKmerHistogram(\"shortfrag.histo\");"
   ]
  },
  {
   "cell_type": "code",
   "execution_count": 43,
   "metadata": {
    "deletable": false,
    "editable": false,
    "nbgrader": {
     "cell_type": "code",
     "checksum": "71c1f53c11e9bc34ec6c6a8bb05e22d6",
     "grade": true,
     "grade_id": "kmerplot-test1",
     "locked": true,
     "points": 1,
     "schema_version": 3,
     "solution": false,
     "task": false
    }
   },
   "outputs": [],
   "source": [
    "\"\"\"Check PlotKmerHistogram actually runs\"\"\"\n",
    "kmer_counts = PlotKmerHistogram(\"shortfrag.histo\", plot=False);"
   ]
  },
  {
   "cell_type": "code",
   "execution_count": 44,
   "metadata": {
    "deletable": false,
    "editable": false,
    "nbgrader": {
     "cell_type": "code",
     "checksum": "e791990d42ea9116b8ca9f15592a8661",
     "grade": true,
     "grade_id": "kmerplot-test2",
     "locked": true,
     "points": 1,
     "schema_version": 3,
     "solution": false,
     "task": false
    }
   },
   "outputs": [],
   "source": [
    "\"\"\"Check things about kmer_counts\"\"\"\n",
    "kmer_counts = PlotKmerHistogram(\"shortfrag.histo\", plot=False)\n",
    "assert(len(kmer_counts.keys())==2731)"
   ]
  },
  {
   "cell_type": "code",
   "execution_count": 45,
   "metadata": {
    "deletable": false,
    "editable": false,
    "nbgrader": {
     "cell_type": "code",
     "checksum": "81b1d7ad01e9664af1794f4f3bbd7052",
     "grade": true,
     "grade_id": "kmerplot-test3",
     "locked": true,
     "points": 1,
     "schema_version": 3,
     "solution": false,
     "task": false
    }
   },
   "outputs": [],
   "source": [
    "\"\"\"Check some values in kmer_counts\"\"\"\n",
    "kmer_counts = PlotKmerHistogram(\"shortfrag.histo\", plot=False)\n",
    "assert(kmer_counts[1] == 13789063)\n"
   ]
  },
  {
   "cell_type": "markdown",
   "metadata": {
    "deletable": false,
    "editable": false,
    "nbgrader": {
     "cell_type": "markdown",
     "checksum": "4cfb672f7e2c8e27ba280dc93bc93c70",
     "grade": false,
     "grade_id": "cell-44df88ae6e148d28",
     "locked": true,
     "schema_version": 3,
     "solution": false
    }
   },
   "source": [
    "## 4. Estimating genome size from the kmer distribution\n",
    "\n",
    "Now we will use the kmer distribution to estimate the size of our E. coli strain. Look back to the exercises to see how we derived the formula for genome size:\n",
    "\n",
    "$$ G \\approx \\frac{\\texttt{Total num. kmers observed}}{\\texttt{Kmer coverage (M)}} $$\n",
    "\n",
    "**Question 7 (1pt):** First, let's figure out $M$, the average kmer coverage. Recall this is the point where our kmer histogram peaks (ignoring the big spike of error kmers on the left). Figure out the peak by eyeballing the histogram and report your estimate for $M$ below. Set the variable `peak_guess` below to your guess for where the peak is."
   ]
  },
  {
   "cell_type": "code",
   "execution_count": 48,
   "metadata": {
    "deletable": false,
    "nbgrader": {
     "cell_type": "code",
     "checksum": "dcb4468d2fe0e1b473f056f6f996efc3",
     "grade": false,
     "grade_id": "guessM",
     "locked": false,
     "schema_version": 3,
     "solution": true,
     "task": false
    }
   },
   "outputs": [],
   "source": [
    "peak_guess = 200 # Set to your guess. it can be approximate. This is based on eyeballing the plot above\n",
    "\n",
    "# YOUR CODE HERE\n",
    "#raise NotImplementedError()"
   ]
  },
  {
   "cell_type": "code",
   "execution_count": 49,
   "metadata": {
    "deletable": false,
    "editable": false,
    "nbgrader": {
     "cell_type": "code",
     "checksum": "9f8c88062eac0128f00097e6eef383da",
     "grade": true,
     "grade_id": "guessM-test",
     "locked": true,
     "points": 1,
     "schema_version": 3,
     "solution": false,
     "task": false
    }
   },
   "outputs": [],
   "source": [
    "\"\"\"Basic checks\"\"\"\n",
    "assert(peak_guess > 100 and peak_guess < 300)\n"
   ]
  },
  {
   "cell_type": "markdown",
   "metadata": {
    "deletable": false,
    "editable": false,
    "nbgrader": {
     "cell_type": "markdown",
     "checksum": "7ab931a4e1592f2ea49d40aea367bb22",
     "grade": false,
     "grade_id": "cell-aba0f914f42e74bd",
     "locked": true,
     "schema_version": 3,
     "solution": false,
     "task": false
    }
   },
   "source": [
    "**Question 8 (3 pts):** Now complete the functions `EstimateValley` and `EstimateM` below to get a precise estimate of the first valley and peak location after removing errorenous kmers. The first valley is the point where kmer counts start increasing. The peak location ($M$) is the maximum point after the first valley. Make sure your answers look reasonably close to what you what have guessed from just looking at the plot. We'll accept a range of answers."
   ]
  },
  {
   "cell_type": "code",
   "execution_count": 59,
   "metadata": {
    "deletable": false,
    "nbgrader": {
     "cell_type": "code",
     "checksum": "2bc010a247f8d47409200be0a8077d4e",
     "grade": false,
     "grade_id": "cell-87227012b1723a5f",
     "locked": false,
     "schema_version": 3,
     "solution": true
    }
   },
   "outputs": [
    {
     "data": {
      "text/plain": [
       "(23, 219)"
      ]
     },
     "execution_count": 59,
     "metadata": {},
     "output_type": "execute_result"
    }
   ],
   "source": [
    "def LoadKmerCounts(histofile):\n",
    "    \"\"\"Returns a list of counts where kmer_counts[i-1] = number of kmers seen i times\n",
    "    \n",
    "    Parameters\n",
    "    ----------\n",
    "    histofile : str\n",
    "       Path to a histogram file from jellyfish and \n",
    "       \n",
    "    Returns\n",
    "    -------\n",
    "    kmer_counts : list of int\n",
    "       list of counts where kmer_counts[i-1] = number of kmers seen i times\n",
    "    \"\"\"\n",
    "    kmer_counts_dict = {}\n",
    "    with open(histofile, \"r\") as f:\n",
    "        for line in f:\n",
    "            count, numkmer = [int(item) for item in line.strip().split()]            \n",
    "            kmer_counts_dict[count] = numkmer\n",
    "    kmer_counts = [0]*max(kmer_counts_dict.keys())\n",
    "    for key in kmer_counts_dict:\n",
    "        kmer_counts[key-1] = kmer_counts_dict[key]\n",
    "    return kmer_counts\n",
    "\n",
    "def EstimateValley(kmer_counts):\n",
    "    \"\"\" Estimate the valley position\n",
    "    \n",
    "    Parameters\n",
    "    ----------\n",
    "    kmer_counts : list of int\n",
    "       list of counts where kmer_counts[i-1] = number of kmers seen i times\n",
    "       \n",
    "    Returns\n",
    "    -------\n",
    "    valley : int\n",
    "       Position of the valley (position where kmer counts stop going down)\n",
    "    \"\"\"\n",
    "    valley = 0\n",
    "    # YOUR CODE HERE\n",
    "    #raise NotImplementedError()\n",
    "    for i in range(len(kmer_counts)):\n",
    "        if kmer_counts[i] < kmer_counts[i+1]:\n",
    "            valley = i\n",
    "            break\n",
    "    return valley\n",
    "\n",
    "def EstimateM(kmer_counts, valley_point):\n",
    "    \"\"\" Estimate the peak M (mean kmer coverage)\n",
    "    \n",
    "    Parameters\n",
    "    ----------    \n",
    "    kmer_counts : list of int\n",
    "       list of counts where kmer_counts[i-1] = number of kmers seen i times\n",
    "    valley_point : int\n",
    "       Position of the valley (position where kmer counts stop going down)\n",
    "\n",
    "    Returns\n",
    "    -------\n",
    "    est_m : int\n",
    "       Estimated peak in the kmer plot\n",
    "    \"\"\"\n",
    "    est_m = 0\n",
    "    # YOUR CODE HERE\n",
    "    #raise NotImplementedError()\n",
    "    to_consider = kmer_counts[valley_point:]\n",
    "    est_m = to_consider.index(max(to_consider)) + valley_point\n",
    "    return est_m\n",
    "\n",
    "histofile = \"shortfrag.histo\"\n",
    "kmer_counts = LoadKmerCounts(histofile)\n",
    "est_valley = EstimateValley(kmer_counts)\n",
    "est_m = EstimateM(kmer_counts, est_valley)\n",
    "est_valley, est_m"
   ]
  },
  {
   "cell_type": "code",
   "execution_count": 60,
   "metadata": {
    "deletable": false,
    "editable": false,
    "nbgrader": {
     "cell_type": "code",
     "checksum": "e11e1cff72db854a1aedf58e61a7c961",
     "grade": true,
     "grade_id": "correct-kmer-functions",
     "locked": true,
     "points": 3,
     "schema_version": 3,
     "solution": false
    }
   },
   "outputs": [],
   "source": [
    "\"\"\"Check EstimateValley\"\"\"\n",
    "histofile = \"shortfrag.histo\"\n",
    "kmer_counts = LoadKmerCounts(histofile)\n",
    "est_valley = EstimateValley(kmer_counts)\n",
    "assert(est_valley>10 and est_valley<50)\n",
    "\n",
    "\"\"\"Check EstimateM\"\"\"\n",
    "est_m = EstimateM(kmer_counts, est_valley)\n",
    "assert(est_m>200 and est_m<250)"
   ]
  },
  {
   "cell_type": "markdown",
   "metadata": {
    "deletable": false,
    "editable": false,
    "nbgrader": {
     "cell_type": "markdown",
     "checksum": "337a10ab4310edd105889d284d01a9b8",
     "grade": false,
     "grade_id": "cell-47c2557a6cef4206",
     "locked": true,
     "schema_version": 3,
     "solution": false
    }
   },
   "source": [
    "Now we'll estimate the total number of kmers seen. We will want to ignore kmers that are likely due to errors. Look at your histogram and estimate where the first \"valley\" is. After this point we can assume kmers seen more than that many times are not due to errors. We can estimate the total number of non-error kmers observed to the right of the first valley point. Keep in mind that for an example data point (count, num kmers), each of those kmers was seen **count** number of times. So you'll want to keep track of 50 * the number of kmers seen 50 times, plus 51 * the number of kmers seen 51 times, etc.\n",
    "\n",
    "**Question 9 (4 pts):** Complete the function `EstimateNumKmersSeen` below to output an estimate of the number of observed kmers."
   ]
  },
  {
   "cell_type": "code",
   "execution_count": 74,
   "metadata": {
    "deletable": false,
    "nbgrader": {
     "cell_type": "code",
     "checksum": "c8fea5a0861ab83a2c6db0a96744352e",
     "grade": false,
     "grade_id": "numkmers",
     "locked": false,
     "schema_version": 3,
     "solution": true
    }
   },
   "outputs": [
    {
     "data": {
      "text/plain": [
       "990655245"
      ]
     },
     "execution_count": 74,
     "metadata": {},
     "output_type": "execute_result"
    }
   ],
   "source": [
    "def EstimateNumKmersSeen(kmer_counts, valley_point):\n",
    "    \"\"\" Estimate the total number of kmers seen\n",
    "    \n",
    "    Parameters\n",
    "    ----------\n",
    "    kmer_counts : list of int\n",
    "       list of counts where kmer_counts[i-1] = number of kmers seen i times\n",
    "    valley_point : int\n",
    "       Position of the valley (position where kmer counts stop going down)\n",
    "\n",
    "    Returns\n",
    "    -------\n",
    "    num_total_kmers : int\n",
    "       Total number of kmers seen\n",
    "    \"\"\"\n",
    "    num_total_kmers = 0\n",
    "    # YOUR CODE HERE\n",
    "    #raise NotImplementedError()\n",
    "    min_kmer = kmer_counts[valley_point]\n",
    "    for i in range(valley_point, len(kmer_counts)):\n",
    "        num_total_kmers += (i+1)*kmer_counts[i]\n",
    "    return num_total_kmers\n",
    "\n",
    "histofile = \"shortfrag.histo\"\n",
    "kmer_counts = LoadKmerCounts(histofile)\n",
    "est_valley = EstimateValley(kmer_counts)\n",
    "num_total_kmers = EstimateNumKmersSeen(kmer_counts, est_valley)\n",
    "num_total_kmers"
   ]
  },
  {
   "cell_type": "code",
   "execution_count": 75,
   "metadata": {
    "deletable": false,
    "editable": false,
    "nbgrader": {
     "cell_type": "code",
     "checksum": "64c3ccdff578de1fbb054222b140510b",
     "grade": true,
     "grade_id": "correct-numkmers",
     "locked": true,
     "points": 4,
     "schema_version": 3,
     "solution": false
    }
   },
   "outputs": [],
   "source": [
    "\"\"\"Checck EstimateNumKmersSeen\"\"\"\n",
    "histofile = \"shortfrag.histo\"\n",
    "kmer_counts = LoadKmerCounts(histofile)\n",
    "est_valley = EstimateValley(kmer_counts)\n",
    "num_total_kmers = EstimateNumKmersSeen(kmer_counts, est_valley)\n",
    "assert(num_total_kmers > 900000000 and num_total_kmers < 1000000000)"
   ]
  },
  {
   "cell_type": "markdown",
   "metadata": {
    "deletable": false,
    "editable": false,
    "nbgrader": {
     "cell_type": "markdown",
     "checksum": "44b8566e0e030b9b7a8409942c6d6fa6",
     "grade": false,
     "grade_id": "cell-084bad6ee9708b82",
     "locked": true,
     "schema_version": 3,
     "solution": false
    }
   },
   "source": [
    "**Question 10: (1 pt)** Finally, use your estimates for the total number of kmers seen and for $M$ to estimate the E. coli genome size. (You should hopefully get something between 4-5 million bp). Set the variable `est_ecoli_size` below to your answer. (You may compute your answer as a function of variables you set above.)"
   ]
  },
  {
   "cell_type": "code",
   "execution_count": 76,
   "metadata": {
    "deletable": false,
    "nbgrader": {
     "cell_type": "code",
     "checksum": "af5ab0ddfd9c4a9b010395f3a35081f4",
     "grade": false,
     "grade_id": "sizeest_answer",
     "locked": false,
     "schema_version": 3,
     "solution": true,
     "task": false
    }
   },
   "outputs": [
    {
     "name": "stdout",
     "output_type": "stream",
     "text": [
      "Estimated size: 4953276.225\n"
     ]
    }
   ],
   "source": [
    "est_ecoli_size = 0 # Set to estimated size of the e.coli genome in bp\n",
    "\n",
    "\n",
    "# YOUR CODE HERE\n",
    "#raise NotImplementedError()\n",
    "est_ecoli_size = 990655245/200\n",
    "#just pulled values from above\n",
    "\n",
    "print(\"Estimated size: %s\"%est_ecoli_size)"
   ]
  },
  {
   "cell_type": "code",
   "execution_count": 77,
   "metadata": {
    "deletable": false,
    "editable": false,
    "nbgrader": {
     "cell_type": "code",
     "checksum": "88feefc97e3987658ff6fec422c3028d",
     "grade": true,
     "grade_id": "sizeest_test",
     "locked": true,
     "points": 1,
     "schema_version": 3,
     "solution": false,
     "task": false
    }
   },
   "outputs": [],
   "source": [
    "\"\"\"Basic tests\"\"\"\n",
    "assert(est_ecoli_size > 4000000 and est_ecoli_size < 5000000)"
   ]
  },
  {
   "cell_type": "markdown",
   "metadata": {
    "deletable": false,
    "editable": false,
    "nbgrader": {
     "cell_type": "markdown",
     "checksum": "d76b0590dc9298ba872cd35e594899e1",
     "grade": false,
     "grade_id": "cell-ec0e6c69d5723ddb",
     "locked": true,
     "schema_version": 3,
     "solution": false
    }
   },
   "source": [
    "## 5. Estimating genome size using kmergenie\n",
    "\n",
    "Now, we'll check our answer by comparing to a tool, **kmergenie**, written to estimate genome sizes from an input set of reads. The tool takes as input a fastq file and outputs several files. We're most interested in `histograms_report.html` that gives a report of the results. Type `kmergenie` to see the usage for this tool.\n",
    "\n",
    "For the best results, we can give it all of our fastq files. `kmergenie` can take in a file with a list of fastq file paths. To make such a file and run `kmergenie` you can do:\n",
    "\n",
    "```shell\n",
    "ls *.fq > readfiles\n",
    "```\n",
    "This lists all the files matching these patterns then writes them (remember the `>` symbol) to the file `readfiles`.\n",
    "\n",
    "**Question 11 (4 pts):** Run `kmergenie` on our fastq files.\n",
    "\n",
    "**11.1 (1 pt)**: Paste the command you used for this below into the variable `kmergenie_cmd`.\n",
    "\n",
    "**11.2 (2 pts)**: Look at the html output it produced (`histograms_report.html`). What did it find to be the best value for $k$? Set the variable `bestk` to your answer below.\n",
    "\n",
    "**11.3 (1 pt)**:  What did it predict the genome (assembly) size to be? Set the variable `estsize` below to your answer. Is it close to your answer to question 10 above? (It should be! If not something went wrong.)"
   ]
  },
  {
   "cell_type": "code",
   "execution_count": 88,
   "metadata": {
    "deletable": false,
    "nbgrader": {
     "cell_type": "code",
     "checksum": "e9cdb597758a31730f8c20e0d67d0cf9",
     "grade": false,
     "grade_id": "kmergenie-answer",
     "locked": false,
     "schema_version": 3,
     "solution": true,
     "task": false
    }
   },
   "outputs": [],
   "source": [
    "kmergenie_cmd = \"\"\"\n",
    "kmergenie readfiles\n",
    "\"\"\"\n",
    "\n",
    "bestk = 81 # replace with your answer for the best k\n",
    "\n",
    "estsize = 4500516 # replace with kmergenie's estimate for the genome size\n",
    "\n",
    "# YOUR CODE HERE\n",
    "#raise NotImplementedError()"
   ]
  },
  {
   "cell_type": "code",
   "execution_count": 89,
   "metadata": {
    "deletable": false,
    "editable": false,
    "nbgrader": {
     "cell_type": "code",
     "checksum": "cbaf3828e39bcd56bf0ed8baa37b5dc9",
     "grade": true,
     "grade_id": "kmergenie-test1",
     "locked": true,
     "points": 1,
     "schema_version": 3,
     "solution": false,
     "task": false
    }
   },
   "outputs": [],
   "source": [
    "\"\"\"Basic command checks\"\"\"\n",
    "assert(\"kmergenie\" in kmergenie_cmd)"
   ]
  },
  {
   "cell_type": "code",
   "execution_count": 90,
   "metadata": {
    "deletable": false,
    "editable": false,
    "nbgrader": {
     "cell_type": "code",
     "checksum": "c9a0fb618351d70a5ccc644fd224e774",
     "grade": true,
     "grade_id": "kmergenie-test2",
     "locked": true,
     "points": 2,
     "schema_version": 3,
     "solution": false,
     "task": false
    }
   },
   "outputs": [],
   "source": [
    "\"\"\"Check bestk\"\"\"\n",
    "assert(bestk > 75 and bestk < 90)\n"
   ]
  },
  {
   "cell_type": "code",
   "execution_count": 91,
   "metadata": {
    "deletable": false,
    "editable": false,
    "nbgrader": {
     "cell_type": "code",
     "checksum": "2e1a48919d1ff0fa0fa64744041f584d",
     "grade": true,
     "grade_id": "kmergenie-test3",
     "locked": true,
     "points": 1,
     "schema_version": 3,
     "solution": false,
     "task": false
    }
   },
   "outputs": [],
   "source": [
    "\"\"\"Check estsize\"\"\"\n",
    "assert(estsize > 4500000 and estsize < 4900000)"
   ]
  },
  {
   "cell_type": "markdown",
   "metadata": {
    "deletable": false,
    "editable": false,
    "nbgrader": {
     "cell_type": "markdown",
     "checksum": "72fd6c9a9636b2b1832fc85d73212fbf",
     "grade": false,
     "grade_id": "cell-21e8c0adf24cf703",
     "locked": true,
     "schema_version": 3,
     "solution": false
    }
   },
   "source": [
    "## 6. Additional exercises\n",
    "\n",
    "**Question 12 (4 pts)**: Look up the reference assembly info for this E. coli strain https://www.ncbi.nlm.nih.gov/nuccore/NC_000913.3. What is the reported genome size? How does that compare to our estimates? If they are different, hypothesize why."
   ]
  },
  {
   "cell_type": "markdown",
   "metadata": {
    "deletable": false,
    "nbgrader": {
     "cell_type": "markdown",
     "checksum": "020ff615d4f2fc7b7741c12b7c38d3ab",
     "grade": true,
     "grade_id": "correct-compare-ref",
     "locked": false,
     "points": 4,
     "schema_version": 3,
     "solution": true
    }
   },
   "source": [
    "4641652 bp. It's fairly close, but there could be some differences in how many kmers they used to generate their estimates."
   ]
  },
  {
   "cell_type": "markdown",
   "metadata": {
    "deletable": false,
    "editable": false,
    "nbgrader": {
     "cell_type": "markdown",
     "checksum": "9480bc5012c979f100ab9968f38cda46",
     "grade": false,
     "grade_id": "cell-84087ecb782cac54",
     "locked": true,
     "schema_version": 3,
     "solution": false
    }
   },
   "source": [
    "**Question 13 (4 pts)** So far we have considered kmer histograms for a *haploid* organism (E. coli) which only has one copy of the genome. However many organisms (e.g. humans!) we will deal with are *diploid*, meaning they have two copies of the genome, which could have genetic variation from each other. For instance, if you have a heterozygous SNP, then kmers overlapping each of the two alleles will be different.\n",
    "\n",
    "How do you expect the kmer distribution to change for a diploid genome? Describe the expected pattern of number/location of peaks and valleys you expect and what those correspond to."
   ]
  },
  {
   "cell_type": "markdown",
   "metadata": {
    "deletable": false,
    "nbgrader": {
     "cell_type": "markdown",
     "checksum": "a85739d29e0bf822c595c21dc98a1751",
     "grade": true,
     "grade_id": "correct-kmer-diploid",
     "locked": false,
     "points": 4,
     "schema_version": 3,
     "solution": true
    }
   },
   "source": [
    "I'd expect that there'd be a smaller peak somewhere to the left of the normal large peak (which would get smaller) since a number of the kmers in the large peak will be seen less frequently when heterozygosity becomes a factor"
   ]
  },
  {
   "cell_type": "markdown",
   "metadata": {
    "deletable": false,
    "editable": false,
    "nbgrader": {
     "cell_type": "markdown",
     "checksum": "90fdb53f1d09b61b698c11863db54682",
     "grade": false,
     "grade_id": "cell-eaefbf056e6b43dc",
     "locked": true,
     "schema_version": 3,
     "solution": false
    }
   },
   "source": [
    "**Question 14 (4 pts)**: What will the kmer count distribution look like for a genome sequenced to very low coverage? e.g. $<$5x? Why might this make estimating genome size difficult or impossible?"
   ]
  },
  {
   "cell_type": "markdown",
   "metadata": {
    "deletable": false,
    "nbgrader": {
     "cell_type": "markdown",
     "checksum": "b48d0f9a180f5f2d63f93c2449862989",
     "grade": true,
     "grade_id": "correct-lowcov",
     "locked": false,
     "points": 4,
     "schema_version": 3,
     "solution": true
    }
   },
   "source": [
    "There would be a lot of kmers that are seen infrequently, so the center of mass of the histogram would shift left. The kmer coverage would be artificially low, so it'd be very difficult to accurately estimate the genome size"
   ]
  },
  {
   "cell_type": "code",
   "execution_count": null,
   "metadata": {},
   "outputs": [],
   "source": []
  }
 ],
 "metadata": {
  "kernelspec": {
   "display_name": "Python 3",
   "language": "python",
   "name": "python3"
  },
  "language_info": {
   "codemirror_mode": {
    "name": "ipython",
    "version": 3
   },
   "file_extension": ".py",
   "mimetype": "text/x-python",
   "name": "python",
   "nbconvert_exporter": "python",
   "pygments_lexer": "ipython3",
   "version": "3.6.7"
  }
 },
 "nbformat": 4,
 "nbformat_minor": 2
}
