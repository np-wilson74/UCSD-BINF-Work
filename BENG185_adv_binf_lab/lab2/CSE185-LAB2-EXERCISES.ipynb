{
 "cells": [
  {
   "cell_type": "markdown",
   "metadata": {
    "deletable": false,
    "editable": false,
    "nbgrader": {
     "cell_type": "markdown",
     "checksum": "252ef16874856f82ca45078cede7a10d",
     "grade": false,
     "grade_id": "cell-893e5cc612396bd7",
     "locked": true,
     "schema_version": 3,
     "solution": false
    }
   },
   "source": [
    "# Week 2 Lab: Assembly\n",
    "\n",
    "This week's exercises consist of two parts:\n",
    "* **Part 1 (10 pts)**: We'll derive how to estimate the size of a genome based on kmer frequencies using a toy example. In the lab, we'll do this on a real genome.\n",
    "\n",
    "* **Part 2 (10 pts)**: Quiz review for this week's quiz! Note the actual quiz will have only five questions and you will be given 20 minutes.\n",
    "\n",
    "You may work with a partner or consult your classmates for help!"
   ]
  },
  {
   "cell_type": "markdown",
   "metadata": {
    "deletable": false,
    "editable": false,
    "nbgrader": {
     "cell_type": "markdown",
     "checksum": "19c0286a6108ac3aa652116af99ba9e3",
     "grade": false,
     "grade_id": "cell-18c352291e7e9c73",
     "locked": true,
     "schema_version": 3,
     "solution": false,
     "task": false
    }
   },
   "source": [
    "\n",
    "# Part 1: Estimating genome size\n",
    "\n",
    "## 1.1 Intro to kmer counts and coverage\n",
    "\n",
    "First, let's consider kmers originating from $N$ copies of an example genome ($G$) of length $|G|=15$."
   ]
  },
  {
   "cell_type": "code",
   "execution_count": 2,
   "metadata": {
    "deletable": false,
    "editable": false,
    "nbgrader": {
     "cell_type": "code",
     "checksum": "b39f17580ada2a83333cf3938118dcfe",
     "grade": false,
     "grade_id": "cell-850d8f8f78f8a271",
     "locked": true,
     "schema_version": 3,
     "solution": false
    }
   },
   "outputs": [],
   "source": [
    "GENOME=\"ACTCGGCGTTACGCG\""
   ]
  },
  {
   "cell_type": "markdown",
   "metadata": {
    "deletable": false,
    "editable": false,
    "nbgrader": {
     "cell_type": "markdown",
     "checksum": "2541385e201842e8e79132c8a2d876e4",
     "grade": false,
     "grade_id": "kmer-num",
     "locked": true,
     "schema_version": 3,
     "solution": false
    }
   },
   "source": [
    "**Question 1 (1 pt)**: How many unique kmers of length 7 can be generated from our genome? Set the variable `num_unique_kmers` to your answer. List the unique kmers in the variable `unique_kmer_list`."
   ]
  },
  {
   "cell_type": "code",
   "execution_count": 17,
   "metadata": {
    "deletable": false,
    "nbgrader": {
     "cell_type": "code",
     "checksum": "bb2b93494a428722a4fde1dbd0a693b5",
     "grade": false,
     "grade_id": "kmer-num-answer",
     "locked": false,
     "schema_version": 3,
     "solution": true,
     "task": false
    }
   },
   "outputs": [
    {
     "name": "stdout",
     "output_type": "stream",
     "text": [
      "{'GTTACGC', 'CTCGGCG', 'TCGGCGT', 'GCGTTAC', 'CGGCGTT', 'TTACGCG', 'ACTCGGC', 'GGCGTTA', 'CGTTACG'}\n"
     ]
    }
   ],
   "source": [
    "num_unique_kmers = 0\n",
    "unique_kmer_list = [\"NNNNNNN\",\"NNNNNNN\"] # Replace with your answer\n",
    "\n",
    "# YOUR CODE HERE\n",
    "#raise NotImplementedError()\n",
    "kmer_list = []\n",
    "for i in range(0,len(GENOME)-7+1):\n",
    "    kmer_list.append(GENOME[i:i+7])\n",
    "    #print(GENOME[i: i+7])\n",
    "    \n",
    "unique_kmer_list = set(kmer_list)\n",
    "num_unique_kmers = len(unique_kmer_list)\n",
    "print(unique_kmer_list)"
   ]
  },
  {
   "cell_type": "code",
   "execution_count": 18,
   "metadata": {
    "deletable": false,
    "editable": false,
    "nbgrader": {
     "cell_type": "code",
     "checksum": "20ef90cf2d2d4be00d6dba41d955043d",
     "grade": true,
     "grade_id": "kmer-num-test",
     "locked": true,
     "points": 1,
     "schema_version": 3,
     "solution": false,
     "task": false
    }
   },
   "outputs": [],
   "source": [
    "assert(num_unique_kmers > 1 and num_unique_kmers < len(GENOME))\n",
    "assert(num_unique_kmers == len(unique_kmer_list))\n",
    "for val in unique_kmer_list:\n",
    "    assert(type(val)==str)\n",
    "    assert(len(val)==7)"
   ]
  },
  {
   "cell_type": "markdown",
   "metadata": {
    "deletable": false,
    "editable": false,
    "nbgrader": {
     "cell_type": "markdown",
     "checksum": "f204841008d6385bb54b1eb9ddb87193",
     "grade": false,
     "grade_id": "kmer-genomesize",
     "locked": true,
     "schema_version": 3,
     "solution": false
    }
   },
   "source": [
    "**Question 2 (2 pts)**: What would your answer to question 1 (number of unique 7-mers) be for a genome of length 100? \n",
    "1000? 1000000?\n",
    "\n",
    "Complete the function `GetNumUniqueKmers` below to return the number of unique kmers of length $k$ for a genome of size $|G|$. Ignore the possibility that a single kmer may be seen more than once in the genome. \n",
    "\n",
    "Notice that, as the genome size gets much bigger than the kmer size, the number of total kmers seen forms a good approximation to the genome size."
   ]
  },
  {
   "cell_type": "code",
   "execution_count": 19,
   "metadata": {
    "deletable": false,
    "nbgrader": {
     "cell_type": "code",
     "checksum": "6340212923f3762e72e4fe870c6d9ce4",
     "grade": false,
     "grade_id": "kmer-genomeisze-answer",
     "locked": false,
     "schema_version": 3,
     "solution": true,
     "task": false
    }
   },
   "outputs": [],
   "source": [
    "def GetNumUniqueKmers(G, k):\n",
    "    \"\"\"Compute the number of unique kmers for a genome of size G\n",
    "    \n",
    "    Parameters\n",
    "    ----------\n",
    "    G : int\n",
    "       Size, in bp, of the target genome\n",
    "    k : int\n",
    "       Length of the kmer being considered\n",
    "       \n",
    "    Returns\n",
    "    -------\n",
    "    num_unique_kmers : int\n",
    "       Number of unique kmers possible\n",
    "    \"\"\"\n",
    "    num_unique_kmers = 0\n",
    "    # YOUR CODE HERE\n",
    "    #raise NotImplementedError()\n",
    "    num_unique_kmers = G - k + 1\n",
    "    return num_unique_kmers"
   ]
  },
  {
   "cell_type": "code",
   "execution_count": 20,
   "metadata": {
    "deletable": false,
    "editable": false,
    "nbgrader": {
     "cell_type": "code",
     "checksum": "7fe01d6bea25c703da0d9c68a8cfb1e5",
     "grade": true,
     "grade_id": "kmer-genomeisze-test",
     "locked": true,
     "points": 2,
     "schema_version": 3,
     "solution": false,
     "task": false
    }
   },
   "outputs": [],
   "source": [
    "assert(GetNumUniqueKmers(100, 7)==94)\n",
    "assert(GetNumUniqueKmers(1000000, 7) == 999994)"
   ]
  },
  {
   "cell_type": "markdown",
   "metadata": {
    "deletable": false,
    "editable": false,
    "nbgrader": {
     "cell_type": "markdown",
     "checksum": "a4a99ef958bdfb7bd7ff321679d4b533",
     "grade": false,
     "grade_id": "kmer-cov",
     "locked": true,
     "schema_version": 3,
     "solution": false
    }
   },
   "source": [
    "**Question 3 (1 pt)**: We decide to sequence our genome with 100 reads of length ($L$) 7bp. What will be the average coverage ($C$) of our length 15 genome above? Set the variable `meancov` below to your answer.\n",
    "\n",
    "Recall that *coverage* refers to the average number of times each base pair in the genome is sequenced. (see the formula for coverage from last week.)"
   ]
  },
  {
   "cell_type": "code",
   "execution_count": 22,
   "metadata": {
    "deletable": false,
    "nbgrader": {
     "cell_type": "code",
     "checksum": "b36d7a8eed143587128a222f65eae32d",
     "grade": false,
     "grade_id": "kmer-cov-answer",
     "locked": false,
     "schema_version": 3,
     "solution": true,
     "task": false
    }
   },
   "outputs": [],
   "source": [
    "meancov = 700/15\n",
    "# YOUR CODE HERE\n",
    "#raise NotImplementedError()"
   ]
  },
  {
   "cell_type": "code",
   "execution_count": 23,
   "metadata": {
    "deletable": false,
    "editable": false,
    "nbgrader": {
     "cell_type": "code",
     "checksum": "5f3cfa9147490ed98d159c9e49add622",
     "grade": true,
     "grade_id": "kmer-cov-test",
     "locked": true,
     "points": 1,
     "schema_version": 3,
     "solution": false,
     "task": false
    }
   },
   "outputs": [],
   "source": [
    "assert(meancov > 10.0 and meancov < 100.0)\n",
    "assert(type(meancov)==float)"
   ]
  },
  {
   "cell_type": "markdown",
   "metadata": {
    "deletable": false,
    "editable": false,
    "nbgrader": {
     "cell_type": "markdown",
     "checksum": "dc7afacc49069bc39be2ba35f9cbf6b1",
     "grade": false,
     "grade_id": "kmercov",
     "locked": true,
     "schema_version": 3,
     "solution": false
    }
   },
   "source": [
    "We can also consider the *kmer coverage* ($M$), or the average number of times each *kmer* of a given length is seen. For example, if we have reads of length $L=7$, and are using $k=7$, then we will sequence a single kmer for each read. If we know the total number of possible kmers (your answer to question 2), the we can compute $M$ as the total number of kmers seen divided by the total number of possible kmers. \n",
    "\n",
    "**Question 4 (1 pt)**: Continuing our example from question 3, with $N=100$ reads of length $L=7$ and $|G|=15$, what will be the average *kmer coverage*? Set the variable `kmer_cov1` to your answer below."
   ]
  },
  {
   "cell_type": "code",
   "execution_count": 24,
   "metadata": {
    "deletable": false,
    "nbgrader": {
     "cell_type": "code",
     "checksum": "3a1abf6647360d341524c0a4f352d8d2",
     "grade": false,
     "grade_id": "kmercov-answer",
     "locked": false,
     "schema_version": 3,
     "solution": true,
     "task": false
    }
   },
   "outputs": [],
   "source": [
    "kmer_cov1 = 0\n",
    "# YOUR CODE HERE\n",
    "#raise NotImplementedError()\n",
    "kmer_cov1 = 100/GetNumUniqueKmers(15, 7)"
   ]
  },
  {
   "cell_type": "code",
   "execution_count": 25,
   "metadata": {
    "deletable": false,
    "editable": false,
    "nbgrader": {
     "cell_type": "code",
     "checksum": "921924195bc46133a71a9d27da3346e9",
     "grade": true,
     "grade_id": "kmerread-test-1",
     "locked": true,
     "points": 1,
     "schema_version": 3,
     "solution": false,
     "task": false
    }
   },
   "outputs": [],
   "source": [
    "assert(kmer_cov1 > 10 and kmer_cov1 < 20)"
   ]
  },
  {
   "cell_type": "markdown",
   "metadata": {
    "deletable": false,
    "editable": false,
    "nbgrader": {
     "cell_type": "markdown",
     "checksum": "88ada2b0b0fc41050bab1e588e3dad38",
     "grade": false,
     "grade_id": "kmeread",
     "locked": true,
     "schema_version": 3,
     "solution": false
    }
   },
   "source": [
    "**Question 5 (1 pt)**: What about if read length $L=10$? How many kmers of length $k=7$ will we observe per read? What will be the average kmer coverage with 100 reads for a genome of length 15? Set the variable `kmer_cov2` to your answer below."
   ]
  },
  {
   "cell_type": "code",
   "execution_count": 34,
   "metadata": {
    "deletable": false,
    "nbgrader": {
     "cell_type": "code",
     "checksum": "a3cf5f38d5e7d05e55787764c3662461",
     "grade": false,
     "grade_id": "cell-85e730239f1f0463",
     "locked": false,
     "schema_version": 3,
     "solution": true,
     "task": false
    }
   },
   "outputs": [
    {
     "name": "stdout",
     "output_type": "stream",
     "text": [
      "44.44444444444444\n"
     ]
    }
   ],
   "source": [
    "kmer_cov2 = 0\n",
    "# YOUR CODE HERE\n",
    "#raise NotImplementedError()\n",
    "kmer_cov2 = GetNumUniqueKmers(10, 7)*100/GetNumUniqueKmers(15, 7)\n",
    "print(kmer_cov2)"
   ]
  },
  {
   "cell_type": "code",
   "execution_count": 35,
   "metadata": {
    "deletable": false,
    "editable": false,
    "nbgrader": {
     "cell_type": "code",
     "checksum": "c0529e45453c7e3021fa3b479c114d80",
     "grade": true,
     "grade_id": "kmerread-test-2",
     "locked": true,
     "points": 1,
     "schema_version": 3,
     "solution": false,
     "task": false
    }
   },
   "outputs": [],
   "source": [
    "assert(kmer_cov2 > 30 and kmer_cov2 < 50)"
   ]
  },
  {
   "cell_type": "markdown",
   "metadata": {
    "deletable": false,
    "editable": false,
    "nbgrader": {
     "cell_type": "markdown",
     "checksum": "f44a5328e8d279eb65e0e44cbb411877",
     "grade": false,
     "grade_id": "cell-59119d5a45455262",
     "locked": true,
     "schema_version": 3,
     "solution": false
    }
   },
   "source": [
    "Now let's write some code to check our answers.\n",
    "\n",
    "**Question 6 (4 pts)**: Complete the code below, which generates $N$ reads of length $L$ from an example genome $G$ and plots a histogram of kmer counts for a given length $k$.\n",
    "\n",
    "You will need to fill in the functions:\n",
    "* `GetKmersFromReads`: which gets a list of all kmers of a given length observed in the reads\n",
    "* `GetMeanKmerCov`: which computes the mean kmer coverage ($M$) based on the read length $L$, kmer size $k$, and number of reads $N$. \n",
    "\n",
    "The code will create a histogram of kmer counts. If your result for `GetMeanKmerCov` is correct it should be around the mean value of the histogram."
   ]
  },
  {
   "cell_type": "code",
   "execution_count": 37,
   "metadata": {
    "deletable": false,
    "nbgrader": {
     "cell_type": "code",
     "checksum": "750a44f0c32852b4fb493c2ab273ee82",
     "grade": false,
     "grade_id": "plot-khist",
     "locked": false,
     "schema_version": 3,
     "solution": true
    }
   },
   "outputs": [
    {
     "name": "stdout",
     "output_type": "stream",
     "text": [
      "Populating the interactive namespace from numpy and matplotlib\n"
     ]
    },
    {
     "data": {
      "image/png": "[encoded data removed]",
      "text/plain": [
       "<Figure size 504x216 with 1 Axes>"
      ]
     },
     "metadata": {
      "needs_background": "light"
     },
     "output_type": "display_data"
    }
   ],
   "source": [
    "%pylab inline\n",
    "import numpy as np\n",
    "\n",
    "GENOME=\"ACTCGGCGTTACGCG\"\n",
    "k = 7\n",
    "N = 100\n",
    "L = 7\n",
    "\n",
    "def GetReads(GENOME, N, L):\n",
    "    \"\"\" Return a list of N reads of length L from a GENOME string\n",
    "    \n",
    "    Parameters\n",
    "    ----------\n",
    "    GENOME : str\n",
    "       String consisting of the genome sequence\n",
    "    N : int\n",
    "       number of reads\n",
    "    L : int\n",
    "       length (in bp) of the reads\n",
    "       \n",
    "    Returns\n",
    "    -------\n",
    "    reads : list of str\n",
    "       List of reads (consisting of strings of nucleotides)\n",
    "    \"\"\"\n",
    "    reads = []\n",
    "    for i in range(N):\n",
    "        start = np.random.randint(0, len(GENOME)-L+1)\n",
    "        reads.append(GENOME[start:start+L])\n",
    "    return reads\n",
    "\n",
    "def GetKmersFromReads(reads, k):\n",
    "    \"\"\" Return a list of all kmers of length k from a list of reads\n",
    "    \n",
    "    Parameters\n",
    "    ----------\n",
    "    reads : list of str\n",
    "       List of reads (consisting of strings of nucleotides)\n",
    "    k : int\n",
    "       K-mer length\n",
    "\n",
    "    Returns\n",
    "    -------\n",
    "    kmers : list of str\n",
    "       List of kmers (consisting of strings of nucleotides length k)\n",
    "    \"\"\"\n",
    "    kmers = []\n",
    "    for read in reads:\n",
    "        for i in range(len(read)-k+1):\n",
    "            # Get the kmer starting at index i and add to the list of kmers\n",
    "            # YOUR CODE HERE\n",
    "            kmers.append(read[i:i+k])\n",
    "    return kmers\n",
    "\n",
    "def GetKmerCounts(kmer_list):\n",
    "    \"\"\" Count the number of times each unique kmer occurs.\n",
    "    \n",
    "    Should return a dictionary with kmer_counts[kmer] = number of times the \n",
    "    kmer is seen in kmer_list\n",
    "    \n",
    "    Parameters\n",
    "    ----------\n",
    "    kmer_list : list of str\n",
    "       List of kmers (consisting of strings of nucleotides length k)\n",
    "       \n",
    "    Returns\n",
    "    -------\n",
    "    kmer_counts : dict of str->int\n",
    "       Dictionary indicating the number of times each kmer is seen in kmer_list.\n",
    "       Key: kmer. Value: number of times seen\n",
    "    \"\"\"\n",
    "    kmer_counts = {}\n",
    "    for kmer in kmer_list:\n",
    "        kmer_counts[kmer] = kmer_counts.get(kmer, 0) + 1\n",
    "    return kmer_counts\n",
    "\n",
    "def GetMeanKmerCov(GENOME, N, k, L):\n",
    "    \"\"\"Compute the mean kmer coverage of a genome\n",
    "    \n",
    "    Parameters\n",
    "    ----------\n",
    "    GENOME : str\n",
    "       String consisting of the genome sequence\n",
    "    N : int\n",
    "       number of reads\n",
    "    k : int\n",
    "       K-mer length\n",
    "    L : int\n",
    "       length (in bp) of the reads\n",
    "\n",
    "    Returns\n",
    "    -------\n",
    "    mean_kmer_cov : float\n",
    "       Mean number of times each kmer is seen\n",
    "    \"\"\"\n",
    "    num_kmers_seq = 0 # Set this below\n",
    "    num_kmers_uniq = -1 # Set this below\n",
    "    # Set num_kmers_seq and num_kmers_uniq based on the formulas above\n",
    "    # num_kmers_seq is the total number of kmers sequenced\n",
    "    # num_kmers_uniq is the number of unique kmers in GENOME (assuming all are unique)\n",
    "    # YOUR CODE HERE\n",
    "    #raise NotImplementedError()\n",
    "    G = len(GENOME)\n",
    "    num_kmers_seq = GetNumUniqueKmers(L, k)*N\n",
    "    num_kmers_uniq = GetNumUniqueKmers(G, k)\n",
    "    #GetNumUniqueKmers(10, 7)*100/GetNumUniqueKmers(15, 7)\n",
    "    mean_kmer_cov = num_kmers_seq*1.0/num_kmers_uniq\n",
    "    return mean_kmer_cov\n",
    "\n",
    "def PlotKmerHist(kmer_counts, meanval=None):\n",
    "    \"\"\" Plot a histogram of kmer counts\n",
    "    \n",
    "    Returns a plot where the x-axis is kmer count, and the y-axis\n",
    "    is the number of kmers seen that many times.\n",
    "    \n",
    "    Parameters\n",
    "    ----------\n",
    "    kmer_counts : dict of str->int\n",
    "       Dictionary indicating the number of times each kmer is seen in kmer_list.\n",
    "       Key: kmer. Value: number of times seen\n",
    "    meanval : float (optional)\n",
    "       Mean kmer coverage value\n",
    "    \"\"\"\n",
    "    fig = plt.figure()\n",
    "    fig.set_size_inches((7, 3))\n",
    "    ax = fig.add_subplot(111)\n",
    "    vals = list(kmer_counts.values())\n",
    "    bins = np.arange(0, max(vals)*1.5, 1)\n",
    "    ax.hist(vals, bins=bins)\n",
    "    if meanval is not None: ax.axvline(x=meanval, linestyle=\"dashed\", color=\"red\")\n",
    "    ax.set_xlabel(\"Kmer count\")\n",
    "    ax.set_ylabel(\"Number of kmers\")\n",
    "    \n",
    "reads = GetReads(GENOME, N, L)\n",
    "kmer_list = GetKmersFromReads(reads, k)\n",
    "kmer_counts = GetKmerCounts(kmer_list)\n",
    "PlotKmerHist(kmer_counts, meanval=GetMeanKmerCov(GENOME, N, k, L))"
   ]
  },
  {
   "cell_type": "code",
   "execution_count": 38,
   "metadata": {
    "deletable": false,
    "editable": false,
    "nbgrader": {
     "cell_type": "code",
     "checksum": "20a3493fefd1172487806d11ccc876a5",
     "grade": true,
     "grade_id": "correct-plot-khist",
     "locked": true,
     "points": 2,
     "schema_version": 3,
     "solution": false
    }
   },
   "outputs": [],
   "source": [
    "\"\"\"Test GetKmersFromReads\"\"\"\n",
    "GENOME=\"ACTCGGCGTTACGCG\"\n",
    "k = 7\n",
    "N = 100\n",
    "L = 7\n",
    "reads = GetReads(GENOME, N, L)\n",
    "kmer_list = GetKmersFromReads(reads, k)\n",
    "assert(len(kmer_list)==N)\n",
    "\n",
    "k = 7\n",
    "N = 100\n",
    "L = 10\n",
    "reads = GetReads(GENOME, N, L)\n",
    "kmer_list = GetKmersFromReads(reads, k)"
   ]
  },
  {
   "cell_type": "code",
   "execution_count": 39,
   "metadata": {
    "deletable": false,
    "editable": false,
    "nbgrader": {
     "cell_type": "code",
     "checksum": "365aed3f684a7beb0cc88b197a25d651",
     "grade": true,
     "grade_id": "correct-plot-khist2",
     "locked": true,
     "points": 2,
     "schema_version": 3,
     "solution": false
    }
   },
   "outputs": [],
   "source": [
    "\"\"\"Test GetMeanKmerCov\"\"\"\n",
    "GENOME=\"ACTCGGCGTTACGCG\"\n",
    "k = 7\n",
    "N = 100\n",
    "L = 7\n",
    "\n",
    "k = 5\n",
    "N = 1000\n",
    "L = 10"
   ]
  },
  {
   "cell_type": "markdown",
   "metadata": {
    "deletable": false,
    "editable": false,
    "nbgrader": {
     "cell_type": "markdown",
     "checksum": "4395a4ccdeb6dce96396356a8712a7ec",
     "grade": false,
     "grade_id": "cell-b16a1d97ef39aadd",
     "locked": true,
     "schema_version": 3,
     "solution": false
    }
   },
   "source": [
    "Now let's take a look at kmer histograms for larger genomes to get a feel for what this will look like in real data. Feel free to copy the code below to a new cell to play around with the parameters. You can also use this to make sure your estimate fo the mean kmer coverage is correct."
   ]
  },
  {
   "cell_type": "code",
   "execution_count": 40,
   "metadata": {
    "deletable": false,
    "editable": false,
    "nbgrader": {
     "cell_type": "code",
     "checksum": "949f9ff381aa7ba182ef0fc5eaad2c4a",
     "grade": false,
     "grade_id": "cell-17b0ae91cd0b9971",
     "locked": true,
     "schema_version": 3,
     "solution": false
    }
   },
   "outputs": [
    {
     "data": {
      "image/png": "[encoded data removed]",
      "text/plain": [
       "<Figure size 504x216 with 1 Axes>"
      ]
     },
     "metadata": {
      "needs_background": "light"
     },
     "output_type": "display_data"
    }
   ],
   "source": [
    "# Generate a random genome of 1kb\n",
    "nucs = [\"A\",\"C\",\"G\",\"T\"]\n",
    "genome_size = 1000\n",
    "GENOME = ''.join([nucs[np.random.randint(0, 4)] for  i in range(genome_size)])\n",
    "\n",
    "# Set real-world kmer size and read length\n",
    "k = 10\n",
    "L = 36\n",
    "N = 1000\n",
    "\n",
    "reads = GetReads(GENOME, N, L)\n",
    "kmer_list = GetKmersFromReads(reads, k)\n",
    "kmer_counts = GetKmerCounts(kmer_list)\n",
    "PlotKmerHist(kmer_counts, meanval=GetMeanKmerCov(GENOME, N, k, L))"
   ]
  },
  {
   "cell_type": "markdown",
   "metadata": {
    "deletable": false,
    "editable": false,
    "nbgrader": {
     "cell_type": "markdown",
     "checksum": "95c1dd1614953488518e3fd96bdfc80d",
     "grade": false,
     "grade_id": "cell-24fb5e1431b2c26e",
     "locked": true,
     "schema_version": 3,
     "solution": false
    }
   },
   "source": [
    "## 2. Estimating genome size from kmer histograms\n",
    "\n",
    "We'd like to be able to estimate the size of a genome just based on the observed reads. It turns out we can leverage kmer histograms to solve this problem.\n",
    "\n",
    "After completing the exercise above, we now know how to compute *kmer coverage* ($M$: average number of times each kmer is seen) and *sequencing coverage* ($C$: average number of times each base pair is sequenced) as a function of:\n",
    "\n",
    "* $G$: the size of the genome\n",
    "* $N$: the number of reads\n",
    "* $L$: the length of the read\n",
    "* $k$: the size of the kmer\n",
    "\n",
    "Rearrange your formula for kmer coverage ($M$) to solve for $G$. Note, since in most settings $G-k+1$ is very close to $G$, you can replace wherever that term occurs in your formula with $G$ to simplify. That is, assume $G-k+1 \\approx G$.\n",
    "\n",
    "**Question 7 (1 pt)**: Complete the function `GetGenomeSize` below which computes genome size $G$ as a function of number of reads ($N$), read length ($L$), kmer size ($k$), and observed peak location in the kmer histogram ($M$) based on the formulat derive.\n",
    "\n",
    "Based on the observed kmer histogram above (for a genome of length 1000 with kmer size 10 and 1,000 reads of length 36), you should hopefully see a peak for $M$ around 25-30. If your formula is correct, you should estimate the genome size to be 900-1,080 which is pretty close to the true size of 1,000."
   ]
  },
  {
   "cell_type": "code",
   "execution_count": 41,
   "metadata": {
    "deletable": false,
    "nbgrader": {
     "cell_type": "code",
     "checksum": "80ebab96a10516251c9e9820fa8791e1",
     "grade": false,
     "grade_id": "genomesize-answer",
     "locked": false,
     "schema_version": 3,
     "solution": true,
     "task": false
    }
   },
   "outputs": [],
   "source": [
    "def GetGenomeSize(N, k, L, M):\n",
    "    \"\"\" Estimate the size of a genome based on observed reads\n",
    "    \n",
    "    Parameters\n",
    "    ----------\n",
    "    N : int\n",
    "       number of reads\n",
    "    k : int\n",
    "       K-mer length\n",
    "    L : int\n",
    "       length (in bp) of the reads\n",
    "    M : float\n",
    "       Estimated mean kmer coverage.\n",
    "       \n",
    "    Return\n",
    "    ------\n",
    "    est_genome_size : int\n",
    "       Estimated genome size (in bp)\n",
    "    \"\"\"\n",
    "    est_genome_size = 0\n",
    "    # YOUR CODE HERE\n",
    "    #raise NotImplementedError()\n",
    "    #M = (L-k+1)*N/G\n",
    "    #num_unique_kmers = G - k + 1 - just copying here so I can see the calculations I've used\n",
    "    est_genome_size = (L-k+1)*N/M\n",
    "    \n",
    "    return int(est_genome_size)"
   ]
  },
  {
   "cell_type": "code",
   "execution_count": 42,
   "metadata": {
    "deletable": false,
    "editable": false,
    "nbgrader": {
     "cell_type": "code",
     "checksum": "1c182bef7b0c98bc990ccdce77f3f845",
     "grade": true,
     "grade_id": "genomesize-test",
     "locked": true,
     "points": 1,
     "schema_version": 3,
     "solution": false,
     "task": false
    }
   },
   "outputs": [],
   "source": [
    "N = 1000\n",
    "L = 36\n",
    "k = 10\n",
    "M = 30\n",
    "assert(GetGenomeSize(N, k, L, M)==900)\n",
    "M = 25\n",
    "assert(GetGenomeSize(N, k, L, M)==1080)"
   ]
  },
  {
   "cell_type": "markdown",
   "metadata": {
    "deletable": false,
    "editable": false,
    "nbgrader": {
     "cell_type": "markdown",
     "checksum": "815739111afb337c06eea6f5c8efaaf4",
     "grade": false,
     "grade_id": "cell-fce85fd3770071fe",
     "locked": true,
     "schema_version": 3,
     "solution": false
    }
   },
   "source": [
    "## 3. Kmer histograms for real data\n",
    "\n",
    "In real data, our kmer histograms get slightly more complicated since we have sequencing errors. \n",
    "\n",
    "**Question 8 (1 pt)**: Modify the code below to introduce random errors into your reads at a rate of 0.1%.\n",
    "\n",
    "If your answer is correct, you should see a huge spike of unique kmers (at count=1) due to sequencing errors. In practice, to account for errors in our genome size estimation, instead of using $N$, $L$, and $k$ to compute the total number of kmers sequenced, we will instead add up all the kmers seen after chopping off the kmers with low counts that are likely due to errors. We will explore this more using real data in the lab assignment."
   ]
  },
  {
   "cell_type": "code",
   "execution_count": 54,
   "metadata": {
    "deletable": false,
    "nbgrader": {
     "cell_type": "code",
     "checksum": "4b2e7a1f89726a81194b00bb506e51f7",
     "grade": false,
     "grade_id": "cell-a86a9e7d7175750b",
     "locked": false,
     "schema_version": 3,
     "solution": true
    }
   },
   "outputs": [
    {
     "data": {
      "image/png": "[encoded data removed]",
      "text/plain": [
       "<Figure size 504x216 with 1 Axes>"
      ]
     },
     "metadata": {
      "needs_background": "light"
     },
     "output_type": "display_data"
    }
   ],
   "source": [
    "nucs = [\"A\",\"C\",\"G\",\"T\"]\n",
    "genome_size = 1000\n",
    "GENOME = ''.join([nucs[np.random.randint(0, 4)] for  i in range(genome_size)])\n",
    "\n",
    "# Set real-world kmer size and read length\n",
    "k = 10\n",
    "L = 36\n",
    "N = 1000\n",
    "error_rate = 0.001\n",
    "\n",
    "def GetReadsWithErrors(GENOME, N, L, error_rate):\n",
    "    \"\"\" Return a list of N reads of length L from a GENOME string\n",
    "    \n",
    "    Generate random errors with probability error_rate \n",
    "    \n",
    "    Parameters\n",
    "    ----------\n",
    "    GENOME : str\n",
    "       String consisting of the genome sequence\n",
    "    N : int\n",
    "       number of reads\n",
    "    L : int\n",
    "       length (in bp) of the reads\n",
    "    error_rate : float\n",
    "       The probability that each base is incorrect.\n",
    "       \n",
    "    Returns\n",
    "    -------\n",
    "    reads : list of str\n",
    "       List of reads (consisting of strings of nucleotides)\n",
    "    \"\"\"\n",
    "    reads = []\n",
    "    for i in range(N):\n",
    "        start = np.random.randint(0, len(GENOME)-L+1)\n",
    "        read = GENOME[start:start+L]\n",
    "        # Generate errors in the read at a per-base error rate of e.g. 0.1%\n",
    "        # Add the new read (with errors) to the list of reads\n",
    "        # The read should be a Python string\n",
    "        # YOUR CODE HERE\n",
    "        import random #hope ya don't mind\n",
    "        read_chars = list(read)\n",
    "        others = {\n",
    "            \"A\": [\"G\",\"C\",\"T\"],\n",
    "            \"G\": [\"A\",\"C\",\"T\"],\n",
    "            \"C\": [\"A\",\"G\",\"T\"],\n",
    "            \"T\": [\"A\",\"C\",\"G\"],\n",
    "        }\n",
    "        for i in range(0, len(read_chars)-1):\n",
    "            if random.uniform(0,1) < error_rate:\n",
    "                read_chars[i] = random.sample(others[read_chars[i]], 1)[0] #selects random base to mutate to\n",
    "                read = \"\".join(read_chars)\n",
    "        reads.append(read)\n",
    "    return reads\n",
    "\n",
    "reads = GetReadsWithErrors(GENOME, N, L, error_rate)\n",
    "kmer_list = GetKmersFromReads(reads, k)\n",
    "kmer_counts = GetKmerCounts(kmer_list)\n",
    "PlotKmerHist(kmer_counts, meanval=GetMeanKmerCov(GENOME, N, k, L))"
   ]
  },
  {
   "cell_type": "code",
   "execution_count": 55,
   "metadata": {
    "deletable": false,
    "editable": false,
    "nbgrader": {
     "cell_type": "code",
     "checksum": "04f62f1f195d7734e3e8985171f72c28",
     "grade": true,
     "grade_id": "cell-f30e08d993a13b6b",
     "locked": true,
     "points": 2,
     "schema_version": 3,
     "solution": false
    }
   },
   "outputs": [],
   "source": [
    "\"\"\"Check that there are many kmers with count 1\"\"\"\n",
    "GENOME = ''.join([nucs[np.random.randint(0, 4)] for  i in range(genome_size)])\n",
    "k = 10\n",
    "L = 36\n",
    "N = 1000\n",
    "error_rate = 0.001\n",
    "reads = GetReadsWithErrors(GENOME, N, L, error_rate)\n",
    "kmer_list = GetKmersFromReads(reads, k)\n",
    "kmer_counts = GetKmerCounts(kmer_list)\n",
    "assert(len(reads) == N)\n",
    "assert(len([item for item in kmer_counts if kmer_counts[item]==1])> 50) # There is an infinitesimal chance this will fail"
   ]
  },
  {
   "cell_type": "markdown",
   "metadata": {
    "deletable": false,
    "editable": false,
    "nbgrader": {
     "cell_type": "markdown",
     "checksum": "8604ac47084703ad07272bba27bd9006",
     "grade": false,
     "grade_id": "cell-e5299f7fc833057e",
     "locked": true,
     "schema_version": 3,
     "solution": false,
     "task": false
    }
   },
   "source": [
    "# Part 2: Quiz review\n",
    "\n",
    "**Question 1 (1 pt)**: You sequence a human genome (3 billion bp) with 2 billion single end reads of 101bp each. What do you expect the average *sequencing coverage* to be? Set the variable `meancov` below to your answer."
   ]
  },
  {
   "cell_type": "code",
   "execution_count": 58,
   "metadata": {
    "deletable": false,
    "nbgrader": {
     "cell_type": "code",
     "checksum": "22e5c1f94dd0fd3833ccc041bb38ca79",
     "grade": false,
     "grade_id": "quiz1-answer",
     "locked": false,
     "schema_version": 3,
     "solution": true,
     "task": false
    }
   },
   "outputs": [
    {
     "name": "stdout",
     "output_type": "stream",
     "text": [
      "67.33333333333333\n"
     ]
    }
   ],
   "source": [
    "meancov = 0\n",
    "# Set meancov to the average sequencing coverage\n",
    "# YOUR CODE HERE\n",
    "#raise NotImplementedError()\n",
    "meancov = 2000000000*101/3000000000"
   ]
  },
  {
   "cell_type": "code",
   "execution_count": 57,
   "metadata": {
    "deletable": false,
    "editable": false,
    "nbgrader": {
     "cell_type": "code",
     "checksum": "780810df332a883b0e0856e8f618ec38",
     "grade": true,
     "grade_id": "quiz1-test",
     "locked": true,
     "points": 1,
     "schema_version": 3,
     "solution": false,
     "task": false
    }
   },
   "outputs": [
    {
     "data": {
      "text/plain": [
       "'Check that meancov is set to the correct answer'"
      ]
     },
     "execution_count": 57,
     "metadata": {},
     "output_type": "execute_result"
    }
   ],
   "source": [
    "\"\"\"Check that meancov is set to the correct answer\"\"\""
   ]
  },
  {
   "cell_type": "markdown",
   "metadata": {
    "deletable": false,
    "editable": false,
    "nbgrader": {
     "cell_type": "markdown",
     "checksum": "3b7dfca45a96bb8c2a18438eb206a655",
     "grade": false,
     "grade_id": "cell-ef42b62b7412587c",
     "locked": true,
     "schema_version": 3,
     "solution": false,
     "task": false
    }
   },
   "source": [
    "**Question 2 (1 pt):** You are analyzing sequencing data of a human (which is diploid) at a position where the individual is *heterozygous* for the reference allele (\"A\") and an alternate (\"T\") allele. If the position was covered by 5 reads, in the absence of sequencing errors, what is the probability of seeing 0 reads with the alternate \"T\" allele in that position? Set the variable `prob0` below."
   ]
  },
  {
   "cell_type": "code",
   "execution_count": 59,
   "metadata": {
    "deletable": false,
    "nbgrader": {
     "cell_type": "code",
     "checksum": "cba99df3d73f1dfe831bd7447998dc19",
     "grade": false,
     "grade_id": "quiz2-answer",
     "locked": false,
     "schema_version": 3,
     "solution": true,
     "task": false
    }
   },
   "outputs": [],
   "source": [
    "import scipy.special\n",
    "# Recall scipy.special.comb(N, k) gives \"N choose k\" which\n",
    "# is helpful for computing binomial probabilities\n",
    "# Or you could also do the math manually and just set prob0\n",
    "# to your answer\n",
    "\n",
    "prob0 = 0\n",
    "# Set prob0 below to answer question 2\n",
    "# YOUR CODE HERE\n",
    "#raise NotImplementedError()\n",
    "prob0 = scipy.special.comb(5,0)"
   ]
  },
  {
   "cell_type": "code",
   "execution_count": 60,
   "metadata": {
    "deletable": false,
    "editable": false,
    "nbgrader": {
     "cell_type": "code",
     "checksum": "44f84ee6f697dc06030c77bc16a83c30",
     "grade": true,
     "grade_id": "quiz2-test",
     "locked": true,
     "points": 1,
     "schema_version": 3,
     "solution": false,
     "task": false
    }
   },
   "outputs": [],
   "source": [
    "\"\"\"Check prob0 set correctly\"\"\"\n",
    "assert(prob0 >= 0 and prob0 <= 1)"
   ]
  },
  {
   "cell_type": "markdown",
   "metadata": {
    "deletable": false,
    "editable": false,
    "nbgrader": {
     "cell_type": "markdown",
     "checksum": "2c50fa39efbe3e0749345091dde2e85c",
     "grade": false,
     "grade_id": "cell-dd773992ff7338c6",
     "locked": true,
     "schema_version": 3,
     "solution": false,
     "task": false
    }
   },
   "source": [
    "**Question 3 (1 pt)**: You sequence a fragment of DNA with 2x101bp paired-end Illumina reads.\n",
    "After aligning your reads to the genome, the first (forward) read maps to chr6:10000 and the second read maps to chr6:10400. What is the length of the fragment? Set `fraglen` to your answer below."
   ]
  },
  {
   "cell_type": "code",
   "execution_count": 61,
   "metadata": {
    "deletable": false,
    "nbgrader": {
     "cell_type": "code",
     "checksum": "afafca728b03e5cbb5b42a781b8d0d21",
     "grade": false,
     "grade_id": "quiz3-answer",
     "locked": false,
     "schema_version": 3,
     "solution": true,
     "task": false
    }
   },
   "outputs": [],
   "source": [
    "fraglen = 501\n",
    "# Set fraglen to your answer below\n",
    "# YOUR CODE HERE\n",
    "#raise NotImplementedError()"
   ]
  },
  {
   "cell_type": "code",
   "execution_count": 62,
   "metadata": {
    "deletable": false,
    "editable": false,
    "nbgrader": {
     "cell_type": "code",
     "checksum": "70aab0ceca0116cb1fc295cd20f0cac6",
     "grade": true,
     "grade_id": "quiz3-test",
     "locked": true,
     "points": 1,
     "schema_version": 3,
     "solution": false,
     "task": false
    }
   },
   "outputs": [],
   "source": [
    "\"\"\"Check the value of fraglen\"\"\"\n",
    "assert(fraglen > 500 and fraglen < 2000)"
   ]
  },
  {
   "cell_type": "markdown",
   "metadata": {
    "deletable": false,
    "editable": false,
    "nbgrader": {
     "cell_type": "markdown",
     "checksum": "36c4730c76dfc341d27dc22dab835d6b",
     "grade": false,
     "grade_id": "cell-b80b0fff5d3b7753",
     "locked": true,
     "schema_version": 3,
     "solution": false,
     "task": false
    }
   },
   "source": [
    "**Question 4 (1 pt):** You sequence a genome of length 1 billion using 3 billion single end reads of length 36bp. Using kmers of length 31, how many times to you expect to see each kmer in your data? (i.e. what is the mean *kmer coverage*)? Set your answer in the variable `kmercov` below."
   ]
  },
  {
   "cell_type": "code",
   "execution_count": 64,
   "metadata": {
    "deletable": false,
    "nbgrader": {
     "cell_type": "code",
     "checksum": "c871b4eb0682598e70c43a4d913a30eb",
     "grade": false,
     "grade_id": "quiz4-answer",
     "locked": false,
     "schema_version": 3,
     "solution": true,
     "task": false
    }
   },
   "outputs": [],
   "source": [
    "kmercov = 0\n",
    "# Set kmercov to your answer below\n",
    "# YOUR CODE HERE\n",
    "#raise NotImplementedError()\n",
    "G = 1000000000\n",
    "N = 3000000000\n",
    "L = 36\n",
    "k = 31\n",
    "num_kmers_seq = GetNumUniqueKmers(L, k)*N\n",
    "num_kmers_uniq = GetNumUniqueKmers(G, k)\n",
    "kmercov = num_kmers_seq*1.0/num_kmers_uniq"
   ]
  },
  {
   "cell_type": "code",
   "execution_count": 65,
   "metadata": {
    "deletable": false,
    "editable": false,
    "nbgrader": {
     "cell_type": "code",
     "checksum": "7800f5a93dd4e605c448693f6208c0e3",
     "grade": true,
     "grade_id": "quiz4-test",
     "locked": true,
     "points": 1,
     "schema_version": 3,
     "solution": false,
     "task": false
    }
   },
   "outputs": [],
   "source": [
    "\"\"\"Check the value of kmercov\"\"\"\n",
    "assert(kmercov > 0 and kmercov < 100000)"
   ]
  },
  {
   "cell_type": "markdown",
   "metadata": {
    "deletable": false,
    "editable": false,
    "nbgrader": {
     "cell_type": "markdown",
     "checksum": "39b34b28ccdb20de7531c2bcdb8c8880",
     "grade": false,
     "grade_id": "cell-b1449a8837d4c114",
     "locked": true,
     "schema_version": 3,
     "solution": false,
     "task": false
    }
   },
   "source": [
    "**Question 5 (1 pt)**: Write a UNIX command to get the filesize in human readable format (e.g. number of megabytes, gigabytes, etc.) of the file `/datasets/cs185-sp21-A00-public/quizreview/test.fq`. Set the variable `cmd` to your command below. Hint: you can test UNIX commands either in the terminal, or by putting `!` before your command in a Jupyter notebook cell."
   ]
  },
  {
   "cell_type": "code",
   "execution_count": 69,
   "metadata": {
    "deletable": false,
    "nbgrader": {
     "cell_type": "code",
     "checksum": "af2ed4034def4866ec429ad48ea5cd33",
     "grade": false,
     "grade_id": "quiz5-answer",
     "locked": false,
     "schema_version": 3,
     "solution": true,
     "task": false
    }
   },
   "outputs": [],
   "source": [
    "cmd = 'echo hello world'\n",
    "# Set cmd to get the filesize in human readable format for test.fq\n",
    "# YOUR CODE HERE\n",
    "cmd = 'ls -lah /datasets/cs185-sp21-A00-public/week2/quizreview/test.fq' #directory given is wrong\n",
    "#raise NotImplementedError()"
   ]
  },
  {
   "cell_type": "code",
   "execution_count": 70,
   "metadata": {
    "deletable": false,
    "editable": false,
    "nbgrader": {
     "cell_type": "code",
     "checksum": "654181bcda46cd32c58313ee98d3c41b",
     "grade": true,
     "grade_id": "quiz5-test",
     "locked": true,
     "points": 1,
     "schema_version": 3,
     "solution": false,
     "task": false
    }
   },
   "outputs": [],
   "source": [
    "\"\"\"Check that the command gives the file size\"\"\"\n",
    "from subprocess import Popen, PIPE\n",
    "p = Popen(cmd, shell=True, stdout=PIPE, stderr=PIPE)\n",
    "out, err = p.communicate()\n",
    "assert(p.returncode == 0)"
   ]
  },
  {
   "cell_type": "markdown",
   "metadata": {
    "deletable": false,
    "editable": false,
    "nbgrader": {
     "cell_type": "markdown",
     "checksum": "62f7e80a398e75354e4ef365121a7578",
     "grade": false,
     "grade_id": "cell-145e3c9a614f8df9",
     "locked": true,
     "schema_version": 3,
     "solution": false,
     "task": false
    }
   },
   "source": [
    "**Question 6 (1 pt)**: Write a one line UNIX command that outputs the part of `test.fq` corresponding to reads 5-10. Remember each read encompasses 4 lines of data. Your solution should involve \"piping\" two commands together. e.g. `command1 | command2...`. Set the variable `cmd` to your command below."
   ]
  },
  {
   "cell_type": "code",
   "execution_count": 77,
   "metadata": {
    "deletable": false,
    "nbgrader": {
     "cell_type": "code",
     "checksum": "e094cad0bf6b986a1f6ef4f922afa85b",
     "grade": false,
     "grade_id": "quiz6-answer",
     "locked": false,
     "schema_version": 3,
     "solution": true,
     "task": false
    }
   },
   "outputs": [],
   "source": [
    "# YOUR CODE HERE\n",
    "#want lines 21-40\n",
    "cmd = 'cat /datasets/cs185-sp21-A00-public/week2/quizreview/test.fq | head -n 40 | tail -n 24'\n",
    "#raise NotImplementedError()"
   ]
  },
  {
   "cell_type": "code",
   "execution_count": 78,
   "metadata": {
    "deletable": false,
    "editable": false,
    "nbgrader": {
     "cell_type": "code",
     "checksum": "047f6ed131aafe39bb4cc4b773311410",
     "grade": true,
     "grade_id": "quiz6-test",
     "locked": true,
     "points": 1,
     "schema_version": 3,
     "solution": false,
     "task": false
    }
   },
   "outputs": [],
   "source": [
    "\"\"\"Check that the command gives the correct lines\"\"\"\n",
    "from subprocess import Popen, PIPE\n",
    "p = Popen(cmd, shell=True, stdout=PIPE, stderr=PIPE)\n",
    "out, err = p.communicate()\n",
    "assert(p.returncode == 0)\n",
    "assert(len(str(out).strip().split(\"\\\\n\")[:-1])==24) # Note there is an extra \"'\" at the end. better way to write this test?"
   ]
  },
  {
   "cell_type": "markdown",
   "metadata": {
    "deletable": false,
    "editable": false,
    "nbgrader": {
     "cell_type": "markdown",
     "checksum": "db47edbcaf4031d6b10e435b742a3aff",
     "grade": false,
     "grade_id": "cell-0712759d6cb72f9d",
     "locked": true,
     "schema_version": 3,
     "solution": false,
     "task": false
    }
   },
   "source": [
    "**Question 7 (1 pt)**: Write a UNIX command to print out the first five occurrences of the string \">chr\" in the file `/datasets/cs185-sp21-A00-public/genomes/hg19.fa`. Set the variable `cmd` to your command below."
   ]
  },
  {
   "cell_type": "code",
   "execution_count": 81,
   "metadata": {
    "deletable": false,
    "nbgrader": {
     "cell_type": "code",
     "checksum": "d155a3e23c28c3d5ad0d890d94600740",
     "grade": false,
     "grade_id": "quiz7-answer",
     "locked": false,
     "schema_version": 3,
     "solution": true,
     "task": false
    }
   },
   "outputs": [],
   "source": [
    "cmd = 'cat /datasets/cs185-sp21-A00-public/genomes/hg19.fa | grep \">chr\" | head -n 5'\n",
    "# Set cmd to print out the first five occurrences of the string \">chr\" \n",
    "# in the file `/datasets/cs185-sp21-A00-public/gehomes/hg19.fa`\n",
    "# YOUR CODE HERE\n",
    "#raise NotImplementedError()"
   ]
  },
  {
   "cell_type": "code",
   "execution_count": 82,
   "metadata": {
    "deletable": false,
    "editable": false,
    "nbgrader": {
     "cell_type": "code",
     "checksum": "8dea1c1f1846da9a1367d6dcdc7161a6",
     "grade": true,
     "grade_id": "quiz7-test",
     "locked": true,
     "points": 1,
     "schema_version": 3,
     "solution": false,
     "task": false
    }
   },
   "outputs": [],
   "source": [
    "\"\"\"Check that the command gives the correct output\"\"\"\n",
    "from subprocess import Popen, PIPE\n",
    "p = Popen(cmd, shell=True, stdout=PIPE, stderr=PIPE)\n",
    "out, err = p.communicate()\n",
    "assert(p.returncode == 0)\n",
    "assert(len(str(out).split(\"\\\\n\")[:-1])==5)\n",
    "assert(\">chr1\" in str(out))\n",
    "assert(\">chr2\" in str(out))\n",
    "assert(\">chr3\" in str(out))\n",
    "assert(\">chr4\" in str(out))\n",
    "assert(\">chr5\" in str(out))"
   ]
  },
  {
   "cell_type": "markdown",
   "metadata": {
    "deletable": false,
    "editable": false,
    "nbgrader": {
     "cell_type": "markdown",
     "checksum": "106f15c42037a127255acd4149d1248b",
     "grade": false,
     "grade_id": "cell-6ee136ffe3546e91",
     "locked": true,
     "schema_version": 3,
     "solution": false,
     "task": false
    }
   },
   "source": [
    "The quiz will also contain some short answer questions. We will post example quizzes with questions from previous years."
   ]
  }
 ],
 "metadata": {
  "kernelspec": {
   "display_name": "Python 3",
   "language": "python",
   "name": "python3"
  },
  "language_info": {
   "codemirror_mode": {
    "name": "ipython",
    "version": 3
   },
   "file_extension": ".py",
   "mimetype": "text/x-python",
   "name": "python",
   "nbconvert_exporter": "python",
   "pygments_lexer": "ipython3",
   "version": "3.6.7"
  }
 },
 "nbformat": 4,
 "nbformat_minor": 2
}
