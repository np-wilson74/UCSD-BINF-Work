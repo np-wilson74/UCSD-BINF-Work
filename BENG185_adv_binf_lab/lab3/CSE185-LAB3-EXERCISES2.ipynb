{
 "cells": [
  {
   "cell_type": "markdown",
   "metadata": {
    "deletable": false,
    "editable": false,
    "nbgrader": {
     "cell_type": "markdown",
     "checksum": "243bcf0c35990a5b90c9c4a1fecdd0de",
     "grade": false,
     "grade_id": "cell-4440a428bb95a4d8",
     "locked": true,
     "schema_version": 3,
     "solution": false
    }
   },
   "source": [
    "# Week 3 Lab: Population genetics\n",
    "\n",
    "## Exercises 2 (10 pts)\n",
    "\n",
    "Genome-wide association studies typically consist of performing a regression test for each variant to test it for association with a phenotype. \n",
    "\n",
    "For instance, we would like to test if a particular SNP (with alleles \"A\" and \"T\" in the population) is associated with height. We would look at a bunch of people (current GWASs for height are up to 1 million people!), and record the SNP genotype (AA=0, AT=1, or TT=2) and height for each person. Then, we'll just do a linear regression to test if there is a linear relationship between $X$ and $Y$.\n",
    "\n",
    "Understanding GWAS output requires some basic intuition about linear regression, p-values, and effect sizes. For this prelab, we'll explore these concepts and a useful tool, QQ-plots, for visualizing p-value distributions.\n",
    "\n",
    "These exercises consist mostly of reading. Please take some time to play around with the parameters of the different plots to get a feel for what happens when you change things like sample sizes or effect sizes. Have a good intuition for p-values will be helpful in almost every aspect of bioinformatics!"
   ]
  },
  {
   "cell_type": "markdown",
   "metadata": {
    "deletable": false,
    "editable": false,
    "nbgrader": {
     "cell_type": "markdown",
     "checksum": "2b122c4dd48581f831ad937050d3a90c",
     "grade": false,
     "grade_id": "cell-b7be4ab82caabba1",
     "locked": true,
     "schema_version": 3,
     "solution": false
    }
   },
   "source": [
    "## 1. Framework for simulating and performing association tests\n",
    "\n",
    "First, let's build some functions that will allow us to simulate associations between SNPs and a theoretical quantiative phenotype. We will use the following functions below:\n",
    "\n",
    "* `SimulateGenotypes(maf, N)` simulates an array of randomly generated genotypes for $N$ people using specified minor allele frequency $maf$.\n",
    "* `SimulatePhenotypes(gts, Beta)` simulates phenotypes based on a set of input genotypes and an effect size $\\beta$ using the simple linear model:\n",
    "\n",
    "$$y_i = \\beta x_i + \\epsilon_i$$\n",
    "\n",
    "where:\n",
    "* $y_i$ is the phenotype of person $i$\n",
    "* $x_i$ is the genotype (0, 1, or 2) of person $i$ for the SNP of interest\n",
    "* $\\beta$ is the effect size, which gives a measure of how strongly the SNP is associated with the trait. We will require this to be between -1 and 1.\n",
    "* $\\epsilon_i$ is a noise term. You can think of it is the part of the trait explained by non-genetic factors, such as environment or measurement error.\n",
    "\n",
    "Run the cell below. You can play around with changing $N$, $\\beta$, or $maf$ to see how the association plot changes."
   ]
  },
  {
   "cell_type": "code",
   "execution_count": 1,
   "metadata": {
    "deletable": false,
    "editable": false,
    "nbgrader": {
     "cell_type": "code",
     "checksum": "4211cf26063a252bbba84ef84c5959da",
     "grade": false,
     "grade_id": "cell-4710675b829de42a",
     "locked": true,
     "schema_version": 3,
     "solution": false
    }
   },
   "outputs": [
    {
     "name": "stdout",
     "output_type": "stream",
     "text": [
      "Populating the interactive namespace from numpy and matplotlib\n"
     ]
    },
    {
     "data": {
      "image/png": "[encoded data removed]",
      "text/plain": [
       "<Figure size 576x288 with 2 Axes>"
      ]
     },
     "metadata": {
      "needs_background": "light"
     },
     "output_type": "display_data"
    }
   ],
   "source": [
    "%pylab inline\n",
    "import numpy as np\n",
    "import seaborn as sns\n",
    "\n",
    "# Simulate genotypes for N samples with minor allele frequency maf (assuming HWE)\n",
    "def SimulateGenotypes(maf, N):\n",
    "    gts = []\n",
    "    for i in range(N):\n",
    "        gt = sum(random.random() < maf)+sum(random.random() < maf)\n",
    "        gts.append(gt)\n",
    "    # Technical note: scale to have mean 0 var 1\n",
    "    gts = np.array(gts)\n",
    "    gts = (gts-np.mean(gts))/np.sqrt(np.var(gts))\n",
    "    return gts\n",
    "\n",
    "# Simulate phenotypes under a linear model Y=beta*X+error\n",
    "def SimulatePhenotype(gts, Beta):\n",
    "    if Beta<-1 or Beta>1:\n",
    "        print(\"Error: Beta should be between -1 and 1\")\n",
    "        return [None]*len(pts)\n",
    "    pts = Beta*gts + np.random.normal(0, np.sqrt(1-Beta**2), size=len(gts))\n",
    "    return pts\n",
    "\n",
    "# Simulate an example association\n",
    "N = 1000 # sample size (number of people)\n",
    "Beta = 0.5 # Effect size\n",
    "maf = 0.2 # Minor allele frequency\n",
    "gts = SimulateGenotypes(maf, N)\n",
    "pts = SimulatePhenotype(gts, Beta)\n",
    "\n",
    "fig = plt.figure()\n",
    "fig.set_size_inches((8, 4))\n",
    "\n",
    "# Plot the distribution of phenotypes, should be normal-looking\n",
    "ax = fig.add_subplot(121)\n",
    "ax.hist(pts, alpha=0.5)\n",
    "ax.set_xlabel(\"Phenotype\")\n",
    "ax.set_ylabel(\"Frequency\")\n",
    "\n",
    "# Plot the association\n",
    "ax = fig.add_subplot(122)\n",
    "ax = sns.boxplot(x=gts, y=pts, whis=np.inf)\n",
    "ax.set_xlabel(\"Genotype\")\n",
    "ax.set_ylabel(\"Phenotype\");\n",
    "ax.set_xticklabels([\"AA\",\"AT\",\"TT\"])\n",
    "fig.tight_layout()"
   ]
  },
  {
   "cell_type": "markdown",
   "metadata": {
    "deletable": false,
    "editable": false,
    "nbgrader": {
     "cell_type": "markdown",
     "checksum": "f38ac93684ae8ccf9b1c34276660271d",
     "grade": false,
     "grade_id": "cell-7a314f66e4e025f3",
     "locked": true,
     "schema_version": 3,
     "solution": false
    }
   },
   "source": [
    "Now, let's write a simple function to perform a GWAS based on a set of genotypes and phenotypes. Our function will take in a set of genotypes ($X=\\{x_1, x_2, ... x_n\\}$) and phenotypes ($Y=\\{y_1, y_2, ... y_n\\}$) and perform a linear regression between the two. We will output two things:\n",
    "\n",
    "* An effect size ($\\beta$), which is the inferred slope of the regression line. The bigger the absolute value of $\\beta$, the more strongly the SNP is associated with the trait.\n",
    "* A p-value, quantifying how strongly we believe there is really an association. We'll explore the p-value more deeply below."
   ]
  },
  {
   "cell_type": "code",
   "execution_count": 2,
   "metadata": {
    "deletable": false,
    "editable": false,
    "nbgrader": {
     "cell_type": "code",
     "checksum": "3081abaea9a37cff5e5beafde59ddf37",
     "grade": false,
     "grade_id": "cell-e016e5a17cbf8866",
     "locked": true,
     "schema_version": 3,
     "solution": false
    }
   },
   "outputs": [
    {
     "name": "stdout",
     "output_type": "stream",
     "text": [
      "Beta: 0.511053392744427\n",
      "Pval: 2.4333268577480582e-67\n"
     ]
    },
    {
     "data": {
      "image/png": "[encoded data removed]",
      "text/plain": [
       "<Figure size 432x288 with 1 Axes>"
      ]
     },
     "metadata": {
      "needs_background": "light"
     },
     "output_type": "display_data"
    }
   ],
   "source": [
    "import statsmodels.api as sm\n",
    "# Perform a GWAS between the genotypes and phenotypes\n",
    "def Linreg(gts, pts):\n",
    "    X = sm.add_constant(gts)\n",
    "    model = sm.OLS(pts, X)\n",
    "    results = model.fit()\n",
    "    beta = results.params[1]\n",
    "    pval = results.pvalues[1]\n",
    "    return beta, pval\n",
    "\n",
    "N = 1000 # sample size (number of people)\n",
    "maf = 0.2 # Minor allele frequency\n",
    "Beta = 0.5 # Effect size\n",
    "gts = SimulateGenotypes(maf, N)\n",
    "pts = SimulatePhenotype(gts, Beta)\n",
    "gwas_beta, gwas_pval = Linreg(gts, pts)\n",
    "\n",
    "# Plot the association result\n",
    "fig = plt.figure()\n",
    "ax = fig.add_subplot(111)\n",
    "ax = sns.boxplot(x=gts, y=pts, whis=np.inf)\n",
    "ax.plot(gts, gwas_beta*gts, color=\"black\") # GWAS linear regression fit\n",
    "ax.set_xticklabels([\"AA\",\"AT\",\"TT\"])\n",
    "ax.set_xlabel(\"Genotype\")\n",
    "ax.set_ylabel(\"Phenotype\");\n",
    "\n",
    "# Print out GWAS results\n",
    "print(\"Beta: %s\"%gwas_beta)\n",
    "print(\"Pval: %s\"%gwas_pval)"
   ]
  },
  {
   "cell_type": "markdown",
   "metadata": {
    "deletable": false,
    "editable": false,
    "nbgrader": {
     "cell_type": "markdown",
     "checksum": "c7a5e67a657bfa7e9c334ce8aa375ef3",
     "grade": false,
     "grade_id": "cell-d9c48adc9b1e0875",
     "locked": true,
     "schema_version": 3,
     "solution": false
    }
   },
   "source": [
    "## 2. Computing P-values\n",
    "\n",
    "When performing a GWAS, we will get a *p-value* for each SNP that we test.\n",
    "\n",
    "A p-value gives the probability that we would see a result as extreme as we saw even if our data was completely random. We can think of a p-value as a measure of surprise: if there was really no association between the SNP and the trait, what is the probability we'd see a line with this big of a slope?\n",
    "\n",
    "Let's use a little bit more formal definitions:\n",
    "\n",
    "* *Null hypothesis* ($H_0$): You can kind of think of the null hypothesis as \"my data is just random\". For GWAS, our null hypothesis is that there is no association between a SNP and a trait. That is, that $\\beta=0$. This is opposed to the *alternative hypothesis* ($H_1: \\beta  \\neq 0$)\n",
    "\n",
    "* *Test statistic*: The thing we are testing. For GWAS, we are interested in the effect $\\beta$ of our SNP on the trait. Note $\\beta$ can be positive or negative. Close to 0 means no association, close to 1 means having more alternate alleles tends to increase the phenotype value, and the opposite for $\\beta$ close to -1. So let's use  $|\\beta|$ as our test statistic since we're interested in finding extreme values, either positive or negative. \n",
    "\n",
    "* *Null distribution*: the distribution of the test statistic under the null hypothesis. You can think of a distribution just like a big list of numbers. For GWAS: the distribution of the $\\beta$ we measure given that there is actually no association.\n",
    "\n",
    "* *p-value*: The probability of observing a test statistic ($\\beta$) as extreme as we did under the null hypothesis. For GWAS: what is the probability that even if there is no association (real $\\beta=0$) I would measure $\\beta$ to be as large as I did? \n",
    "\n",
    "While we could use math (think t-tests) to find p-values, we'll instead use some simple simulations to get some intuition instead."
   ]
  },
  {
   "cell_type": "markdown",
   "metadata": {
    "deletable": false,
    "editable": false,
    "nbgrader": {
     "cell_type": "markdown",
     "checksum": "72a2608b0a4d214517682638065943bd",
     "grade": false,
     "grade_id": "cell-7f52906dfb3aeff4",
     "locked": true,
     "schema_version": 3,
     "solution": false
    }
   },
   "source": [
    "First, let's generate an example *null distribution* for our GWAS example. Note, if you change the sample size ($N$) or MAF, this distribution could change! So leave those be for now.\n",
    "\n",
    "The code below generates 10,000 \"null\" samples of betas. That is, the $\\beta$ values we would infer using linear regression even if the real value is $\\beta=0$."
   ]
  },
  {
   "cell_type": "code",
   "execution_count": 3,
   "metadata": {
    "deletable": false,
    "editable": false,
    "nbgrader": {
     "cell_type": "code",
     "checksum": "653bba3ad0b2d214223c2724031f647f",
     "grade": false,
     "grade_id": "cell-bdbcc5bf6b835777",
     "locked": true,
     "schema_version": 3,
     "solution": false
    }
   },
   "outputs": [
    {
     "data": {
      "image/png": "[encoded data removed]",
      "text/plain": [
       "<Figure size 432x288 with 1 Axes>"
      ]
     },
     "metadata": {
      "needs_background": "light"
     },
     "output_type": "display_data"
    }
   ],
   "source": [
    "N = 1000 # sample size (number of people)\n",
    "maf = 0.2 # Minor allele frequency\n",
    "num_tests = 10000 # Use this many tests to find the null distribution\n",
    "gts = SimulateGenotypes(maf, N)\n",
    "beta_null_dist = []\n",
    "\n",
    "real_beta = 0 # null distribution!\n",
    "for i in range(num_tests):    \n",
    "    pts = SimulatePhenotype(gts, real_beta)\n",
    "    gwas_beta, gwas_p = Linreg(gts, pts)\n",
    "    beta_null_dist.append(abs(gwas_beta))\n",
    "\n",
    "fig = plt.figure()\n",
    "ax = fig.add_subplot(111)\n",
    "ax.hist(beta_null_dist, alpha=0.5, bins=50)\n",
    "ax.set_xlabel(\"|beta|\")\n",
    "ax.set_ylabel(\"Frequency\");"
   ]
  },
  {
   "cell_type": "markdown",
   "metadata": {
    "deletable": false,
    "editable": false,
    "nbgrader": {
     "cell_type": "markdown",
     "checksum": "c556e222fbfe97ad50e2fa8ac724eb4e",
     "grade": false,
     "grade_id": "cell-ba7b24dbaa50f9d7",
     "locked": true,
     "schema_version": 3,
     "solution": false
    }
   },
   "source": [
    "**Note, even though we simulated $\\beta=0$, we still measured $\\beta>0$ a lot of the time! So in our real data, even if $\\beta>0$, we might not be that surprised, since we know we can get that result just by chance.**\n",
    "\n",
    "We can use this list of beta values, `beta_null_dist`, as our null distribution. Now, let's use this null distribution to compute a p-value for an actual association. \n",
    "\n",
    "**Question 1 (6 pts)**: Complete the function `ComputePval` below to compute a p-value based on the null distribution we generated above. The p-value should give the percent of results in the null distribution that are greater than the observed value.\n",
    "\n",
    "*Hint*: Your answer should be pretty close to `obs_pval` output by the Python linear regression code\n",
    "\n",
    "*Hint*: Use the visualization to make sure your answer makes sense. We are looking for what percent of the null distribution falls to the right of the vertical line."
   ]
  },
  {
   "cell_type": "code",
   "execution_count": 6,
   "metadata": {
    "deletable": false,
    "nbgrader": {
     "cell_type": "code",
     "checksum": "86e294354a7b183f169236981405a327",
     "grade": false,
     "grade_id": "cell-a9367a0c8585f995",
     "locked": false,
     "schema_version": 3,
     "solution": true
    }
   },
   "outputs": [
    {
     "name": "stdout",
     "output_type": "stream",
     "text": [
      "Linear regression p-value: 0.0021392492323775146\n",
      "P-value from comparison to null distribution: 0.0036\n"
     ]
    },
    {
     "data": {
      "image/png": "[encoded data removed]",
      "text/plain": [
       "<Figure size 432x288 with 1 Axes>"
      ]
     },
     "metadata": {
      "needs_background": "light"
     },
     "output_type": "display_data"
    }
   ],
   "source": [
    "# Simulate data with a real beta > 0\n",
    "N = 1000 # sample size (number of people). must be same as was used for generating the null!\n",
    "maf = 0.2 # Minor allele frequency\n",
    "real_beta = 0.1\n",
    "\n",
    "# Function to compute p-value\n",
    "# what percent of results in the null distribution are larger than obs_beta?\n",
    "def ComputePval(null_dist, obs_value):\n",
    "    greater = []\n",
    "    for term in null_dist:\n",
    "        if term > obs_value:\n",
    "            greater.append(term)\n",
    "    pval = len(greater)/len(null_dist)\n",
    "    #raise NotImplementedError()\n",
    "    return pval\n",
    "\n",
    "gts = SimulateGenotypes(maf, N)\n",
    "pts = SimulatePhenotype(gts, real_beta)\n",
    "\n",
    "# Perform association test\n",
    "obs_beta, obs_pval = Linreg(gts, pts)\n",
    "\n",
    "# Compute pvalue basedon comparison to the null\n",
    "pval = ComputePval(beta_null_dist, abs(obs_beta))\n",
    "\n",
    "# Visualize how our obs_beta compares to the null\n",
    "fig = plt.figure()\n",
    "ax = fig.add_subplot(111)\n",
    "ax.hist(beta_null_dist, alpha=0.5, bins=50)\n",
    "ax.set_xlabel(\"|beta|\")\n",
    "ax.set_ylabel(\"Frequency\");\n",
    "ax.axvline(obs_beta, color=\"red\")\n",
    "\n",
    "print(\"Linear regression p-value: %s\"%obs_pval)\n",
    "print(\"P-value from comparison to null distribution: %s\"%pval)"
   ]
  },
  {
   "cell_type": "code",
   "execution_count": 7,
   "metadata": {
    "deletable": false,
    "editable": false,
    "nbgrader": {
     "cell_type": "code",
     "checksum": "fcd23b19c194ab5c5f63f117b418aca9",
     "grade": true,
     "grade_id": "cell-a240d4c089c89e06",
     "locked": true,
     "points": 6,
     "schema_version": 3,
     "solution": false
    }
   },
   "outputs": [],
   "source": [
    "\"\"\"Test p-value function\"\"\"\n",
    "# Note there are NO hidden tests in this cell\n",
    "gts = SimulateGenotypes(maf, N)\n",
    "for i in range(3): # test random simulations\n",
    "    pts = SimulatePhenotype(gts, real_beta)\n",
    "    obs_beta, obs_pval = Linreg(gts, pts)\n",
    "    pval = ComputePval(beta_null_dist, abs(obs_beta))\n",
    "    assert(abs(obs_pval-pval)<0.1)"
   ]
  },
  {
   "cell_type": "markdown",
   "metadata": {},
   "source": [
    "How do you think your p-value above will be affected by increasing or decreasing the number of samples we are analyzing ($N$)? If you have very few samples, will you be able to get significant p-values? What if you have 1 million samples? Play around with the code above."
   ]
  },
  {
   "cell_type": "markdown",
   "metadata": {
    "deletable": false,
    "editable": false,
    "nbgrader": {
     "cell_type": "markdown",
     "checksum": "2b470d78354543024f13da2d8d89f25b",
     "grade": false,
     "grade_id": "cell-670b39b31aa9a79f",
     "locked": true,
     "schema_version": 3,
     "solution": false
    }
   },
   "source": [
    "## 3. Visualizing p-values\n",
    "\n",
    "In GWAS, we perform literally millions of different regression tests. By looking at the distribution of p-values across all of those tests, we can learn some basic diagnostic information about our GWAS to see if it is giving us reliable results.\n",
    "\n",
    "First, let's explore how p-values should be behaving under the *null hypothesis* that no SNPs in our data are associated with the trait. The code below performs 1,000 simulations of null data and computes the pvalue for each. It then visualizes the pvalues as a histogram."
   ]
  },
  {
   "cell_type": "code",
   "execution_count": 8,
   "metadata": {
    "deletable": false,
    "editable": false,
    "nbgrader": {
     "cell_type": "code",
     "checksum": "f07fba638534ebf815abd32991d82543",
     "grade": false,
     "grade_id": "cell-6ff800252b495af3",
     "locked": true,
     "schema_version": 3,
     "solution": false
    }
   },
   "outputs": [
    {
     "data": {
      "text/plain": [
       "Text(0, 0.5, 'Frequency')"
      ]
     },
     "execution_count": 8,
     "metadata": {},
     "output_type": "execute_result"
    },
    {
     "data": {
      "image/png": "[encoded data removed]",
      "text/plain": [
       "<Figure size 432x288 with 1 Axes>"
      ]
     },
     "metadata": {
      "needs_background": "light"
     },
     "output_type": "display_data"
    }
   ],
   "source": [
    "N = 1000 # sample size (number of people). must be same as was used for generating the null!\n",
    "maf = 0.2 # Minor allele frequency\n",
    "num_snps = 1000\n",
    "\n",
    "pvals_null = []\n",
    "\n",
    "gts = SimulateGenotypes(maf, N)\n",
    "\n",
    "for i in range(num_snps):\n",
    "    pts = SimulatePhenotype(gts, 0)\n",
    "    obs_beta, obs_pval = Linreg(gts, pts)\n",
    "    p = ComputePval(beta_null_dist, abs(obs_beta))\n",
    "    pvals_null.append(p)\n",
    "\n",
    "fig = plt.figure()\n",
    "ax = fig.add_subplot(111)\n",
    "ax.hist(pvals_null, alpha=0.5, bins=np.arange(0, 1.05, 0.1))\n",
    "ax.set_xlabel(\"P-value\")\n",
    "ax.set_ylabel(\"Frequency\")"
   ]
  },
  {
   "cell_type": "markdown",
   "metadata": {
    "deletable": false,
    "editable": false,
    "nbgrader": {
     "cell_type": "markdown",
     "checksum": "f261befe8644a6f232f1382a5187a9f5",
     "grade": false,
     "grade_id": "cell-2100e3f872cbcb87",
     "locked": true,
     "schema_version": 3,
     "solution": false
    }
   },
   "source": [
    "You should find that if all of our data is null, the p-values should mostly follow a uniform distribution! If there is no association in our data, the p-value is equally likely to be anywhere from 0 to 1. This is the very definition of a p-value."
   ]
  },
  {
   "cell_type": "markdown",
   "metadata": {
    "deletable": false,
    "editable": false,
    "nbgrader": {
     "cell_type": "markdown",
     "checksum": "6c2b8be770545d61a46d900325bd285c",
     "grade": false,
     "grade_id": "cell-8d837da68b2d5ac5",
     "locked": true,
     "schema_version": 3,
     "solution": false
    }
   },
   "source": [
    "**Question 2 (4 pts)**:\n",
    "(1) If we are testing 1,000 SNPs for association with our trait, and none of them are actually associated with the trait (in all cases $\\beta=0$), how many SNPs do we expect to have p-values $\\leq$ 0.05? Set the variable `expected_fp_1` to your answer below.\n",
    "(2) If we are testing 1,000,000 SNPs for association with our trait, and none of them are actually associated with the trait (in all cases $\\beta=0$), how many SNPs do we expect to have p-values $\\leq$ 0.01? Set the variable `expected_fp_2` to your answer below.\n",
    "\n",
    "The autograder test for `expected_fp_2` is hidden."
   ]
  },
  {
   "cell_type": "code",
   "execution_count": 12,
   "metadata": {
    "deletable": false,
    "nbgrader": {
     "cell_type": "code",
     "checksum": "337e28ba97c9ecef0300d038a571add8",
     "grade": false,
     "grade_id": "cell-4d2e748d196e0c78",
     "locked": false,
     "schema_version": 3,
     "solution": true
    }
   },
   "outputs": [],
   "source": [
    "expected_fp_1 = 50 # set this below\n",
    "expected_fp_2 = 10000 # set this below\n",
    "# YOUR CODE HERE\n",
    "#raise NotImplementedError()"
   ]
  },
  {
   "cell_type": "code",
   "execution_count": 13,
   "metadata": {
    "deletable": false,
    "editable": false,
    "nbgrader": {
     "cell_type": "code",
     "checksum": "b62b1fe81ff04533770c21f50ec792d3",
     "grade": true,
     "grade_id": "cell-5e325dffe85059f7",
     "locked": true,
     "points": 4,
     "schema_version": 3,
     "solution": false
    }
   },
   "outputs": [],
   "source": [
    "\"\"\"Check value of expected_fp_1 and expected_fp_2\"\"\"\n",
    "# (test for expected_fp_2 is hidden)\n",
    "assert(expected_fp_1 == 50)"
   ]
  },
  {
   "cell_type": "markdown",
   "metadata": {
    "deletable": false,
    "editable": false,
    "nbgrader": {
     "cell_type": "markdown",
     "checksum": "73992fb0c551669e78b3d755f5179350",
     "grade": false,
     "grade_id": "cell-59c679722e12ab71",
     "locked": true,
     "schema_version": 3,
     "solution": false
    }
   },
   "source": [
    "Now let's see what happens if most of our data is null, but some of it is not (in a real GWAS, the vast majority of SNP are not associated with our trait of interest. But a couple of them probably are.)"
   ]
  },
  {
   "cell_type": "code",
   "execution_count": 14,
   "metadata": {
    "deletable": false,
    "editable": false,
    "nbgrader": {
     "cell_type": "code",
     "checksum": "0694b7c61e6b4918b5a16a92fca2d99b",
     "grade": false,
     "grade_id": "cell-922fc48a480a8e64",
     "locked": true,
     "schema_version": 3,
     "solution": false
    }
   },
   "outputs": [
    {
     "data": {
      "image/png": "[encoded data removed]",
      "text/plain": [
       "<Figure size 432x288 with 1 Axes>"
      ]
     },
     "metadata": {
      "needs_background": "light"
     },
     "output_type": "display_data"
    }
   ],
   "source": [
    "pvals_notnull = []\n",
    "\n",
    "num_snps = 1000\n",
    "frac_assoc = 0.05 # % of SNPs associated with the trait\n",
    "maf = 0.2\n",
    "gts = SimulateGenotypes(maf, N)\n",
    "\n",
    "for i in range(num_snps):\n",
    "    if random.random() < frac_assoc:\n",
    "        beta = 0.3\n",
    "    else: beta = 0\n",
    "    \n",
    "    pts = SimulatePhenotype(gts, beta)\n",
    "    obs_beta, obs_pval = Linreg(gts, pts)\n",
    "    p = ComputePval(beta_null_dist, abs(obs_beta))\n",
    "    pvals_notnull.append(p)\n",
    "\n",
    "fig = plt.figure()\n",
    "ax = fig.add_subplot(111)\n",
    "ax.hist(pvals_notnull, alpha=0.5, bins=np.arange(0, 1.05, 0.1))\n",
    "ax.set_xlabel(\"P-value\")\n",
    "ax.set_ylabel(\"Frequency\");"
   ]
  },
  {
   "cell_type": "markdown",
   "metadata": {
    "deletable": false,
    "editable": false,
    "nbgrader": {
     "cell_type": "markdown",
     "checksum": "aedafeb1367a91e8893e887b4da2faf9",
     "grade": false,
     "grade_id": "cell-df2eb41a5b8e2811",
     "locked": true,
     "schema_version": 3,
     "solution": false
    }
   },
   "source": [
    "What happened to the distribution of p-values when some of our data is not null? You will likely see a big spike in the lowest p-value bin, corresponding to significant p-values. This means there are many more small (significant) p-values than we would have expected compared to if our data was completely random."
   ]
  },
  {
   "cell_type": "markdown",
   "metadata": {
    "deletable": false,
    "editable": false,
    "nbgrader": {
     "cell_type": "markdown",
     "checksum": "36c83562e8e91e325e5fcd4a24b0053a",
     "grade": false,
     "grade_id": "cell-220f7655381e5857",
     "locked": true,
     "schema_version": 3,
     "solution": false
    }
   },
   "source": [
    "## 4. QQ plots\n",
    "\n",
    "Above we visualized p-value distributions using histograms. Another really useful tool for visualizing p-values is a QQ plot. QQ plots are generally used to compare distributions to each other. In our case, we'll use them to visualize how a distribution of p-values we get from our GWAS compares to what we'd expect under the null hypothesis that no SNPs are associated with the disease.\n",
    "\n",
    "Consider two distributions (lists) of data, with equal length. We'd like to know if these two distributions are the same (i.e. they have the same min, median, max value, but also all the other percentiles match too). To compare them, we will:\n",
    "\n",
    "* Step 1: Sort each list separately\n",
    "* Step 2: Make a scatter plot of one vs. the other.\n",
    "\n",
    "If the two lists come from the same distribution, the scatter plot should follow the diagonal (x=y) line pretty well. \n",
    "\n",
    "Let's try generating a QQ plot to compare our list of pvalues from a bunch of null associations (`pvals_null` above) to the uniform distribution. \n",
    "\n",
    "**One important note is that for making QQ plots for p-values, we will work with `-log10(p)` since we care most about what's going on with really small p-values.** So in the QQ plots below, bigger number = smaller = more significant p-value."
   ]
  },
  {
   "cell_type": "code",
   "execution_count": 15,
   "metadata": {
    "deletable": false,
    "editable": false,
    "nbgrader": {
     "cell_type": "code",
     "checksum": "4d4c019dd90f0d8ec854ec7e5b9140ff",
     "grade": false,
     "grade_id": "cell-3daceb6a552e5a74",
     "locked": true,
     "schema_version": 3,
     "solution": false
    }
   },
   "outputs": [
    {
     "data": {
      "image/png": "[encoded data removed]",
      "text/plain": [
       "<Figure size 432x288 with 1 Axes>"
      ]
     },
     "metadata": {
      "needs_background": "light"
     },
     "output_type": "display_data"
    }
   ],
   "source": [
    "def QQPlot(pvals):\n",
    "    # Sort the observed p-values\n",
    "    pvals.sort()\n",
    "    # Generate some random data from uniform distribution\n",
    "    unif = list(np.random.uniform(0, 1, size=len(pvals)))\n",
    "    unif.sort()\n",
    "\n",
    "    # Make a QQ plot\n",
    "    fig = plt.figure()\n",
    "    ax = fig.add_subplot(111)\n",
    "    ax.scatter(-1*np.log10(unif), -1*np.log10(pvals), s=5, color=\"black\")\n",
    "    ax.plot([0, 3], [0,3])\n",
    "    ax.set_xlim(left=0, right=3)\n",
    "    ax.set_ylim(bottom=0, top=max(-1*np.log10([item for item in pvals if item >0])))\n",
    "    ax.set_xlabel(\"Expected -log10(P)\")\n",
    "    ax.set_ylabel(\"Observed -log10(P)\")\n",
    "    \n",
    "QQPlot(pvals_null)"
   ]
  },
  {
   "cell_type": "markdown",
   "metadata": {
    "deletable": false,
    "editable": false,
    "nbgrader": {
     "cell_type": "markdown",
     "checksum": "283035633a6890f555cc112e5a7d9104",
     "grade": false,
     "grade_id": "cell-04bac4005033a100",
     "locked": true,
     "schema_version": 3,
     "solution": false
    }
   },
   "source": [
    "You should find that the null p-values follow the diagonal pretty well, meaning they look pretty uniformly distributed as expected!\n",
    "\n",
    "Now let's make a QQ plot using the p-values from `pvals_notnull` when some of our associations had non-zero $\\beta$. "
   ]
  },
  {
   "cell_type": "code",
   "execution_count": 16,
   "metadata": {
    "deletable": false,
    "editable": false,
    "nbgrader": {
     "cell_type": "code",
     "checksum": "18e062bda26de98a5e7ca1c6e8364337",
     "grade": false,
     "grade_id": "cell-b1f28807fa46231e",
     "locked": true,
     "schema_version": 3,
     "solution": false
    }
   },
   "outputs": [
    {
     "name": "stderr",
     "output_type": "stream",
     "text": [
      "/opt/conda/lib/python3.6/site-packages/ipykernel_launcher.py:11: RuntimeWarning: divide by zero encountered in log10\n",
      "  # This is added back by InteractiveShellApp.init_path()\n"
     ]
    },
    {
     "data": {
      "image/png": "[encoded data removed]",
      "text/plain": [
       "<Figure size 432x288 with 1 Axes>"
      ]
     },
     "metadata": {
      "needs_background": "light"
     },
     "output_type": "display_data"
    }
   ],
   "source": [
    "QQPlot(pvals_notnull)"
   ]
  },
  {
   "cell_type": "markdown",
   "metadata": {
    "deletable": false,
    "editable": false,
    "nbgrader": {
     "cell_type": "markdown",
     "checksum": "e7b6cd5cf5c82e95519f392ad3bbf7ba",
     "grade": false,
     "grade_id": "cell-3903297a228c5d41",
     "locked": true,
     "schema_version": 3,
     "solution": false
    }
   },
   "source": [
    "You should see many more points well above the diagonal, corresponding to a strong departure from the expectation under the null distribution! (i.e. there is a signal!)"
   ]
  },
  {
   "cell_type": "markdown",
   "metadata": {},
   "source": [
    "## 4. Confounding factors\n",
    "\n",
    "For most traits we would look at with GWAS, the vast majority of the SNPs in the genome should have no association with the trait. Thus, we'd expect the QQ plot to follow the diagonal line for most of the data, and see a few significant associations at the far right of the plot.\n",
    "\n",
    "In some cases, our trait could be affected by things other genetic factors, and if we don't control our association tests for this it could end up making the p-values from our GWAS unreliable.\n",
    "\n",
    "For example, say we are performing a GWAS for eye color, and our dataset consists of 50% people with European ancestry and 50% people with East Asian ancestry. Since blue eyes are much more prevalent in European populations, our GWAS will likely pick up a ton of genetic differences that just happen to be different between the population groups, and have nothing to do with eye color. If we don't control for ancestry, we'll end up with a ton of false positive associations in our GWAS.\n",
    "\n",
    "The code below simulates the effect of a confounding factor such as ancestry and displays the resulting QQ plot."
   ]
  },
  {
   "cell_type": "code",
   "execution_count": 17,
   "metadata": {},
   "outputs": [
    {
     "data": {
      "image/png": "[encoded data removed]",
      "text/plain": [
       "<Figure size 432x288 with 1 Axes>"
      ]
     },
     "metadata": {
      "needs_background": "light"
     },
     "output_type": "display_data"
    }
   ],
   "source": [
    "N = 1000 # sample size (number of people)\n",
    "Beta = 0.0 # Effect size. no real associations\n",
    "popBeta = 0.1 # Confounding effect\n",
    "maf = 0.2 # Minor allele frequency\n",
    "\n",
    "def SimulatePopLabels(gts):\n",
    "    poplabels = []\n",
    "    for item in gts:\n",
    "        if random.random() < item * 0.5: poplabels.append(0)\n",
    "        else: poplabels.append(1)\n",
    "    return np.array(poplabels)\n",
    "        \n",
    "def SimulatePhenotypeConfounding(gts, Beta, poplabels, popBeta):\n",
    "    if Beta<-1 or Beta>1:\n",
    "        print(\"Error: Beta should be between -1 and 1\")\n",
    "        return [None]*len(pts)\n",
    "    pts = Beta*gts + popBeta*poplabels + np.random.normal(0, np.sqrt(1-Beta**2-popBeta**2), size=len(gts))\n",
    "    return pts\n",
    "\n",
    "num_snps = 1000\n",
    "pvals_conf = []\n",
    "gts = SimulateGenotypes(maf, N)\n",
    "for i in range(num_snps):\n",
    "    poplabels = SimulatePopLabels(gts)\n",
    "    pts = SimulatePhenotypeConfounding(gts, Beta, poplabels, popBeta)\n",
    "    obs_beta, obs_pval = Linreg(gts, pts)\n",
    "    pvals_conf.append(obs_pval)\n",
    "QQPlot(pvals_conf)"
   ]
  },
  {
   "cell_type": "markdown",
   "metadata": {
    "deletable": false,
    "editable": false,
    "nbgrader": {
     "cell_type": "markdown",
     "checksum": "9259d5f56d9e7e2bc87ded262566017b",
     "grade": false,
     "grade_id": "cell-5bb799806c33f42e",
     "locked": true,
     "schema_version": 3,
     "solution": false
    }
   },
   "source": [
    "You should see a huge inflation in the p-values! There are way too many significant values. The p-values in this case are probably not very reliable.\n",
    "\n",
    "When performing GWAS on real data, we'll have to control for the potential confounding effects of ancestry. We'll do this in tomorrow's lab by including ancestry as a covariate in our regression analysis.\n",
    "\n",
    "You are encouraged to play around with the code in this notebook by playing with parameters like $N$, $maf$, and $\\beta$ to see how that changes your p-value distributions."
   ]
  },
  {
   "cell_type": "markdown",
   "metadata": {
    "deletable": false,
    "editable": false,
    "nbgrader": {
     "cell_type": "markdown",
     "checksum": "b74cd5a3bdb0622c436282f4da58adc4",
     "grade": false,
     "grade_id": "cell-bc654288363db944",
     "locked": true,
     "schema_version": 3,
     "solution": false
    }
   },
   "source": [
    "## Summary\n",
    "\n",
    "In summary, QQ plots can be a really useful diagnostic tool. If we perform a GWAS, and make a QQ plot from the pvalues, we might see a couple different scenarios:\n",
    "\n",
    "* The data mostly follows the null, but there are a handful of p-values that are way above the diagonal: good! As expected most SNPs are not associated, but a handful of associations look like they could be real. Generally, this is a sign that the GWAS worked and the p-values are reliable.\n",
    "\n",
    "* The data follows the diagonal (null): this could mean: (1) there really is no association between any SNPs in your data and the trait of interest (2) there may be associations but your data didn't have enough power to pick it up, perhaps because you don't have enough samples or (3) something else went wrong...\n",
    "\n",
    "* Almost all of the points are way above the diagonal. This could mean (1) there is some confounding factor like ancestry you're not controlling for OR (2) there really are thousands of SNPs associated with the trait.\n",
    "\n",
    "* The lines are way below the diagonal. This can happen but we probably won't run into it. It could mean you didn't have enough power so all of your p-values are way higher than expected even under the null."
   ]
  },
  {
   "cell_type": "code",
   "execution_count": null,
   "metadata": {},
   "outputs": [],
   "source": []
  }
 ],
 "metadata": {
  "kernelspec": {
   "display_name": "Python 3",
   "language": "python",
   "name": "python3"
  },
  "language_info": {
   "codemirror_mode": {
    "name": "ipython",
    "version": 3
   },
   "file_extension": ".py",
   "mimetype": "text/x-python",
   "name": "python",
   "nbconvert_exporter": "python",
   "pygments_lexer": "ipython3",
   "version": "3.6.7"
  }
 },
 "nbformat": 4,
 "nbformat_minor": 2
}
