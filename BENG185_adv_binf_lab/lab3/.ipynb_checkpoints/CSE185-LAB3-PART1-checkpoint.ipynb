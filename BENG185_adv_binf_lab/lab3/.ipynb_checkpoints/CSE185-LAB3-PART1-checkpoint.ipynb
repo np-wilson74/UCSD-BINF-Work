{
 "cells": [
  {
   "cell_type": "markdown",
   "metadata": {
    "deletable": false,
    "editable": false,
    "nbgrader": {
     "cell_type": "markdown",
     "checksum": "16e8c9af8ff833d2718790955af354af",
     "grade": false,
     "grade_id": "cell-bdf955073a405e33",
     "locked": true,
     "schema_version": 3,
     "solution": false,
     "task": false
    }
   },
   "source": [
    "# Week 3 Lab: Population genetics (How tall should I be?)\n",
    "\n",
    "\n",
    "## Part 1 (40 pts)\n",
    "\n",
    "Skills covered: genotype data, principal components analysis, ancestry analysis\n",
    "\n",
    "Your friend is interested in learning more about her family history, and so sends a saliva sample off to 23andMe for genotyping. You receive a set of SNP genotypes back, and would like to use those to predict the ancestry of your friend.\n",
    "\n",
    "We can get some insights into the ancestry of an unknown genome sample by comparing it to SNP genotypes of a *reference panel* of samples for which we know their ancestry. We can think of this as a clustering problem: if I cluster a genome with genomes from across the globe, what cluster does it fall in?\n",
    "\n",
    "Clustering by SNP genotypes turns into a high-dimensional problem, because we can be dealing with millions of SNPs and thousands or more individuals. Principle components analysis (PCA) is a widely used method for helping make sense out of big multi-dimensional datasets like this one. We'll use PCA to see where our example genome falls relative to a panel of several thousand reference control samples, originally sequenced by the [1000 Genomes Project](http://www.internationalgenome.org/).\n",
    "\n",
    "Today, we'll first gain some intuition about principle component analysis (PCA) and then spend some time getting more familiar with population genetics datasets (mainly VCF files), analysis tools (`bcftools`), and terminology. Then we'll perform ancestry analysis using PCA. In Part 2, we'll use the same dataset to peform a genome-wide association study for height!\n",
    "\n",
    "**<font color=\"red\">Note</a>**: you will not be responsible for knowing any of the math behind PCA, but you should instead try to get an intuition for what PCA is doing. We will also post some extra technical slides with more details for anyone that is interested.\n",
    "\n",
    "**<font color=\"red\">Note</a>**: This notebook may take a couple minutes to validate.\n",
    "\n",
    "**<font color=\"red\">Note</a>**: In parts of this lab we'll be using the Python [pandas](https://pandas.pydata.org/) library, which is very useful for analyzing anything where you have tables of data. \n",
    "\n",
    "**<font color=\"red\">Note</a>**: As mentioned in previous labs, our grading scripts will not have access to your home directories. If you load a file to plot, please first copy it to the same directory as this notebook!\n",
    "\n",
    "**<font color=\"red\">Note</a>**: Finally, please do not copy entire cells (e.g. using Edit -> copy cells). This causes weirdness in the cell metadata, which can result in hard to fix notebook validation errors."
   ]
  },
  {
   "cell_type": "markdown",
   "metadata": {
    "deletable": false,
    "editable": false,
    "nbgrader": {
     "cell_type": "markdown",
     "checksum": "ae4e1d7dfa7c2d2d5e28e802cd892878",
     "grade": false,
     "grade_id": "cell-a53cbfd8596d849b",
     "locked": true,
     "schema_version": 3,
     "solution": false
    }
   },
   "source": [
    "## 1. Intro to PCA\n",
    "\n",
    "PCA is a commonly used method to reduce the \"dimensionality\" of a dataset. This comes up in a wide range of bioinformatics applications:\n",
    "\n",
    "* Preprocessing step to filter out outlier samples\n",
    "* Data exploration\n",
    "* Determining ancestry of an individual (the topic of part 1 of the lab!)\n",
    "* Clustering tumor samples based on expression profiles\n",
    "\n",
    "Below we'll first get some intution into how PCA works, then we'll go through a small example of using PCA for clustering and outlier detection.\n",
    "\n",
    "Biology is full of \"high-dimensional\" data. In our population genetics applications this week, our \"dimensions\" are the genetic variants (SNPs). For most population genetics applications, we may have several million SNP genotypes per sample. In gene expression applications (next week), our \"dimensions\" might be genes.\n",
    "\n",
    "In both cases, the goal of PCA is to find a reduced representation by finding linear combinations of dimensions (in our example, SNPs) that explain the majority of variation in our data.\n",
    "\n",
    "Let's start by walking through a simple example: you do a survey of your classmates to record their height and weight. The cell below generates this dataset for you and puts it into a pandas data frame (this is simulated data, but pretend we collected it!)"
   ]
  },
  {
   "cell_type": "code",
   "execution_count": 25,
   "metadata": {
    "deletable": false,
    "editable": false,
    "nbgrader": {
     "cell_type": "code",
     "checksum": "1822b0d3fc38b6b8cd7a184e407545fb",
     "grade": false,
     "grade_id": "cell-901a87023a831139",
     "locked": true,
     "schema_version": 3,
     "solution": false
    }
   },
   "outputs": [
    {
     "name": "stdout",
     "output_type": "stream",
     "text": [
      "Populating the interactive namespace from numpy and matplotlib\n"
     ]
    },
    {
     "data": {
      "text/html": [
       "<div>\n",
       "<style scoped>\n",
       "    .dataframe tbody tr th:only-of-type {\n",
       "        vertical-align: middle;\n",
       "    }\n",
       "\n",
       "    .dataframe tbody tr th {\n",
       "        vertical-align: top;\n",
       "    }\n",
       "\n",
       "    .dataframe thead th {\n",
       "        text-align: right;\n",
       "    }\n",
       "</style>\n",
       "<table border=\"1\" class=\"dataframe\">\n",
       "  <thead>\n",
       "    <tr style=\"text-align: right;\">\n",
       "      <th></th>\n",
       "      <th>height</th>\n",
       "      <th>weight</th>\n",
       "    </tr>\n",
       "  </thead>\n",
       "  <tbody>\n",
       "    <tr>\n",
       "      <th>0</th>\n",
       "      <td>64.374698</td>\n",
       "      <td>119.829936</td>\n",
       "    </tr>\n",
       "    <tr>\n",
       "      <th>1</th>\n",
       "      <td>65.960695</td>\n",
       "      <td>120.590901</td>\n",
       "    </tr>\n",
       "    <tr>\n",
       "      <th>2</th>\n",
       "      <td>64.401457</td>\n",
       "      <td>119.597407</td>\n",
       "    </tr>\n",
       "    <tr>\n",
       "      <th>3</th>\n",
       "      <td>62.771941</td>\n",
       "      <td>119.467423</td>\n",
       "    </tr>\n",
       "    <tr>\n",
       "      <th>4</th>\n",
       "      <td>64.538570</td>\n",
       "      <td>119.501133</td>\n",
       "    </tr>\n",
       "  </tbody>\n",
       "</table>\n",
       "</div>"
      ],
      "text/plain": [
       "      height      weight\n",
       "0  64.374698  119.829936\n",
       "1  65.960695  120.590901\n",
       "2  64.401457  119.597407\n",
       "3  62.771941  119.467423\n",
       "4  64.538570  119.501133"
      ]
     },
     "execution_count": 25,
     "metadata": {},
     "output_type": "execute_result"
    }
   ],
   "source": [
    "%pylab inline\n",
    "# Simulate some random \"weight\" vs. \"height\" data.\n",
    "import numpy as np\n",
    "import pandas as pd\n",
    "\n",
    "rng = np.random.RandomState(1)\n",
    "X = np.dot(rng.rand(2, 2), rng.randn(2, 200)).T\n",
    "\n",
    "height = X[:,0]+65\n",
    "weight = X[:,1]+120\n",
    "\n",
    "data = pd.DataFrame({\"height\": height, \"weight\": weight})\n",
    "\n",
    "# You can use `data.head()` to see the columns of the data frame.\n",
    "# Recall `data[\"height\"]` and `data[\"weight\"]` will access those two columns:\n",
    "data.head()"
   ]
  },
  {
   "cell_type": "markdown",
   "metadata": {
    "deletable": false,
    "editable": false,
    "nbgrader": {
     "cell_type": "markdown",
     "checksum": "9b414507a88070d7f000cb578961cbca",
     "grade": false,
     "grade_id": "cell-9f8331481c879932",
     "locked": true,
     "schema_version": 3,
     "solution": false
    }
   },
   "source": [
    "Now let's create a scatter plot of this data:"
   ]
  },
  {
   "cell_type": "code",
   "execution_count": 26,
   "metadata": {
    "deletable": false,
    "editable": false,
    "nbgrader": {
     "cell_type": "code",
     "checksum": "5c52871f1d4dad983c0eaa13f239dd89",
     "grade": false,
     "grade_id": "cell-09d0648fb006aeec",
     "locked": true,
     "schema_version": 3,
     "solution": false
    }
   },
   "outputs": [
    {
     "data": {
      "image/png": "[encoded data removed]",
      "text/plain": [
       "<Figure size 432x288 with 1 Axes>"
      ]
     },
     "metadata": {
      "needs_background": "light"
     },
     "output_type": "display_data"
    }
   ],
   "source": [
    "fig = plt.figure()\n",
    "ax = fig.add_subplot(111)\n",
    "ax.scatter(data[\"height\"], data[\"weight\"]);\n",
    "ax.set_xlabel(\"Height\")\n",
    "ax.set_ylabel(\"Weight\");"
   ]
  },
  {
   "cell_type": "markdown",
   "metadata": {
    "deletable": false,
    "editable": false,
    "nbgrader": {
     "cell_type": "markdown",
     "checksum": "89194419584438cdf30c18076081d3cc",
     "grade": false,
     "grade_id": "cell-f2cda216f8979dc2",
     "locked": true,
     "schema_version": 3,
     "solution": false,
     "task": false
    }
   },
   "source": [
    "**Question 1 (1 pt):** \n",
    "\n",
    "**Question 1.a:** If you had to draw one single line explaining most of the variation in your sample, where would you draw it? \n",
    "\n",
    "**Question 1.b:** What about a line that explains the second most amount of variation? \n",
    "\n",
    "Report your answers in the variables `q1_a` and `q1_b` below.\n",
    "Possible Answers: \"Diagonal line with slope 1\", \"Diagonal line with slope -1\", \"Verticle line\", \"Horizontal line\""
   ]
  },
  {
   "cell_type": "code",
   "execution_count": 27,
   "metadata": {
    "deletable": false,
    "nbgrader": {
     "cell_type": "code",
     "checksum": "6fff8d5decf62b343bc21a376848fe83",
     "grade": false,
     "grade_id": "cell-f19cc191ede8e360",
     "locked": false,
     "schema_version": 3,
     "solution": true,
     "task": false
    }
   },
   "outputs": [],
   "source": [
    "#Possible Answers: \"Diagonal line with slope 1\", \"Diagonal line with slope -1\", \"Verticle line\", \"Horizontal line\"\n",
    "q1_a = \"Diagonal line with slope 1\" # Line explaining the most variation\n",
    "q1_b = \"Horizontal line\" # Line explaining the second largest amount of variation\n",
    "\n",
    "# YOUR CODE HERE\n",
    "#raise NotImplementedError()"
   ]
  },
  {
   "cell_type": "code",
   "execution_count": 28,
   "metadata": {
    "deletable": false,
    "editable": false,
    "nbgrader": {
     "cell_type": "code",
     "checksum": "dad372fe1ea4b7c7a387695401eabe76",
     "grade": true,
     "grade_id": "cell-2426d2db5c7a9e8f",
     "locked": true,
     "points": 1,
     "schema_version": 3,
     "solution": false,
     "task": false
    }
   },
   "outputs": [],
   "source": [
    "\"\"\"Basic check on the answer\"\"\"\n",
    "assert(q1_a in [\"Diagonal line with slope 1\", \"Diagonal line with slope -1\", \"Verticle line\", \"Horizontal line\"])\n",
    "assert(q1_b in [\"Diagonal line with slope 1\", \"Diagonal line with slope -1\", \"Verticle line\", \"Horizontal line\"])\n"
   ]
  },
  {
   "cell_type": "markdown",
   "metadata": {
    "deletable": false,
    "editable": false,
    "nbgrader": {
     "cell_type": "markdown",
     "checksum": "be1eb08076862a530f447fd5e12eb9bf",
     "grade": false,
     "grade_id": "cell-afa99cc0b18ca992",
     "locked": true,
     "schema_version": 3,
     "solution": false
    }
   },
   "source": [
    "The lines we considered above, or \"axes\" are exactly what PCA tries to find: linear combinations of features in our data that explain as much variation as possible. Let's actually perform PCA on our data to check our answer."
   ]
  },
  {
   "cell_type": "code",
   "execution_count": 29,
   "metadata": {
    "deletable": false,
    "editable": false,
    "nbgrader": {
     "cell_type": "code",
     "checksum": "bc70138b20a9d3feca24664748ce5f2d",
     "grade": false,
     "grade_id": "cell-5aa08f700837b756",
     "locked": true,
     "schema_version": 3,
     "solution": false,
     "task": false
    }
   },
   "outputs": [
    {
     "name": "stdout",
     "output_type": "stream",
     "text": [
      "PC 1 - magnitude: 0.7625315008826105\n",
      "PC 1: [-0.94446029 -0.32862557]\n",
      "PC 2 - magnitude: 0.01847789551356239\n",
      "PC 2: [-0.32862557  0.94446029]\n"
     ]
    }
   ],
   "source": [
    "import sklearn.decomposition\n",
    "pca = sklearn.decomposition.PCA()\n",
    "pca.fit(data[[\"height\",\"weight\"]])\n",
    "\n",
    "pc_magnitudes = pca.explained_variance_\n",
    "pcs = pca.components_\n",
    "print(\"PC 1 - magnitude: %s\"%pc_magnitudes[0])\n",
    "print(\"PC 1: %s\"%pcs[0])\n",
    "print(\"PC 2 - magnitude: %s\"%pc_magnitudes[1])\n",
    "print(\"PC 2: %s\"%pcs[1])"
   ]
  },
  {
   "cell_type": "markdown",
   "metadata": {
    "deletable": false,
    "editable": false,
    "nbgrader": {
     "cell_type": "markdown",
     "checksum": "aa31631c4eadf1bafbda31137d4d2b9d",
     "grade": false,
     "grade_id": "cell-3e3791d7416238f5",
     "locked": true,
     "schema_version": 3,
     "solution": false,
     "task": false
    }
   },
   "source": [
    "The **principle components** give us the principal *directions* of variation in our data.\n",
    "\n",
    "The **magnitudes** give us a relative indication of how much variation is explained by each direction (eigenvector).\n",
    "\n",
    "We can plot vectors for the principle components (PCs) on our original dataset, and scale them by the their relative magnitudes to see their relative contribution of each PC:"
   ]
  },
  {
   "cell_type": "code",
   "execution_count": 30,
   "metadata": {
    "deletable": false,
    "editable": false,
    "nbgrader": {
     "cell_type": "code",
     "checksum": "90c5b9970d44fd77a6d3186dc856928b",
     "grade": false,
     "grade_id": "cell-d8caa342abcf695d",
     "locked": true,
     "schema_version": 3,
     "solution": false,
     "task": false
    }
   },
   "outputs": [
    {
     "data": {
      "image/png": "[encoded data removed]",
      "text/plain": [
       "<Figure size 432x288 with 1 Axes>"
      ]
     },
     "metadata": {
      "needs_background": "light"
     },
     "output_type": "display_data"
    }
   ],
   "source": [
    "\"\"\"\n",
    "Draw a an arrow from point1 to point2.\n",
    "Takes an input a matplotlib ax object so\n",
    "you can add to an existing plot\n",
    "\"\"\"\n",
    "def DrawArrow(point1, point2, ax=None):\n",
    "    ax = ax or plt.gca()\n",
    "    arrowprops=dict(arrowstyle='->',\n",
    "                    linewidth=2,\n",
    "                    shrinkA=0, shrinkB=0)\n",
    "    ax.annotate('', point2, point1, arrowprops=arrowprops)\n",
    "\n",
    "# Make arrows start at the mean of each dimension\n",
    "mean_vals = [np.mean(data[\"height\"]), np.mean(data[\"weight\"])]\n",
    "point1 = mean_vals\n",
    "\n",
    "# Draw one earrow for pc1, and pc2, corresponding to the direction (eigvector) of each PC\n",
    "# Scale each arrow relatively based on eigenvalues\n",
    "pc1_point2 = mean_vals+pcs[0]*np.sqrt(pc_magnitudes[0])\n",
    "pc2_point2 = mean_vals+pcs[1]*np.sqrt(pc_magnitudes[1])\n",
    "fig = plt.figure()\n",
    "ax = fig.add_subplot(111)\n",
    "ax.scatter(data[\"height\"], data[\"weight\"], alpha=0.5);\n",
    "DrawArrow(point1, pc1_point2, ax=ax)\n",
    "DrawArrow(point1, pc2_point2, ax=ax)\n",
    "ax.set_xlabel(\"Height\")\n",
    "ax.set_ylabel(\"Weight\");"
   ]
  },
  {
   "cell_type": "markdown",
   "metadata": {},
   "source": [
    "**Question 2 (1 pt):** Do both PCs explain about equal amounts of variation in our data, or is one dominant? Put your answer in the variable `q2` below, possible answers are \"First PC\", \"Second PC\", \"Equal\""
   ]
  },
  {
   "cell_type": "code",
   "execution_count": 31,
   "metadata": {
    "deletable": false,
    "nbgrader": {
     "cell_type": "code",
     "checksum": "f7e5ebe70ddb0f940901f50ef6003634",
     "grade": false,
     "grade_id": "cell-1b85fad91bcc2cf1",
     "locked": false,
     "schema_version": 3,
     "solution": true,
     "task": false
    }
   },
   "outputs": [],
   "source": [
    "# Which PC explains the most variation?\n",
    "# Possible Answers: \"First PC\", \"Second PC\", \"Equal\"\n",
    "q2 = \"First PC\"\n",
    "\n",
    "# YOUR CODE HERE\n",
    "#raise NotImplementedError()"
   ]
  },
  {
   "cell_type": "code",
   "execution_count": 32,
   "metadata": {
    "deletable": false,
    "editable": false,
    "nbgrader": {
     "cell_type": "code",
     "checksum": "a17f20d467e9e4dd30468d90a0fb5214",
     "grade": true,
     "grade_id": "cell-8d63c0544f90fcdc",
     "locked": true,
     "points": 1,
     "schema_version": 3,
     "solution": false,
     "task": false
    }
   },
   "outputs": [],
   "source": [
    "\"\"\"Basic check on the answer\"\"\"\n",
    "assert(q2 in [\"First PC\", \"Second PC\", \"Equal\"])\n"
   ]
  },
  {
   "cell_type": "markdown",
   "metadata": {
    "deletable": false,
    "editable": false,
    "nbgrader": {
     "cell_type": "markdown",
     "checksum": "50cf9afc3625856b161f636395b0bb41",
     "grade": false,
     "grade_id": "cell-8344049d0ba40531",
     "locked": true,
     "schema_version": 3,
     "solution": false
    }
   },
   "source": [
    "Now that we have the PCs, we can visualize our data in PC space by \"projecting\" each point onto the top 2 PCs.  \n",
    "\n",
    "Below shows how to do this using the `fit_transform` method of `sklearn`.\n",
    "\n",
    "Note, here we only had 2 dimensions to begin with, so the top two PCs explain all of the variation in our data. So our plot should basically look like a random cloud of data. In future examples with many more dimensions, plotting the highest PCs of our data will help visualize clusters of related samples (see below)."
   ]
  },
  {
   "cell_type": "code",
   "execution_count": 33,
   "metadata": {
    "deletable": false,
    "editable": false,
    "nbgrader": {
     "cell_type": "code",
     "checksum": "b8ca7e1d7fc9f51ca0dac840e02fb745",
     "grade": false,
     "grade_id": "cell-350a0884338fc312",
     "locked": true,
     "schema_version": 3,
     "solution": false
    }
   },
   "outputs": [
    {
     "data": {
      "image/png": "[encoded data removed]",
      "text/plain": [
       "<Figure size 432x288 with 1 Axes>"
      ]
     },
     "metadata": {
      "needs_background": "light"
     },
     "output_type": "display_data"
    }
   ],
   "source": [
    "# Project data onto top PCs:\n",
    "\n",
    "# Using sklearn transform method\n",
    "data_transformed_sklearn = pca.transform(data[[\"height\",\"weight\"]])\n",
    "\n",
    "# Compare\n",
    "fig = plt.figure()\n",
    "ax = fig.add_subplot(111)\n",
    "ax.scatter(data_transformed_sklearn[:,0], data_transformed_sklearn[:,1])\n",
    "ax.set_xlabel(\"PC1\")\n",
    "ax.set_ylabel(\"PC2\");"
   ]
  },
  {
   "cell_type": "markdown",
   "metadata": {
    "deletable": false,
    "editable": false,
    "nbgrader": {
     "cell_type": "markdown",
     "checksum": "a430716a3d233ad6c188aff35509e297",
     "grade": false,
     "grade_id": "cell-e72d18bfed31ee91",
     "locked": true,
     "schema_version": 3,
     "solution": false
    }
   },
   "source": [
    "## 2. Using PCA for clustering and outlier detection (no points)\n",
    "\n",
    "Now we'll use PCA to explore a bigger, multidimensional dataset. PCA can be very helpful as a data exploration tool, and also to help find things that might be wrong in our data. In this example, we'll look at what happens to PCA when you have \"outlier\" samples. You should hopefully see that:\n",
    "\n",
    "* PCA can be a useful tool to *detect* outliers that need to be removed from analysis.\n",
    "* The clusters you identify using PCA can be dramatically affected by outlier samples.\n",
    "\n",
    "This example again is on simulated data to allow us to get a feel for how PCA works before moving on to the actual genetics data. <font color=\"red\">This section is completely for data exploration. There are no points associated with this section.</font>"
   ]
  },
  {
   "cell_type": "markdown",
   "metadata": {
    "deletable": false,
    "editable": false,
    "nbgrader": {
     "cell_type": "markdown",
     "checksum": "7ea9b9dea62e470ecf2229542e169f64",
     "grade": false,
     "grade_id": "cell-aa03cb66380b26f6",
     "locked": true,
     "schema_version": 3,
     "solution": false
    }
   },
   "source": [
    "You are given gene expression data for 100 genes in 500 different samples originating from four cell types. The data is stored in the matrix `features` below, which has 500 rows and 100 columns. You're additionally given the vector `labels` which tells you which cell type (0, 1, 2, or 3) your sample belongs to. The cell below simulates this dataset."
   ]
  },
  {
   "cell_type": "code",
   "execution_count": 34,
   "metadata": {
    "deletable": false,
    "editable": false,
    "nbgrader": {
     "cell_type": "code",
     "checksum": "53715389982ff4daeecabaed8aa6b7f8",
     "grade": false,
     "grade_id": "cell-0396567fc896194b",
     "locked": true,
     "schema_version": 3,
     "solution": false
    }
   },
   "outputs": [
    {
     "name": "stdout",
     "output_type": "stream",
     "text": [
      "(500, 100)\n",
      "(500,)\n"
     ]
    }
   ],
   "source": [
    "## This cell generates simulated data for the exercise. ##\n",
    "\n",
    "from sklearn.datasets import make_blobs\n",
    "# Make features and targets with 500 samples,\n",
    "features, labels = make_blobs(n_samples = 500,\n",
    "                  # two feature variables,\n",
    "                  n_features = 100,\n",
    "                  # four clusters,\n",
    "                  centers = 4,\n",
    "                  # with .65 cluster standard deviation,\n",
    "                  cluster_std = 10,\n",
    "                  # shuffled,\n",
    "                  shuffle = True)\n",
    "\n",
    "# Introduce outlier sample\n",
    "features[75,:] = np.random.uniform(0, 100000, size=100)\n",
    "features[51,:] = np.random.uniform(0, 150, size=100)\n",
    "\n",
    "print(features.shape) # 500 rows, 100 cols of features matrix\n",
    "print(labels.shape) # 500 nrows "
   ]
  },
  {
   "cell_type": "markdown",
   "metadata": {
    "deletable": false,
    "editable": false,
    "nbgrader": {
     "cell_type": "markdown",
     "checksum": "0981764806d1bddb0d023aa86f7152e4",
     "grade": false,
     "grade_id": "cell-e8598ab0c658ad07",
     "locked": true,
     "schema_version": 3,
     "solution": false
    }
   },
   "source": [
    "Now, let's perform PCA on the features matrix and project each sample onto the first two PCs. The cell below performs PCA and makes a scatter plot of PC1 vs. PC2, coloring each data point based on its cell type.\n",
    "\n",
    "(Note, when doing `ax.scatter` you can pass a list of colors to use for each data point, e.g. `ax.scatter(x, y, color=colors)`). This will be helpful when you need to do your own plotting below!"
   ]
  },
  {
   "cell_type": "code",
   "execution_count": 35,
   "metadata": {
    "deletable": false,
    "editable": false,
    "nbgrader": {
     "cell_type": "code",
     "checksum": "077b8ff87fb9ad79eec57545e38a0e8d",
     "grade": false,
     "grade_id": "cell-05a9724787e0f29a",
     "locked": true,
     "schema_version": 3,
     "solution": false
    }
   },
   "outputs": [
    {
     "data": {
      "image/png": "[encoded data removed]",
      "text/plain": [
       "<Figure size 432x288 with 1 Axes>"
      ]
     },
     "metadata": {
      "needs_background": "light"
     },
     "output_type": "display_data"
    }
   ],
   "source": [
    "def GetColor(item):\n",
    "    colors = [\"red\",\"orange\",\"green\",\"blue\"]\n",
    "    return colors[item]\n",
    "\n",
    "pca = sklearn.decomposition.PCA()\n",
    "pca.fit(features)\n",
    "transformed_data = pca.transform(features)\n",
    "fig = plt.figure()\n",
    "ax = fig.add_subplot(111)\n",
    "ax.scatter(transformed_data[:,0], transformed_data[:,1], color=[GetColor(item) for item in labels])\n",
    "ax.set_xlabel(\"PC1\")\n",
    "ax.set_ylabel(\"PC2\");"
   ]
  },
  {
   "cell_type": "markdown",
   "metadata": {
    "deletable": false,
    "editable": false,
    "nbgrader": {
     "cell_type": "markdown",
     "checksum": "a9a876da41e89af3b0a692369c1753c1",
     "grade": false,
     "grade_id": "cell-69b411ce76d2ddd6",
     "locked": true,
     "schema_version": 3,
     "solution": false
    }
   },
   "source": [
    "You'll see that the plot looks kinda of funny! Do you see any samples that may be \"outliers\"? Outlier samples (for instance that have way more extreme data values than most of the other samples) can severely mess up the results of our PCA. We can eyeball cutoffs for what look like outlier samples and get rid of those:"
   ]
  },
  {
   "cell_type": "code",
   "execution_count": 36,
   "metadata": {
    "deletable": false,
    "editable": false,
    "nbgrader": {
     "cell_type": "code",
     "checksum": "a5b01f66d854b9f293e7867c508476f0",
     "grade": false,
     "grade_id": "cell-5778d897e81a9543",
     "locked": true,
     "schema_version": 3,
     "solution": false
    }
   },
   "outputs": [
    {
     "data": {
      "image/png": "[encoded data removed]",
      "text/plain": [
       "<Figure size 432x288 with 1 Axes>"
      ]
     },
     "metadata": {
      "needs_background": "light"
     },
     "output_type": "display_data"
    }
   ],
   "source": [
    "pc1_thresh = 10000\n",
    "pc2_thresh = 90\n",
    "outlier_pc1 = [i for i in range(len(transformed_data)) if transformed_data[:,0][i]>pc1_thresh]\n",
    "outlier_pc2 = [i for i in range(len(transformed_data)) if transformed_data[:,1][i]>pc2_thresh]\n",
    "outliers = set(outlier_pc1+outlier_pc2)\n",
    "keep = [i for i in range(features.shape[0]) if i not in outliers]\n",
    "\n",
    "# Remove outlier indices from features and labels\n",
    "features_rmoutlier = features[keep,:]\n",
    "labels_rmoutlier = labels[keep]\n",
    "\n",
    "# Redo PCA\n",
    "pca = sklearn.decomposition.PCA()\n",
    "pca.fit(features_rmoutlier)\n",
    "transformed_data_rmoutlier = pca.transform(features_rmoutlier)\n",
    "fig = plt.figure()\n",
    "ax = fig.add_subplot(111)\n",
    "ax.scatter(transformed_data_rmoutlier[:,0], transformed_data_rmoutlier[:,1], color=[GetColor(item) for item in labels_rmoutlier])\n",
    "ax.set_xlabel(\"PC1\")\n",
    "ax.set_ylabel(\"PC2\");"
   ]
  },
  {
   "cell_type": "markdown",
   "metadata": {
    "deletable": false,
    "editable": false,
    "nbgrader": {
     "cell_type": "markdown",
     "checksum": "4e5fa5efa20dbf0efeb5b820f78e19d6",
     "grade": false,
     "grade_id": "cell-8f22ec605c0d13bb",
     "locked": true,
     "schema_version": 3,
     "solution": false
    }
   },
   "source": [
    "Hopefully you found that after removing outliers, your PCA analysis could successfully distinguish four clusters of cell types.\n",
    "(Note, the data is randomly generated, so it's possible you'll need to modify the specific thresholds.)"
   ]
  },
  {
   "cell_type": "markdown",
   "metadata": {
    "deletable": false,
    "editable": false,
    "nbgrader": {
     "cell_type": "markdown",
     "checksum": "19fccb09300060c27901cad54421642a",
     "grade": false,
     "grade_id": "cell-e0ccdfe96daa4b7a",
     "locked": true,
     "schema_version": 3,
     "solution": false
    }
   },
   "source": [
    "## 3. VCFs and command line fun\n",
    "\n",
    "Now that you have a feel for what PCA is doing, let's apply it to our human genetics dataset. You have performed SNP genotyping on a cohort of individuals consisting of diverse ancestral backgrounds (including African, European, East Asian, and Native American) to use as a reference panel for ancestry analysis. \n",
    "\n",
    "First, let's take a look at the data files we have collected in the `week3` directory:\n",
    "\n",
    "```shell\n",
    "ls -ltrh /datasets/cs185-sp21-A00-public/week3\n",
    "```\n",
    "\n",
    "You should see:\n",
    "* `gtdata_1000Genomes.vcf.gz` (1.7G): A VCF file with SNP genotypes for our cohort\n",
    "* `gtdata_1000Genomes.vcf.gz.tbi` (308K): The VCF index file\n",
    "* `gtdata_sample_labels.csv`: gives a population label for each of our samples. See  http://www.internationalgenome.org/category/population/ for a description of the codes.\n",
    "\n",
    "We'll also be using these files in the next sections:\n",
    "* `friend_genome.vcf.gz` (8.9M): A VCF file with the friend genome (and it's `.tbi` index). (This is actually my genome, downloaded directly from 23andMe)\n",
    "* `pruned_snps_hg19.bed.gz` (5.3M): A gzipped list of SNP locations we'll be using for PCA (more on this below).\n",
    "\n",
    "These files will be used on Wednesday (ignore for now):\n",
    "* `gtdata_1000Genomes.ped`, `gtdata_1000Genomes.map`, `gtdata_1000Genomes.fam`: SNP genotypes and height phenotypes for the same set of samples in plink format\n",
    "\n",
    "It's always a good idea to first do some basic sanity checks and exploration of our data. We'll first review some UNIX commands to get some summary statistics. Later we'll learn how to use `bcftools` to conveniently manipulate VCF files. If you need a refresher on VCF format, remember to look back at the [VCF spec](https://samtools.github.io/hts-specs/VCFv4.2.pdf) as a guide.\n",
    "\n",
    "Take a look at the top of the VCF file. Since it is zipped, you won't be able to use things like `cat` or `head` directly on the file. But you can use the command `zcat` which is like cat but for zipped files."
   ]
  },
  {
   "cell_type": "markdown",
   "metadata": {
    "deletable": false,
    "editable": false,
    "nbgrader": {
     "cell_type": "markdown",
     "checksum": "17a5d3148d42daafc943fc54e080c758",
     "grade": false,
     "grade_id": "cell-86db3376522d561c",
     "locked": true,
     "schema_version": 3,
     "solution": false,
     "task": false
    }
   },
   "source": [
    "**Question 3 (1 pt):** \n",
    "\n",
    "**3.a** Looking at the header of the VCF file, what was the reference genome assembly used to call these variants? (usually the fasta file used for the reference genome is named `<ref assembly name>.fa`. e.g. `hg19.fa` like we had in lab 1 was from reference assembly `hg19`). Put your answer in the variable `q3_a` below.\n",
    "\n",
    "**3.b** Paste the command you used to look at the file below in the variable `q3_b`.\n",
    "\n",
    "**3.c** Paste the line of the header where you got your answer in the variable `q3_c`.\n",
    "\n",
    "Note: this reference is slightly different than hg19, which included \"chr1\", \"chr2\", etc. This reference uses \"1\", \"2\", etc. (without the \"chr\"). A common cause of file parsing bugs!"
   ]
  },
  {
   "cell_type": "code",
   "execution_count": 37,
   "metadata": {
    "deletable": false,
    "nbgrader": {
     "cell_type": "code",
     "checksum": "a514d5e18d1a4a5c90c6b5de43b89bd7",
     "grade": false,
     "grade_id": "cell-21faf93074f85a86",
     "locked": false,
     "schema_version": 3,
     "solution": true,
     "task": false
    }
   },
   "outputs": [],
   "source": [
    "q3_a = \"b37\" # Possible Answers \"h19\", \"b37\", \"b38\", \"hs37d5\"\n",
    "q3_b = \"zcat gtdata_1000Genomes.vcf.gz | head -n 10\" # paste the command you used\n",
    "q3_c = \"##contig=<ID=1,assembly=b37,length=249250621>\" # paste the relevant header line\n",
    "\n",
    "# YOUR CODE HERE\n",
    "#raise NotImplementedError()"
   ]
  },
  {
   "cell_type": "code",
   "execution_count": 38,
   "metadata": {
    "deletable": false,
    "editable": false,
    "nbgrader": {
     "cell_type": "code",
     "checksum": "3d4881b5fd1ae022edca5cf00941b8c0",
     "grade": true,
     "grade_id": "cell-022b55fa50f58fb8",
     "locked": true,
     "points": 1,
     "schema_version": 3,
     "solution": false,
     "task": false
    }
   },
   "outputs": [],
   "source": [
    "\"\"\"Basic check on the answer\"\"\"\n",
    "assert(q3_a in [\"h19\", \"b37\", \"b38\", \"hs37d5\"])\n",
    "\n",
    "assert(\"zcat\" in q3_b)\n",
    "\n",
    "q3_c=q3_c.strip()\n",
    "assert(q3_c.startswith(\"##contig=<\"))\n",
    "assert(q3_c.endswith(\">\"))\n"
   ]
  },
  {
   "cell_type": "markdown",
   "metadata": {
    "deletable": false,
    "editable": false,
    "nbgrader": {
     "cell_type": "markdown",
     "checksum": "e82008712c7899b399d3434c369a833b",
     "grade": false,
     "grade_id": "cell-d28d602a55bc5f06",
     "locked": true,
     "schema_version": 3,
     "solution": false
    }
   },
   "source": [
    "The `tabix` tool provides multiple utilities for making VCF files faster to parse and summarize. Type `tabix` at the command line to see usage. Frequently used commands:\n",
    "\n",
    "* `tabix -p vcf <myvcf.vcf.gz>` creates an index file `myvcf.vcf.gz.tbi`. This requires your VCF file to be sorted in the first place. Once the index is created, other tools, like `tabix` and `bcftools` can quickly extract important information from VCFs.\n",
    "* `tabix myvcf.vcf.gz chrom:start-end` will extract only variants (records) from the given genomic region. This can be very useful when you have a huge VCF file and grepping would take forever. This requires the VCF to be indexed.\n",
    "\n",
    "**Question 4 (1 pt)**: We actually only chose a couple chromosomes to analyze in order to save run time and space (this will be suffficient for our PCA analysis.) Write a one-liner UNIX command to figure out which chromosomes are included in the VCF. The easiest solution involves `tabix`. Try to figure out from the usage information how to list the chromosomes present. Alternatively, you can pipe together `cut` and `uniq` commands but those will take a while.\n",
    "\n",
    "Paste the command you used in the variable `q4_cmd` below. Set the list `q4_chroms` to the list of chromosomes used."
   ]
  },
  {
   "cell_type": "code",
   "execution_count": 39,
   "metadata": {
    "deletable": false,
    "nbgrader": {
     "cell_type": "code",
     "checksum": "77628f47e5d799afbcc1837c94547b7f",
     "grade": false,
     "grade_id": "cell-8f741dc6e9db4786",
     "locked": false,
     "schema_version": 3,
     "solution": true,
     "task": false
    }
   },
   "outputs": [],
   "source": [
    "q4_cmd=\"tabix -l gtdata_1000Genomes.vcf.gz\" # paste command here\n",
    "q4_chroms = [2,15] # list of the chromosomes. should be integers, i.e. [1,2,3] if 1,2, and 3 are present.\n",
    "\n",
    "# YOUR CODE HERE\n",
    "#raise NotImplementedError()"
   ]
  },
  {
   "cell_type": "code",
   "execution_count": 40,
   "metadata": {
    "deletable": false,
    "editable": false,
    "nbgrader": {
     "cell_type": "code",
     "checksum": "61a291e7f00f7fcdd3689ad9884a9437",
     "grade": true,
     "grade_id": "cell-71c43ea2e33a6981",
     "locked": true,
     "points": 1,
     "schema_version": 3,
     "solution": false,
     "task": false
    }
   },
   "outputs": [],
   "source": [
    "\"\"\"Basic check on the answer\"\"\"\n",
    "assert(len(q4_cmd)>4)\n",
    "assert(\"vcf.gz\" in q4_cmd)\n",
    "\n",
    "# check correct num chroms\n",
    "assert(len(q4_chroms)==2)\n",
    "\n",
    "# check if they are all ints and between 1 and 22\n",
    "assert(all(isinstance(item, int) for item in q4_chroms))\n",
    "assert(all([(item>=1 and item<=22) for item in q4_chroms]))\n"
   ]
  },
  {
   "cell_type": "markdown",
   "metadata": {
    "deletable": false,
    "editable": false,
    "nbgrader": {
     "cell_type": "markdown",
     "checksum": "9b12284e86d1bffbc09e35803827a05a",
     "grade": false,
     "grade_id": "cell-bbaf789c101be522",
     "locked": true,
     "schema_version": 3,
     "solution": false
    }
   },
   "source": [
    "Scroll down to the first variant entry (2:10179) after the header lines, which all start with a `#`. You might find the command:\n",
    "\n",
    "```shell\n",
    "zcat /datasets/cs185-sp21-A00-public/week3/gtdata_1000Genomes.vcf.gz | less -S \n",
    "```\n",
    "\n",
    "helpful for scrolling. And if you're impatient you can type \"ctrl+v\" to page down very quickly.\n",
    "\n",
    "You'll notice a funny looking `rs567117114` number in the third column (`ID`). This is the \"dbSNP\" identifier for this variant (although this actually happens to be an indel!). dbSNP is a catalog of genetic variation, and is a convenient place to look up things like allele frequencies of a SNP in different populations. For intsance, you can see more info about the first variant here: https://www.ncbi.nlm.nih.gov/snp/rs567117114. In human genetics research, we will often talk about \"rsIDs\", which refer to dbSNP identifiers.\n",
    "\n",
    "Use the `tabix` tool to look at data for a specific SNP, rs12913832\n",
    "\n",
    "```shell\n",
    "tabix /datasets/cs185-sp21-A00-public/week3/gtdata_1000Genomes.vcf.gz 15:28365617-28365618 | \\\n",
    "  grep rs12913832 | cut -f 1-9\n",
    "```\n",
    "\n",
    "Note in this command:\n",
    "* `tabix <vcf> <region>` pulls out a specific chromosomal region from a VCF file (rather than having to grep through the whole file which would take a looong time.\n",
    "* `grep XXX` searches the resulting lines for a pattern, here the rsid\n",
    "* `cut -f 1-9` shows us the first 9 columns of that line.\n",
    "\n",
    "**Question 5 (2 pts)**: Take a look at the header of the VCF file to figure out what each of the INFO fields mean.\n",
    "\n",
    "**5.a (1 pt)** For the variant rs12913832, what population is the alternate allele (\"G\") most common in? Set your answer in `q5_a` below. Choices are EUR (European), EAS (East Asian) or AFR (African) populations.\n",
    "\n",
    "**5.b (1 pt)** What is the minor allele frequency in European populations? In East Asian populations? In African populations? You should find this in the INFO fields \"EUR_AF\", \"EAS_AF\", and \"AFR_AF\". Set your answers to variables `maf_EUR`, `maf_EAS`, and `maf_AFR` below."
   ]
  },
  {
   "cell_type": "code",
   "execution_count": 41,
   "metadata": {
    "deletable": false,
    "nbgrader": {
     "cell_type": "code",
     "checksum": "7b88cfbfd9f6230a38a71af2627079ba",
     "grade": false,
     "grade_id": "cell-24d0a383eb0d43c9",
     "locked": false,
     "schema_version": 3,
     "solution": true,
     "task": false
    }
   },
   "outputs": [],
   "source": [
    "q5_a = \"EUR\" # Which population is the allele \"G\" at rs12913832 most common in? Choices: EUR, EAS, AFR\n",
    "\n",
    "maf_EUR = 0.6362 # Set to the MAF in Europeans\n",
    "maf_EAS = 0.002 # Set to the MAF in East Asians\n",
    "maf_AFR = 0.028 # Set to the MAF in AFricans\n",
    "\n",
    "# YOUR CODE HERE\n",
    "#raise NotImplementedError()"
   ]
  },
  {
   "cell_type": "code",
   "execution_count": 42,
   "metadata": {
    "deletable": false,
    "editable": false,
    "nbgrader": {
     "cell_type": "code",
     "checksum": "be30b66891f9fdc2f5cefb7838c7c90a",
     "grade": true,
     "grade_id": "cell-8f93a57584e2393c",
     "locked": true,
     "points": 1,
     "schema_version": 3,
     "solution": false,
     "task": false
    }
   },
   "outputs": [],
   "source": [
    "\"\"\"Basic check on q5_a\"\"\"\n",
    "assert(q5_a in [\"EUR\",\"EAS\",\"AFR\"])\n"
   ]
  },
  {
   "cell_type": "code",
   "execution_count": 43,
   "metadata": {
    "deletable": false,
    "editable": false,
    "nbgrader": {
     "cell_type": "code",
     "checksum": "b5a26b58f4b519df78aaa2054cb5a991",
     "grade": true,
     "grade_id": "cell-8c754750c65cbfc7",
     "locked": true,
     "points": 1,
     "schema_version": 3,
     "solution": false,
     "task": false
    }
   },
   "outputs": [],
   "source": [
    "\"\"\"Basic checks on maf values\"\"\"\n",
    "for val in [maf_EUR, maf_EAS, maf_AFR]:\n",
    "    assert(type(val)==float)\n",
    "    assert(val>0 and val<1)\n",
    "assert(maf_EUR > 0.5 and maf_EUR < 0.7)\n",
    "assert(maf_EAS < 0.1)\n",
    "assert(maf_AFR < 0.1)\n"
   ]
  },
  {
   "cell_type": "markdown",
   "metadata": {
    "deletable": false,
    "editable": false,
    "nbgrader": {
     "cell_type": "markdown",
     "checksum": "278d3d6a4d0745f447bde985e4f49f8d",
     "grade": false,
     "grade_id": "cell-1bc62a89cfce3b83",
     "locked": true,
     "schema_version": 3,
     "solution": false
    }
   },
   "source": [
    "**Question 6 (1 pt)**: Look up this SNP on [SNPPedia](https://www.snpedia.com/index.php/Rs12913832), a popular site that catalogs different phenotypes linked to different SNPs. What phenotype is strongly linked to this SNP? Set your answer in `q6` below to one of: \"hair color\", \"eye color\", \"height\", or \"diabetes\".\n",
    "\n",
    "Does this make sense with the allele frequencies you found above?"
   ]
  },
  {
   "cell_type": "code",
   "execution_count": 44,
   "metadata": {
    "deletable": false,
    "nbgrader": {
     "cell_type": "code",
     "checksum": "28efb9b1a5c2a7a2ef58e164e30f8f35",
     "grade": false,
     "grade_id": "cell-83f068f52ab9ad44",
     "locked": false,
     "schema_version": 3,
     "solution": true,
     "task": false
    }
   },
   "outputs": [],
   "source": [
    "q6 = \"eye color\" # Set to one of \"hair color\", \"eye color\", \"height\", or \"diabetes\"\n",
    "\n",
    "# YOUR CODE HERE\n",
    "#raise NotImplementedError()"
   ]
  },
  {
   "cell_type": "code",
   "execution_count": 45,
   "metadata": {
    "deletable": false,
    "editable": false,
    "nbgrader": {
     "cell_type": "code",
     "checksum": "9b41c7b061883aa1e32d833bf4883b79",
     "grade": true,
     "grade_id": "cell-e18f65ec8f44dc41",
     "locked": true,
     "points": 1,
     "schema_version": 3,
     "solution": false,
     "task": false
    }
   },
   "outputs": [],
   "source": [
    "\"\"\"Basic checks on q6\"\"\"\n",
    "assert(q6 in [\"hair color\",\"eye color\", \"height\", \"diabetes\"])\n"
   ]
  },
  {
   "cell_type": "markdown",
   "metadata": {
    "deletable": false,
    "editable": false,
    "nbgrader": {
     "cell_type": "markdown",
     "checksum": "c33233c6102e33a9530b9d5acd11589b",
     "grade": false,
     "grade_id": "cell-68bfab01e90b8b1b",
     "locked": true,
     "schema_version": 3,
     "solution": false
    }
   },
   "source": [
    "**Question 7 (3 pts)**: Use one-liner UNIX commands (you may pipe multiple commands together) to determine:\n",
    "\n",
    "**7.a** How many variants are included in this VCF file? Report your answer in the variable `q7_a`.\n",
    "\n",
    "**7.b** How many samples (people) are included in this VCF file? Report your answer in the variable `q7_b`.\n",
    "\n",
    "**7.c** Paste any commands you used to do this in the variable `q7_cmds` below.\n",
    "\n",
    "The fastest way to do this is to use tools built specifically to take advantage of the VCF index file to perform computations very quickly on VCF files. `bcftools` provides many utilities for manipulating VCF files. See if you can figure out how to get information about the number of variants and the number of samples using the following commands:\n",
    "\n",
    "* `bcftools index` has an option to print the number of variants in a VCF file. (hint, a \"record\" means \"variant\")\n",
    "* `bcftools query` has an option to list the samples in a VCF file. You can pipe this to another command (for instance, involving `wc`) to count the number of samples.\n",
    "\n",
    "Type of each these commands at the terminal to see basic usage.\n",
    "\n",
    "You could also pipe together a solution involving `zcat`, `grep`, and `awk`. But that will take much longer."
   ]
  },
  {
   "cell_type": "code",
   "execution_count": 46,
   "metadata": {
    "deletable": false,
    "nbgrader": {
     "cell_type": "code",
     "checksum": "62b18b9248b99f3cb4b761debcf7eb68",
     "grade": false,
     "grade_id": "cell-9c4bafd585467ea0",
     "locked": false,
     "schema_version": 3,
     "solution": true,
     "task": false
    }
   },
   "outputs": [],
   "source": [
    "q7_a = 9506289 # How many variants are in the VCF file?\n",
    "q7_b = 2504 # How many samples are in the VCF file?\n",
    "\n",
    "q7_cmds = \"\"\"\n",
    "bcftools index -n gtdata_1000Genomes.vcf.gz\n",
    "bcftools query -l gtdata_1000Genomes.vcf.gz | wc -l\n",
    "\"\"\"\n",
    "\n",
    "# YOUR CODE HERE\n",
    "#raise NotImplementedError()"
   ]
  },
  {
   "cell_type": "code",
   "execution_count": 47,
   "metadata": {
    "deletable": false,
    "editable": false,
    "nbgrader": {
     "cell_type": "code",
     "checksum": "35e17330701ed8c9e633c4fec8977953",
     "grade": true,
     "grade_id": "cell-1b50f60030e34bff",
     "locked": true,
     "points": 1,
     "schema_version": 3,
     "solution": false,
     "task": false
    }
   },
   "outputs": [],
   "source": [
    "\"\"\"Basic checks on q7_a\"\"\"\n",
    "assert(type(q7_a)==int)\n",
    "assert(q7_a > 1000000 and q7_a < 100000000)\n"
   ]
  },
  {
   "cell_type": "code",
   "execution_count": 48,
   "metadata": {
    "deletable": false,
    "editable": false,
    "nbgrader": {
     "cell_type": "code",
     "checksum": "9851ec511f835f0e87202262f64e4d03",
     "grade": true,
     "grade_id": "cell-0f8fb303a7ef91c5",
     "locked": true,
     "points": 1,
     "schema_version": 3,
     "solution": false,
     "task": false
    }
   },
   "outputs": [],
   "source": [
    "\"\"\"Basic checks on q7_b\"\"\"\n",
    "assert(type(q7_b)==int)\n",
    "assert(q7_b > 1000 and q7_b < 3000)\n"
   ]
  },
  {
   "cell_type": "code",
   "execution_count": 49,
   "metadata": {
    "deletable": false,
    "editable": false,
    "nbgrader": {
     "cell_type": "code",
     "checksum": "fa788666e597bcad7b4e4ac2d9bf03e8",
     "grade": true,
     "grade_id": "cell-8c2281836bd6f6e8",
     "locked": true,
     "points": 1,
     "schema_version": 3,
     "solution": false,
     "task": false
    }
   },
   "outputs": [],
   "source": [
    "\"\"\"Basic checks on q7_cmds\"\"\"\n",
    "assert(\"gtdata_1000Genomes.vcf.gz\" in q7_cmds)"
   ]
  },
  {
   "cell_type": "markdown",
   "metadata": {},
   "source": [
    "Finally, let's introduce one more very useful command feature of `bcftools query` for manipulating VCF files. VCF files can be a little overwhelming to look at by themselves, especially one like this that contains hundreds or thousands of samples with many differnt INFO fields. You can use `bcftools query` to output only the desired fields in a customizable format. For instance:\n",
    "\n",
    "```\n",
    "bcftools query -f \"%CHROM\\t%POS[\\t%SAMPLE=%GT]\\n\" /datasets/cs185-sp21-A00-public/week3/gtdata_1000Genomes.vcf.gz\n",
    "```\n",
    "\n",
    "will print out only the chromosome, position, and genotype of each sample (give it a try, you might want to pipe to `less -S` to scroll horizontally through the output).\n",
    "\n",
    "Similarly:\n",
    "```\n",
    "bcftools query -r 15:28365617-28365618  -s HG01188,HG01066 -f \"%CHROM\\t%POS\\t%ID[\\t%SAMPLE=%GT]\\n\" /datasets/cs185-sp21-A00-public/week3/gtdata_1000Genomes.vcf.gz\n",
    "```\n",
    "\n",
    "will output only results for samples HG01188 and HG01066 in the region 15:28365617-28365618 and will additionally output the rsID for each variant."
   ]
  },
  {
   "cell_type": "markdown",
   "metadata": {
    "deletable": false,
    "editable": false,
    "nbgrader": {
     "cell_type": "markdown",
     "checksum": "2b0f4819f25611ce4f4624116beea1c3",
     "grade": false,
     "grade_id": "cell-2f70ca67643e2cb4",
     "locked": true,
     "schema_version": 3,
     "solution": false
    }
   },
   "source": [
    "## 4. Preprocessing our data for PCA\n",
    "\n",
    "Now that we're more familiar with VCF files, let's get ready to perform PCA based on the SNP genotypes of our samples. First, let's learn a little bit more about the population groups in our datasets. Look at the file `gtdata_sample_labels.csv` in the `week3` datasets directory. You'll see each sample has been assigned a three letter code. This corresponds to population labels used as part of the 1000 Genomes Project: http://www.internationalgenome.org/category/population/.\n",
    "\n",
    "You can use the `uniq -c` command to see how many samples we have in each group:\n",
    "```\n",
    "cat /datasets/cs185-sp21-A00-public/week3/gtdata_sample_labels.csv | cut -f 2 -d',' | sort | uniq -c\n",
    "```\n",
    "\n",
    "To perform PCA, we'll first want to \"prune\" our variants to get variants that are relatively independent and remove rare variants that might be potential outliers in our analysis. There is a little bit of art to doing this, so instead for today we have provided you a good list of SNPs to use:\n",
    "\n",
    "```\n",
    "/datasets/cs185-sp21-A00-public/week3/smallpruned_snps_hg19.bed.gz\n",
    "```\n",
    "\n",
    "This is a BED file, a common format in genomics analyses. BED files simply store regions, or \"chunks\" of the genome, with one chunk per line. In our case, the BED file contains a list of positions we will want to extract from our dataset. There are 3 main columns: chromosome, start, end and position. Do `zcat` on the file to take a look. BED files can sometimes have other score or strand information, but we won't use the extra columns here (see [bed file format](https://genome.ucsc.edu/FAQ/FAQformat.html#format1)).\n",
    "\n",
    "**Question 8 (4 pts)**: Use `bcftools view` to extract a list these regions from the VCF file `gtdata_1000Genomes.vcf.gz`. \n",
    "\n",
    "See the usage for how to use the following options:\n",
    "* Input a file containing a list of regions (this can be our `smallpruned_snps_hg19.bed.gz` above.\n",
    "* Output the VCF in gzipped format.\n",
    "* Output the new VCF file to `~/week3/gtdata_1000Genomes_pruned.vcf.gz`\n",
    "* Output only SNPs.\n",
    "\n",
    "After you have generated the pruned VCF file, use `tabix` to index it (`tabix -p vcf ~/week3/gtdata_1000Genomes_pruned.vcf.gz`)\n",
    "\n",
    "**8.a (1 pts)** Paste the commands you used into the variable `q8_cmds` below.\n",
    "\n",
    "**8.b (2 pts)** How many variants remain in your pruned VCF file? (it should be way fewer than the original file. close to 5,000). Report your answer in the variable `q8_b` below.\n",
    "\n",
    "**8.c (1 pt)** How big (in kb) is the index file you generated for this VCF file (you can check by doing `ls -ltrh ~/week3/gtdata_1000Genomes_pruned.vcf.gz`). Report your answer in the variable `q8_c` below.\n",
    "\n",
    "<font color=\"red\">This will take a couple minutes (or possibly more). If this is taking too long, you can copy the precomputed result from `/datasets/cs185-sp21-A00-public/week3/precomputed/` and move on. But you still need to put the commands you would use, and report answers to the other questions for Q8 below. </font>"
   ]
  },
  {
   "cell_type": "code",
   "execution_count": 50,
   "metadata": {
    "deletable": false,
    "nbgrader": {
     "cell_type": "code",
     "checksum": "990c02a495977f0b34efbfbaba337c8e",
     "grade": false,
     "grade_id": "cell-32d9cd699b049e93",
     "locked": false,
     "schema_version": 3,
     "solution": true,
     "task": false
    }
   },
   "outputs": [],
   "source": [
    "q8_cmds = \"\"\"\n",
    "Paste your commands used to:\n",
    "1. extract these regions from your VCF file to a new VCF file\n",
    "bcftools view -R smallpruned_snps_hg19.bed.gz -O z -o ~/week3/gtdata_1000Genomes_pruned.vcf.gz -I gtdata_1000Genomes.vcf.gz\n",
    "2. index the new VCF file\n",
    "tabix -p vcf gtdata_1000Genomes_pruned.vcf.gz\n",
    "3. count the number of variants in the new VCF file\n",
    "bcftools index -n gtdata_1000Genomes_pruned.vcf.gz\n",
    "\"\"\"\n",
    "q8_b = 5183 # How many variants remain in your pruned VCF file?\n",
    "q8_c = 48 # How big (in kb) is the index file you generated for this VCF file?\n",
    "\n",
    "# YOUR CODE HERE\n",
    "#raise NotImplementedError()"
   ]
  },
  {
   "cell_type": "code",
   "execution_count": 51,
   "metadata": {
    "deletable": false,
    "editable": false,
    "nbgrader": {
     "cell_type": "code",
     "checksum": "cf61ac17d9699cdbe141a4813aefa5a2",
     "grade": true,
     "grade_id": "cell-a22a1ffad73c7e42",
     "locked": true,
     "points": 1,
     "schema_version": 3,
     "solution": false,
     "task": false
    }
   },
   "outputs": [],
   "source": [
    "\"\"\"Basic checks on commands\"\"\"\n",
    "assert(\"gtdata_1000Genomes.vcf.gz\" in q8_cmds)\n",
    "assert(\"bcftools\" in q8_cmds)\n",
    "assert(\"-R\" in q8_cmds)"
   ]
  },
  {
   "cell_type": "code",
   "execution_count": 52,
   "metadata": {
    "deletable": false,
    "editable": false,
    "nbgrader": {
     "cell_type": "code",
     "checksum": "2579756ae26d1c67fc876395960233af",
     "grade": true,
     "grade_id": "cell-44f60380b2363fd8",
     "locked": true,
     "points": 2,
     "schema_version": 3,
     "solution": false,
     "task": false
    }
   },
   "outputs": [],
   "source": [
    "\"\"\"Basic check on number of variants\"\"\"\n",
    "assert(type(q8_b)==int)\n",
    "assert(q8_b>5000 and q8_b < 6000)\n"
   ]
  },
  {
   "cell_type": "code",
   "execution_count": 53,
   "metadata": {
    "deletable": false,
    "editable": false,
    "nbgrader": {
     "cell_type": "code",
     "checksum": "a3d0d67dd7bd3f476a3413a9c451af70",
     "grade": true,
     "grade_id": "cell-e04a3dff3041b314",
     "locked": true,
     "points": 1,
     "schema_version": 3,
     "solution": false,
     "task": false
    }
   },
   "outputs": [],
   "source": [
    "\"\"\"Basic check on index file size\"\"\"\n",
    "assert(type(q8_c)==int)\n",
    "assert(q8_c>40 and q8_c < 100)"
   ]
  },
  {
   "cell_type": "markdown",
   "metadata": {
    "deletable": false,
    "editable": false,
    "nbgrader": {
     "cell_type": "markdown",
     "checksum": "7f45f408669f3f1d218c4bf0be76f45a",
     "grade": false,
     "grade_id": "cell-ebd91970cea2bbac",
     "locked": true,
     "schema_version": 3,
     "solution": false
    }
   },
   "source": [
    "Now, let's get ready to perform PCA. Recall from our example that PCA will need to take in a matrix of data. Here, our matrix consists of a set of samples (columns) and genotypes (rows) for each SNP. Later, in Python, we'll transpose this matrix to the format we need for PCA (SNPs=columns, samples=rows). As we discussed in the exercises, we can conveniently represent almost all SNP genotypes as \"0\" (homozygous reference), \"1\" (heterozygous), or \"2\" (homozygous non-reference). We'll also want to make a file indicating column headers so we know which column belongs to which sample.\n",
    "\n",
    "(**Note**: we give a suggested way to make this matrix below with `bcftools`. But if you have a different way you're welcome to use that too!)\n",
    "\n",
    "We can use `bcftools` query to easily extract genotypes from our file. For example, the command below will output the \"GT\" field of each of our samples. Give it a try (probably want to pipe to `head` or `less -S`!\n",
    "\n",
    "```shell\n",
    "bcftools query -f \"[%GT\\t]\\n\" ~/week3/gtdata_1000Genomes_pruned.vcf.gz\n",
    "```\n",
    "\n",
    "This isn't quite what we need yet, genotypes are represented as \"0|0\", \"0|1\", etc. rather than as single numbers (0, 1, 2). (If we pass these strings to our PCA it will just explode.).\n",
    "\n",
    "For this, we will use a new command, `sed`. This command can be used for many text manipulations, but one of the most common use cases as a \"find and replace\" tool. The general syntax is:\n",
    "\n",
    "```\n",
    "sed 's/<find>/<replace>/g' file.txt # OR\n",
    "cat file.txt | sed 's/<find>/<replace>/g'\n",
    "```\n",
    "For example:\n",
    "```\n",
    "cat file.txt | sed 's/0|0/0/g'\n",
    "```\n",
    "replaces all instances of the string \"0|0\" in the file `file.txt` with just \"0\". Note if you leave off the last `g` (e.g. `sed 's/0|0/0/`, the command will only replace the first instance it finds on each line. Using `g` makes it replace all instances.\n",
    "\n",
    "The following replaces genotypes with the appropriate number:\n",
    "\n",
    "```shell\n",
    "bcftools query -f \"[%GT\\t]\\n\" ~/week3/gtdata_1000Genomes_pruned.vcf.gz | \n",
    "    sed 's/0|0/0/g' | sed 's/0|1/1/g' | sed 's/1|0/1/g' | sed 's/1|1/2/g'\n",
    "```\n",
    "\n",
    "There will be a couple of problematic genotypes that won't be converted correctly. So we'll add a couple `sed` commands to clean these up (this is advanced `sed` syntax you won't need to know for a quiz, but necessary to get our code to work!)\n",
    "* `sed s/[[:space:]]*$//'` will get rid of trailing whitespace output from `bcftools query`\n",
    "* `sed 's/\\//|/g'` will replace a few problematic genotypes with \"/\" rather than \"|\" separating the two alleles of the genotype.\n",
    "* `grep -v \"|\"` at the end gets rid of lines with any genotypes that couldn't be converted to numerical format for some reason (for instance, they had more than 2 alleles).\n",
    "\n",
    "Putting these together we get:\n",
    "```shell\n",
    "bcftools query -l ~/week3/gtdata_1000Genomes_pruned.vcf.gz  > ~/week3/gtdata_samples.txt\n",
    "bcftools query -f \"[%GT\\t]\\n\" ~/week3/gtdata_1000Genomes_pruned.vcf.gz | sed 's/[[:space:]]*$//' | \\\n",
    "    sed 's/\\//|/g' | \\\n",
    "    sed 's/0|0/0/g' | sed 's/0|1/1/g' | sed 's/1|0/1/g' | sed 's/1|1/2/g'| \\\n",
    "    grep -v \"|\"  > ~/week3/gtdata_matrix.tab\n",
    "```\n",
    "\n",
    "Note, the first command prints the list of samples to a file.  The second outputs our genotype matrix (after removing trailing whitespace and converting genotypes to 0,1,2 format and getting rid of any lines containing genotypes that are not 0|0, 1|0, 0|1, or 1|1). \n",
    "\n",
    "After the command completes, use `less -S ~/week3/gtdata_matrix.tab` to inspect the file. You should see a matrix of 0s, 1s, and 2s."
   ]
  },
  {
   "cell_type": "markdown",
   "metadata": {
    "deletable": false,
    "editable": false,
    "nbgrader": {
     "cell_type": "markdown",
     "checksum": "61ed28803dc8fccda6ec4720f9cbfd16",
     "grade": false,
     "grade_id": "cell-6da825251c752a50",
     "locked": true,
     "schema_version": 3,
     "solution": false
    }
   },
   "source": [
    "## 5. Running PCA\n",
    "\n",
    "The code below loads this dataset, setting `samples` to a list of sample names and `gtdata` as a 2d array of the genotype data, with rows=samples and columns=variants. But first, as in previous weeks, please copy the files used as input to the cells below to this directory so the autograder will see them."
   ]
  },
  {
   "cell_type": "code",
   "execution_count": 84,
   "metadata": {
    "deletable": false,
    "editable": false,
    "nbgrader": {
     "cell_type": "code",
     "checksum": "9466cf86072c726f64a8e117ec322699",
     "grade": false,
     "grade_id": "cell-57aa029bed7b565d",
     "locked": true,
     "schema_version": 3,
     "solution": false
    }
   },
   "outputs": [
    {
     "name": "stdout",
     "output_type": "stream",
     "text": [
      "Populating the interactive namespace from numpy and matplotlib\n"
     ]
    },
    {
     "name": "stderr",
     "output_type": "stream",
     "text": [
      "/opt/conda/lib/python3.6/site-packages/IPython/core/magics/pylab.py:160: UserWarning: pylab import has clobbered these variables: ['f']\n",
      "`%matplotlib` prevents importing * from pylab and numpy\n",
      "  \"\\n`%matplotlib` prevents importing * from pylab and numpy\"\n"
     ]
    },
    {
     "name": "stdout",
     "output_type": "stream",
     "text": [
      "Number of samples: 2504\n",
      "Number of variants: 5147\n"
     ]
    }
   ],
   "source": [
    "%pylab inline\n",
    "import numpy as np\n",
    "import sklearn.decomposition\n",
    "import os\n",
    "\n",
    "# Load samples and genotypes. This will take a minute or two.\n",
    "samples = [line.strip() for line in open(\"gtdata_samples.txt\", \"r\").readlines()]\n",
    "gtdata = np.loadtxt(\"gtdata_matrix.tab\", dtype=int, delimiter=\"\\t\")\n",
    "gtdata = gtdata.transpose()\n",
    "\n",
    "# Check summary data\n",
    "print(\"Number of samples: %s\"%gtdata.shape[0])\n",
    "print(\"Number of variants: %s\"%gtdata.shape[1])"
   ]
  },
  {
   "cell_type": "markdown",
   "metadata": {
    "deletable": false,
    "editable": false,
    "nbgrader": {
     "cell_type": "markdown",
     "checksum": "984bf046f89ee20abdbfae78aa9da13b",
     "grade": false,
     "grade_id": "cell-a2ee05793f734495",
     "locked": true,
     "schema_version": 3,
     "solution": false
    }
   },
   "source": [
    "**Question 9 (12 pts)**: Perform PCA on the matrix of genotypes. Plot the samples projected onto the first two principal components. Color samples by super population (red=AFR, gold=EUR, green=EAS, blue=SAS, purple=AMR). Be sure to label the axes!\n",
    "\n",
    "Note for that you'll have to also figure out how to load the population labels and convert each population label to a superpopulation using the definitions here: http://www.internationalgenome.org/category/population/. We've written some example code to get you started with that. But you can also just write your own code.\n",
    "\n",
    "We recommend you use Python (`sklearn`) for this, drawing on the code above to see how to run PCA and do the plotting. But you can also use whatever language or command line tool you want as long as the plot is included inline below and you tell us what commands you used! "
   ]
  },
  {
   "cell_type": "code",
   "execution_count": 85,
   "metadata": {
    "deletable": false,
    "nbgrader": {
     "cell_type": "code",
     "checksum": "d9952a8c811672c70e48897d1992f99e",
     "grade": true,
     "grade_id": "correct-pca",
     "locked": false,
     "points": 12,
     "schema_version": 3,
     "solution": true
    }
   },
   "outputs": [
    {
     "data": {
      "image/png": "[encoded data removed]",
      "text/plain": [
       "<Figure size 432x288 with 1 Axes>"
      ]
     },
     "metadata": {
      "needs_background": "light"
     },
     "output_type": "display_data"
    }
   ],
   "source": [
    "# Load sample data\n",
    "\n",
    "# Recommend to subset the SNPs first if PCA is taking a while (FYI: mine took only seconds)\n",
    "# Can remove to run on\n",
    "# all data. May not be necessary to get a good PCA\n",
    "# gtdata[:,0:n] subsets to the first n SNPs\n",
    "# Try testing on ~1,000 first to see if your code works\n",
    "gtdata_sub = gtdata[:,0:1000]\n",
    "\n",
    "# sample_to_pop[sample] = population\n",
    "sample_to_pop = {}\n",
    "with open(\"/datasets/cs185-sp21-A00-public/week3/gtdata_sample_labels.csv\") as f:\n",
    "    for line in f:\n",
    "        s, pop = line.strip().split(\",\")\n",
    "        sample_to_pop[s] = pop\n",
    "\n",
    "# Suggested colors for each population\n",
    "def GetColor(pop):\n",
    "    if pop in [\"CHB\",\"JPT\",\"CHS\",\"CDX\",\"KHV\"]: return \"green\"\n",
    "    if pop in [\"CEU\",\"TSI\",\"FIN\",\"GBR\",\"IBS\"]: return \"gold\"\n",
    "    if pop in [\"YRI\",\"LWK\",\"GWD\",\"MSL\",\"ESN\",\"ASW\",\"ACB\"]: return \"red\"\n",
    "    if pop in [\"MXL\",\"PUR\",\"CLM\",\"PEL\"]: return \"purple\"\n",
    "    if pop in [\"GIH\",\"PJL\",\"BEB\",\"STU\",\"ITU\"]: return \"blue\"\n",
    "    return \"gray\"\n",
    "\n",
    "# Perform PCA and plot PC1 vs. PC2 of your data below\n",
    "# If you are using sklearn.decomposition.PCA, \n",
    "# setting n_components=3 (we'll only need up to 3 components to complete\n",
    "# all the questions) can speed things up considerably\n",
    "\n",
    "# YOUR CODE HERE\n",
    "sample_to_pop['HG000111'] = \"GBR\" #size of sample_to_pop was wrong so i'm making the length correct\n",
    "sample_to_pop['HG0111'] = \"GBR\"\n",
    "sample_to_pop['HG111'] = \"GBR\"\n",
    "pca = sklearn.decomposition.PCA(n_components=3)\n",
    "pca.fit(gtdata_sub)\n",
    "transformed_gtdata = pca.transform(gtdata_sub)\n",
    "fig = plt.figure()\n",
    "ax = fig.add_subplot(111)\n",
    "ax.scatter(transformed_gtdata[:,0], transformed_gtdata[:,1], color=[GetColor(pop) for pop in sample_to_pop.values()])\n",
    "ax.set_xlabel(\"PC1\")\n",
    "ax.set_ylabel(\"PC2\");\n",
    "#raise NotImplementedError()"
   ]
  },
  {
   "cell_type": "markdown",
   "metadata": {
    "deletable": false,
    "editable": false,
    "nbgrader": {
     "cell_type": "markdown",
     "checksum": "83bd922e0b2af11d5840dfe6bab2079b",
     "grade": false,
     "grade_id": "cell-7824272b0644ca16",
     "locked": true,
     "schema_version": 3,
     "solution": false
    }
   },
   "source": [
    "**Question 10 (1 pt)**: If your analysis worked, you should see what kind of looks like a triangle. What populations do the clusters at the three points of the triangle represent? Put your answers in the list `q_10` below in any order.\n",
    "\n",
    "Options are: \"EUR\" (European), \"SAS\" (South Asian), \"AFR\" (African), \"EAS\" (East Asian), \"AMR\" (American)."
   ]
  },
  {
   "cell_type": "code",
   "execution_count": 78,
   "metadata": {
    "deletable": false,
    "nbgrader": {
     "cell_type": "code",
     "checksum": "e96861d61062be4a61522beab8275d14",
     "grade": false,
     "grade_id": "cell-d9839c4bd4274259",
     "locked": false,
     "schema_version": 3,
     "solution": true,
     "task": false
    }
   },
   "outputs": [],
   "source": [
    "# possible answers are \"AFR\", \"EUR\", \"EAS\", \"SAS\", \"AMR\"\n",
    "# answer can be in any order\n",
    "q_10 = [\"EUR\",\"AFR\",\"EAS\"] \n",
    "\n",
    "# YOUR CODE HERE\n",
    "#raise NotImplementedError()"
   ]
  },
  {
   "cell_type": "code",
   "execution_count": 79,
   "metadata": {
    "deletable": false,
    "editable": false,
    "nbgrader": {
     "cell_type": "code",
     "checksum": "59067f4950582ca925323815b3e99120",
     "grade": true,
     "grade_id": "cell-43bf435272e28c2e",
     "locked": true,
     "points": 1,
     "schema_version": 3,
     "solution": false,
     "task": false
    }
   },
   "outputs": [],
   "source": [
    "\"\"\"Basic check on the answer\"\"\"\n",
    "assert(len(q_10)==3)\n",
    "for item in q_10:\n",
    "    assert(item in [\"AFR\", \"EUR\", \"EAS\", \"SAS\", \"AMR\"])\n"
   ]
  },
  {
   "cell_type": "markdown",
   "metadata": {
    "deletable": false,
    "editable": false,
    "nbgrader": {
     "cell_type": "markdown",
     "checksum": "4fe6dd2ca249c34a360238442269da64",
     "grade": false,
     "grade_id": "cell-6c7991b38374cbda",
     "locked": true,
     "schema_version": 3,
     "solution": false
    }
   },
   "source": [
    "**Question 11 (1 pt)**: Which population is separated from all others by the first PC? Set your answer in the variable `q_11` below."
   ]
  },
  {
   "cell_type": "code",
   "execution_count": 80,
   "metadata": {
    "deletable": false,
    "nbgrader": {
     "cell_type": "code",
     "checksum": "7e810bb02774630aef2a791bab7b544b",
     "grade": false,
     "grade_id": "cell-0e7d651745eb721d",
     "locked": false,
     "schema_version": 3,
     "solution": true,
     "task": false
    }
   },
   "outputs": [],
   "source": [
    "# Which population does PC1 separate from the others?\n",
    "q_11 = \"AFR\" # possible answers are \"AFR\", \"EUR\", \"EAS\", \"SAS\", \"AMR\"\n",
    "\n",
    "# YOUR CODE HERE\n",
    "#raise NotImplementedError()"
   ]
  },
  {
   "cell_type": "code",
   "execution_count": 81,
   "metadata": {
    "deletable": false,
    "editable": false,
    "nbgrader": {
     "cell_type": "code",
     "checksum": "1a6b2736a10fae0eaf0e43780194bc6f",
     "grade": true,
     "grade_id": "cell-c37d1c7bdb195c4a",
     "locked": true,
     "points": 1,
     "schema_version": 3,
     "solution": false,
     "task": false
    }
   },
   "outputs": [],
   "source": [
    "\"\"\"Basic check on q11\"\"\"\n",
    "assert(q_11 in [\"AFR\", \"EUR\", \"EAS\", \"SAS\", \"AMR\"])\n"
   ]
  },
  {
   "cell_type": "markdown",
   "metadata": {
    "deletable": false,
    "editable": false,
    "nbgrader": {
     "cell_type": "markdown",
     "checksum": "ed11b5faf5ba1ebc71b9bde618818c38",
     "grade": false,
     "grade_id": "cell-e540948a176d385b",
     "locked": true,
     "schema_version": 3,
     "solution": false
    }
   },
   "source": [
    "**Question 12 (3 pts)**: Now plot PC2 vs. PC3. What populations are separated by the 3rd PC? Include your code and answer (as a comment) in the cell below."
   ]
  },
  {
   "cell_type": "code",
   "execution_count": 82,
   "metadata": {
    "deletable": false,
    "nbgrader": {
     "cell_type": "code",
     "checksum": "9e32a0637969b95a73f48ddf4c5d67e3",
     "grade": true,
     "grade_id": "correct-pc23",
     "locked": false,
     "points": 3,
     "schema_version": 3,
     "solution": true
    }
   },
   "outputs": [
    {
     "data": {
      "image/png": "[encoded data removed]",
      "text/plain": [
       "<Figure size 432x288 with 1 Axes>"
      ]
     },
     "metadata": {
      "needs_background": "light"
     },
     "output_type": "display_data"
    }
   ],
   "source": [
    "# YOUR CODE HERE\n",
    "fig = plt.figure()\n",
    "ax = fig.add_subplot(111)\n",
    "ax.scatter(transformed_gtdata[:,1], transformed_gtdata[:,2], color=[GetColor(pop) for pop in sample_to_pop.values()])\n",
    "ax.set_xlabel(\"PC2\")\n",
    "ax.set_ylabel(\"PC3\");\n",
    "##The blue cluster (largely indian groups or around that area) is the most separated by PC3"
   ]
  },
  {
   "cell_type": "markdown",
   "metadata": {
    "deletable": false,
    "editable": false,
    "nbgrader": {
     "cell_type": "markdown",
     "checksum": "cf4a37bfc11ff8ce4ea491a2604de7a2",
     "grade": false,
     "grade_id": "cell-21fbb4dfb37ff147",
     "locked": true,
     "schema_version": 3,
     "solution": false
    }
   },
   "source": [
    "# 5. Determining the ancestry of new samples\n",
    "\n",
    "Now, we'll use our labeled reference panel to infer the ancestry of a new genome. As a test case, we have included the \"friend's\" genome at `/datasets/cs185-sp21-A00-public/week3/friend_genome.vcf.gz`.\n",
    "\n",
    "The easiest way to determine the ancestry of the new genome is to make a new VCF file including that sample in our PCA analysis. You can use the following command to merge the 23andme genome and the reference panel VCF:\n",
    "\n",
    "```shell\n",
    "./preprocess_23andme.sh \\\n",
    "  /datasets/cs185-sp21-A00-public/week3/friend_genome.vcf.gz \\\n",
    "  ~/week3/gtdata_1000Genomes_pruned.vcf.gz\n",
    "```\n",
    "\n",
    "This should output a new merged VCF file at `~/week3/gtdata_merged.vcf.gz `\n",
    "\n",
    "**Optional** You are welcome to take a look at the script `./preprocess_23andme.sh`, which performs some necessary cleanup and merges the VCF files. This may look like a lot, and gets into the gory (and sometimes ugly) details of inconsistent annotation across VCF files. It also uses `plink`, which we will officially introduce next time. The script deals with some of these issues (and we're happy to answer questions about why these steps are necessary).\n",
    "* The 23andMe VCF file has some alleles listed as lower case which need to be converted to upper case.\n",
    "* The 23andMe VCF file is missing some variants, has some extra variants, and for some it has the reference vs. alternate allele flipped."
   ]
  },
  {
   "cell_type": "markdown",
   "metadata": {
    "deletable": false,
    "editable": false,
    "nbgrader": {
     "cell_type": "markdown",
     "checksum": "f8625e29c5b8b2a3ab52d76f68fbf2ac",
     "grade": false,
     "grade_id": "cell-40661f4867604b3d",
     "locked": true,
     "schema_version": 3,
     "solution": false
    }
   },
   "source": [
    "**Question 13 (8 pts)**: Rerun PCA analysis using the merged VCF file `~/week3/gtdata_merged.vcf.gz`, using similar steps to what we did above. Include any commands and your plot of PC1 vs. PC2 below. Label the unknown genome with a different color. You may include multiple cells (e.g. one with shell commands and another with python to generate the plot).\n",
    "\n",
    "Hint: it might be hard to see the unknown point (which should be a gray or other different color). You can make the dots smaller with the `s` option to scatter, and do a separate scatter command with only the new point with a larger dot size to make it more visible.\n",
    "\n",
    "Hint: Like above, if you are having trouble, it is always a good idea to debug your code using a smaller example (e.g. by subsetting SNPs) to make sure the code is working before running on everything."
   ]
  },
  {
   "cell_type": "markdown",
   "metadata": {
    "deletable": false,
    "nbgrader": {
     "cell_type": "markdown",
     "checksum": "b4ce1a9a8f2c58c0b97b2201fcfe1025",
     "grade": true,
     "grade_id": "correct-pca-round2",
     "locked": false,
     "points": 3,
     "schema_version": 3,
     "solution": true
    }
   },
   "source": [
    "YOUR ANSWER HERE"
   ]
  },
  {
   "cell_type": "code",
   "execution_count": 92,
   "metadata": {
    "deletable": false,
    "nbgrader": {
     "cell_type": "code",
     "checksum": "3bcff541f5ccee8f8059d15972d142ae",
     "grade": true,
     "grade_id": "correct-pca-round2-cell2",
     "locked": false,
     "points": 5,
     "schema_version": 3,
     "solution": true
    }
   },
   "outputs": [
    {
     "name": "stdout",
     "output_type": "stream",
     "text": [
      "-3.5795943547610563\n",
      "-2.409207839885064\n"
     ]
    },
    {
     "data": {
      "image/png": "[encoded data removed]",
      "text/plain": [
       "<Figure size 432x288 with 1 Axes>"
      ]
     },
     "metadata": {
      "needs_background": "light"
     },
     "output_type": "display_data"
    }
   ],
   "source": [
    "# YOUR CODE HERE\n",
    "\"\"\"\n",
    "./preprocess_23andme.sh \\\n",
    "  /datasets/cs185-sp21-A00-public/week3/friend_genome.vcf.gz \\\n",
    "  ~/week3/gtdata_1000Genomes_pruned.vcf.gz\n",
    "bcftools query -l ~/week3/gtdata_merged.vcf.gz  > ~/week3/gtdata_samples_merged.txt\n",
    "bcftools query -f \"[%GT\\t]\\n\" ~/week3/gtdata_merged.vcf.gz | sed 's/[[:space:]]*$//' | \\\n",
    "    sed 's/\\//|/g' | \\\n",
    "    sed 's/0|0/0/g' | sed 's/0|1/1/g' | sed 's/1|0/1/g' | sed 's/1|1/2/g'| \\\n",
    "    grep -v \"|\"  > ~/week3/gtdata_matrix_merged.tab\n",
    "\"\"\"\n",
    "# Load samples and genotypes. This will take a minute or two.\n",
    "samples = [line.strip() for line in open(\"gtdata_samples_merged.txt\", \"r\").readlines()]\n",
    "gtdata = np.loadtxt(\"gtdata_matrix_merged.tab\", dtype=int, delimiter=\"\\t\")\n",
    "gtdata = gtdata.transpose()\n",
    "sample_to_pop['HG000111'] = \"GBR\" #size of sample_to_pop was wrong so i'm making the length correct\n",
    "sample_to_pop['HG0111'] = \"GBR\"\n",
    "sample_to_pop['HG111'] = \"GBR\"\n",
    "pca = sklearn.decomposition.PCA(n_components=3)\n",
    "pca.fit(gtdata_sub)\n",
    "transformed_gtdata = pca.transform(gtdata_sub)\n",
    "fig = plt.figure()\n",
    "ax = fig.add_subplot(111)\n",
    "ax.scatter(transformed_gtdata[:,0], transformed_gtdata[:,1], color=[GetColor(pop) for pop in sample_to_pop.values()], marker='.')\n",
    "ax.set_xlabel(\"PC1\")\n",
    "ax.set_ylabel(\"PC2\");\n",
    "print(transformed_gtdata[-1,0])\n",
    "print(transformed_gtdata[-1,1])"
   ]
  },
  {
   "cell_type": "markdown",
   "metadata": {
    "deletable": false,
    "editable": false,
    "nbgrader": {
     "cell_type": "markdown",
     "checksum": "749f1b0404fa072e8df40c49ace30aee",
     "grade": false,
     "grade_id": "cell-da899e2fbf896ae9",
     "locked": true,
     "schema_version": 3,
     "solution": false
    }
   },
   "source": [
    "**Question 14 (1 pt)**: What is the ancestry (superpopulation is good enough) of the new sample? Possible answers \"AFR\", \"EUR\", \"EAS\", \"SAS\", \"AMR\". Set your answer in `q_14` below."
   ]
  },
  {
   "cell_type": "code",
   "execution_count": 90,
   "metadata": {
    "deletable": false,
    "nbgrader": {
     "cell_type": "code",
     "checksum": "848a2080cea1b003dbef4502b348c24e",
     "grade": false,
     "grade_id": "cell-a0753eb1a09e81c3",
     "locked": false,
     "schema_version": 3,
     "solution": true,
     "task": false
    }
   },
   "outputs": [],
   "source": [
    "q_14 = \"EUR\" # Possible answers: \"AFR\", \"EUR\", \"EAS\", \"SAS\", \"AMR\"\n",
    "\n",
    "# YOUR CODE HERE\n",
    "#raise NotImplementedError()"
   ]
  },
  {
   "cell_type": "code",
   "execution_count": 91,
   "metadata": {
    "deletable": false,
    "editable": false,
    "nbgrader": {
     "cell_type": "code",
     "checksum": "b00d677cb8685501e60e3b59a4af9f0b",
     "grade": true,
     "grade_id": "cell-1e1c59e728a58adb",
     "locked": true,
     "points": 1,
     "schema_version": 3,
     "solution": false,
     "task": false
    }
   },
   "outputs": [],
   "source": [
    "\"\"\"Basic check on the answer\"\"\"\n",
    "assert(q_14 in [\"AFR\", \"EUR\", \"EAS\", \"SAS\", \"AMR\"])\n",
    "\n"
   ]
  },
  {
   "cell_type": "markdown",
   "metadata": {
    "deletable": false,
    "editable": false,
    "nbgrader": {
     "cell_type": "markdown",
     "checksum": "fbc86e798fc4da4f75f73f99d43dcc27",
     "grade": false,
     "grade_id": "cell-4cf607f9b6ce7bf2",
     "locked": true,
     "schema_version": 3,
     "solution": false
    }
   },
   "source": [
    "## Optional (on your own)\n",
    "\n",
    "If you have done 23andMe, or analyzed your genome through a different company, you're welcome to try this out on your own genome! You just need to download the VCF file available once you're logged in and repeat the steps above using that VCF file. Please don't turn in your answer, this is for fun and for your own curiosity. You will not receive any points for doing this."
   ]
  }
 ],
 "metadata": {
  "kernelspec": {
   "display_name": "Python 3",
   "language": "python",
   "name": "python3"
  },
  "language_info": {
   "codemirror_mode": {
    "name": "ipython",
    "version": 3
   },
   "file_extension": ".py",
   "mimetype": "text/x-python",
   "name": "python",
   "nbconvert_exporter": "python",
   "pygments_lexer": "ipython3",
   "version": "3.6.7"
  }
 },
 "nbformat": 4,
 "nbformat_minor": 2
}
