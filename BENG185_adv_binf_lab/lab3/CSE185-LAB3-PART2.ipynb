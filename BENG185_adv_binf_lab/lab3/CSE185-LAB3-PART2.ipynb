{
 "cells": [
  {
   "cell_type": "markdown",
   "metadata": {
    "deletable": false,
    "editable": false,
    "nbgrader": {
     "cell_type": "markdown",
     "checksum": "eceda8d05c860b5d78e43fbea593d281",
     "grade": false,
     "grade_id": "cell-b0b13e4fedeb5755",
     "locked": true,
     "schema_version": 3,
     "solution": false,
     "task": false
    }
   },
   "source": [
    "# Week 3 Lab: Population genetics (How tall should I be?)\n",
    "\n",
    "\n",
    "## Part 2 (40 pts)\n",
    "\n",
    "Skills covered: GWAS, plink, p-values, plotting\n",
    "\n",
    "Height is a great example of a *complex trait*: On one hand, we know height has some genetic component. For example, height is about 80% correlated between identical twins. On the other hand, height is influenced by many other factors, like diet for example.\n",
    "\n",
    "There is no single gene that controls height. Rather, literally thousands of SNPs and other types of variants in our genome work together to help determine how tall any individual person will be.\n",
    "\n",
    "We would like to determine which positions in the genome are responsible for height. We have collected a cohort of people with diverse backgrounds (the same set of people from Part 1 of the lab) and have also measured their height. The goal of today's lab is to perform a GWAS on these samples to find specific SNPs that are correlated with height. We'll also explore the effects of confounding factors including sex and ancestry on our analysis.\n",
    "\n",
    "**<font color=\"red\">Note</a>**: This notebook may take a long time to validate. Validation is not necessary since this notebook will not be autograded. \n",
    "\n",
    "**<font color=\"red\">Note</a>**: In parts of this lab we'll be using the Python pandas library, which is very useful for analyzing anything where you have tables of data. We'll talk more about this in class and lab.\n",
    "\n",
    "\n",
    "## 1. Meet plink, the swiss army knife for population genetics\n",
    "\n",
    "For our GWAS and related analyses, we'll primarily be using the [plink](https://www.cog-genomics.org/plink/1.9) package, which is a general toolkit for doing all kinds of operations on genetic datasets.\n",
    "\n",
    "Plink can do dozens of different things, which is great but can be a little overwhelming. We won't be using most options available in plink so will walk through the specific flags in most cases. \n",
    "\n",
    "Before diving in, let's get familiar with the plink (yet another) file format(s). In part 1, our genotypes were in VCF format. Plink mostly uses its own format to store genotypes, which is just another way to store the kind of info available in VCF files. As a reminder, data files for this lab can be found in `/datasets/cs185-sp21-A00-public/week3/`.\n",
    "\n",
    "Almost every plink command takes `--file` as an argument, which gives a prefix to the following files:\n",
    "* `$PREFIX.ped`: This file contains all the genotype information. There is one row per individual. The columns are described [here](https://www.cog-genomics.org/plink2/formats#ped). There are 2V+6 fields, where V is the number of variants. The first 6 columns contain: family id, sample id, id of father (if known), id of mother (if known), sex code, and phenotype value. Each column after that gives the genotype for each variant in each sample. There are two columns giving the two alleles of each sample.\n",
    "* `$PREFIX.map`: This file describes the variants whose genotypes are given in the .ped file. It has four columns: chromosome, SNP ID, position in centimorgans (or 0 if ignored), and genomic position.\n",
    "* `$PREFIX.fam`: Same as the first 6 columns of the .ped file.\n",
    "\n",
    "We will have one additional file with phenotype information, which could have alternatively been stored in the .ped file:\n",
    "* `$PREFIX.phen`: This file has 3 columns: family id, sample id, and phenotype. \n",
    "\n",
    "Here our samples aren't related, so we don't need to worry about family IDs. We have just set those to be the same as the sample IDs.\n",
    "\n",
    "Since it takes a while, we have already gone ahead and converted the genotypes from our cohort to plink format. We used the command below to make plink files in the `week3` directory (**don't run this though!**)\n",
    "\n",
    "```shell\n",
    "# Don't run this! Just shown FYI\n",
    "plink --snps-only --vcf gtdata_1000Genomes.vcf.gz --recode --out gtdata_1000Genomes\n",
    "```\n",
    "\n",
    "This produced `gtdata_1000Genomes.ped` and `gtdata_1000Genomes.map`. We also have added a `gtdata_1000Genomes.fam` which includes the sex of each sample, as well as `gtdata_1000Genomes.phen` which includes the phenotype. Here the phenotype (height) is a quantitative value (which may be negative, since it has been normalized to have mean 0 and variance 1).\n",
    "\n",
    "`plink` is very helpful for performing many different operations on genetics datasets, including subsetting samples or variants, computing quality control metrics, and performing association tests. To get started, we will first create a new dataset consisting only of European samples. While we could analyze all samples together, as we'll see below the more homogeneous our data is the better power our GWAS will have in general. We will discuss in class strategies for, and the importance of, performing GWAS in more diverse population groups.\n",
    "\n",
    "**Question 1 (3 pts)**: First create a file at `~/week3/eur_samples.keep` containing the family and sample ids (first two columns of the FAM file) for all samples with ancestries CEU, FIN, GBR, or TSI (these are all European sub populations). Recall you can look up population codes in the file `gtdata_sample_labels.csv` [here](http://www.internationalgenome.org/category/population/). You should be able to do this using UNIX commands. Paste your command(s) below. How many European samples are in your list?\n",
    "\n",
    "Hints (there are many ways to do this):\n",
    "* You could first create a file with European sample IDs by grepping for the corresponding European population groups.\n",
    "* You can then search the `.fam` file for matches to those samples and output only the first two columns (family and sample id).\n",
    "* `grep -f<file.txt>` searches for lines matching any pattern given in `file.txt`"
   ]
  },
  {
   "cell_type": "markdown",
   "metadata": {
    "deletable": false,
    "nbgrader": {
     "cell_type": "markdown",
     "checksum": "b0bf03da43657df2b38dae0a780f1e79",
     "grade": true,
     "grade_id": "cell-dbc163b7ddc8f1d7",
     "locked": false,
     "points": 3,
     "schema_version": 3,
     "solution": true
    }
   },
   "source": [
    "cat gtdata_sample_labels.csv | grep CEU > keep_samples.txt\n",
    "cat gtdata_sample_labels.csv | grep FIN >> keep_samples.txt\n",
    "cat gtdata_sample_labels.csv | grep GBR >> keep_samples.txt\n",
    "cat gtdata_sample_labels.csv | grep TSI >> keep_samples.txt\n",
    "cut -d \",\" -f 1 keep_samples.txt > keep_ids.txt\n",
    "cut -f 1-2 gtdata_1000Genomes.fam | grep -f keep_ids.txt > eur_samples.keep"
   ]
  },
  {
   "cell_type": "markdown",
   "metadata": {
    "deletable": false,
    "editable": false,
    "nbgrader": {
     "cell_type": "markdown",
     "checksum": "47a21a4e9817039636080561df734b30",
     "grade": false,
     "grade_id": "cell-332c23919ced459c",
     "locked": true,
     "schema_version": 3,
     "solution": false
    }
   },
   "source": [
    "**Question 2 (1 pt)**: Now, let's use `plink` to extract data for only these samples. See the [plink page on input filtering](https://www.cog-genomics.org/plink/1.9/filter) to see how to filter a set of samples (hint, using the file we made above) by **modifying** the command below. Paste the command you used in the cell below.\n",
    "\n",
    "```shell\n",
    "plink --file /datasets/cs185-sp21-A00-public/week3/gtdata_1000Genomes --make-bed --out ~/week3/gtdata_EUR\n",
    "```\n",
    "\n",
    "<font color=\"red\">Note, this can take a while to run. If it is taking too long, we have precomputed the results for you here: `/datasets/cs185-sp21-A00-public/week3/precomputed/gtdata_EUR*`. You can copy those to your `~/week3` directory if your command is taking too long. But you still need to paste the command you tried to use below!</font>"
   ]
  },
  {
   "cell_type": "markdown",
   "metadata": {
    "deletable": false,
    "nbgrader": {
     "cell_type": "markdown",
     "checksum": "f51250a45742ce09c36453b522a48cb1",
     "grade": true,
     "grade_id": "correct-plink-eur",
     "locked": false,
     "points": 1,
     "schema_version": 3,
     "solution": true
    }
   },
   "source": [
    "plink --file /datasets/cs185-sp21-A00-public/week3/gtdata_1000Genomes --make-bed --keep eur_samples.keep --out ~/week3/gtdata_EUR"
   ]
  },
  {
   "cell_type": "markdown",
   "metadata": {
    "deletable": false,
    "editable": false,
    "nbgrader": {
     "cell_type": "markdown",
     "checksum": "727d4b859a14747223234cf9a2114276",
     "grade": false,
     "grade_id": "cell-4cde91451b242c0e",
     "locked": true,
     "schema_version": 3,
     "solution": false
    }
   },
   "source": [
    "Note, by including options `--make-bed --out ~/week3/gtdata_EUR`, we are telling `plink` to output files to prefix `~/week3/gtdata_EUR` and to make *binary* files rather than plain text files. Plink binary files consist of a `.bim` and `.bed` file, which contain the same info as the `.ped` and `.map` files (similar to SAM vs. BAM files). (Unfortunately there's not an easy way we know of to look at these binary files similar to `samtools view` for BAM.)\n",
    "\n",
    "For `plink` commands using the binary format, you'll use `--bfile <prefix>` rather than `--file <prefix>` to specify the input files.\n",
    "\n",
    "By the way, these bed files are *different than the BED format we saw on in Part 1* despite having the same name (confusing, I know. sorry we didn't make this up...)."
   ]
  },
  {
   "cell_type": "markdown",
   "metadata": {
    "deletable": false,
    "editable": false,
    "nbgrader": {
     "cell_type": "markdown",
     "checksum": "530c8d838bb81ac4ad1e34ede40540a0",
     "grade": false,
     "grade_id": "cell-a47088e9c5af7b08",
     "locked": true,
     "schema_version": 3,
     "solution": false
    }
   },
   "source": [
    "## 2. Preprocessing the phenotype data\n",
    "\n",
    "Before running your GWAS, it is a good idea to take a look at the phenotype data. The file `gtdata_1000Genomes.phen` in the `week3` directory contains the adjusted height values for each of our samples. Look at the head of the file to see the columns (family ID, sample ID, and phenotype):\n",
    "\n",
    "```\n",
    "head /datasets/cs185-sp21-A00-public/week3/gtdata_1000Genomes.phen\n",
    "```\n",
    "\n",
    "**Question 3 (1 pt):** Make a new phenotype file at `~/week3/gtdata_EUR.phen` with the phenotype data *only* for the same set of European samples. Paste any command(s) you used to do this below."
   ]
  },
  {
   "cell_type": "markdown",
   "metadata": {
    "deletable": false,
    "nbgrader": {
     "cell_type": "markdown",
     "checksum": "55dd3e68dff9770e753a87043ede97cf",
     "grade": true,
     "grade_id": "correct-subset",
     "locked": false,
     "points": 1,
     "schema_version": 3,
     "solution": true
    }
   },
   "source": [
    "cat /datasets/cs185-sp21-A00-public/week3/gtdata_1000Genomes.phen | grep -f keep_ids.txt > ~/week3/gtdata_EUR.phen"
   ]
  },
  {
   "cell_type": "markdown",
   "metadata": {
    "deletable": false,
    "editable": false,
    "nbgrader": {
     "cell_type": "markdown",
     "checksum": "b3a0d20fb0bd7c7773bc22ffd764b68b",
     "grade": false,
     "grade_id": "cell-cda2bbda31a0dca2",
     "locked": true,
     "schema_version": 3,
     "solution": false
    }
   },
   "source": [
    "Now, let's plot a histogram of the data to see how it's distributed. Recall from previous labs, that you should first copy any files that your notebook loads directly (e.g. `gtdata_EUR.phen`) to the same directory as this notebook."
   ]
  },
  {
   "cell_type": "code",
   "execution_count": 2,
   "metadata": {
    "deletable": false,
    "editable": false,
    "nbgrader": {
     "cell_type": "code",
     "checksum": "03bd9f4f1ed0a32aca580d0479a75442",
     "grade": false,
     "grade_id": "cell-7041cd843a237ebe",
     "locked": true,
     "schema_version": 3,
     "solution": false
    }
   },
   "outputs": [
    {
     "name": "stdout",
     "output_type": "stream",
     "text": [
      "Populating the interactive namespace from numpy and matplotlib\n"
     ]
    },
    {
     "data": {
      "image/png": "[encoded data removed]",
      "text/plain": [
       "<Figure size 432x288 with 1 Axes>"
      ]
     },
     "metadata": {
      "needs_background": "light"
     },
     "output_type": "display_data"
    }
   ],
   "source": [
    "%pylab inline\n",
    "\n",
    "import pandas as pd\n",
    "import os\n",
    "\n",
    "# Load phenotyope data\n",
    "pt = pd.read_csv(\"gtdata_EUR.phen\",\n",
    "                delim_whitespace=True, names=[\"FID\",\"sample\",\"phen\"])\n",
    "\n",
    "fig = plt.figure()\n",
    "ax = fig.add_subplot(111)\n",
    "ax.hist(pt[\"phen\"], bins=50)\n",
    "ax.set_xlabel(\"Height\")\n",
    "ax.set_ylabel(\"Frequency\");"
   ]
  },
  {
   "cell_type": "markdown",
   "metadata": {
    "deletable": false,
    "editable": false,
    "nbgrader": {
     "cell_type": "markdown",
     "checksum": "7b2877c294f749212c5fd0ed126e0438",
     "grade": false,
     "grade_id": "cell-af3c34dd74e71523",
     "locked": true,
     "schema_version": 3,
     "solution": false
    }
   },
   "source": [
    "This should look kind of like a bell shaped curve (although a choppy one).\n",
    "\n",
    "However we should still think about potential confounding factors before proceeding. One major factor affecting height is sex: males are typically several inches taller than females. This is for the most part not directly related to genetics, but rather is due to biological differences between sexes.\n",
    "\n",
    "Let's visualize the height distribution separately for males and females.\n",
    "\n",
    "Luckily we have recorded sex information in the fam file. The code below merges the fam file information with our phenotypes dataframe:"
   ]
  },
  {
   "cell_type": "code",
   "execution_count": 3,
   "metadata": {
    "deletable": false,
    "editable": false,
    "nbgrader": {
     "cell_type": "code",
     "checksum": "4b8ee4c0cae6d45e7c8fba4b191dd160",
     "grade": false,
     "grade_id": "cell-a14939a38e734e9d",
     "locked": true,
     "schema_version": 3,
     "solution": false
    }
   },
   "outputs": [
    {
     "data": {
      "text/html": [
       "<div>\n",
       "<style scoped>\n",
       "    .dataframe tbody tr th:only-of-type {\n",
       "        vertical-align: middle;\n",
       "    }\n",
       "\n",
       "    .dataframe tbody tr th {\n",
       "        vertical-align: top;\n",
       "    }\n",
       "\n",
       "    .dataframe thead th {\n",
       "        text-align: right;\n",
       "    }\n",
       "</style>\n",
       "<table border=\"1\" class=\"dataframe\">\n",
       "  <thead>\n",
       "    <tr style=\"text-align: right;\">\n",
       "      <th></th>\n",
       "      <th>sample</th>\n",
       "      <th>Sex</th>\n",
       "      <th>FID</th>\n",
       "      <th>phen</th>\n",
       "    </tr>\n",
       "  </thead>\n",
       "  <tbody>\n",
       "    <tr>\n",
       "      <th>0</th>\n",
       "      <td>NA06984</td>\n",
       "      <td>1</td>\n",
       "      <td>NA06984</td>\n",
       "      <td>2.393471</td>\n",
       "    </tr>\n",
       "    <tr>\n",
       "      <th>1</th>\n",
       "      <td>NA06989</td>\n",
       "      <td>2</td>\n",
       "      <td>NA06989</td>\n",
       "      <td>0.749486</td>\n",
       "    </tr>\n",
       "    <tr>\n",
       "      <th>2</th>\n",
       "      <td>NA12347</td>\n",
       "      <td>1</td>\n",
       "      <td>NA12347</td>\n",
       "      <td>2.715316</td>\n",
       "    </tr>\n",
       "    <tr>\n",
       "      <th>3</th>\n",
       "      <td>NA12348</td>\n",
       "      <td>2</td>\n",
       "      <td>NA12348</td>\n",
       "      <td>1.188012</td>\n",
       "    </tr>\n",
       "    <tr>\n",
       "      <th>4</th>\n",
       "      <td>NA06986</td>\n",
       "      <td>1</td>\n",
       "      <td>NA06986</td>\n",
       "      <td>2.197843</td>\n",
       "    </tr>\n",
       "  </tbody>\n",
       "</table>\n",
       "</div>"
      ],
      "text/plain": [
       "    sample  Sex      FID      phen\n",
       "0  NA06984    1  NA06984  2.393471\n",
       "1  NA06989    2  NA06989  0.749486\n",
       "2  NA12347    1  NA12347  2.715316\n",
       "3  NA12348    2  NA12348  1.188012\n",
       "4  NA06986    1  NA06986  2.197843"
      ]
     },
     "execution_count": 3,
     "metadata": {},
     "output_type": "execute_result"
    }
   ],
   "source": [
    "# Load the fam file into a pandas data frame\n",
    "fam = pd.read_csv(\"/datasets/cs185-sp21-A00-public/week3/gtdata_1000Genomes.fam\",\n",
    "                 delim_whitespace=True, names=[\"FID\",\"sample\",\"MID\",\"PID\",\"Sex\",\"x\"])\n",
    "# Merge the pt and fam data frame\n",
    "data = pd.merge(fam[[\"sample\",\"Sex\"]], pt, on=[\"sample\"])\n",
    "# Peek at the head of the file to make sure it merged correctly.\n",
    "data.head()"
   ]
  },
  {
   "cell_type": "markdown",
   "metadata": {
    "deletable": false,
    "editable": false,
    "nbgrader": {
     "cell_type": "markdown",
     "checksum": "8d01524a7b34dd2608ffe2ea65f93b04",
     "grade": false,
     "grade_id": "cell-179e674848a70159",
     "locked": true,
     "schema_version": 3,
     "solution": false
    }
   },
   "source": [
    "You can use `pandas` to easily take subsets of your data based on different columns. For example, to extract only the male samples:"
   ]
  },
  {
   "cell_type": "code",
   "execution_count": 4,
   "metadata": {
    "deletable": false,
    "editable": false,
    "nbgrader": {
     "cell_type": "code",
     "checksum": "afff00a48d101c4e9affd23aba0449ca",
     "grade": false,
     "grade_id": "cell-ee8ad43baada4dcf",
     "locked": true,
     "schema_version": 3,
     "solution": false
    }
   },
   "outputs": [
    {
     "data": {
      "text/html": [
       "<div>\n",
       "<style scoped>\n",
       "    .dataframe tbody tr th:only-of-type {\n",
       "        vertical-align: middle;\n",
       "    }\n",
       "\n",
       "    .dataframe tbody tr th {\n",
       "        vertical-align: top;\n",
       "    }\n",
       "\n",
       "    .dataframe thead th {\n",
       "        text-align: right;\n",
       "    }\n",
       "</style>\n",
       "<table border=\"1\" class=\"dataframe\">\n",
       "  <thead>\n",
       "    <tr style=\"text-align: right;\">\n",
       "      <th></th>\n",
       "      <th>sample</th>\n",
       "      <th>Sex</th>\n",
       "      <th>FID</th>\n",
       "      <th>phen</th>\n",
       "    </tr>\n",
       "  </thead>\n",
       "  <tbody>\n",
       "    <tr>\n",
       "      <th>0</th>\n",
       "      <td>NA06984</td>\n",
       "      <td>1</td>\n",
       "      <td>NA06984</td>\n",
       "      <td>2.393471</td>\n",
       "    </tr>\n",
       "    <tr>\n",
       "      <th>2</th>\n",
       "      <td>NA12347</td>\n",
       "      <td>1</td>\n",
       "      <td>NA12347</td>\n",
       "      <td>2.715316</td>\n",
       "    </tr>\n",
       "    <tr>\n",
       "      <th>4</th>\n",
       "      <td>NA06986</td>\n",
       "      <td>1</td>\n",
       "      <td>NA06986</td>\n",
       "      <td>2.197843</td>\n",
       "    </tr>\n",
       "    <tr>\n",
       "      <th>6</th>\n",
       "      <td>NA07051</td>\n",
       "      <td>1</td>\n",
       "      <td>NA07051</td>\n",
       "      <td>2.281699</td>\n",
       "    </tr>\n",
       "    <tr>\n",
       "      <th>7</th>\n",
       "      <td>NA12340</td>\n",
       "      <td>1</td>\n",
       "      <td>NA12340</td>\n",
       "      <td>2.826855</td>\n",
       "    </tr>\n",
       "  </tbody>\n",
       "</table>\n",
       "</div>"
      ],
      "text/plain": [
       "    sample  Sex      FID      phen\n",
       "0  NA06984    1  NA06984  2.393471\n",
       "2  NA12347    1  NA12347  2.715316\n",
       "4  NA06986    1  NA06986  2.197843\n",
       "6  NA07051    1  NA07051  2.281699\n",
       "7  NA12340    1  NA12340  2.826855"
      ]
     },
     "execution_count": 4,
     "metadata": {},
     "output_type": "execute_result"
    }
   ],
   "source": [
    "males = data[data[\"Sex\"]==1]\n",
    "males.head()"
   ]
  },
  {
   "cell_type": "markdown",
   "metadata": {
    "deletable": false,
    "editable": false,
    "nbgrader": {
     "cell_type": "markdown",
     "checksum": "1603844b1b71b95f636e3fe4cc27fa2c",
     "grade": false,
     "grade_id": "cell-44726618b2aa9d23",
     "locked": true,
     "schema_version": 3,
     "solution": false
    }
   },
   "source": [
    "**Question 4 (3 pts)**: Create a new histogram that plots male and female heights separately on the same plot using different colors for each. (Note, you can add `alpha=0.5` to your `hist` command to make the histograms transparent, which will allow you to see both histograms at once even if parts of them overlap)."
   ]
  },
  {
   "cell_type": "code",
   "execution_count": 9,
   "metadata": {
    "deletable": false,
    "nbgrader": {
     "cell_type": "code",
     "checksum": "0f7b3dd73ee9c06efdcaa54de423b122",
     "grade": true,
     "grade_id": "cell-e9ebd712f254b163",
     "locked": false,
     "points": 3,
     "schema_version": 3,
     "solution": true
    }
   },
   "outputs": [
    {
     "data": {
      "image/png": "[encoded data removed]",
      "text/plain": [
       "<Figure size 432x288 with 1 Axes>"
      ]
     },
     "metadata": {
      "needs_background": "light"
     },
     "output_type": "display_data"
    }
   ],
   "source": [
    "# YOUR CODE HERE\n",
    "females = data[data[\"Sex\"]==2]\n",
    "fig = plt.figure()\n",
    "ax = fig.add_subplot(111)\n",
    "ax.hist(males[\"phen\"], bins=50, color=\"red\", alpha=0.5)\n",
    "ax.hist(females[\"phen\"], bins=50, color=\"blue\", alpha=0.5)\n",
    "ax.set_xlabel(\"Height (Males = red; Females = blue)\")\n",
    "ax.set_ylabel(\"Frequency\");"
   ]
  },
  {
   "cell_type": "markdown",
   "metadata": {
    "deletable": false,
    "editable": false,
    "nbgrader": {
     "cell_type": "markdown",
     "checksum": "b99e62793ef72ce725e7f5a655b5cc1f",
     "grade": false,
     "grade_id": "cell-c6e43304caab47df",
     "locked": true,
     "schema_version": 3,
     "solution": false
    }
   },
   "source": [
    "You should have found that the male curve is shifted quite a bit to the right. Since we are only interested in finding genetic factors not related to sex in our analysis, let's first mean-center the male and female data separately to put them on the same scale.\n",
    "\n",
    "The code below (1) scales the male and female data to have mean 0, (2) generates a new histogram plotting the two separately like you did above, and (3) outputs a modified phenotype file to `~/week3/gtdata_EUR_adj.phen` with the adjusted phenotypes we will use in our GWAS analysis."
   ]
  },
  {
   "cell_type": "code",
   "execution_count": 10,
   "metadata": {
    "deletable": false,
    "editable": false,
    "nbgrader": {
     "cell_type": "code",
     "checksum": "44886dd5df7ffb1e7e964100bf512dad",
     "grade": false,
     "grade_id": "cell-bf9e79d3376e6221",
     "locked": true,
     "schema_version": 3,
     "solution": false
    }
   },
   "outputs": [
    {
     "data": {
      "image/png": "[encoded data removed]",
      "text/plain": [
       "<Figure size 432x288 with 1 Axes>"
      ]
     },
     "metadata": {
      "needs_background": "light"
     },
     "output_type": "display_data"
    }
   ],
   "source": [
    "mean_male = np.mean(data[data[\"Sex\"]==1][\"phen\"])\n",
    "mean_female = np.mean(data[data[\"Sex\"]==2][\"phen\"])\n",
    "\n",
    "data[\"phen.centered\"] = 0 # Replace with mean-centered phenotypes, scaled separately for males and females\n",
    "\n",
    "# Below, adjust phenotypes for males and females and set to column data[\"phen.centered\"]\n",
    "# This gets applied to each row of the data frame\n",
    "# x[col] accesses the value of col for that row\n",
    "def CenterPhenotype(x, mean_female, mean_male):\n",
    "    if x[\"Sex\"]==1: return x[\"phen\"]-mean_male\n",
    "    elif x[\"Sex\"]==2: return x[\"phen\"]-mean_female\n",
    "    else: return None\n",
    "    \n",
    "# df.apply(lambda x: f(x, ..._, 1) applies a function separately to each row of the dataframe\n",
    "data[\"phen.centered\"] = data.apply(lambda x: CenterPhenotype(x, mean_female, mean_male), 1)\n",
    "\n",
    "# Plot histogram\n",
    "fig = plt.figure()\n",
    "ax = fig.add_subplot(111)\n",
    "ax.hist(data[data[\"Sex\"]==1][\"phen.centered\"], bins=50, color=\"blue\", alpha=0.5)\n",
    "ax.hist(data[data[\"Sex\"]==2][\"phen.centered\"], bins=50, color=\"red\", alpha=0.5)\n",
    "ax.set_xlabel(\"Height\")\n",
    "ax.set_ylabel(\"Frequency\");\n",
    "\n",
    "# Output phenotype file\n",
    "data[[\"FID\",\"sample\",\"phen.centered\"]].to_csv(os.path.join(os.environ[\"HOME\"], \"week3\",\"gtdata_EUR_adj.phen\"), \n",
    "                                              sep=\" \", index=False, header=False)"
   ]
  },
  {
   "cell_type": "markdown",
   "metadata": {
    "deletable": false,
    "editable": false,
    "nbgrader": {
     "cell_type": "markdown",
     "checksum": "e10e6fb7d6a2c61c51844501f882afc0",
     "grade": false,
     "grade_id": "cell-b660d93c097cd992",
     "locked": true,
     "schema_version": 3,
     "solution": false
    }
   },
   "source": [
    "## 3. Performing the GWAS!\n",
    "\n",
    "Now, let's go ahead and perform a GWAS on our data! We can do this using `plink`. We'll use a command of the form:\n",
    "\n",
    "```\n",
    "plink --bfile <prefix> --pheno <phenfile> --out <outprefix> --linear --allow-no-sex --maf 0.05\n",
    "```\n",
    "\n",
    "where:\n",
    "* `--bfile` is the prefix to our `.bim` and `.bed` files as described above.\n",
    "* `--pheno` is hthe path to our phenotype file. Be sure to use the adjusted phenotypes from part 2!.\n",
    "* `--out` is the prefix to name output files. Use a prefix in your `~/week3` directory.\n",
    "* `--linear` tells plink to perform linear regression.\n",
    "* `--allow-no-sex` ignores samples without sex specified (since plink may have overwritten sex labels when subsetting your data. No worries since we already performed our own sex adjustment above).\n",
    "* `--maf 0.05` will only analyze variants with minor allele frequency at least 5% in our cohort.\n",
    "\n",
    "**Question 5 (2 pts)**: Run a GWAS by modifying the `plink` command above. Paste your command below."
   ]
  },
  {
   "cell_type": "markdown",
   "metadata": {
    "deletable": false,
    "nbgrader": {
     "cell_type": "markdown",
     "checksum": "f9bac3a61383d2d3ad41ec2e92061d62",
     "grade": true,
     "grade_id": "correct-gwas1",
     "locked": false,
     "points": 2,
     "schema_version": 3,
     "solution": true
    }
   },
   "source": [
    "plink --bfile gtdata_EUR --pheno gtdata_EUR.phen --out ~/week3/gwas --linear --allow-no-sex --maf 0.05"
   ]
  },
  {
   "cell_type": "markdown",
   "metadata": {
    "deletable": false,
    "editable": false,
    "nbgrader": {
     "cell_type": "markdown",
     "checksum": "9642ae4d3f7580a7578a47726eeaddcb",
     "grade": false,
     "grade_id": "cell-034f8972559e7304",
     "locked": true,
     "schema_version": 3,
     "solution": false
    }
   },
   "source": [
    "This should generate a file `<outprefix>.assoc.linear`. Copy that file to the current directory of this notebook, since we'll use it for some plots below. Take a look at this file. The format is described here: https://www.cog-genomics.org/plink2/formats#assoc. Below shows how to load this file in `pandas` and filter variants with p-value undefined."
   ]
  },
  {
   "cell_type": "code",
   "execution_count": 12,
   "metadata": {
    "deletable": false,
    "editable": false,
    "nbgrader": {
     "cell_type": "code",
     "checksum": "4dc1248bb3e8a3660b6954f50e1b2529",
     "grade": false,
     "grade_id": "example-pandas",
     "locked": true,
     "schema_version": 3,
     "solution": false,
     "task": false
    }
   },
   "outputs": [
    {
     "data": {
      "text/html": [
       "<div>\n",
       "<style scoped>\n",
       "    .dataframe tbody tr th:only-of-type {\n",
       "        vertical-align: middle;\n",
       "    }\n",
       "\n",
       "    .dataframe tbody tr th {\n",
       "        vertical-align: top;\n",
       "    }\n",
       "\n",
       "    .dataframe thead th {\n",
       "        text-align: right;\n",
       "    }\n",
       "</style>\n",
       "<table border=\"1\" class=\"dataframe\">\n",
       "  <thead>\n",
       "    <tr style=\"text-align: right;\">\n",
       "      <th></th>\n",
       "      <th>CHR</th>\n",
       "      <th>SNP</th>\n",
       "      <th>BP</th>\n",
       "      <th>A1</th>\n",
       "      <th>TEST</th>\n",
       "      <th>NMISS</th>\n",
       "      <th>BETA</th>\n",
       "      <th>STAT</th>\n",
       "      <th>P</th>\n",
       "    </tr>\n",
       "  </thead>\n",
       "  <tbody>\n",
       "    <tr>\n",
       "      <th>0</th>\n",
       "      <td>2</td>\n",
       "      <td>rs113106463</td>\n",
       "      <td>11320</td>\n",
       "      <td>A</td>\n",
       "      <td>ADD</td>\n",
       "      <td>395</td>\n",
       "      <td>0.01369</td>\n",
       "      <td>0.16230</td>\n",
       "      <td>0.8711</td>\n",
       "    </tr>\n",
       "    <tr>\n",
       "      <th>1</th>\n",
       "      <td>2</td>\n",
       "      <td>rs13390778</td>\n",
       "      <td>11842</td>\n",
       "      <td>G</td>\n",
       "      <td>ADD</td>\n",
       "      <td>395</td>\n",
       "      <td>0.04266</td>\n",
       "      <td>0.32840</td>\n",
       "      <td>0.7428</td>\n",
       "    </tr>\n",
       "    <tr>\n",
       "      <th>2</th>\n",
       "      <td>2</td>\n",
       "      <td>rs10172644</td>\n",
       "      <td>11985</td>\n",
       "      <td>G</td>\n",
       "      <td>ADD</td>\n",
       "      <td>395</td>\n",
       "      <td>0.00193</td>\n",
       "      <td>0.01499</td>\n",
       "      <td>0.9880</td>\n",
       "    </tr>\n",
       "    <tr>\n",
       "      <th>3</th>\n",
       "      <td>2</td>\n",
       "      <td>rs10171150</td>\n",
       "      <td>12091</td>\n",
       "      <td>G</td>\n",
       "      <td>ADD</td>\n",
       "      <td>395</td>\n",
       "      <td>0.02125</td>\n",
       "      <td>0.16730</td>\n",
       "      <td>0.8672</td>\n",
       "    </tr>\n",
       "    <tr>\n",
       "      <th>4</th>\n",
       "      <td>2</td>\n",
       "      <td>rs72770995</td>\n",
       "      <td>13241</td>\n",
       "      <td>C</td>\n",
       "      <td>ADD</td>\n",
       "      <td>395</td>\n",
       "      <td>0.14450</td>\n",
       "      <td>1.08300</td>\n",
       "      <td>0.2797</td>\n",
       "    </tr>\n",
       "  </tbody>\n",
       "</table>\n",
       "</div>"
      ],
      "text/plain": [
       "   CHR          SNP     BP A1 TEST  NMISS     BETA     STAT       P\n",
       "0    2  rs113106463  11320  A  ADD    395  0.01369  0.16230  0.8711\n",
       "1    2   rs13390778  11842  G  ADD    395  0.04266  0.32840  0.7428\n",
       "2    2   rs10172644  11985  G  ADD    395  0.00193  0.01499  0.9880\n",
       "3    2   rs10171150  12091  G  ADD    395  0.02125  0.16730  0.8672\n",
       "4    2   rs72770995  13241  C  ADD    395  0.14450  1.08300  0.2797"
      ]
     },
     "execution_count": 12,
     "metadata": {},
     "output_type": "execute_result"
    }
   ],
   "source": [
    "assoc = pd.read_csv(\"gtdata_EUR.assoc.linear\", delim_whitespace=True)\n",
    "assoc = assoc[~np.isnan(assoc[\"P\"])]\n",
    "assoc.head()"
   ]
  },
  {
   "cell_type": "markdown",
   "metadata": {
    "deletable": false,
    "editable": false,
    "nbgrader": {
     "cell_type": "markdown",
     "checksum": "eaf4da617026d43c9e04bb095f7890b2",
     "grade": false,
     "grade_id": "cell-8d4bd6679a52fb4f",
     "locked": true,
     "schema_version": 3,
     "solution": false
    }
   },
   "source": [
    "Here:\n",
    "* `CHR` gives the chromosme and `BP` gives the position of each variant.\n",
    "* `SNP` gives the rsID\n",
    "* `A1` gives the minor allele\n",
    "* `TEST` tells us we were doing an \"additive test\" (just standard linear regression)\n",
    "* `BETA` gives the effect size (regression coefficient) and `P` gives the p-value.\n",
    "\n",
    "We'll first want to make some visualizations to get a sense of whether our GWAS is working correctly. \n",
    "\n",
    "**Question 6 (6 pts)**: Generate a QQ Plot to visualize the distribution of p-value association statistics compared to the expected uniform distribution (both should be plotted in -log10 scale, as in the exercises notebook). Also plot a diagonal line to easily compare your p-values to the expected null distribution.\n",
    "\n",
    "Hint: You will probably have to write your own code to do this. Existing Python QQ plot functions don't plot exactly what we want. Your plot should have approximate x-axis limits of 0-7 and y-axis limits of 0-14. "
   ]
  },
  {
   "cell_type": "code",
   "execution_count": 32,
   "metadata": {
    "deletable": false,
    "nbgrader": {
     "cell_type": "code",
     "checksum": "fba4db9bb3d05acf0e8952a7a91ce1dd",
     "grade": true,
     "grade_id": "cell-06a554ede62cd2c8",
     "locked": false,
     "points": 6,
     "schema_version": 3,
     "solution": true
    }
   },
   "outputs": [
    {
     "data": {
      "text/plain": [
       "Text(0, 0.5, 'Observed -log10(P)')"
      ]
     },
     "execution_count": 32,
     "metadata": {},
     "output_type": "execute_result"
    },
    {
     "data": {
      "image/png": "[encoded data removed]",
      "text/plain": [
       "<Figure size 432x288 with 1 Axes>"
      ]
     },
     "metadata": {
      "needs_background": "light"
     },
     "output_type": "display_data"
    }
   ],
   "source": [
    "assoc = pd.read_csv(\"gtdata_EUR.assoc.linear\", delim_whitespace=True)\n",
    "assoc = assoc[~np.isnan(assoc[\"P\"])]\n",
    "pvals = list(assoc[\"P\"])\n",
    "pvals.sort()\n",
    "\n",
    "# YOUR CODE HERE\n",
    "#raise NotImplementedError()\n",
    "unif = list(np.random.uniform(0, 1, size=len(pvals)))\n",
    "unif.sort()\n",
    "\n",
    "fig = plt.figure()\n",
    "ax = fig.add_subplot(111)\n",
    "ax.scatter(-1*np.log10(unif), -1*np.log10(pvals), s=5, color=\"black\")\n",
    "ax.plot([0, 8], [0,8])\n",
    "ax.set_xlim(left=0, right=8)\n",
    "ax.set_ylim(bottom=0, top=max(-1*np.log10([item for item in pvals if item >0])))\n",
    "ax.set_xlabel(\"Expected -log10(P)\")\n",
    "ax.set_ylabel(\"Observed -log10(P)\")\n"
   ]
  },
  {
   "cell_type": "markdown",
   "metadata": {
    "deletable": false,
    "editable": false,
    "nbgrader": {
     "cell_type": "markdown",
     "checksum": "2ebaf1f50ca35d66c5429dab377a079a",
     "grade": false,
     "grade_id": "cell-fe060ab7f1d19e61",
     "locked": true,
     "schema_version": 3,
     "solution": false
    }
   },
   "source": [
    "**Question 7 (2 pts):** Based on your QQ plot, do you think the p-values from our GWAS are reliable? Why or why not?"
   ]
  },
  {
   "cell_type": "markdown",
   "metadata": {
    "deletable": false,
    "nbgrader": {
     "cell_type": "markdown",
     "checksum": "da24e027f06208adcdaf47238af77efd",
     "grade": true,
     "grade_id": "cell-a82ae2edea33f629",
     "locked": false,
     "points": 2,
     "schema_version": 3,
     "solution": true
    }
   },
   "source": [
    "No, they consistently rise above the y=x line, which indicates that there's some other factor that we haven't controlled for that is affecting phenotype"
   ]
  },
  {
   "cell_type": "markdown",
   "metadata": {
    "deletable": false,
    "editable": false,
    "nbgrader": {
     "cell_type": "markdown",
     "checksum": "8bd7695a38d1ba77858526e165d4529e",
     "grade": false,
     "grade_id": "cell-2dc080ea9571216b",
     "locked": true,
     "schema_version": 3,
     "solution": false
    }
   },
   "source": [
    "Let's also make a Manhattan to visualize our data. The cell below does this for you, separately for each chromosome. (You'll have to make your own Manhattan plots below so it's worth looking through this to make sure you understand what it's doing)."
   ]
  },
  {
   "cell_type": "code",
   "execution_count": 33,
   "metadata": {
    "deletable": false,
    "editable": false,
    "nbgrader": {
     "cell_type": "code",
     "checksum": "2a95f16dc6b0fb27016537423f279060",
     "grade": false,
     "grade_id": "cell-8bcb6c78a1153b9a",
     "locked": true,
     "schema_version": 3,
     "solution": false
    }
   },
   "outputs": [
    {
     "data": {
      "image/png": "[encoded data removed]",
      "text/plain": [
       "<Figure size 720x288 with 1 Axes>"
      ]
     },
     "metadata": {
      "needs_background": "light"
     },
     "output_type": "display_data"
    },
    {
     "data": {
      "image/png": "[encoded data removed]",
      "text/plain": [
       "<Figure size 720x288 with 1 Axes>"
      ]
     },
     "metadata": {
      "needs_background": "light"
     },
     "output_type": "display_data"
    }
   ],
   "source": [
    "assoc = pd.read_csv(\"gtdata_EUR.assoc.linear\", delim_whitespace=True)\n",
    "assoc = assoc[~np.isnan(assoc[\"P\"])]\n",
    "\n",
    "assoc = assoc.sort_values([\"CHR\",\"BP\"])\n",
    "color = \"gray\"\n",
    "for chrom in set(assoc[\"CHR\"]):\n",
    "    fig = plt.figure()\n",
    "    fig.set_size_inches((10, 4))\n",
    "    ax = fig.add_subplot(111)\n",
    "    ax.scatter(assoc[assoc[\"CHR\"]==chrom][\"BP\"], -1*np.log10(assoc[assoc[\"CHR\"]==chrom][\"P\"]), s=5, color=color)\n",
    "    ax.set_xlabel(\"Position\")\n",
    "    ax.set_ylabel(\"-log10 P\");\n",
    "    ax.set_title(\"Chromosome %s\"%chrom)"
   ]
  },
  {
   "cell_type": "markdown",
   "metadata": {
    "deletable": false,
    "editable": false,
    "nbgrader": {
     "cell_type": "markdown",
     "checksum": "10f886a371b1499ae59ce49bd0549277",
     "grade": false,
     "grade_id": "cell-2e30e52e72f944d6",
     "locked": true,
     "schema_version": 3,
     "solution": false
    }
   },
   "source": [
    "**Question 8 (2 pts)**: If your analysis worked, you should see a couple of \"skyscrapers\" in your plot. Describe what each tower represents."
   ]
  },
  {
   "cell_type": "markdown",
   "metadata": {
    "deletable": false,
    "nbgrader": {
     "cell_type": "markdown",
     "checksum": "5e1cf88abed5de48b7872cb5c8bb619a",
     "grade": true,
     "grade_id": "correct-LD",
     "locked": false,
     "points": 2,
     "schema_version": 3,
     "solution": true
    }
   },
   "source": [
    "The towers represent positions where the some gene affects our phenotype"
   ]
  },
  {
   "cell_type": "markdown",
   "metadata": {
    "deletable": false,
    "editable": false,
    "nbgrader": {
     "cell_type": "markdown",
     "checksum": "9729081495cbcd613b240d398a9bf4bd",
     "grade": false,
     "grade_id": "cell-4ee71157476e3710",
     "locked": true,
     "schema_version": 3,
     "solution": false
    }
   },
   "source": [
    "**Question 9 (3 pts)**: Using either Python or the command line, find the top 5 associated SNPs. List their rsids below. Use SNPpedia (https://www.snpedia.com/) to look up what phenotypes the SNPs are associated with. You should find that at least one of them (rs12913832) is the main SNP associated with eye color. Does it make sense that the same SNP for eye color would also be related to height? If not, what is an alternative explanation for why that SNP is significant in our GWAS?"
   ]
  },
  {
   "cell_type": "code",
   "execution_count": 64,
   "metadata": {},
   "outputs": [
    {
     "data": {
      "text/html": [
       "<div>\n",
       "<style scoped>\n",
       "    .dataframe tbody tr th:only-of-type {\n",
       "        vertical-align: middle;\n",
       "    }\n",
       "\n",
       "    .dataframe tbody tr th {\n",
       "        vertical-align: top;\n",
       "    }\n",
       "\n",
       "    .dataframe thead th {\n",
       "        text-align: right;\n",
       "    }\n",
       "</style>\n",
       "<table border=\"1\" class=\"dataframe\">\n",
       "  <thead>\n",
       "    <tr style=\"text-align: right;\">\n",
       "      <th></th>\n",
       "      <th>CHR</th>\n",
       "      <th>SNP</th>\n",
       "      <th>BP</th>\n",
       "      <th>A1</th>\n",
       "      <th>TEST</th>\n",
       "      <th>NMISS</th>\n",
       "      <th>BETA</th>\n",
       "      <th>STAT</th>\n",
       "      <th>P</th>\n",
       "    </tr>\n",
       "  </thead>\n",
       "  <tbody>\n",
       "    <tr>\n",
       "      <th>1223281</th>\n",
       "      <td>2</td>\n",
       "      <td>rs199891221</td>\n",
       "      <td>88185205</td>\n",
       "      <td>G</td>\n",
       "      <td>COV1</td>\n",
       "      <td>395</td>\n",
       "      <td>8.896</td>\n",
       "      <td>9.250</td>\n",
       "      <td>1.522000e-18</td>\n",
       "    </tr>\n",
       "    <tr>\n",
       "      <th>3144343</th>\n",
       "      <td>15</td>\n",
       "      <td>rs482425</td>\n",
       "      <td>29585752</td>\n",
       "      <td>A</td>\n",
       "      <td>COV1</td>\n",
       "      <td>395</td>\n",
       "      <td>8.971</td>\n",
       "      <td>9.195</td>\n",
       "      <td>2.319000e-18</td>\n",
       "    </tr>\n",
       "    <tr>\n",
       "      <th>3143077</th>\n",
       "      <td>15</td>\n",
       "      <td>rs146930247</td>\n",
       "      <td>29487830</td>\n",
       "      <td>G</td>\n",
       "      <td>COV1</td>\n",
       "      <td>395</td>\n",
       "      <td>8.731</td>\n",
       "      <td>9.090</td>\n",
       "      <td>5.179000e-18</td>\n",
       "    </tr>\n",
       "    <tr>\n",
       "      <th>3142987</th>\n",
       "      <td>15</td>\n",
       "      <td>rs11634079</td>\n",
       "      <td>29479038</td>\n",
       "      <td>A</td>\n",
       "      <td>COV1</td>\n",
       "      <td>395</td>\n",
       "      <td>8.715</td>\n",
       "      <td>9.065</td>\n",
       "      <td>6.230000e-18</td>\n",
       "    </tr>\n",
       "    <tr>\n",
       "      <th>1242895</th>\n",
       "      <td>2</td>\n",
       "      <td>rs2019747</td>\n",
       "      <td>91690040</td>\n",
       "      <td>G</td>\n",
       "      <td>COV1</td>\n",
       "      <td>395</td>\n",
       "      <td>8.845</td>\n",
       "      <td>9.063</td>\n",
       "      <td>6.336000e-18</td>\n",
       "    </tr>\n",
       "    <tr>\n",
       "      <th>2401069</th>\n",
       "      <td>2</td>\n",
       "      <td>rs55642839</td>\n",
       "      <td>193323585</td>\n",
       "      <td>C</td>\n",
       "      <td>COV1</td>\n",
       "      <td>395</td>\n",
       "      <td>8.912</td>\n",
       "      <td>9.043</td>\n",
       "      <td>7.390000e-18</td>\n",
       "    </tr>\n",
       "    <tr>\n",
       "      <th>2380603</th>\n",
       "      <td>2</td>\n",
       "      <td>rs2043989</td>\n",
       "      <td>191268293</td>\n",
       "      <td>G</td>\n",
       "      <td>COV1</td>\n",
       "      <td>395</td>\n",
       "      <td>9.247</td>\n",
       "      <td>9.038</td>\n",
       "      <td>7.689000e-18</td>\n",
       "    </tr>\n",
       "    <tr>\n",
       "      <th>3275701</th>\n",
       "      <td>15</td>\n",
       "      <td>rs201826164</td>\n",
       "      <td>39329147</td>\n",
       "      <td>T</td>\n",
       "      <td>COV1</td>\n",
       "      <td>395</td>\n",
       "      <td>9.005</td>\n",
       "      <td>9.017</td>\n",
       "      <td>8.998000e-18</td>\n",
       "    </tr>\n",
       "    <tr>\n",
       "      <th>3855739</th>\n",
       "      <td>15</td>\n",
       "      <td>rs1879529</td>\n",
       "      <td>89414295</td>\n",
       "      <td>T</td>\n",
       "      <td>COV1</td>\n",
       "      <td>395</td>\n",
       "      <td>8.906</td>\n",
       "      <td>9.003</td>\n",
       "      <td>1.000000e-17</td>\n",
       "    </tr>\n",
       "    <tr>\n",
       "      <th>2401099</th>\n",
       "      <td>2</td>\n",
       "      <td>rs13428905</td>\n",
       "      <td>193325855</td>\n",
       "      <td>G</td>\n",
       "      <td>COV1</td>\n",
       "      <td>395</td>\n",
       "      <td>8.869</td>\n",
       "      <td>8.996</td>\n",
       "      <td>1.054000e-17</td>\n",
       "    </tr>\n",
       "  </tbody>\n",
       "</table>\n",
       "</div>"
      ],
      "text/plain": [
       "         CHR          SNP         BP A1  TEST  NMISS   BETA   STAT  \\\n",
       "1223281    2  rs199891221   88185205  G  COV1    395  8.896  9.250   \n",
       "3144343   15     rs482425   29585752  A  COV1    395  8.971  9.195   \n",
       "3143077   15  rs146930247   29487830  G  COV1    395  8.731  9.090   \n",
       "3142987   15   rs11634079   29479038  A  COV1    395  8.715  9.065   \n",
       "1242895    2    rs2019747   91690040  G  COV1    395  8.845  9.063   \n",
       "2401069    2   rs55642839  193323585  C  COV1    395  8.912  9.043   \n",
       "2380603    2    rs2043989  191268293  G  COV1    395  9.247  9.038   \n",
       "3275701   15  rs201826164   39329147  T  COV1    395  9.005  9.017   \n",
       "3855739   15    rs1879529   89414295  T  COV1    395  8.906  9.003   \n",
       "2401099    2   rs13428905  193325855  G  COV1    395  8.869  8.996   \n",
       "\n",
       "                    P  \n",
       "1223281  1.522000e-18  \n",
       "3144343  2.319000e-18  \n",
       "3143077  5.179000e-18  \n",
       "3142987  6.230000e-18  \n",
       "1242895  6.336000e-18  \n",
       "2401069  7.390000e-18  \n",
       "2380603  7.689000e-18  \n",
       "3275701  8.998000e-18  \n",
       "3855739  1.000000e-17  \n",
       "2401099  1.054000e-17  "
      ]
     },
     "execution_count": 64,
     "metadata": {},
     "output_type": "execute_result"
    }
   ],
   "source": [
    "#assoc.head()\n",
    "sortd = assoc.sort_values(by=[\"P\"])\n",
    "sortd.head()"
   ]
  },
  {
   "cell_type": "markdown",
   "metadata": {
    "deletable": false,
    "nbgrader": {
     "cell_type": "markdown",
     "checksum": "b0a6e2d8bc9ccd8b67a6dabb0a68bcd2",
     "grade": true,
     "grade_id": "correct-gwas-top-snps",
     "locked": false,
     "points": 3,
     "schema_version": 3,
     "solution": true
    }
   },
   "source": [
    "It could be possible if a population that tends to be taller also tends to have a certain eye color (i.e. perhaps people with blue eyes tend to be from northern europe and they tend to be taller)"
   ]
  },
  {
   "cell_type": "markdown",
   "metadata": {
    "deletable": false,
    "editable": false,
    "nbgrader": {
     "cell_type": "markdown",
     "checksum": "1eb0ad021346a3254a2d82aa6dab5b19",
     "grade": false,
     "grade_id": "cell-7b69395918038efd",
     "locked": true,
     "schema_version": 3,
     "solution": false
    }
   },
   "source": [
    "## 4. Controlling for population structure\n",
    "\n",
    "You likely found evidence above that our p-values aren't behaving quite like we'd want them to in a reliable GWAS. One likely explanation is that we're clumping together multiple different ancestry groups from Europe into a single analysis. It is well known that Southern Europeans are on average quite a bit shorter than Northern Europeans (https://www.scmp.com/news/world/article/1858274/tall-story-why-northern-europeans-tower-over-their-southern-counterparts). This could be for a variety of reasons, including genetic, diet, or environmental factors.\n",
    "\n",
    "But Northern vs. Southern Europeans also have thousands of genetic differences that have occurred randomly since the two population groups split, which for the most part have nothing to do with height! Therefore, if we don't control for ancestry, our GWAS is likely to pick up things (like eye color!) that happen to be very different between different European populations but that are not related to the phenotype we're studying.\n",
    "\n",
    "PCA is a great way to visualize ancestry of our samples. Let's use plink to perform PCA on our cohort (which by the way you could have used to perform PCA in part 1 :) ).\n",
    "\n",
    "```\n",
    "plink --bfile ~/week3/gtdata_EUR --out ~/week3/gtdata_EUR --pca 5\n",
    "```\n",
    "\n",
    "This should output a file `~/week3/gtdata_EUR.eigenvec` with the value along each principal component for each sample for each of the first 5 principle components. Copy that file over to the current directory of this notebook for plotting.\n",
    "\n",
    "**Question 10 (5 pts)**: Make a scatter plot of PC1 vs. PC2 for your samples. Color each sample by it's population (not superpopulation like in part 1). Recall the European populations we are using are CEU, GBR, TSI, FIN. Code you wrote for plotting in Monday's lab should be helpful here."
   ]
  },
  {
   "cell_type": "code",
   "execution_count": 54,
   "metadata": {
    "deletable": false,
    "nbgrader": {
     "cell_type": "code",
     "checksum": "3949120dfbade3256f6b9db2df8d1b6d",
     "grade": true,
     "grade_id": "correct-eur-pca",
     "locked": false,
     "points": 5,
     "schema_version": 3,
     "solution": true
    }
   },
   "outputs": [
    {
     "data": {
      "image/png": "[encoded data removed]",
      "text/plain": [
       "<Figure size 432x288 with 1 Axes>"
      ]
     },
     "metadata": {
      "needs_background": "light"
     },
     "output_type": "display_data"
    }
   ],
   "source": [
    "# Load sample data\n",
    "sample_to_pop = {}\n",
    "with open(\"/datasets/cs185-sp21-A00-public/week3/gtdata_sample_labels.csv\") as f:\n",
    "    for line in f:\n",
    "        s, pop = line.strip().split(\",\")\n",
    "        if pop in [\"CEU\", \"GBR\", \"TSI\", \"FIN\"]:\n",
    "            sample_to_pop[s] = pop\n",
    "\n",
    "def GetColor(sample, sample_to_pop):\n",
    "    if sample_to_pop[sample] == \"CEU\": return \"red\" #N/W Eur\n",
    "    if sample_to_pop[sample] == \"GBR\": return \"blue\" #Bri'ish\n",
    "    if sample_to_pop[sample] == \"TSI\": return \"green\" #Italy\n",
    "    if sample_to_pop[sample] == \"FIN\": return \"orange\" #Fin\n",
    "    return \"gray\"\n",
    "\n",
    "pcs = pd.read_csv(\"gtdata_EUR.eigenvec\",\n",
    "                 delim_whitespace=True, names=[\"FID\",\"sample\",\"PC1\",\"PC2\",\"PC3\",\"PC4\",\"PC5\"])\n",
    "\n",
    "\n",
    "# YOUR CODE HERE\n",
    "fig = plt.figure()\n",
    "ax = fig.add_subplot(111)\n",
    "ax.scatter(pcs[\"PC1\"], pcs[\"PC2\"], color=[GetColor(pop, sample_to_pop) for pop in sample_to_pop])\n",
    "ax.set_xlabel(\"PC1\")\n",
    "ax.set_ylabel(\"PC2\");\n"
   ]
  },
  {
   "cell_type": "markdown",
   "metadata": {
    "deletable": false,
    "editable": false,
    "nbgrader": {
     "cell_type": "markdown",
     "checksum": "631940fc9371ab86e39e329926a99a52",
     "grade": false,
     "grade_id": "cell-53e1f6ba8dd1d728",
     "locked": true,
     "schema_version": 3,
     "solution": false
    }
   },
   "source": [
    "**Question 11 (2 pts)**: What populations are separated by PC1? PC2? Do these PCs appear to correspond to any particular geographical axes? (e.g. north vs. south, east vs. west?) Which populations appear to be most closely related?"
   ]
  },
  {
   "cell_type": "markdown",
   "metadata": {
    "deletable": false,
    "nbgrader": {
     "cell_type": "markdown",
     "checksum": "50b3ca3ca759c28d624a6e6c1defeccc",
     "grade": true,
     "grade_id": "cell-cd777c6549ba5868",
     "locked": false,
     "points": 2,
     "schema_version": 3,
     "solution": true
    }
   },
   "source": [
    "TSI / GBR&CEU / FIN are the three notable separations by PC1&2. British and Americans w/ Northern/Western European background are the most related, probably since the American group came from Britain at some point\n",
    "Italy and Finland are well separated and they are in the South/North of Europe, respectively"
   ]
  },
  {
   "cell_type": "markdown",
   "metadata": {
    "deletable": false,
    "editable": false,
    "nbgrader": {
     "cell_type": "markdown",
     "checksum": "7a445221615b457d0c4d377ff5b5596f",
     "grade": false,
     "grade_id": "cell-b2f6132468791a49",
     "locked": true,
     "schema_version": 3,
     "solution": false
    }
   },
   "source": [
    "#### We can use PCA (eigenvectors) file directly as input to `plink` to include as covariates in our GWAS analysis. \n",
    "\n",
    "Look at the [plink documentation](https://www.cog-genomics.org/plink/1.9/input#covar) to learn how to add covariates to our analysis. You should be able to directly use the file `~/week3/gtdata_EUR.eigenvec` you created above as input to the `--covar` flag. Also you can specify `--linear hide-covar` to only output the variant p-value (by default `plink` also outputs individual tests for each covariate at each SNP).\n",
    "\n",
    "**Question 12 (4 pts)**: Rerun your GWAS analysis with the top 5 PCs as covariates and removing outlier samples. Regenerate your QQ plot and Manhattan plot using the new results. Paste any commands you use below as comments. If your file loads any plink output for plotting, make sure you first copy it to this directory.\n",
    "\n",
    "Note: running plink with `--covar` usually takes significantly longer than running it without covariates. Our solution took ~20 minutes to run."
   ]
  },
  {
   "cell_type": "code",
   "execution_count": 68,
   "metadata": {
    "deletable": false,
    "nbgrader": {
     "cell_type": "code",
     "checksum": "8eecc4b90f5b04c5e7704c5c099b0784",
     "grade": true,
     "grade_id": "correct-gwas-rerun",
     "locked": false,
     "points": 4,
     "schema_version": 3,
     "solution": true
    }
   },
   "outputs": [
    {
     "data": {
      "image/png": "[encoded data removed]",
      "text/plain": [
       "<Figure size 720x288 with 1 Axes>"
      ]
     },
     "metadata": {
      "needs_background": "light"
     },
     "output_type": "display_data"
    },
    {
     "data": {
      "image/png": "[encoded data removed]",
      "text/plain": [
       "<Figure size 720x288 with 1 Axes>"
      ]
     },
     "metadata": {
      "needs_background": "light"
     },
     "output_type": "display_data"
    }
   ],
   "source": [
    "# YOUR CODE HERE\n",
    "\"\"\"\n",
    "plink --bfile gtdata_EUR --pheno gtdata_EUR.phen --out ~/week3/gwas --linear hide-covar --allow-no-sex --maf 0.05 --covar ~/week3/gtdata_EUR.eigenvec\n",
    "\"\"\"\n",
    "assoc = pd.read_csv(\"gwas.assoc.linear\", delim_whitespace=True)\n",
    "assoc = assoc[~np.isnan(assoc[\"P\"])]\n",
    "\n",
    "assoc = assoc.sort_values([\"CHR\",\"BP\"])\n",
    "color = \"gray\"\n",
    "for chrom in set(assoc[\"CHR\"]):\n",
    "    fig = plt.figure()\n",
    "    fig.set_size_inches((10, 4))\n",
    "    ax = fig.add_subplot(111)\n",
    "    ax.scatter(assoc[assoc[\"CHR\"]==chrom][\"BP\"], -1*np.log10(assoc[assoc[\"CHR\"]==chrom][\"P\"]), s=5, color=color)\n",
    "    ax.set_xlabel(\"Position\")\n",
    "    ax.set_ylabel(\"-log10 P\");\n",
    "    ax.set_title(\"Chromosome %s\"%chrom)"
   ]
  },
  {
   "cell_type": "code",
   "execution_count": 69,
   "metadata": {},
   "outputs": [
    {
     "data": {
      "text/plain": [
       "Text(0, 0.5, 'Observed -log10(P)')"
      ]
     },
     "execution_count": 69,
     "metadata": {},
     "output_type": "execute_result"
    },
    {
     "data": {
      "image/png": "[encoded data removed]",
      "text/plain": [
       "<Figure size 432x288 with 1 Axes>"
      ]
     },
     "metadata": {
      "needs_background": "light"
     },
     "output_type": "display_data"
    }
   ],
   "source": [
    "assoc = pd.read_csv(\"gwas.assoc.linear\", delim_whitespace=True)\n",
    "assoc = assoc[~np.isnan(assoc[\"P\"])]\n",
    "pvals = list(assoc[\"P\"])\n",
    "pvals.sort()\n",
    "\n",
    "# YOUR CODE HERE\n",
    "#raise NotImplementedError()\n",
    "unif = list(np.random.uniform(0, 1, size=len(pvals)))\n",
    "unif.sort()\n",
    "\n",
    "fig = plt.figure()\n",
    "ax = fig.add_subplot(111)\n",
    "ax.scatter(-1*np.log10(unif), -1*np.log10(pvals), s=5, color=\"black\")\n",
    "ax.plot([0, 8], [0,8])\n",
    "ax.set_xlim(left=0, right=8)\n",
    "ax.set_ylim(bottom=0, top=max(-1*np.log10([item for item in pvals if item >0])))\n",
    "ax.set_xlabel(\"Expected -log10(P)\")\n",
    "ax.set_ylabel(\"Observed -log10(P)\")"
   ]
  },
  {
   "cell_type": "markdown",
   "metadata": {
    "deletable": false,
    "editable": false,
    "nbgrader": {
     "cell_type": "markdown",
     "checksum": "c4cc95811a92921de60fdb4f4ae02da7",
     "grade": false,
     "grade_id": "cell-586d458ff28277fc",
     "locked": true,
     "schema_version": 3,
     "solution": false
    }
   },
   "source": [
    "**Question 13 (1 pt)**: Based on your updated QQ plot after controlling for covariates, do you think the p-values from our GWAS are reliable? why or why not?"
   ]
  },
  {
   "cell_type": "markdown",
   "metadata": {
    "deletable": false,
    "nbgrader": {
     "cell_type": "markdown",
     "checksum": "9f119e320ccc7938dbe6a117b0724d8e",
     "grade": true,
     "grade_id": "correct-gwas-interpret",
     "locked": false,
     "points": 1,
     "schema_version": 3,
     "solution": true
    }
   },
   "source": [
    "Yes, most SNPs are equal to what we'd expect from randomness except for a few SNPs that are enriched"
   ]
  },
  {
   "cell_type": "code",
   "execution_count": 70,
   "metadata": {},
   "outputs": [
    {
     "data": {
      "text/html": [
       "<div>\n",
       "<style scoped>\n",
       "    .dataframe tbody tr th:only-of-type {\n",
       "        vertical-align: middle;\n",
       "    }\n",
       "\n",
       "    .dataframe tbody tr th {\n",
       "        vertical-align: top;\n",
       "    }\n",
       "\n",
       "    .dataframe thead th {\n",
       "        text-align: right;\n",
       "    }\n",
       "</style>\n",
       "<table border=\"1\" class=\"dataframe\">\n",
       "  <thead>\n",
       "    <tr style=\"text-align: right;\">\n",
       "      <th></th>\n",
       "      <th>CHR</th>\n",
       "      <th>SNP</th>\n",
       "      <th>BP</th>\n",
       "      <th>A1</th>\n",
       "      <th>TEST</th>\n",
       "      <th>NMISS</th>\n",
       "      <th>BETA</th>\n",
       "      <th>STAT</th>\n",
       "      <th>P</th>\n",
       "    </tr>\n",
       "  </thead>\n",
       "  <tbody>\n",
       "    <tr>\n",
       "      <th>90162</th>\n",
       "      <td>2</td>\n",
       "      <td>rs17511102</td>\n",
       "      <td>37960613</td>\n",
       "      <td>T</td>\n",
       "      <td>ADD</td>\n",
       "      <td>395</td>\n",
       "      <td>-0.9951</td>\n",
       "      <td>-6.538</td>\n",
       "      <td>1.964000e-10</td>\n",
       "    </tr>\n",
       "    <tr>\n",
       "      <th>90174</th>\n",
       "      <td>2</td>\n",
       "      <td>rs11683151</td>\n",
       "      <td>37963965</td>\n",
       "      <td>G</td>\n",
       "      <td>ADD</td>\n",
       "      <td>395</td>\n",
       "      <td>-0.7438</td>\n",
       "      <td>-5.823</td>\n",
       "      <td>1.216000e-08</td>\n",
       "    </tr>\n",
       "    <tr>\n",
       "      <th>90171</th>\n",
       "      <td>2</td>\n",
       "      <td>rs10490279</td>\n",
       "      <td>37963194</td>\n",
       "      <td>T</td>\n",
       "      <td>ADD</td>\n",
       "      <td>395</td>\n",
       "      <td>-0.7438</td>\n",
       "      <td>-5.823</td>\n",
       "      <td>1.216000e-08</td>\n",
       "    </tr>\n",
       "    <tr>\n",
       "      <th>90217</th>\n",
       "      <td>2</td>\n",
       "      <td>rs7566658</td>\n",
       "      <td>37987124</td>\n",
       "      <td>G</td>\n",
       "      <td>ADD</td>\n",
       "      <td>395</td>\n",
       "      <td>-0.7236</td>\n",
       "      <td>-5.658</td>\n",
       "      <td>2.986000e-08</td>\n",
       "    </tr>\n",
       "    <tr>\n",
       "      <th>90223</th>\n",
       "      <td>2</td>\n",
       "      <td>rs74184888</td>\n",
       "      <td>37988449</td>\n",
       "      <td>T</td>\n",
       "      <td>ADD</td>\n",
       "      <td>395</td>\n",
       "      <td>-0.7236</td>\n",
       "      <td>-5.658</td>\n",
       "      <td>2.986000e-08</td>\n",
       "    </tr>\n",
       "  </tbody>\n",
       "</table>\n",
       "</div>"
      ],
      "text/plain": [
       "       CHR         SNP        BP A1 TEST  NMISS    BETA   STAT             P\n",
       "90162    2  rs17511102  37960613  T  ADD    395 -0.9951 -6.538  1.964000e-10\n",
       "90174    2  rs11683151  37963965  G  ADD    395 -0.7438 -5.823  1.216000e-08\n",
       "90171    2  rs10490279  37963194  T  ADD    395 -0.7438 -5.823  1.216000e-08\n",
       "90217    2   rs7566658  37987124  G  ADD    395 -0.7236 -5.658  2.986000e-08\n",
       "90223    2  rs74184888  37988449  T  ADD    395 -0.7236 -5.658  2.986000e-08"
      ]
     },
     "execution_count": 70,
     "metadata": {},
     "output_type": "execute_result"
    }
   ],
   "source": [
    "sortd = assoc.sort_values(by=[\"P\"])\n",
    "sortd.head()"
   ]
  },
  {
   "cell_type": "markdown",
   "metadata": {
    "deletable": false,
    "editable": false,
    "nbgrader": {
     "cell_type": "markdown",
     "checksum": "7fed64afdee5715521b225367ae68053",
     "grade": false,
     "grade_id": "cell-93fc8c3dda4e52fc",
     "locked": true,
     "schema_version": 3,
     "solution": false
    }
   },
   "source": [
    "**Question 14 (2 pts)**: What happened to the top signal on chromosome 15 you saw before adjusting for ancestry. Is it still there? Why or why not?"
   ]
  },
  {
   "cell_type": "markdown",
   "metadata": {
    "deletable": false,
    "nbgrader": {
     "cell_type": "markdown",
     "checksum": "06136492af604c6a91ef58346ad31d20",
     "grade": true,
     "grade_id": "cell-8e8d390bc3aa9bb5",
     "locked": false,
     "points": 2,
     "schema_version": 3,
     "solution": true
    }
   },
   "source": [
    "I don't see it anymore, it's likely because it was explained by the difference in ancestry (instead of height)"
   ]
  },
  {
   "cell_type": "markdown",
   "metadata": {
    "deletable": false,
    "editable": false,
    "nbgrader": {
     "cell_type": "markdown",
     "checksum": "3161c571f7c9fc588cc5bbc0db39b943",
     "grade": false,
     "grade_id": "cell-1de4fb4b582da911",
     "locked": true,
     "schema_version": 3,
     "solution": false
    }
   },
   "source": [
    "**Question 15 (3 pts)**: Take a look at the top signal (should be on chromosome 2). Search for this region (perhaps by rsid of the top SNP) and try to see if this region has been previously associated with height. Are there any genes nearby (within 100kb) of the top hit? Hypothesize why this locus might be involved in height. (but note, I don't think anyone really knows yet!)"
   ]
  },
  {
   "cell_type": "markdown",
   "metadata": {
    "deletable": false,
    "nbgrader": {
     "cell_type": "markdown",
     "checksum": "8702a65816c8214577b0c0398d961281",
     "grade": true,
     "grade_id": "correct-height-gwas",
     "locked": false,
     "points": 3,
     "schema_version": 3,
     "solution": true
    }
   },
   "source": [
    "It has been associated with height previously. Just looking at the top 5 SNPS, all of them are close together on chromosome 2. These could be a group of genes that are inherited together frequently (since they are so close), where one of them is the causal gene."
   ]
  },
  {
   "cell_type": "code",
   "execution_count": null,
   "metadata": {},
   "outputs": [],
   "source": []
  }
 ],
 "metadata": {
  "kernelspec": {
   "display_name": "Python 3",
   "language": "python",
   "name": "python3"
  },
  "language_info": {
   "codemirror_mode": {
    "name": "ipython",
    "version": 3
   },
   "file_extension": ".py",
   "mimetype": "text/x-python",
   "name": "python",
   "nbconvert_exporter": "python",
   "pygments_lexer": "ipython3",
   "version": "3.8.5"
  }
 },
 "nbformat": 4,
 "nbformat_minor": 4
}
