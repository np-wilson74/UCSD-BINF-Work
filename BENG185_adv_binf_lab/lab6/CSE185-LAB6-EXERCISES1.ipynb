{
 "cells": [
  {
   "cell_type": "markdown",
   "metadata": {
    "deletable": false,
    "editable": false,
    "nbgrader": {
     "cell_type": "markdown",
     "checksum": "77ec2d6bff324f4921b59f38e4dcdcf3",
     "grade": false,
     "grade_id": "cell-16e32ecf9293d9b6",
     "locked": true,
     "schema_version": 3,
     "solution": false
    }
   },
   "source": [
    "# Week 6 \n",
    "## Exercises 1\n",
    "\n",
    "In this exercise, we will explore some issues to consider when designing single cell RNA-seq experiments.\n",
    "\n",
    "## 1. Droplet tuning\n",
    "\n",
    "When performing scRNA-seq, we would like to design our experiment such that most of the time, each droplet will get exactly one bead and one cell. Then, we will get what we want: one unique barcode to denote each individual cell that was sequenced.\n",
    "\n",
    "But occassionally, things can go wrong. For instance:\n",
    "\n",
    "* Sometimes a droplet might not get a bead. Or it might not get a cell. If it doesn't get both of these things, we won't get any good data from that droplet.\n",
    "* Sometimes, we might end up with two or more beads in a single droplet. This will result in some transcripts from the same cell being labeled with different barcodes.\n",
    "* Sometimes, we might end up with two or more cells in a single droplet, which will both get the same barcode. This is called a ***technical doublet***.\n",
    "* We might also end up with multiple different beads containing the same barcode in different droplets. If barcodes get repeated across droplets, we can get another form of doublets, called ***synthetic doublets***. In the data, this looks similar to the situation above: two cells got the same barcode.\n",
    "\n",
    "Both beads and cells get loaded into droplets at a rate that follows a Poisson distribution:\n",
    "\n",
    "$$ P(\\text{droplet has j beads})  = \\frac{e^{-\\mu} \\mu^j}{j!}$$\n",
    "where $\\mu$ is the mean number of beads loaded per droplet. Similarly:\n",
    "\n",
    "\n",
    "$$ P(\\text{droplet has k cells})  = \\frac{e^{-\\lambda} \\lambda^k}{k!}$$\n",
    "where $\\lambda$ is the mean number of cells loaded per droplet. \n",
    "\n",
    "Then we can define:\n",
    "\n",
    "* **cell capture rate**: is the probability that a droplet gets at least one bead. This is $1-P(\\text{droplet has 0 beads})$, or $1-e^{-\\mu}$ using the Poisson rate formula above\n",
    "* **cell duplicate rate**: is the rate at which cells are associated with two ore more different barcodes. That is, what fraction of all droplets with at least one barcode actually have more than one barcode. This is equal to $\\frac{P(\\text{droplet has 2+ beads})}{P(\\text{droplet has 1+ beads})}$, or $$\\frac{1-e^{-\\mu}-\\mu e^{-\\mu}}{1-e^{-\\mu}}$$\n",
    "\n",
    "We'd like to not waste any reagents, and make sure as many droplets as possible get a bead. On the other hand, we'd like to avoid putting more than one bead in a droplet, which will make our data messy. So, you can see we have a tradeoff! Too few beads is bad. Too many beads is also bad. The plot below illustrates this tradeoff:"
   ]
  },
  {
   "cell_type": "code",
   "execution_count": 1,
   "metadata": {
    "deletable": false,
    "editable": false,
    "nbgrader": {
     "cell_type": "code",
     "checksum": "85e5de8a18186dd0bcdda5f57a73e17c",
     "grade": false,
     "grade_id": "cell-1154c3e145aea111",
     "locked": true,
     "schema_version": 3,
     "solution": false
    }
   },
   "outputs": [
    {
     "name": "stdout",
     "output_type": "stream",
     "text": [
      "Populating the interactive namespace from numpy and matplotlib\n"
     ]
    },
    {
     "name": "stderr",
     "output_type": "stream",
     "text": [
      "/opt/conda/lib/python3.6/site-packages/ipykernel_launcher.py:6: RuntimeWarning: invalid value encountered in double_scalars\n",
      "  \n"
     ]
    },
    {
     "data": {
      "image/png": "[encoded data removed]",
      "text/plain": [
       "<Figure size 432x288 with 1 Axes>"
      ]
     },
     "metadata": {
      "needs_background": "light"
     },
     "output_type": "display_data"
    }
   ],
   "source": [
    "%pylab inline\n",
    "import numpy as np\n",
    "mus = np.arange(0, 2, 0.1)\n",
    "\n",
    "capture_rates = [1-np.exp(-1*mu) for mu in mus]\n",
    "dup_rates = [(1-np.exp(-1*mu)-mu*np.exp(-1*mu))/(1-np.exp(-1*mu)) for mu in mus]\n",
    "\n",
    "fig = plt.figure()\n",
    "ax = fig.add_subplot(111)\n",
    "ax.plot(capture_rates, dup_rates)\n",
    "ax.set_xlabel(\"Capture rate\")\n",
    "ax.set_ylabel(\"Duplicate rate\");"
   ]
  },
  {
   "cell_type": "markdown",
   "metadata": {
    "deletable": false,
    "editable": false,
    "nbgrader": {
     "cell_type": "markdown",
     "checksum": "8ffedf4ddfee0600ae1fa690eca86425",
     "grade": false,
     "grade_id": "cell-f904db627268df15",
     "locked": true,
     "schema_version": 3,
     "solution": false
    }
   },
   "source": [
    "A similar tradeoff exists when determining the number of cells per droplet (above the plot considers how many beads to use)."
   ]
  },
  {
   "cell_type": "markdown",
   "metadata": {
    "deletable": false,
    "editable": false,
    "nbgrader": {
     "cell_type": "markdown",
     "checksum": "6263fab1d377d96c6c36d1933a9f790b",
     "grade": false,
     "grade_id": "cell-6d0f7b2e159f85ce",
     "locked": true,
     "schema_version": 3,
     "solution": false
    }
   },
   "source": [
    "**Question 1 (2 pts)**: If we design our experiment such that on average each droplet gets 0.5 beads, how many droplets will get at least one bead? (i.e., what is the cell capture rate?). Set the variable `capture_rate` below to your answer."
   ]
  },
  {
   "cell_type": "code",
   "execution_count": 4,
   "metadata": {
    "deletable": false,
    "nbgrader": {
     "cell_type": "code",
     "checksum": "8ffaa10ce8a917cf958f625329496789",
     "grade": false,
     "grade_id": "q1-answer",
     "locked": false,
     "schema_version": 3,
     "solution": true,
     "task": false
    }
   },
   "outputs": [],
   "source": [
    "capture_rate = 0 # set to your answer\n",
    "# YOUR CODE HERE\n",
    "cell_capture_rate = 1 - exp(-(0.5))"
   ]
  },
  {
   "cell_type": "code",
   "execution_count": 5,
   "metadata": {
    "deletable": false,
    "editable": false,
    "nbgrader": {
     "cell_type": "code",
     "checksum": "e16699e8e0bbd7db22dd5efb735306b9",
     "grade": true,
     "grade_id": "q1-test",
     "locked": true,
     "points": 2,
     "schema_version": 3,
     "solution": false,
     "task": false
    }
   },
   "outputs": [],
   "source": [
    "assert(cell_capture_rate > 0.35 and cell_capture_rate < 0.40)"
   ]
  },
  {
   "cell_type": "markdown",
   "metadata": {
    "deletable": false,
    "editable": false,
    "nbgrader": {
     "cell_type": "markdown",
     "checksum": "35806d8050603b00d83c4e043acf44a0",
     "grade": false,
     "grade_id": "cell-d9d6a3827c0a722a",
     "locked": true,
     "schema_version": 3,
     "solution": false
    }
   },
   "source": [
    "**Question 2 (2 pts)**: For the same experiment, what will be the cell duplicate rate? Set the variable `duplicate_rate` to your answer below."
   ]
  },
  {
   "cell_type": "code",
   "execution_count": 6,
   "metadata": {
    "deletable": false,
    "nbgrader": {
     "cell_type": "code",
     "checksum": "4123f7ab99dfbc46fd305c876e60ea87",
     "grade": false,
     "grade_id": "q2-answer",
     "locked": false,
     "schema_version": 3,
     "solution": true,
     "task": false
    }
   },
   "outputs": [],
   "source": [
    "duplicate_rate = 0 # set to your answer\n",
    "# YOUR CODE HERE\n",
    "mu = 0.5\n",
    "duplicate_rate = (1 - exp(-mu)-mu*exp(-mu))/(1-exp(-mu))"
   ]
  },
  {
   "cell_type": "code",
   "execution_count": 7,
   "metadata": {
    "deletable": false,
    "editable": false,
    "nbgrader": {
     "cell_type": "code",
     "checksum": "e16730fd1381099ffd4e3a68994eaae9",
     "grade": true,
     "grade_id": "q2-test",
     "locked": true,
     "points": 2,
     "schema_version": 3,
     "solution": false,
     "task": false
    }
   },
   "outputs": [],
   "source": [
    "assert(duplicate_rate > 0.21 and duplicate_rate < 0.24)"
   ]
  },
  {
   "cell_type": "markdown",
   "metadata": {
    "deletable": false,
    "editable": false,
    "nbgrader": {
     "cell_type": "markdown",
     "checksum": "d759e62a331523e9ac88eaa435cc5538",
     "grade": false,
     "grade_id": "cell-dff99648a29ee408",
     "locked": true,
     "schema_version": 3,
     "solution": false
    }
   },
   "source": [
    "**Question 3 (2 pts)**: You would like to design an experiment with capture rate of 0.4. You will generate 1 million droplets. How many beads should you use? Hint: $\\mu$ is equal to the number of beads divided by the number of droplets. Set the variable `num_beads` to your answer below."
   ]
  },
  {
   "cell_type": "code",
   "execution_count": 9,
   "metadata": {
    "deletable": false,
    "nbgrader": {
     "cell_type": "code",
     "checksum": "a5844d8b6f526ce7a1847fdc875068ac",
     "grade": false,
     "grade_id": "q3-answer",
     "locked": false,
     "schema_version": 3,
     "solution": true,
     "task": false
    }
   },
   "outputs": [],
   "source": [
    "num_beads = 0 # set to your answer\n",
    "# YOUR CODE HERE\n",
    "#raise NotImplementedError()\n",
    "#0.4 = 1 - exp(-mu)\n",
    "#0.6 = e^-mu\n",
    "#ln(-0.6) = -mu\n",
    "mu = -math.log(0.6)\n",
    "#mu = n_bead / n_droplets\n",
    "num_beads = mu* 1000000"
   ]
  },
  {
   "cell_type": "code",
   "execution_count": 10,
   "metadata": {
    "deletable": false,
    "editable": false,
    "nbgrader": {
     "cell_type": "code",
     "checksum": "5a3a5ba0327dffd076d5c5e42d085806",
     "grade": true,
     "grade_id": "q3-test",
     "locked": true,
     "points": 2,
     "schema_version": 3,
     "solution": false,
     "task": false
    }
   },
   "outputs": [],
   "source": [
    "assert(num_beads > 500000 and num_beads < 600000)"
   ]
  },
  {
   "cell_type": "markdown",
   "metadata": {
    "deletable": false,
    "editable": false,
    "nbgrader": {
     "cell_type": "markdown",
     "checksum": "b68d8d64ac3bd35d13f10db965687fc7",
     "grade": false,
     "grade_id": "cell-ddd1adc6c92a7124",
     "locked": true,
     "schema_version": 3,
     "solution": false
    }
   },
   "source": [
    "## 2. Barcode design\n",
    "\n",
    "There are several issues to keep in mind when designing barcodes for single cell experiments.\n",
    "\n",
    "First, let's consider how many possible barcodes can be generated for a given length $L$. 10X barcodes are $L$=16bp long. In theory, that means we could have:\n",
    "\n",
    "$$4^{16} \\approx 4.3 \\text{ billion}$$\n",
    "\n",
    "possible barcodes. Note, we don't want to use every possible barcode. Instead, we want to choose barcodes such that even when there is a sequencing error reading the barcode, we would be able to tell there was an error and either discard or fix that barcode. One possible way to choose barcodes is to require that each pair of barcodes differ by at least two base pairs. That way, if there is a sequencing error changing one base, it won't match to any real barcodes and will be discarded. In practice, 10X uses around 750,000 barcodes.\n",
    "\n",
    "Second, we would like to design barcodes such that it is highly unlikely that two cells will be captured separately by different beads containing the same barcode. Consider that we have $N$ cells and $M$ barcodes. The **barcode collision rate** is the expected percent of cells that do not have a unique barcode.\n",
    "\n",
    "To compute this, let $p=1/M$. Then the probability that the same barcode is asociated with $k$ cells is:\n",
    "$${N \\choose k}p^k(1-p)^{N-k}$$\n",
    "since each cell has $p$ chance to get a particular barcode $b$. So the probability a particular barcode is associated with exactly one cell is then:\n",
    "\n",
    "$${N\\choose 1}p(1-p)^{N-1} = \\frac{N}{M}(1-\\frac{1}{M})^{N-1}$$\n",
    "\n",
    "Since there are $M$ possible barcodes, the expected number of cells with a unique barcode is:\n",
    "$$N(1-\\frac{1}{M})^{N-1}$$\n",
    "\n",
    "and the collision rate is:\n",
    "$$(1-\\frac{1}{M})^{N-1} \\approx 1-(\\frac{1}{e})^{\\frac{N}{M}}$$\n",
    "\n",
    "So, the value of $\\frac{N}{M}$ is key to determining the collision rate (or **synthetic doublet rate** using the terminology above). This value $\\frac{N}{M}$ is referred to as the **relative barcode diversity**.\n",
    "\n",
    "If this number is very high, we have many cells and few barcodes, so many barcodes will be repeated across cells resulting in many doublets. So we should try to keep this number low.\n",
    "\n",
    "**Question 4 (2 pts)**: If we are sequencing 1 million cells and have 750,000 barcodes available, what percent of cells will not have a unique barcode? i.e. will the collision rate be (using the approximation above)? Set the variable `collision_rate` to your answer below. "
   ]
  },
  {
   "cell_type": "code",
   "execution_count": 24,
   "metadata": {
    "deletable": false,
    "nbgrader": {
     "cell_type": "code",
     "checksum": "35923cca8f6c6faa8c802533582f222a",
     "grade": false,
     "grade_id": "q4-answer",
     "locked": false,
     "schema_version": 3,
     "solution": true,
     "task": false
    }
   },
   "outputs": [],
   "source": [
    "collision_rate = 0 # Set to your answer\n",
    "# YOUR CODE HERE\n",
    "M = 750000\n",
    "N = 1000000\n",
    "collision_rate = 1 - ((1/exp(1)))**(N/M)"
   ]
  },
  {
   "cell_type": "code",
   "execution_count": 25,
   "metadata": {
    "deletable": false,
    "editable": false,
    "nbgrader": {
     "cell_type": "code",
     "checksum": "83b75cdbe33ea6b89ef21f7ac5c37572",
     "grade": true,
     "grade_id": "q4-test",
     "locked": true,
     "points": 2,
     "schema_version": 3,
     "solution": false,
     "task": false
    }
   },
   "outputs": [],
   "source": [
    "assert(collision_rate>0.7 and collision_rate<0.8) # not good! most cells are doublets!"
   ]
  },
  {
   "cell_type": "markdown",
   "metadata": {
    "deletable": false,
    "editable": false,
    "nbgrader": {
     "cell_type": "markdown",
     "checksum": "b2f3b2eaf749a9415d60aa99d298f015",
     "grade": false,
     "grade_id": "cell-2ba8be192d0d7fac",
     "locked": true,
     "schema_version": 3,
     "solution": false
    }
   },
   "source": [
    "Recall that for a barcode of length $L$, we can generate $4^L$ possible unique barcodes. \n",
    "\n",
    "A question of interest is for a certain target collision rate, what is the minimum length barcode we can use?\n",
    "\n",
    "Consider we would like a collision rate of at most 2%. A 2% doublet rate requires a barcode diversity rate of around 2%. Then based on the formula above we require the number of barcoes to be around 50 times the number of cells (so that $\\frac{N}{M}=0.02$).\n",
    "\n",
    "**Question 5 (2 pts)**: To assay 1 million cells with a collision rate of 2%, what is the minimum length of barcode we can use? Set the variable `min_length` below to your answer."
   ]
  },
  {
   "cell_type": "code",
   "execution_count": 30,
   "metadata": {
    "deletable": false,
    "nbgrader": {
     "cell_type": "code",
     "checksum": "28cedf53d7cebff6e2f49f9fc53cef53",
     "grade": false,
     "grade_id": "q5-answer",
     "locked": false,
     "schema_version": 3,
     "solution": true,
     "task": false
    }
   },
   "outputs": [
    {
     "data": {
      "text/plain": [
       "12"
      ]
     },
     "execution_count": 30,
     "metadata": {},
     "output_type": "execute_result"
    }
   ],
   "source": [
    "min_length = 0 # Set to your answer\n",
    "# YOUR CODE HERE\n",
    "N = 1000000\n",
    "#0.02 = 1 - (1/e)^(N/M)\n",
    "#0.98 = 1/e^(N/M)\n",
    "#1/0.98 = e^(N/M)\n",
    "#N/M = ln(1/0.98)\n",
    "#M = N/(ln(1/0.98))\n",
    "M = N/math.log(1/0.98)\n",
    "#4^l = M\n",
    "min_length = math.floor( math.log(M, 4) )"
   ]
  },
  {
   "cell_type": "code",
   "execution_count": 29,
   "metadata": {
    "deletable": false,
    "editable": false,
    "nbgrader": {
     "cell_type": "code",
     "checksum": "b4984e2aa7bff4748830e998556e126a",
     "grade": true,
     "grade_id": "q5-test",
     "locked": true,
     "points": 2,
     "schema_version": 3,
     "solution": false,
     "task": false
    }
   },
   "outputs": [],
   "source": [
    "assert(min_length > 10 and min_length < 14)\n",
    "assert(type(min_length)==int)"
   ]
  },
  {
   "cell_type": "markdown",
   "metadata": {
    "deletable": false,
    "editable": false,
    "nbgrader": {
     "cell_type": "markdown",
     "checksum": "1e21991a276023fa6f9a8768dff0ed7b",
     "grade": false,
     "grade_id": "cell-032200ce336f0f17",
     "locked": true,
     "schema_version": 3,
     "solution": false
    }
   },
   "source": [
    "To see more info on these topics, see https://liorpachter.wordpress.com/2019/02/, where some of the material here was adapted from."
   ]
  }
 ],
 "metadata": {
  "kernelspec": {
   "display_name": "Python 3",
   "language": "python",
   "name": "python3"
  },
  "language_info": {
   "codemirror_mode": {
    "name": "ipython",
    "version": 3
   },
   "file_extension": ".py",
   "mimetype": "text/x-python",
   "name": "python",
   "nbconvert_exporter": "python",
   "pygments_lexer": "ipython3",
   "version": "3.6.7"
  }
 },
 "nbformat": 4,
 "nbformat_minor": 2
}
