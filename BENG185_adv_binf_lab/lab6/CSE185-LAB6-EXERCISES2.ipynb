{
 "cells": [
  {
   "cell_type": "markdown",
   "metadata": {
    "deletable": false,
    "editable": false,
    "nbgrader": {
     "cell_type": "markdown",
     "checksum": "fd7a08136f917d71bba948744b0945e5",
     "grade": false,
     "grade_id": "cell-b760628ecc908de9",
     "locked": true,
     "schema_version": 3,
     "solution": false
    }
   },
   "source": [
    "# Week 6 \n",
    "## Exercises 1\n",
    "\n",
    "This exercise is a review for quiz 3. These are some of the types of questions you can expect.\n",
    "\n",
    "So that you can know if your answers are correct, in some cases the actual answers are revealed in the autograder tests. But please make sure you understand how the answer was computed so you know how to do it for the quiz!  Ask a TA, friend, or piazza if you have questions about these before the quiz."
   ]
  },
  {
   "cell_type": "markdown",
   "metadata": {
    "deletable": false,
    "editable": false,
    "nbgrader": {
     "cell_type": "markdown",
     "checksum": "9c4c43909a1e81ac58520b4df43d18eb",
     "grade": false,
     "grade_id": "part1_head",
     "locked": true,
     "schema_version": 3,
     "solution": false
    }
   },
   "source": [
    "## Part 1: ChIP-seq and motifs"
   ]
  },
  {
   "cell_type": "markdown",
   "metadata": {
    "deletable": false,
    "editable": false,
    "nbgrader": {
     "cell_type": "markdown",
     "checksum": "023f90828b9cfe4a8661ce43c3d487a2",
     "grade": false,
     "grade_id": "cell-d93b233144c7514a",
     "locked": true,
     "schema_version": 3,
     "solution": false
    }
   },
   "source": [
    "**Question 1 (1 pt)**: Compute the **6th column** of Position Weight Matrix (PWM) from the following Position Frequency Matrix (PFM). Assume in random sequences we will see a nucleotide frequency of 25% for each nucleotide. Note there are no 0 entries here, so no need for a pseudocount.\n",
    "\n",
    "| * | 1 | 2 | 3 | 4 | 5 | 6 | 7 | 8 | 9 | 10 | 11 | 12 | 13 | 14 |\n",
    "|---|---|---|---|---|---|---|---|---|---|----|----|----|----|----|\n",
    "| A | 1 | 4 | 4 | 1 | 3 | 7 | 4 | 3 | 5 | 4  | 2  | 1  | 1  | 4  |\n",
    "| C | 3 | 1 | 4 | 8 | 1 | 1 | 1 | 3 | 1 | 1  | 1  | 1  | 2  | 4  |\n",
    "| G | 2 | 3 | 1 | 1 | 1 | 1 | 1 | 1 | 1 | 1  | 6  | 8  | 5  | 1  |\n",
    "| T | 3 | 1 | 1 | 1 | 5 | 1 | 4 | 2 | 2 | 4  | 1  | 1  | 1  | 1  |\n",
    "\n",
    "Note: 4th column has been precomputed for you to check your answer. Report your answer rounded to at least 3 decimal places."
   ]
  },
  {
   "cell_type": "code",
   "execution_count": 24,
   "metadata": {
    "deletable": false,
    "nbgrader": {
     "cell_type": "code",
     "checksum": "a1830e51653035ed020985aaab57840a",
     "grade": false,
     "grade_id": "cell-8e188817f55c7b4e",
     "locked": false,
     "schema_version": 3,
     "solution": true
    }
   },
   "outputs": [],
   "source": [
    "pwm_col_4 = [0, 0, 0, 0] # set this below\n",
    "pwm_col_6 = [0, 0, 0, 0] # set this below\n",
    "# YOUR CODE HERE\n",
    "import math\n",
    "pfm_col_4 = [1,8,1,1]\n",
    "pfm_col_6 = [7,1,1,1]\n",
    "freqs_4 = np.divide(np.asarray(pfm_col_4), sum(pfm_col_4))\n",
    "freqs_6 = np.divide(np.asarray(pfm_col_6), sum(pfm_col_6))\n",
    "for i in range(4):\n",
    "    pwm_col_4[i] = 1*math.log2( 0.25 / freqs_4[i] )\n",
    "    pwm_col_6[i] = 1*math.log2( 0.25 / freqs_6[i] )"
   ]
  },
  {
   "cell_type": "code",
   "execution_count": 25,
   "metadata": {
    "deletable": false,
    "editable": false,
    "nbgrader": {
     "cell_type": "code",
     "checksum": "8897bd0e55bb7a0abc9c75557b1c33ca",
     "grade": true,
     "grade_id": "cell-4a4bafdf45006635",
     "locked": true,
     "points": 1,
     "schema_version": 3,
     "solution": false
    }
   },
   "outputs": [
    {
     "ename": "AssertionError",
     "evalue": "",
     "output_type": "error",
     "traceback": [
      "\u001b[0;31m---------------------------------------------------------------------------\u001b[0m",
      "\u001b[0;31mAssertionError\u001b[0m                            Traceback (most recent call last)",
      "\u001b[0;32m<ipython-input-25-70dd27705ed0>\u001b[0m in \u001b[0;36m<module>\u001b[0;34m\u001b[0m\n\u001b[1;32m      4\u001b[0m \u001b[0manswer_col4\u001b[0m \u001b[0;34m=\u001b[0m \u001b[0;34m[\u001b[0m\u001b[0;34m-\u001b[0m\u001b[0;36m1.459\u001b[0m\u001b[0;34m,\u001b[0m\u001b[0;36m1.541\u001b[0m\u001b[0;34m,\u001b[0m\u001b[0;34m-\u001b[0m\u001b[0;36m1.459\u001b[0m\u001b[0;34m,\u001b[0m\u001b[0;34m-\u001b[0m\u001b[0;36m1.459\u001b[0m\u001b[0;34m]\u001b[0m\u001b[0;34m\u001b[0m\u001b[0;34m\u001b[0m\u001b[0m\n\u001b[1;32m      5\u001b[0m \u001b[0;32mfor\u001b[0m \u001b[0mi\u001b[0m \u001b[0;32min\u001b[0m \u001b[0mrange\u001b[0m\u001b[0;34m(\u001b[0m\u001b[0;36m4\u001b[0m\u001b[0;34m)\u001b[0m\u001b[0;34m:\u001b[0m\u001b[0;34m\u001b[0m\u001b[0;34m\u001b[0m\u001b[0m\n\u001b[0;32m----> 6\u001b[0;31m     \u001b[0;32massert\u001b[0m\u001b[0;34m(\u001b[0m\u001b[0mround\u001b[0m\u001b[0;34m(\u001b[0m\u001b[0mpwm_col_4\u001b[0m\u001b[0;34m[\u001b[0m\u001b[0mi\u001b[0m\u001b[0;34m]\u001b[0m\u001b[0;34m,\u001b[0m \u001b[0;36m3\u001b[0m\u001b[0;34m)\u001b[0m \u001b[0;34m==\u001b[0m \u001b[0manswer_col4\u001b[0m\u001b[0;34m[\u001b[0m\u001b[0mi\u001b[0m\u001b[0;34m]\u001b[0m\u001b[0;34m)\u001b[0m\u001b[0;34m\u001b[0m\u001b[0;34m\u001b[0m\u001b[0m\n\u001b[0m",
      "\u001b[0;31mAssertionError\u001b[0m: "
     ]
    }
   ],
   "source": [
    "\"\"\"Check value of pwm_col_4 and pwm_col_6\"\"\"\n",
    "import numpy as np\n",
    "# (test for pwm_col_6 is hidden)\n",
    "answer_col4 = [-1.459,1.541,-1.459,-1.459]\n",
    "for i in range(4):\n",
    "    assert(round(pwm_col_4[i], 3) == answer_col4[i])"
   ]
  },
  {
   "cell_type": "markdown",
   "metadata": {
    "deletable": false,
    "editable": false,
    "nbgrader": {
     "cell_type": "markdown",
     "checksum": "acfd6a32b39e9e4365a4de02b13a4772",
     "grade": false,
     "grade_id": "cell-0324b3914e08264a",
     "locked": true,
     "schema_version": 3,
     "solution": false
    }
   },
   "source": [
    "**Question 2 (1 pt)**: You are analyzing a transcription factor that binds the following motif:\n",
    "<img src=motif_q2.png width=400>\n",
    "\n",
    "You have performed ChIP-sequencing for the TF in a group of people and have identified a location in the genome with the sequence “CAACTAAAAAAGCA”, which is bound by the TF in most people. \n",
    "\n",
    "However, a subset of people do not show evidence that the TF is bound to this location (no peak in the ChIP-seq data), and others show only weak binding. You suspect it could be due to a common SNP in this region. \n",
    "\n",
    "Describe what type of mutation (position and change, e.g. a “C->T change at position 8”) at this region would likely cause the TF not to bind? Why?\n"
   ]
  },
  {
   "cell_type": "markdown",
   "metadata": {
    "deletable": false,
    "nbgrader": {
     "cell_type": "markdown",
     "checksum": "d381255b1703d840cc95438c34e8e924",
     "grade": true,
     "grade_id": "cell-447149da81149759",
     "locked": false,
     "points": 1,
     "schema_version": 3,
     "solution": true
    }
   },
   "source": [
    "A SNP at position 4 (C -> {A,G,T}) or 12 (G -> {A,C,T}), or a deletion at these positions would cause the TF not to bind since those positions are very highly conserved."
   ]
  },
  {
   "cell_type": "markdown",
   "metadata": {
    "deletable": false,
    "editable": false,
    "nbgrader": {
     "cell_type": "markdown",
     "checksum": "fb1d52ef248d9f8cca3d3d7a68cee3cd",
     "grade": false,
     "grade_id": "cell-bf171278a1290b72",
     "locked": true,
     "schema_version": 3,
     "solution": false
    }
   },
   "source": [
    "**Question 3 (1 pt)**: You are interested in a TF that usually binds the sequence `GGGGGCGGG`\n",
    "\n",
    "You create two separate PWMs for the TF: one using intronic regions as the background (with about equal representation of all 4 nucleotides) and another using promoter regions as the background (which are very GC rich). You then score a sequence that exactly matches the known motif, `GGGGGCGGG`, using both PWMs. For which one (intron or promoter as background) will the sequence have a higher score, and why?\n"
   ]
  },
  {
   "cell_type": "markdown",
   "metadata": {
    "deletable": false,
    "nbgrader": {
     "cell_type": "markdown",
     "checksum": "4b3a79007d0b2cb6373cbb1c11471748",
     "grade": true,
     "grade_id": "cell-95478cbaed127d14",
     "locked": false,
     "points": 1,
     "schema_version": 3,
     "solution": true
    }
   },
   "source": [
    "Intron, since it's less likely that that specific sequence would show up by chance in a intronic region that isn't as GC rich, so it's more significant to see it there (so it would score higher). "
   ]
  },
  {
   "cell_type": "markdown",
   "metadata": {
    "deletable": false,
    "editable": false,
    "nbgrader": {
     "cell_type": "markdown",
     "checksum": "1f70bf32994bceecf5e5e9b436b2c8a8",
     "grade": false,
     "grade_id": "part2_head",
     "locked": true,
     "schema_version": 3,
     "solution": false
    }
   },
   "source": [
    "## Part 2: Single Cell"
   ]
  },
  {
   "cell_type": "markdown",
   "metadata": {
    "deletable": false,
    "editable": false,
    "nbgrader": {
     "cell_type": "markdown",
     "checksum": "ba230761313232b4136248f4ba0dda20",
     "grade": false,
     "grade_id": "cell-710fcf73f3e4cdba",
     "locked": true,
     "schema_version": 3,
     "solution": false
    }
   },
   "source": [
    "**Question 4 (1 pt)**: Describe the difference between a UMI, barcode, and index (in the context of scRNA-seq). Which one is specific per molecule? per cell? per sample?"
   ]
  },
  {
   "cell_type": "markdown",
   "metadata": {
    "deletable": false,
    "nbgrader": {
     "cell_type": "markdown",
     "checksum": "78c20db5fb1160fcd56a88ef4d560f29",
     "grade": true,
     "grade_id": "cell-e3d6a98752d30747",
     "locked": false,
     "points": 1,
     "schema_version": 3,
     "solution": true
    }
   },
   "source": [
    "UMI - unique per molecule, used to correct for PCR duplication\n",
    "\n",
    "Barcode - unique per cell\n",
    "\n",
    "Index - unique per sample, used if multiple libraries being used"
   ]
  },
  {
   "cell_type": "markdown",
   "metadata": {
    "deletable": false,
    "editable": false,
    "nbgrader": {
     "cell_type": "markdown",
     "checksum": "9b59db20eaf0e497a84710c6e31f50af",
     "grade": false,
     "grade_id": "cell-d603b14c4fd9a471",
     "locked": true,
     "schema_version": 3,
     "solution": false
    }
   },
   "source": [
    "**Question 5 (1 pt)**: You are designing a single cell RNAseq experiment using technology similar to 10X Genomics. Based on the number of beads and droplets you input into your experiment, you estimate that each droplet gets on average 1 bead. Assuming beads are loaded into droplets at a Poisson rate, what percent of droplets should have at least one bead?"
   ]
  },
  {
   "cell_type": "markdown",
   "metadata": {
    "deletable": false,
    "nbgrader": {
     "cell_type": "markdown",
     "checksum": "6a0f83b1f8862c995efd7acaec66f3a6",
     "grade": true,
     "grade_id": "cell-1d15fc91699991ac",
     "locked": false,
     "points": 1,
     "schema_version": 3,
     "solution": true
    }
   },
   "source": [
    "P(droplet has at least 1 bead) = 1 - P(droplet has 0 beads) = 1 - (e^(-1)*1^0)/1 = 1 - e^-1 = 0.632"
   ]
  },
  {
   "cell_type": "markdown",
   "metadata": {
    "deletable": false,
    "editable": false,
    "nbgrader": {
     "cell_type": "markdown",
     "checksum": "4213257bf3fcecb4f9c1702bbdabf42b",
     "grade": false,
     "grade_id": "part3_head",
     "locked": true,
     "schema_version": 3,
     "solution": false
    }
   },
   "source": [
    "## Part 3: Command line tools\n",
    "\n",
    "These are not autograded. But please actually check your answers on the command line to make sure they will run!"
   ]
  },
  {
   "cell_type": "markdown",
   "metadata": {
    "deletable": false,
    "editable": false,
    "nbgrader": {
     "cell_type": "markdown",
     "checksum": "4292cfd7226bac162f1d34e064caa144",
     "grade": false,
     "grade_id": "cell-b9d1dbe709262905",
     "locked": true,
     "schema_version": 3,
     "solution": false
    }
   },
   "source": [
    "**Question 6 (1 pt)**: The file `integers.txt` contains integers from 1 to 20, one per line. The file `even.txt` contains even numbers from 2 to 20, one per line. Write a UNIX one-liner to find all the odd numbers in the file integers.txt and print the result to standard output (the terminal screen)"
   ]
  },
  {
   "cell_type": "markdown",
   "metadata": {
    "deletable": false,
    "nbgrader": {
     "cell_type": "markdown",
     "checksum": "d549f69ba94b5287be03ae1002b4c839",
     "grade": true,
     "grade_id": "cell-b26dca19167da671",
     "locked": false,
     "points": 1,
     "schema_version": 3,
     "solution": true
    }
   },
   "source": [
    "cat integers.txt | awk '{if ($1 % 2 == 1) print $1}'"
   ]
  },
  {
   "cell_type": "markdown",
   "metadata": {
    "deletable": false,
    "editable": false,
    "nbgrader": {
     "cell_type": "markdown",
     "checksum": "a7cd0e9dd42951830362a86839261265",
     "grade": false,
     "grade_id": "cell-91d3da6e7ff44400",
     "locked": true,
     "schema_version": 3,
     "solution": false
    }
   },
   "source": [
    "**Question 7 (1 pt)**: You have a directory `/fastqs` containing the following fastq files: `rep_1.fastq`, `rep_2.fastq`, `rep_3.fastq`\n",
    "Write a bash for loop that will print out the number of reads in each fastq file.\n"
   ]
  },
  {
   "cell_type": "markdown",
   "metadata": {
    "deletable": false,
    "nbgrader": {
     "cell_type": "markdown",
     "checksum": "93bd493adfeb7568a181032ff862a919",
     "grade": true,
     "grade_id": "cell-7b4fbb4b498e5fc9",
     "locked": false,
     "points": 1,
     "schema_version": 3,
     "solution": true
    }
   },
   "source": [
    "for fname in rep_1.fastq rep_2.fastq rep_3.fastq\n",
    "do\n",
    "echo $((`wc -l < /fastqs/${fname}` / 4))\n",
    "done"
   ]
  },
  {
   "cell_type": "markdown",
   "metadata": {
    "deletable": false,
    "editable": false,
    "nbgrader": {
     "cell_type": "markdown",
     "checksum": "7928dbb7a13201e80b68c71aff6ce0a8",
     "grade": false,
     "grade_id": "cell-d6eddd43ca86ec4c",
     "locked": true,
     "schema_version": 3,
     "solution": false
    }
   },
   "source": [
    "**Question 8 (1 pt)**: The file `/datasets/cs185-sp21-A00-public/genomes/GRCm38.75.gtf` contains the Mouse Ensembl v75 gene annotations. Write a one-line UNIX command that prints the gene_id (and only the gene_id! No spaces, quotes, etc.) of all lines annotated as “protein_coding” in column 2."
   ]
  },
  {
   "cell_type": "markdown",
   "metadata": {
    "deletable": false,
    "nbgrader": {
     "cell_type": "markdown",
     "checksum": "9ba094b8df4025f3b23278f92cfc6c1f",
     "grade": true,
     "grade_id": "cell-51fb2863164e7231",
     "locked": false,
     "points": 1,
     "schema_version": 3,
     "solution": true
    }
   },
   "source": [
    "cat /datasets/cs185-sp21-A00-public/genomes/GRCm38.75.gtf | awk '{if ($2 == \"protein_coding\") print $10}' | sed 's/\"//g' | sed 's/;//g'"
   ]
  },
  {
   "cell_type": "markdown",
   "metadata": {
    "deletable": false,
    "editable": false,
    "nbgrader": {
     "cell_type": "markdown",
     "checksum": "13ef14b936d20ac6feda3f24c2eb1f97",
     "grade": false,
     "grade_id": "cell-c963ccb870970c02",
     "locked": true,
     "schema_version": 3,
     "solution": false
    }
   },
   "source": [
    "**Question 9 (1 pt)**: The file `results.csv` contains columns: 1=chrom, 2=start, 3=end, 4=p-value, with columns separated by commas. It has 100 lines.\n",
    "Write a command that outputs the chrom, start, and end for the lines with the 5 smallest p-values."
   ]
  },
  {
   "cell_type": "markdown",
   "metadata": {
    "deletable": false,
    "nbgrader": {
     "cell_type": "markdown",
     "checksum": "4c2bc18654d801dba4123535df5ac0ef",
     "grade": true,
     "grade_id": "cell-c87ea7fd3bc3477a",
     "locked": false,
     "points": 1,
     "schema_version": 3,
     "solution": true
    }
   },
   "source": [
    "sort -k 4 -t , results.csv | head -n 5 | awk -F , '{print $1 \",\" $2 \",\" $3}'"
   ]
  },
  {
   "cell_type": "markdown",
   "metadata": {
    "deletable": false,
    "editable": false,
    "nbgrader": {
     "cell_type": "markdown",
     "checksum": "3d8778d04bddb9a26df46a797d0a6c34",
     "grade": false,
     "grade_id": "cell-bd025db71d305d36",
     "locked": true,
     "schema_version": 3,
     "solution": false
    }
   },
   "source": [
    "## Part 4: Measures of statistical significance\n",
    "\n",
    "**Question 10 (1 pt):** Describe the difference between a p-value and an \"adjusted\" p-value (sometimes referred to as a q-value)."
   ]
  },
  {
   "cell_type": "markdown",
   "metadata": {
    "deletable": false,
    "nbgrader": {
     "cell_type": "markdown",
     "checksum": "b96d660d1b6eed99d41ac91f7dade50f",
     "grade": true,
     "grade_id": "cell-5939dc7ad5f2386d",
     "locked": false,
     "points": 1,
     "schema_version": 3,
     "solution": true
    }
   },
   "source": [
    "a p-value is just the probability of finding a data point in a null distribution, while the q-value factors in the false discovery rate that occurs due to a high number of samples (which naturally causes false positives to be discovered if the threshold p-value is large enough)"
   ]
  },
  {
   "cell_type": "code",
   "execution_count": null,
   "metadata": {},
   "outputs": [],
   "source": []
  }
 ],
 "metadata": {
  "kernelspec": {
   "display_name": "Python 3",
   "language": "python",
   "name": "python3"
  },
  "language_info": {
   "codemirror_mode": {
    "name": "ipython",
    "version": 3
   },
   "file_extension": ".py",
   "mimetype": "text/x-python",
   "name": "python",
   "nbconvert_exporter": "python",
   "pygments_lexer": "ipython3",
   "version": "3.6.7"
  }
 },
 "nbformat": 4,
 "nbformat_minor": 2
}
