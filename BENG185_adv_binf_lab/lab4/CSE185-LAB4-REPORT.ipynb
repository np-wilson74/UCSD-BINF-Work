{
 "cells": [
  {
   "cell_type": "markdown",
   "metadata": {
    "deletable": false,
    "editable": false,
    "nbgrader": {
     "cell_type": "markdown",
     "checksum": "aa0f9dfa4be9540bd82313f0d6436fab",
     "grade": false,
     "grade_id": "cell-5fa56135293c9e0c",
     "locked": true,
     "schema_version": 3,
     "solution": false,
     "task": false
    }
   },
   "source": [
    "# Week 4 Lab: You are what you eat (differential expression)\n",
    "\n",
    "Use this notebook to report your findings from the lab. Lab reports typically should include:\n",
    "* An introduction giving motivation behind the study, what was done, and summarizing the main findings.\n",
    "* A methods section providing details on how the analyses were performed.\n",
    "* A results section providing the main findings.\n",
    "* A discussion section with interpretation of the results and some leads for future directions.\n",
    "\n",
    "For this report, we will focus on Methods, Results, and Discussion and have provided some prompts below for these. We have provided an example introduction this week as a reference for future weeks.\n",
    "\n",
    "**Notes on how to complete the lab report**:\n",
    "\n",
    "Short answer questions should use Markdown syntax (http://nestacms.com/docs/creating-content/markdown-cheat-sheet). If you would like to include an answer that is a mixture of code and text, you can generate additional cells below the provided answer cell.\n",
    "\n",
    "You may include Python code to directly generate tables (this can be much easier than copying the numbers to markdown syntax from scratch).\n",
    "\n",
    "For questions that ask for plots, we prefer you include Python code to generate the results inline. However if you really want to you may also include figures using other means (e.g. making them separately and linking to them in the markdown. or making them in R).\n",
    "\n",
    "(Now that we're using this report format which will not be autograded, loading files for plotting from your home directory should be fine.)"
   ]
  },
  {
   "cell_type": "markdown",
   "metadata": {
    "deletable": false,
    "editable": false,
    "nbgrader": {
     "cell_type": "markdown",
     "checksum": "bdcc6cfa0853b008f80e35a2fa04ff33",
     "grade": false,
     "grade_id": "cell-5d7be66f23dcfaf0",
     "locked": true,
     "schema_version": 3,
     "solution": false
    }
   },
   "source": [
    "## Introduction\n",
    "\n",
    "An introduction should provide:\n",
    "* motivation for the study\n",
    "* a brief summary of what was done\n",
    "* a brief summary of the major results\n",
    "\n",
    "Diet-induced obesity is known to be a major factor leading to increased risk for a variety of conditions such as heart disease and diabetes. Multiple studies have suggested that diets high in fat content may be contributing to the growing prevalence of obesity and related conditions.\n",
    "\n",
    "In this study, RNA-sequencing was performed on livers of mice after being fed either a standard Chow diet or a high fat diet (HFD) for seven weeks. We performed differential expression analysis to identify and characterize genes with increased or decreased activity induced by each diet. Overall, we found hundreds of genes showed altered expression levels in the HFD group, suggesting significant diet-induced reprogramming of liver transcription. Differentially expressed genes are highly enriched for involvement in metabolic processes such as lipid processing."
   ]
  },
  {
   "cell_type": "markdown",
   "metadata": {
    "deletable": false,
    "editable": false,
    "nbgrader": {
     "cell_type": "markdown",
     "checksum": "cf7f6ed8dd6ee3355073f8e8c931d7b3",
     "grade": false,
     "grade_id": "cell-6d827232aaddca2b",
     "locked": true,
     "schema_version": 3,
     "solution": false
    }
   },
   "source": [
    "# Methods (20 pts total)"
   ]
  },
  {
   "cell_type": "markdown",
   "metadata": {
    "deletable": false,
    "editable": false,
    "nbgrader": {
     "cell_type": "markdown",
     "checksum": "acfe9f33ef75143e7012ca77ffbc43d9",
     "grade": false,
     "grade_id": "cell-15bc798f838cfd32",
     "locked": true,
     "schema_version": 3,
     "solution": false
    }
   },
   "source": [
    "**Dataset description (<font color=\"red\">Methods-Q1</font> - 5 pts)**: Provide a brief description of the six datasets used, including:\n",
    "* How many samples are you analyzing and where did they come from? (e.g. what species are they, what tissue are you analyzing, what is the difference between the two treatment groups?)\n",
    "* The number of reads for each sample (i.e. from the original fastqs)\n",
    "* The read length"
   ]
  },
  {
   "cell_type": "markdown",
   "metadata": {
    "deletable": false,
    "nbgrader": {
     "cell_type": "markdown",
     "checksum": "70c2976bf6955be6912dd08cc2805276",
     "grade": true,
     "grade_id": "correct-dataset-description",
     "locked": false,
     "points": 5,
     "schema_version": 3,
     "solution": true
    }
   },
   "source": [
    "We have 6 samples, 3 from mice fed High Fat Diet (HFD) and 3 from mice fed CHOW (control) diet. We're collecting tissue from their livers. \n",
    "\n",
    "Number of Reads:\n",
    "\n",
    "    Chow1 = 70123120/2 = wc -l /datasets/cs185-sp21-A00-public/week4/fastqs/Chow_Rep1.fq / 2 = 35061560\n",
    "    \n",
    "    Chow2 = 70340660/2 = 35170330\n",
    "    \n",
    "    Chow3 = 64088296/2 = 32044148\n",
    "    \n",
    "    HFD1 = 64562596/2 = 32281298\n",
    "    \n",
    "    HFD2 = 60862004/2 = 30431002\n",
    "    \n",
    "    HFD3 = 45252364/2 = 22626182\n",
    "    \n",
    "Read Length = 50    "
   ]
  },
  {
   "cell_type": "markdown",
   "metadata": {
    "deletable": false,
    "editable": false,
    "nbgrader": {
     "cell_type": "markdown",
     "checksum": "b67bcecbdce555cd0424f960b8b6ab38",
     "grade": false,
     "grade_id": "cell-4a4f51486504867e",
     "locked": true,
     "schema_version": 3,
     "solution": false
    }
   },
   "source": [
    "**Alignment and expression quantification (<font color=\"red\">Methods-Q2</font> - 5 pts)**: Summarize the methods used for aligning RNA-seq reads and quantifying expression for each sample. Include:\n",
    "* Which tools you used (and when available which version of each tool)\n",
    "* Which assembly of the reference genome was used?\n",
    "* Which transcriptome annotation was used?\n",
    "* Any non-default parameters used for each tool."
   ]
  },
  {
   "cell_type": "markdown",
   "metadata": {
    "deletable": false,
    "nbgrader": {
     "cell_type": "markdown",
     "checksum": "f1394608c48efd2b76c194494a43397f",
     "grade": true,
     "grade_id": "correct-methods",
     "locked": false,
     "points": 5,
     "schema_version": 3,
     "solution": true
    }
   },
   "source": [
    "We used STAR version 2.7.0f for aligning the reads. We used mouse GRCm38 genome assembly as our reference. We used ENSEMBL Build 75 of our reference genome as our transcriptome annotation. With STAR, we set the --runMode parameter to genomeGenerate to indicate that we're building an index, and then the other parameters to indicate information on our inputs.\n",
    "\n",
    "We then ran STAR again to actually align our reads to the transcriptome. We used parameters recommended by ENCODE as well as \"--outSAMtype BAM SortedByCoordinate\" to indicate output format and \"--quantMode TranscriptomeSAM\" to indicate desired quantification\n",
    "\n",
    "To quantify expression, we used rsem-prepare-reference (couldn't find version) to preprocess reference transcriptome. Then we used rsem-calculate-expression (couldn't find version) to actually quantify gene expression. These two tools used default parameters (unless -p was used for speed purposes)\n",
    "\n"
   ]
  },
  {
   "cell_type": "markdown",
   "metadata": {
    "deletable": false,
    "editable": false,
    "nbgrader": {
     "cell_type": "markdown",
     "checksum": "ea6828ea9396a7eb3c15a2ab01ce7cc2",
     "grade": false,
     "grade_id": "cell-667ddc3941ef8772",
     "locked": true,
     "schema_version": 3,
     "solution": false
    }
   },
   "source": [
    "**Differential expression analysis (<font color=\"red\">Methods-Q3</font> - 5 pts)**: Summarize the methods used for performing differential expression analysis:\n",
    "\n",
    "* Which tool(s) did you use for this?\n",
    "* What preprocessing did you to do the data before running (e.g. loaded with tximport, removed lowly expressed genes)\n",
    "* What significance value did you use to decide which genes are differentially expressed?\n",
    "\n",
    "(Note, using the R command `sessionInfo()` will tell you which versions of each package are loaded)."
   ]
  },
  {
   "cell_type": "markdown",
   "metadata": {
    "deletable": false,
    "nbgrader": {
     "cell_type": "markdown",
     "checksum": "2dd39a228f7be4114d5f544c4c562ba0",
     "grade": true,
     "grade_id": "correct-methods-de",
     "locked": false,
     "points": 5,
     "schema_version": 3,
     "solution": true
    }
   },
   "source": [
    "We used DESeq2 to find a set of differentially expressed genes. (version 1.26.0) We used tximport to import rsem results from earlier (version 1.14.2)\n",
    "\n",
    "We used tximport to load in the rsem results in a way that DSeq could use. We also added a psuedocount to deal with an error with length 0 transcripts. We also filtered out genes with transcript counts less than 10\n",
    "\n",
    "While I don't think that we have one in the code, I'll propose one that I think might make sense. So 0.05 is a normal threshold, but with 15,464 genes, we would expect 774 false positives. So if we divide 0.05 by 774, this gives a threshold of 6.46e-5, which would mean we only expect 1 false positive under the null distribution."
   ]
  },
  {
   "cell_type": "markdown",
   "metadata": {
    "deletable": false,
    "editable": false,
    "nbgrader": {
     "cell_type": "markdown",
     "checksum": "d48f3ce31c033a1f24264d0be8c89536",
     "grade": false,
     "grade_id": "cell-51910391f6f3c192",
     "locked": true,
     "schema_version": 3,
     "solution": false
    }
   },
   "source": [
    "**Gene enrichment analysis methods (<font color=\"red\">Methods-Q4</font> - 5 pts)**: Summarize the methods you used for performing GO analysis on your differentially expressed genes. (Don't worry if you can't figure out the version of `find_enrichment.py`)."
   ]
  },
  {
   "cell_type": "markdown",
   "metadata": {
    "deletable": false,
    "nbgrader": {
     "cell_type": "markdown",
     "checksum": "62c955ca08ed3ef4c543823c2e46805c",
     "grade": true,
     "grade_id": "correct-go-methods",
     "locked": false,
     "points": 5,
     "schema_version": 3,
     "solution": true
    }
   },
   "source": [
    "I ran the code below to generate the gene name (sig and all) file for find_enrichment.py, as well as significant when up/down regulated\n",
    "\n",
    "Then I ran find_enrichment.py as shown in the instructions document for the 3 groups of enriched genes: all, up, down"
   ]
  },
  {
   "cell_type": "code",
   "execution_count": 41,
   "metadata": {},
   "outputs": [],
   "source": [
    "df = pd.read_csv(\"chow_vs_hfd_deseq2.csv\")\n",
    "names = pd.read_csv(\"GRCm38.75.gene_names\", sep=\"\\t\", names=[\"Unnamed: 0\", \"Name\"])\n",
    "df = pd.merge(df, names, on=[\"Unnamed: 0\"])\n",
    "sig = df[df[\"padj\"] < 0.05]\n",
    "sig_up = df[df[\"log2FoldChange\"] > 0]\n",
    "sig_down = df[df[\"log2FoldChange\"] < 0]\n",
    "with open(\"sig_genes.txt\", \"w\") as f:\n",
    "    for gene in sig[\"Name\"]:\n",
    "        f.write(gene + \"\\n\")\n",
    "with open(\"all_genes.txt\", \"w\") as f:\n",
    "    for gene in df[\"Name\"]:\n",
    "        f.write(gene + \"\\n\")\n",
    "with open(\"sig_up_genes.txt\", \"w\") as f:\n",
    "    for gene in sig_up[\"Name\"]:\n",
    "        f.write(gene + \"\\n\")        \n",
    "with open(\"sig_down_genes.txt\", \"w\") as f:\n",
    "    for gene in sig_down[\"Name\"]:\n",
    "        f.write(gene + \"\\n\")"
   ]
  },
  {
   "cell_type": "markdown",
   "metadata": {
    "deletable": false,
    "editable": false,
    "nbgrader": {
     "cell_type": "markdown",
     "checksum": "c8b01e857db87ae8f5c0444bc202caa3",
     "grade": false,
     "grade_id": "cell-313f617a7fecf2a5",
     "locked": true,
     "schema_version": 3,
     "solution": false
    }
   },
   "source": [
    "# Results (45 pts total)\n",
    "\n",
    "## Summary of expression quantification"
   ]
  },
  {
   "cell_type": "markdown",
   "metadata": {
    "deletable": false,
    "editable": false,
    "nbgrader": {
     "cell_type": "markdown",
     "checksum": "5f2b702079d6efbb3299eba9f28dc5cc",
     "grade": false,
     "grade_id": "cell-26ec732bc1e1d9cc",
     "locked": true,
     "schema_version": 3,
     "solution": false
    }
   },
   "source": [
    "**How many genes were expressed (TPM>0) in each sample? (<font color=\"red\">Results-Q1</font> - 3 pts)**"
   ]
  },
  {
   "cell_type": "markdown",
   "metadata": {
    "deletable": false,
    "nbgrader": {
     "cell_type": "markdown",
     "checksum": "0118e8f019035785e19e045d334f960a",
     "grade": true,
     "grade_id": "correct-expr-summary",
     "locked": false,
     "points": 3,
     "schema_version": 3,
     "solution": true
    }
   },
   "source": [
    "cat Chow_Rep1.genes.results | awk -F \" \" '{if($5>0)print $5}' | wc -l  #markdown removed dollar signs\n",
    "\n",
    "Chow1: 16919\n",
    "\n",
    "Chow2: 17096\n",
    "\n",
    "Chow3: 16795\n",
    "\n",
    "HFD1: 17078\n",
    "\n",
    "HFD2: 16847\n",
    "\n",
    "HFD3: 16734"
   ]
  },
  {
   "cell_type": "markdown",
   "metadata": {
    "deletable": false,
    "editable": false,
    "nbgrader": {
     "cell_type": "markdown",
     "checksum": "32962192d5da5e775c9caf79c3b4b093",
     "grade": false,
     "grade_id": "cell-b259fc1036485dd2",
     "locked": true,
     "schema_version": 3,
     "solution": false
    }
   },
   "source": [
    "**Report the pairwise Pearson correlation between TPM values for each of the six samples (<font color=\"red\">Results-Q2</font> - 5 pts)**: Are replicates strongly correlated with each other? Are replicates of Chow or HFD more strongly correlated than datasets from different treatments (Chow vs. HFD)?"
   ]
  },
  {
   "cell_type": "code",
   "execution_count": 48,
   "metadata": {
    "deletable": false,
    "nbgrader": {
     "cell_type": "code",
     "checksum": "3f6a35cfd9926ee6b5d22aa21e8e1fb1",
     "grade": true,
     "grade_id": "correct-pairwise-corr",
     "locked": false,
     "points": 5,
     "schema_version": 3,
     "solution": true
    }
   },
   "outputs": [
    {
     "name": "stdout",
     "output_type": "stream",
     "text": [
      "0.9295300950715684\n",
      "0.9294449723224609\n",
      "0.9400902074205789\n"
     ]
    },
    {
     "data": {
      "text/html": [
       "<div>\n",
       "<style scoped>\n",
       "    .dataframe tbody tr th:only-of-type {\n",
       "        vertical-align: middle;\n",
       "    }\n",
       "\n",
       "    .dataframe tbody tr th {\n",
       "        vertical-align: top;\n",
       "    }\n",
       "\n",
       "    .dataframe thead th {\n",
       "        text-align: right;\n",
       "    }\n",
       "</style>\n",
       "<table border=\"1\" class=\"dataframe\">\n",
       "  <thead>\n",
       "    <tr style=\"text-align: right;\">\n",
       "      <th></th>\n",
       "      <th>Chow_Rep1</th>\n",
       "      <th>Chow_Rep2</th>\n",
       "      <th>Chow_Rep3</th>\n",
       "      <th>HFD_Rep1</th>\n",
       "      <th>HFD_Rep2</th>\n",
       "      <th>HFD_Rep3</th>\n",
       "    </tr>\n",
       "  </thead>\n",
       "  <tbody>\n",
       "    <tr>\n",
       "      <th>Chow_Rep1</th>\n",
       "      <td>1.000000</td>\n",
       "      <td>0.929530</td>\n",
       "      <td>0.973235</td>\n",
       "      <td>0.845316</td>\n",
       "      <td>0.961081</td>\n",
       "      <td>0.949590</td>\n",
       "    </tr>\n",
       "    <tr>\n",
       "      <th>Chow_Rep2</th>\n",
       "      <td>0.929530</td>\n",
       "      <td>1.000000</td>\n",
       "      <td>0.980169</td>\n",
       "      <td>0.976229</td>\n",
       "      <td>0.977734</td>\n",
       "      <td>0.974997</td>\n",
       "    </tr>\n",
       "    <tr>\n",
       "      <th>Chow_Rep3</th>\n",
       "      <td>0.973235</td>\n",
       "      <td>0.980169</td>\n",
       "      <td>1.000000</td>\n",
       "      <td>0.927043</td>\n",
       "      <td>0.989466</td>\n",
       "      <td>0.970115</td>\n",
       "    </tr>\n",
       "    <tr>\n",
       "      <th>HFD_Rep1</th>\n",
       "      <td>0.845316</td>\n",
       "      <td>0.976229</td>\n",
       "      <td>0.927043</td>\n",
       "      <td>1.000000</td>\n",
       "      <td>0.929445</td>\n",
       "      <td>0.950339</td>\n",
       "    </tr>\n",
       "    <tr>\n",
       "      <th>HFD_Rep2</th>\n",
       "      <td>0.961081</td>\n",
       "      <td>0.977734</td>\n",
       "      <td>0.989466</td>\n",
       "      <td>0.929445</td>\n",
       "      <td>1.000000</td>\n",
       "      <td>0.964888</td>\n",
       "    </tr>\n",
       "    <tr>\n",
       "      <th>HFD_Rep3</th>\n",
       "      <td>0.949590</td>\n",
       "      <td>0.974997</td>\n",
       "      <td>0.970115</td>\n",
       "      <td>0.950339</td>\n",
       "      <td>0.964888</td>\n",
       "      <td>1.000000</td>\n",
       "    </tr>\n",
       "  </tbody>\n",
       "</table>\n",
       "</div>"
      ],
      "text/plain": [
       "           Chow_Rep1  Chow_Rep2  Chow_Rep3  HFD_Rep1  HFD_Rep2  HFD_Rep3\n",
       "Chow_Rep1   1.000000   0.929530   0.973235  0.845316  0.961081  0.949590\n",
       "Chow_Rep2   0.929530   1.000000   0.980169  0.976229  0.977734  0.974997\n",
       "Chow_Rep3   0.973235   0.980169   1.000000  0.927043  0.989466  0.970115\n",
       "HFD_Rep1    0.845316   0.976229   0.927043  1.000000  0.929445  0.950339\n",
       "HFD_Rep2    0.961081   0.977734   0.989466  0.929445  1.000000  0.964888\n",
       "HFD_Rep3    0.949590   0.974997   0.970115  0.950339  0.964888  1.000000"
      ]
     },
     "execution_count": 48,
     "metadata": {},
     "output_type": "execute_result"
    }
   ],
   "source": [
    "#copied from exmaple in instructions and modified, but I do understand what's going on here\n",
    "#Also read block quote at bottom for written answer part\n",
    "import pandas as pd\n",
    "import numpy as np\n",
    "import statistics\n",
    "# Load data for each sample into a pandas data frame\n",
    "prefixes = [\"Chow_Rep1\",\"Chow_Rep2\",\"Chow_Rep3\", \"HFD_Rep1\", \"HFD_Rep2\", \"HFD_Rep3\"]\n",
    "data = pd.read_csv(str(prefixes[0]) + \".genes.results\", sep=\"\\t\")\n",
    "data = data[[\"gene_id\", \"TPM\"]]\n",
    "data.columns = [\"gene_id\", prefixes[0]]\n",
    "for i in range(1, len(prefixes)):\n",
    "    d = pd.read_csv(str(prefixes[i]) + \".genes.results\", sep=\"\\t\")\n",
    "    d = d[[\"gene_id\",\"TPM\"]]\n",
    "    d.columns = [\"gene_id\", prefixes[i]]\n",
    "    data = pd.merge(data, d, on=[\"gene_id\"])\n",
    "\n",
    "correlations = data[prefixes].corr()\n",
    "chow_v_chow = []\n",
    "hfd_v_hfd = []\n",
    "for i in range(2):\n",
    "    for j in range(2):\n",
    "        if i == j:\n",
    "            continue\n",
    "        else:\n",
    "            chow_v_chow.append(correlations.values[i,j])\n",
    "            hfd_v_hfd.append(correlations.values[i+3,j+3])\n",
    "\n",
    "chow_v_hfd = correlations.values[0:2, 3:5]\n",
    "\n",
    "print(statistics.mean(chow_v_chow))\n",
    "print(statistics.mean(hfd_v_hfd))\n",
    "print(np.mean(chow_v_hfd))\n",
    "\n",
    "#README:\n",
    "responses = \"\"\"\n",
    "Replicates are perfectly correlated, naturally (pearson = 1)\n",
    "The values I've printed above show the average correlation between chow samples and each other, hfd samples and each other,\n",
    "and chow samples vs hfd samples. What's actually interesting here is that if I remove the diagonal (e.g. Chow1 v Chow1 ; HFD1 v HFD2)\n",
    "then we see that HFD and Chow are on average more correlated.\n",
    "I'm not sure, but I think there's definitely an argument to be made that this is correct, since it is sort of a given\n",
    "that the diagonals will have a value of 1 and don't reflect the reality that our task is to see how different sample\n",
    "types correlate with themselves and each other.\n",
    "\"\"\"\n",
    "(data[prefixes].corr())"
   ]
  },
  {
   "cell_type": "markdown",
   "metadata": {
    "deletable": false,
    "editable": false,
    "nbgrader": {
     "cell_type": "markdown",
     "checksum": "31d57aa1c66d4ec5fd29a870fb91be53",
     "grade": false,
     "grade_id": "cell-7c6f515c7ba0d103",
     "locked": true,
     "schema_version": 3,
     "solution": false
    }
   },
   "source": [
    "**Comparison of replicates (<font color=\"red\">Results-Q3</font> - 7 pts):**  Provide a scatter plot of gene expression values (TPM) in Chow replicates 1 vs. 2 and HFD replicates 1 vs. 2. "
   ]
  },
  {
   "cell_type": "code",
   "execution_count": 51,
   "metadata": {
    "deletable": false,
    "nbgrader": {
     "cell_type": "code",
     "checksum": "7555e0a501d4b478665774a106f50eee",
     "grade": true,
     "grade_id": "correct-scatter",
     "locked": false,
     "points": 7,
     "schema_version": 3,
     "solution": true
    }
   },
   "outputs": [
    {
     "data": {
      "text/plain": [
       "Text(0, 0.5, 'log10 HFD_Rep2')"
      ]
     },
     "execution_count": 51,
     "metadata": {},
     "output_type": "execute_result"
    },
    {
     "data": {
      "image/png": "[encoded data removed]",
      "text/plain": [
       "<Figure size 432x576 with 2 Axes>"
      ]
     },
     "metadata": {
      "needs_background": "light"
     },
     "output_type": "display_data"
    },
    {
     "data": {
      "text/plain": [
       "<Figure size 432x288 with 0 Axes>"
      ]
     },
     "metadata": {},
     "output_type": "display_data"
    }
   ],
   "source": [
    "#Again copies from instructions but I know how to use matplotlib\n",
    "#Also I'm assuming we want log10 of these, not just the raw numbers\n",
    "import matplotlib.pyplot as plt\n",
    "data_log10 = data.copy()\n",
    "for p in prefixes: \n",
    "    data_log10[p] = np.log10(data[p]+1)\n",
    "fig = plt.figure()\n",
    "fig.set_size_inches((6, 8))\n",
    "ax = fig.add_subplot(211)\n",
    "ax.scatter((data_log10[\"Chow_Rep1\"]+1), (data_log10[\"Chow_Rep2\"]+1), s=2, alpha=0.5)\n",
    "ax.set_xlabel(\"log10 Chow_Rep1\")\n",
    "ax.set_ylabel(\"log10 Chow_Rep2\")\n",
    "\n",
    "fig2 = plt.figure()\n",
    "fig2.set_size_inches((6, 4))\n",
    "ax2 = fig.add_subplot(212)\n",
    "ax2.scatter((data_log10[\"HFD_Rep1\"]+1), (data_log10[\"HFD_Rep2\"]+1), s=2, alpha=0.5)\n",
    "ax2.set_xlabel(\"log10 HFD_Rep1\")\n",
    "ax2.set_ylabel(\"log10 HFD_Rep2\")"
   ]
  },
  {
   "cell_type": "markdown",
   "metadata": {
    "deletable": false,
    "editable": false,
    "nbgrader": {
     "cell_type": "markdown",
     "checksum": "f7dd1dc6b48ebbff18544025c5d74107",
     "grade": false,
     "grade_id": "cell-925a1a578a9eaf38",
     "locked": true,
     "schema_version": 3,
     "solution": false
    }
   },
   "source": [
    "## Summary of differential gene expression"
   ]
  },
  {
   "cell_type": "markdown",
   "metadata": {
    "deletable": false,
    "editable": false,
    "nbgrader": {
     "cell_type": "markdown",
     "checksum": "372a8e8d18dff1ed36a42c958da04858",
     "grade": false,
     "grade_id": "cell-8494f1f95c2f380e",
     "locked": true,
     "schema_version": 3,
     "solution": false
    }
   },
   "source": [
    "**Visualization of differentially expressed genes (<font color=\"red\">Results-Q4</font> - 10 pts)**: Provide a \"volcano plot\" plotting the log2 fold change in gene expression vs. the -log10 p-value for each gene. Color significant genes (FDR<0.05) a different color.\n",
    "\n",
    "*Extra credit (3 pts)*: Annotate the names of the top 10 differentially expressed genes on the plot. "
   ]
  },
  {
   "cell_type": "code",
   "execution_count": 4,
   "metadata": {
    "deletable": false,
    "nbgrader": {
     "cell_type": "code",
     "checksum": "d26eef0df6321a8d4a967152f791f018",
     "grade": true,
     "grade_id": "correct-volcano",
     "locked": false,
     "points": 10,
     "schema_version": 3,
     "solution": true
    }
   },
   "outputs": [
    {
     "data": {
      "image/png": "[encoded data removed]",
      "text/plain": [
       "<Figure size 432x576 with 1 Axes>"
      ]
     },
     "metadata": {
      "needs_background": "light"
     },
     "output_type": "display_data"
    }
   ],
   "source": [
    "import pandas as pd\n",
    "import matplotlib.pyplot as plt\n",
    "import numpy as np\n",
    "df = pd.read_csv(\"chow_vs_hfd_deseq2.csv\")\n",
    "sig = df[df[\"padj\"] < 0.05]\n",
    "non_sig = df[df[\"padj\"] >= 0.05]\n",
    "top_10 = df.sort_values(by=\"pvalue\")[0:9]\n",
    "\n",
    "fig = plt.figure()\n",
    "fig.set_size_inches((6, 8))\n",
    "ax = fig.add_subplot(111)\n",
    "ax.scatter((non_sig[\"log2FoldChange\"]), (-np.log10(non_sig[\"pvalue\"])), s=2, alpha=0.5)\n",
    "ax.scatter((sig[\"log2FoldChange\"]), (-np.log10(sig[\"pvalue\"])), s=2, alpha=0.5, color=\"red\")\n",
    "ax.set_xlabel(\"log2 fold change\")\n",
    "ax.set_ylabel(\"log10 p-value\")\n",
    "#currently broken but I'm running out of time\n",
    "for index, row in top_10.iterrows():\n",
    "    ax.annotate(row[0], xy=(row[\"log2FoldChange\"], -np.log10(row[\"pvalue\"])), xycoords='figure points')"
   ]
  },
  {
   "cell_type": "markdown",
   "metadata": {
    "deletable": false,
    "editable": false,
    "nbgrader": {
     "cell_type": "markdown",
     "checksum": "a6cd8237af6d88067c018da073cfc4c5",
     "grade": false,
     "grade_id": "cell-260c4f53b1429e08",
     "locked": true,
     "schema_version": 3,
     "solution": false
    }
   },
   "source": [
    "**Differential expression results (<font color=\"red\">Results-Q5</font> - 10 pts)** How many total genes were differentially expressed at an adjusted p-value threshold of 0.05? Provide a table of the top 10 differentially expressed genes. The table should report gene names (not IDs), the log2 fold change, and the p-value for each gene."
   ]
  },
  {
   "cell_type": "code",
   "execution_count": 39,
   "metadata": {
    "deletable": false,
    "nbgrader": {
     "cell_type": "code",
     "checksum": "7ea225f7cf1b82c6825e3b0ecf03f00b",
     "grade": true,
     "grade_id": "correct-diffexpr",
     "locked": false,
     "points": 10,
     "schema_version": 3,
     "solution": true
    }
   },
   "outputs": [
    {
     "name": "stdout",
     "output_type": "stream",
     "text": [
      "#Genes differentially expressed: 375\n"
     ]
    },
    {
     "data": {
      "text/html": [
       "<div>\n",
       "<style scoped>\n",
       "    .dataframe tbody tr th:only-of-type {\n",
       "        vertical-align: middle;\n",
       "    }\n",
       "\n",
       "    .dataframe tbody tr th {\n",
       "        vertical-align: top;\n",
       "    }\n",
       "\n",
       "    .dataframe thead th {\n",
       "        text-align: right;\n",
       "    }\n",
       "</style>\n",
       "<table border=\"1\" class=\"dataframe\">\n",
       "  <thead>\n",
       "    <tr style=\"text-align: right;\">\n",
       "      <th></th>\n",
       "      <th>Name</th>\n",
       "      <th>log2FoldChange</th>\n",
       "      <th>pvalue</th>\n",
       "    </tr>\n",
       "  </thead>\n",
       "  <tbody>\n",
       "    <tr>\n",
       "      <th>6184</th>\n",
       "      <td>Cyp2b10</td>\n",
       "      <td>-5.083951</td>\n",
       "      <td>4.424623e-41</td>\n",
       "    </tr>\n",
       "    <tr>\n",
       "      <th>3648</th>\n",
       "      <td>Fads2</td>\n",
       "      <td>1.545719</td>\n",
       "      <td>9.952204e-35</td>\n",
       "    </tr>\n",
       "    <tr>\n",
       "      <th>427</th>\n",
       "      <td>Cyp2c29</td>\n",
       "      <td>-1.835318</td>\n",
       "      <td>3.565345e-34</td>\n",
       "    </tr>\n",
       "    <tr>\n",
       "      <th>11579</th>\n",
       "      <td>Ces2a</td>\n",
       "      <td>-1.600727</td>\n",
       "      <td>1.280916e-33</td>\n",
       "    </tr>\n",
       "    <tr>\n",
       "      <th>12021</th>\n",
       "      <td>Dbp</td>\n",
       "      <td>2.637427</td>\n",
       "      <td>2.367820e-29</td>\n",
       "    </tr>\n",
       "    <tr>\n",
       "      <th>11829</th>\n",
       "      <td>Gsta2</td>\n",
       "      <td>-2.837015</td>\n",
       "      <td>4.808465e-28</td>\n",
       "    </tr>\n",
       "    <tr>\n",
       "      <th>11845</th>\n",
       "      <td>Gstm1</td>\n",
       "      <td>-1.360523</td>\n",
       "      <td>1.148110e-27</td>\n",
       "    </tr>\n",
       "    <tr>\n",
       "      <th>2233</th>\n",
       "      <td>Abcc3</td>\n",
       "      <td>-1.457844</td>\n",
       "      <td>2.788198e-24</td>\n",
       "    </tr>\n",
       "    <tr>\n",
       "      <th>12672</th>\n",
       "      <td>Cyp2c54</td>\n",
       "      <td>-1.732744</td>\n",
       "      <td>4.001637e-21</td>\n",
       "    </tr>\n",
       "    <tr>\n",
       "      <th>6883</th>\n",
       "      <td>Apoa4</td>\n",
       "      <td>2.544864</td>\n",
       "      <td>1.192791e-20</td>\n",
       "    </tr>\n",
       "    <tr>\n",
       "      <th>7917</th>\n",
       "      <td>Thrsp</td>\n",
       "      <td>2.039169</td>\n",
       "      <td>3.847210e-19</td>\n",
       "    </tr>\n",
       "  </tbody>\n",
       "</table>\n",
       "</div>"
      ],
      "text/plain": [
       "          Name  log2FoldChange        pvalue\n",
       "6184   Cyp2b10       -5.083951  4.424623e-41\n",
       "3648     Fads2        1.545719  9.952204e-35\n",
       "427    Cyp2c29       -1.835318  3.565345e-34\n",
       "11579    Ces2a       -1.600727  1.280916e-33\n",
       "12021      Dbp        2.637427  2.367820e-29\n",
       "11829    Gsta2       -2.837015  4.808465e-28\n",
       "11845    Gstm1       -1.360523  1.148110e-27\n",
       "2233     Abcc3       -1.457844  2.788198e-24\n",
       "12672  Cyp2c54       -1.732744  4.001637e-21\n",
       "6883     Apoa4        2.544864  1.192791e-20\n",
       "7917     Thrsp        2.039169  3.847210e-19"
      ]
     },
     "execution_count": 39,
     "metadata": {},
     "output_type": "execute_result"
    }
   ],
   "source": [
    "df = pd.read_csv(\"chow_vs_hfd_deseq2.csv\")\n",
    "names = pd.read_csv(\"GRCm38.75.gene_names\", sep=\"\\t\", names=[\"Unnamed: 0\", \"Name\"])\n",
    "sig = df[df[\"padj\"] < 0.05]\n",
    "print(\"#Genes differentially expressed: \" + str(len(sig.index)))\n",
    "non_sig = df[df[\"padj\"] >= 0.05]\n",
    "df = pd.merge(df, names, on=[\"Unnamed: 0\"])\n",
    "top_10 = df.sort_values(by=\"pvalue\")[0:10]\n",
    "top_10 = top_10.filter([\"Name\", \"log2FoldChange\", \"pvalue\"])\n",
    "top_10"
   ]
  },
  {
   "cell_type": "markdown",
   "metadata": {
    "deletable": false,
    "editable": false,
    "nbgrader": {
     "cell_type": "markdown",
     "checksum": "24e3840742d31885d7f6202d351ec48f",
     "grade": false,
     "grade_id": "cell-67e0519f72108f6c",
     "locked": true,
     "schema_version": 3,
     "solution": false
    }
   },
   "source": [
    "## Gene ontology enrichment analysis\n",
    "\n",
    "**GO results (<font color=\"red\">Results-Q6</font> - 10 pts)**: Provide a list of the top 10 enriched GO categories each in down- and up- regulated genes (so two lists of 10 categories), ranked by p-value. For each enriched category, provide at least the name of the category and its enrichment p-value."
   ]
  },
  {
   "cell_type": "code",
   "execution_count": 51,
   "metadata": {
    "deletable": false,
    "nbgrader": {
     "cell_type": "code",
     "checksum": "cfa986ddfc1ce990af01318f3bed5106",
     "grade": true,
     "grade_id": "correct-go",
     "locked": false,
     "points": 10,
     "schema_version": 3,
     "solution": true
    }
   },
   "outputs": [
    {
     "name": "stdout",
     "output_type": "stream",
     "text": [
      "Top 10 Upregulated\n",
      "                                             name      p_fdr_bh\n",
      "75                           extracellular region  1.998462e-10\n",
      "76                      extracellular region part  2.252806e-08\n",
      "77                            extracellular space  2.655919e-08\n",
      "78                           extracellular matrix  8.589192e-07\n",
      "113                 heterocyclic compound binding  4.000634e-06\n",
      "84                              catalytic complex  8.183999e-06\n",
      "114               organic cyclic compound binding  1.318097e-05\n",
      "1             regulation of RNA metabolic process  3.095085e-05\n",
      "79       collagen-containing extracellular matrix  3.330853e-05\n",
      "2    positive regulation of RNA metabolic process  3.989600e-05\n",
      "Top 10 Downregulated\n",
      "                                                 name      p_fdr_bh\n",
      "88                               extracellular region  2.550833e-10\n",
      "90                                extracellular space  3.334950e-08\n",
      "89                          extracellular region part  3.334950e-08\n",
      "91                               extracellular matrix  1.249203e-06\n",
      "71                                  catalytic complex  5.706710e-06\n",
      "97                      heterocyclic compound binding  6.348674e-06\n",
      "98                    organic cyclic compound binding  1.838769e-05\n",
      "0                 regulation of RNA metabolic process  4.610827e-05\n",
      "3   regulation of nucleobase-containing compound m...  4.610827e-05\n",
      "2                          cellular metabolic process  4.610827e-05\n"
     ]
    }
   ],
   "source": [
    "#UP\n",
    "df_up = pd.read_csv(\"goea_up_fdr_bh.tsv\", sep=\"\\t\")\n",
    "top_10_up = df_up.sort_values(by=\"p_fdr_bh\")[0:10]\n",
    "top_10_up = top_10_up.filter([\"name\",\"p_fdr_bh\"])\n",
    "print(\"Top 10 Upregulated\")\n",
    "print(top_10_up)\n",
    "#Down\n",
    "df_down = pd.read_csv(\"goea_down_fdr_bh.tsv\", sep=\"\\t\")\n",
    "top_10_down = df_down.sort_values(by=\"p_fdr_bh\")[0:10]\n",
    "top_10_down = top_10_down.filter([\"name\",\"p_fdr_bh\"])\n",
    "print(\"Top 10 Downregulated\")\n",
    "print(top_10_down)\n"
   ]
  },
  {
   "cell_type": "markdown",
   "metadata": {
    "deletable": false,
    "editable": false,
    "nbgrader": {
     "cell_type": "markdown",
     "checksum": "1b78cd3f21c186178c66d63b6e0d9432",
     "grade": false,
     "grade_id": "cell-890f89c846aaed18",
     "locked": true,
     "schema_version": 3,
     "solution": false
    }
   },
   "source": [
    "# Discussion (15 pts total)\n",
    "\n",
    "**<font color=\"red\">Discussion-Q1</font> - 5 pts**: Summarize the characteristics of genes that are up- and down-regulated in HFD compared to Chow fed mice. Do the GO categories enriched in those gene sets make sense? Do a little exploring of the top misregulated genes to find out what they might be doing."
   ]
  },
  {
   "cell_type": "markdown",
   "metadata": {
    "deletable": false,
    "nbgrader": {
     "cell_type": "markdown",
     "checksum": "02dc5a9f158b8974cabd6b603443706c",
     "grade": true,
     "grade_id": "correct-disc-q1",
     "locked": false,
     "points": 5,
     "schema_version": 3,
     "solution": true
    }
   },
   "source": [
    "It seems that many of the top genes affect the extracellular space in these mice, although when looking at a few of the top genes, I found that many had something to do with metabolic activity in the liver (like encoding for an enzyme that ozydizes certain macromolecules in the liver). This does make sense that since the mouse diet is changing, genes that regulate metabolism would also be affected."
   ]
  },
  {
   "cell_type": "markdown",
   "metadata": {
    "deletable": false,
    "editable": false,
    "nbgrader": {
     "cell_type": "markdown",
     "checksum": "1139827b21432536c1d735cdd61a6792",
     "grade": false,
     "grade_id": "cell-9f5df213ac3cd2fd",
     "locked": true,
     "schema_version": 3,
     "solution": false
    }
   },
   "source": [
    "**<font color=\"red\">Discussion-Q2</font> - 5 pts**: You'll likely notice from your volcano plot that there are many genes with very high fold changes (e.g. log2 fold change > 6) but that are not called as significant. Hypothesize why. it could be helpful to dig in and look at the data for some of those genes."
   ]
  },
  {
   "cell_type": "markdown",
   "metadata": {
    "deletable": false,
    "nbgrader": {
     "cell_type": "markdown",
     "checksum": "df84939bbbe68d32c242a1ebd2d7e751",
     "grade": true,
     "grade_id": "correct-disc-q2",
     "locked": false,
     "points": 5,
     "schema_version": 3,
     "solution": true
    }
   },
   "source": [
    "These genes could have low counts, so there's a higher FC just by random chance. This randomness and difference doesn't necessarily mean that the gene is enriched, though"
   ]
  },
  {
   "cell_type": "markdown",
   "metadata": {
    "deletable": false,
    "editable": false,
    "nbgrader": {
     "cell_type": "markdown",
     "checksum": "b35140469fc076859adedf78b75ae01e",
     "grade": false,
     "grade_id": "cell-cf2781ff38881688",
     "locked": true,
     "schema_version": 3,
     "solution": false
    }
   },
   "source": [
    "**<font color=\"red\">Discussion-Q3</font> - 5 pts**: For GO analysis, the choice of the background set of genes can be important. Here, we chose the set of all genes we analyzed with DESeq2 as the background. This ensured that we were only looking at genes that were at least somewhat expressed in liver in at least one of our samples. We could have instead chosen a different background set, such as all mouse genes. Hypothesize how this might have changed our results?"
   ]
  },
  {
   "cell_type": "markdown",
   "metadata": {
    "deletable": false,
    "nbgrader": {
     "cell_type": "markdown",
     "checksum": "f2e4edb5805ed4e9f7a5bd72043840e1",
     "grade": true,
     "grade_id": "correct-disc-q3",
     "locked": false,
     "points": 5,
     "schema_version": 3,
     "solution": true
    }
   },
   "source": [
    "There may have been extra noise added in from the higher amounts of gene categories, and another pathway could have been marked as more important if there is different function in a different cell type"
   ]
  },
  {
   "cell_type": "code",
   "execution_count": null,
   "metadata": {},
   "outputs": [],
   "source": []
  }
 ],
 "metadata": {
  "kernelspec": {
   "display_name": "Python 3",
   "language": "python",
   "name": "python3"
  },
  "language_info": {
   "codemirror_mode": {
    "name": "ipython",
    "version": 3
   },
   "file_extension": ".py",
   "mimetype": "text/x-python",
   "name": "python",
   "nbconvert_exporter": "python",
   "pygments_lexer": "ipython3",
   "version": "3.6.7"
  }
 },
 "nbformat": 4,
 "nbformat_minor": 2
}
