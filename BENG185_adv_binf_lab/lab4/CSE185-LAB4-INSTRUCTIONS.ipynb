{
 "cells": [
  {
   "cell_type": "markdown",
   "metadata": {
    "deletable": false,
    "editable": false,
    "nbgrader": {
     "cell_type": "markdown",
     "checksum": "f1b9f91e6aa74d42d12079a22dd97a70",
     "grade": false,
     "grade_id": "cell-127d0f0e7d7df377",
     "locked": true,
     "schema_version": 3,
     "solution": false
    }
   },
   "source": [
    "# Week 4 Lab: You are what you eat (differential expression)\n",
    "\n",
    "Skills: differential expression, enrichment analysis\n",
    "\n",
    "## Intro\n",
    "You would like to study the effects that eating a high fat diet might have on your health. To explore this, you perform an experiment using mice. You feed three mice a standard \"chow\" diet and another three mice a high fat diet (\"HFD\"). After 7 weeks, you collect liver biopsies from each of the six mice and perform RNA-sequencing. You'd like to analyze the RNA-seq results to determine which genes changed their expression, and what those genes might be doing.\n",
    "\n",
    "In this lab, we'll go through:\n",
    "1. Alignment and visualization of RNA-seq data\n",
    "2. How to quantify gene expression based on the alignments\n",
    "3. Differential expression analysis\n",
    "4. \"GO\" Enrichment analysis to characterize differentially expressed genes.\n",
    "\n",
    "### Note on new lab notebook format\n",
    "This week, we'll be transitioning away from the 2-part assignments we had for the first three weeks. Instead, we'll us a new format with a single assignment. You will see 2 notebooks:\n",
    "* `CSE185-LAB4-INSTRUCTIONS`: (this notebook) will provide instructions (and hints) about the analyses you'll be performing that week. There are no points associated with this notebook. Instructions marked in <font color=\"red\">red</font> point out specifically what will need to be included in the report notebook. Question labels here (e.g. <font color=\"red\">Methods-Q1</font>, <font color=\"red\">Results-Q1</font> etc. should match up with question labels in the report notebook.\n",
    "* `CSE185-LAB4-REPORT`: This will be structured in a lab report format, with prompts for what needs to be included and how many points each section is worth.\n",
    "\n",
    "In general, we will not be asking you to paste specific commands you used to get your answer. However, it is a good practice to keep a document where you keep track of exactly the commands you used for each analysis, so that you can come back to it later and remember what you did. \n",
    "\n",
    "The goal of this new format is two-fold: (1) to give you more flexibility and independence in running the different tools (We will still provide examples in the instruction notebook), and (2) to get ready for the format you'll be using for final projects (and also for doing analyses and writing publications in general) This week's lab should have fewer actual things to code than previous labs.\n",
    "\n",
    "### Summary of tools covered\n",
    "In this lab we'll be using (or at least referring to) the following tools:\n",
    "\n",
    "* [STAR](https://github.com/alexdobin/STAR) for aligning RNA-seq reads to a reference transcriptome.\n",
    "* [IGV](https://software.broadinstitute.org/software/igv/) a genome browser. Used for visualizing RNA-seq alignments (and other types of genomic data)\n",
    "* [RSEM](https://deweylab.github.io/RSEM/) for quantifying gene expression. RSEM takes aligned reads as input and outputs expression levels for each gene.\n",
    "* [DESeq2](https://bioconductor.org/packages/release/bioc/html/DESeq2.html) for differential expression analysis. This is an R package. It takes in gene expression levels across multiple replicates of multiple conditions and determines which genes are differentially expressed.\n",
    "* [goatools](https://github.com/tanghaibao/goatools) for performing gene ontology enrichment analyses. This is a Python package but also offers a standalone tool for running GO analysis.\n",
    "\n",
    "Note: Because DESeq2 is only available as an R package, we'll be writing a small bit of R code which will mostly be provided for you here in the instructions.\n",
    "\n",
    "And as usual, we'll do some plotting with the [matplotlib](https://matplotlib.org/) Python library (or, whatever method you want to use for plotting. You do not have to use matplotlib. If you are an R person, you can also write R code directly in Jupyter notebooks as we'll see below).\n",
    "\n",
    "### Summary of data provided\n",
    "As usual, data for this week can be found in `/datasets/cs185-sp21-A00-public/week4`. You should see:\n",
    "\n",
    "* `fastqs/`: This directory contains a fastq file for each of our datasets, `Chow_RepX.fq` and `HFD_RepX.fq` where `X` is 1, 2, or 3.\n",
    "* `genomeBams/`: This directory contains BAM files based on alignment of reads to a *reference genome* (more on this below).\n",
    "* `txBams/`: This directory contains BAM files based on alignment of reads to a *reference transcriptome* (more on this below).\n",
    "* `tdfs/`: This directory contains `tdf` files which we'll use for visualizing alignments using a genome browser (IGV. optional this week but a good idea since we'll be using this again next week.)\n",
    "* The `RSEM/` and `STAR/` directories contain indices needed by those tools, similar to the indices used by BWA MEM in lab 1.\n",
    "* `GOAnalysis/`: This directory contains reference files we'll use for our Gene Ontology analysis.\n",
    "* `GRCm38.75.gene_names` contains a mapping between ENSEMBL gene ids (`ENSMUSG...`) and gene names (e.g. Cdc45, Klf6)\n",
    "\n",
    "We have also added a mouse reference genome at: `/datasets/cs185-sp21-A00-public/genomes/genomes/GRCm38.fa` (build GRCm38)."
   ]
  },
  {
   "cell_type": "markdown",
   "metadata": {
    "deletable": false,
    "editable": false,
    "nbgrader": {
     "cell_type": "markdown",
     "checksum": "931efbcbe344d88749876e5092f71fb5",
     "grade": false,
     "grade_id": "cell-83768d57c0c64b08",
     "locked": true,
     "schema_version": 3,
     "solution": false,
     "task": false
    }
   },
   "source": [
    "The following code loads everything needed for plotting inline, and for loading R. To use R in Jupyter, you'll first have to install the `rpy2` Python module. You can do this from the command line using `pip`:\n",
    "\n",
    "```shell\n",
    "pip install --user rpy2\n",
    "```\n",
    "\n",
    "If the following cell gives you an error, it is probably because you haven't installed `rpy2` yet. You should only have to do this once."
   ]
  },
  {
   "cell_type": "code",
   "execution_count": 1,
   "metadata": {
    "deletable": false,
    "editable": false,
    "nbgrader": {
     "cell_type": "code",
     "checksum": "bbdbb01db7c764bad24d6212db1bfe2e",
     "grade": false,
     "grade_id": "cell-8f70d7b1e7a229bf",
     "locked": true,
     "schema_version": 3,
     "solution": false
    }
   },
   "outputs": [
    {
     "name": "stdout",
     "output_type": "stream",
     "text": [
      "Populating the interactive namespace from numpy and matplotlib\n"
     ]
    }
   ],
   "source": [
    "# Run this to allow plotting in the notebook\n",
    "%pylab inline\n",
    "\n",
    "# Run this to allow using the %%R cell magic\n",
    "%load_ext rpy2.ipython\n",
    "\n",
    "# Suppress warnings (most notable from rpy2)\n",
    "import warnings\n",
    "warnings.filterwarnings('ignore')"
   ]
  },
  {
   "cell_type": "markdown",
   "metadata": {
    "deletable": false,
    "editable": false,
    "nbgrader": {
     "cell_type": "markdown",
     "checksum": "3786295217fe6fa03947bb9a606d62af",
     "grade": false,
     "grade_id": "cell-b4d774e3e87ff64e",
     "locked": true,
     "schema_version": 3,
     "solution": false
    }
   },
   "source": [
    "# 1. Alignment of RNA-seq data\n",
    "\n",
    "As for most NGS analyses we'll be doing (besides assembly), the first step is to align our reads so we know where they came from. As we discussed in lab, we cannot simply align reads to the reference genome using something like BWA-MEM, since this does not take into account \"splice junctions\" that will be prevalent in our RNA-seq data.\n",
    "\n",
    "<font color=\"red\">**FOR YOUR REPORT (Methods-Q1)**</font> Summarize the dataset we are starting with: how many samples are we analyzing, where did they come from, how many RNA-seq reads were collected for each sample, and what is the read length?\n",
    "\n",
    "We will be using an RNA-seq aligner called STAR for this. STAR takes in fastq files and a reference *transcriptome* and outputs BAM files with aligned reads. **Because STAR can be very memory intensive (20+GB RAM), we have already run this for you. We will still walk through the steps to run it here as a reference for using this in the future (for example if you end up using RNA-seq data in your final project).**\n",
    "\n",
    "First, similar to BWA-MEM, we need to create an \"index\" that will be used during alignment to rapidly look up where each read came from. We created an index using the following command:\n",
    "\n",
    "```shell\n",
    "# Don't run this! Shown FYI\n",
    "REFFA=/datasets/cs185-sp21-A00-public/genomes/GRCm38.fa\n",
    "GTF=/datasets/cs185-sp21-A00-public/genomes/GRCm38.75.gtf\n",
    "STARDIR=/datasets/cs185-sp21-A00-public/week4/STAR\n",
    "STAR \\\n",
    "    --runMode genomeGenerate \\\n",
    "    --genomeDir ${STARDIR} \\\n",
    "    --genomeFastaFiles ${REFFA} \\\n",
    "    --sjdbGTFfile ${GTF} \\\n",
    "    --sjdbOverhang 49\n",
    "```\n",
    "\n",
    "<blockquote>UNIX TIP: Note, in the above command we are taking advantage of bash variables. We can define variables using the syntax: VAR=value (important, no spaces!) then reference variables using \\$VAR or \\${VAR}.</blockquote>\n",
    "\n",
    "Input parameters to this command were:\n",
    "* `--runMode genomeGenerate`: tells STAR we're creating an index\n",
    "* `--genomeDir ${STARDIR}`: tells STAR where to put the output files\n",
    "* `--genomeFastaFiles ${REFFA}` pointed STAR to the fasta file for our reference genome. Here we are using a mouse genome with the GRCm38 build.\n",
    "* `--sjdbGTFfile ${GTF}` provides the gene annotations (GTF format). This file is critical for telling STAR where all the exon-exon boundaries are and where genes start and end. You should take a look at this file to get an idea of what these gene annotations look like. See the [GTF format spec](https://uswest.ensembl.org/info/website/upload/gff.html) and lecture slides for more details. This file was created by ENSEMBL build 75 (http://feb2014.archive.ensembl.org/Mus_musculus/Info/Index).\n",
    "* `--sjdbOverhang` should be set to the read length -1 according to the STAR manual.\n",
    "\n",
    "After creating the index, we can align reads to the transcriptome. We used the following bash commands to run the alignment:"
   ]
  },
  {
   "cell_type": "markdown",
   "metadata": {
    "deletable": false,
    "editable": false,
    "nbgrader": {
     "cell_type": "markdown",
     "checksum": "54e86c705f3c0874296ea5157b8d3b1b",
     "grade": false,
     "grade_id": "cell-4fa34f0f5e8335c8",
     "locked": true,
     "schema_version": 3,
     "solution": false
    }
   },
   "source": [
    "```shell\n",
    "# Don't run this! Shown FYI\n",
    "OUTDIR=/datasets/cs185-sp21-A00-public/week4/\n",
    "STARDIR=/datasets/cs185-sp21-A00-public/week4/STAR\n",
    "\n",
    "# STAR options recommended by ENCODE\n",
    "STAROPTS=\"--outSAMattributes NH HI AS NM MD \\\n",
    "\t--outFilterType BySJout \\\n",
    "\t--outFilterMultimapNmax 20 \\\n",
    "\t--outFilterMismatchNmax 999 \\\n",
    "\t--outFilterMismatchNoverReadLmax 0.04 \\\n",
    "\t--alignIntronMin 20 \\\n",
    "\t--alignIntronMax 1000000 \\\n",
    "\t--alignMatesGapMax 1000000 \\\n",
    "\t--alignSJoverhangMin 8 \\\n",
    "\t--alignSJDBoverhangMin 1 \\\n",
    "\t--sjdbScore 1 \\\n",
    "\t--limitBAMsortRAM 50000000000\"\n",
    "\n",
    "for f in Chow_Rep1 Chow_Rep2 Chow_Rep3 HFD_Rep1 HFD_Rep2 HFD_Rep3\n",
    "do\n",
    "    STAR \\\n",
    "\t--runThreadN 5 \\\n",
    "\t--genomeDir ${STARDIR} \\\n",
    "\t--readFilesIn ${OUTDIR}/fastqs/${f}.fq \\\n",
    "\t--outFileNamePrefix ${OUTDIR}/${f} \\\n",
    "\t--outSAMtype BAM SortedByCoordinate \\\n",
    "\t--quantMode TranscriptomeSAM ${STAROPTS}\n",
    "    # Reorganize the output files\n",
    "    mv ${OUTDIR}/${f}Aligned.toTranscriptome.out.bam ${OUTDIR}/txBams/\n",
    "    mv ${OUTDIR}/${f}Aligned.sortedByCoord.out.bam ${OUTDIR}/genomeBams/\n",
    "    samtools index ${OUTDIR}/genomeBams/${f}Aligned.sortedByCoord.out.bam\n",
    "done\n",
    "```"
   ]
  },
  {
   "cell_type": "markdown",
   "metadata": {
    "deletable": false,
    "editable": false,
    "nbgrader": {
     "cell_type": "markdown",
     "checksum": "8c1b013a4b8075bc709074ab0a1b3c94",
     "grade": false,
     "grade_id": "cell-9efbc9deaec880dc",
     "locked": true,
     "schema_version": 3,
     "solution": false
    }
   },
   "source": [
    "<blockquote>UNIX tip: The for loop goes through each of our samples and runs a separate command for each, similar to for loops in Python. You may find the for loop syntax useful for running additional commands below. See more about bash for loops: https://www.cyberciti.biz/faq/bash-for-loop/.</blockquote>\n",
    "\n",
    "This command uses STAR to align each of our fastq files to the reference genome and reference transcriptome. \n",
    "\n",
    "This outputs two BAM files:\n",
    "* `${f}Aligned.sortedByCoord.out.bam`: contains our reads aligned to the reference mouse *genome* (GRChm38).\n",
    "* `${f}Aligned.toTranscriptome.out.bam`: contains our reads aligned to the mouse *transcriptome* (Ensembl version 75).\n",
    "\n",
    "If you do `samtools view` on these files, you will see the first BAM files (genome) are aligned to chromosomes like we are used to (e.g. 1, 2, etc.). The second BAM files (transcriptome) are aligned to *transcripts* (named things like \"ENSMUST00000074245\"). These transcriptome BAMs are required for the tools in the next section for quantifying gene expression.\n",
    "\n",
    "A major difference between the two alignments is that alignments of RNA-seq reads to the reference genome will contain large gaps due to splice junctions. Find reads with such gaps by looking for CIGAR scores containing an \"N\" character (gap). e.g.:\n",
    "```\n",
    "samtools view /datasets/cs185-sp21-A00-public/week4/genomeBams/Chow_Rep1Aligned.sortedByCoord.out.bam | awk '($6 ~ /N/)' | head\n",
    "```\n",
    "\n",
    "You should see reads with CIGAR scores like `38M723N12M`. This means a read matched for 38bp on one exon, spanned a 723bp intron, and matched to 12bp on the next exon. You won't typically see this type of read in the transcriptome BAMs, since in those cases reads were aligned directly to transcripts with intron sequences removed.\n",
    "\n",
    "It is a good idea (although there no points associated with it here) to visualize your sequencing alignments using a genome browser like IGV to make sure everything went well with the alignment. See the optional IGV section at the end of the lab instructions below."
   ]
  },
  {
   "cell_type": "markdown",
   "metadata": {
    "deletable": false,
    "editable": false,
    "nbgrader": {
     "cell_type": "markdown",
     "checksum": "85669c350b70f5b7835c2a9089f8be93",
     "grade": false,
     "grade_id": "cell-7160ca04a905a604",
     "locked": true,
     "schema_version": 3,
     "solution": false
    }
   },
   "source": [
    "# 2. Quantifying gene expression\n",
    "\n",
    "Next, we will use RSEM, a tool for quantifying gene expression from RNA-seq. It takes in reads aligned to the transcriptome, which we obtained using STAR, and outputs estimated expression levels of each gene.\n",
    "\n",
    "RSEM requires an initial step to preprocess the reference transcriptome, similar to the index step required for sequence alignment. We have run this for you using the command below:\n",
    "\n",
    "```shell\n",
    "# Don't run! Shown FYI\n",
    "REFFA=/datasets/cs185-sp21-A00-public/genomes/GRCm38.fa\n",
    "GTF=/datasets/cs185-sp21-A00-public/genomes/GRCm38.75.gtf\n",
    "RSEMOUT=/datasets/cs185-sp21-A00-public/week4/RSEM/RSEM\n",
    "rsem-prepare-reference \\\n",
    "    --gtf ${GTF} ${REFFA} ${RSEMOUT}\n",
    "```\n",
    "\n",
    "This will generate multiple index files with prefix `/datasets/cs185-sp21-A00-public/week4/RSEM/RSEM*`.\n",
    "\n",
    "Now, we are ready to run RSEM for expression quantification. The following command shows how to run RSEM on a single sample:\n",
    "\n",
    "```shell\n",
    "RSEMOUT=/datasets/cs185-sp21-A00-public/week4/RSEM/RSEM\n",
    "rsem-calculate-expression \\\n",
    "\t-p 5 \\\n",
    "\t--fragment-length-mean -1 \\\n",
    "\t--seed-length 25 \\\n",
    "\t--bam /datasets/cs185-sp21-A00-public/week4/txBams/Chow_Rep1Aligned.toTranscriptome.out.bam \\\n",
    "\t${RSEMOUT} \\\n",
    "\t~/week4/Chow_Rep1\n",
    "```\n",
    "(we also included `-p 5` to run on 5 processors to speed this up.)\n",
    "\n",
    "We need to run `rsem-calculate-expression` on each of the six samples (separately). \n",
    "\n",
    "We encourage you to try running this yourself. However, this can take a while (>20 minutes per sample). **So we strongly suggest you first use the precomputed results in the `week4/precomputed` directory which you can copy to `~/week4` so you can move on to complete the rest of the lab.** Then go back and see if you can write a for loop to compute the results yourself using `rsem`.\n",
    "\n",
    "A successful `rsem` run will create the following output files (for each condition. shown here for `Chow_Rep1`):\n",
    "* `Chow_Rep1.genes.results`: gene-level expression results\n",
    "* `Chow_Rep1.isoforms.results`: isoform (transcript)-level expression results\n",
    "\n",
    "For this week's lab, we will focus on the gene-level results (which combines expression from each isoform of each gene into one value). Take a look at the output file. You will see (among other things): gene_id (a funny looking string like ENSMUSG...), a list of transcript ids for that gene, the length of the gene, and the estimated expression level given in both TPM and FPKM. Refer to the exercises and the lecture slides for more info about the difference between these metrics.\n",
    "\n",
    "<font color=\"red\">**FOR YOUR REPORT (Methods-Q2)**</font> Describe how reads were aligned and how you quantified expression: what tools were used (even if we ran them for you), which transcriptome did you use for a reference, what non-default parameters did you add? You should also include the version of any tools you ran (although in some cases you may not be able to figure out the version). Most tools will have options like `--version` or `-v` that can print out the version of the tool you have installed.\n",
    "\n",
    "<font color=\"red\">**FOR YOUR REPORT (Results-Q1)**</font> Summarize the expression results by reporting how many genes were expressed (TPM>0) in each sample.\n",
    "\n",
    "Since we included three replicate samples for each condition, one way we can assess the quality of our results is by comparing replicate samples. We have provided some Python code below to get you started with computing correlations between samples and how to draw a scatter plot to compare. Since our expression values have a large range, we compare log10 TPM values rather than the raw values themselves.\n",
    "\n",
    "<font color=\"red\">**FOR YOUR REPORT (Results-Q2)**</font> Provide the pairwise correlation between log10 TPM values for each sample. \n",
    "\n",
    "<font color=\"red\">**FOR YOUR REPORT (Results-Q3)**</font> Provide scatter plots comparing TPM values in Chow Rep1 vs. Rep2 and HFD Rep1 vs. REP2."
   ]
  },
  {
   "cell_type": "code",
   "execution_count": 7,
   "metadata": {
    "deletable": false,
    "editable": false,
    "nbgrader": {
     "cell_type": "code",
     "checksum": "55bd57ca4083658dc10824a636e7f542",
     "grade": false,
     "grade_id": "cell-d77a3382be3adf04",
     "locked": true,
     "schema_version": 3,
     "solution": false
    }
   },
   "outputs": [
    {
     "name": "stdout",
     "output_type": "stream",
     "text": [
      "Populating the interactive namespace from numpy and matplotlib\n",
      "(0.9889751249613147, 0.0)\n",
      "(0.9843194774410498, 0.0)\n"
     ]
    },
    {
     "data": {
      "text/html": [
       "<div>\n",
       "<style scoped>\n",
       "    .dataframe tbody tr th:only-of-type {\n",
       "        vertical-align: middle;\n",
       "    }\n",
       "\n",
       "    .dataframe tbody tr th {\n",
       "        vertical-align: top;\n",
       "    }\n",
       "\n",
       "    .dataframe thead th {\n",
       "        text-align: right;\n",
       "    }\n",
       "</style>\n",
       "<table border=\"1\" class=\"dataframe\">\n",
       "  <thead>\n",
       "    <tr style=\"text-align: right;\">\n",
       "      <th></th>\n",
       "      <th>Chow_Rep1</th>\n",
       "      <th>Chow_Rep2</th>\n",
       "      <th>Chow_Rep3</th>\n",
       "    </tr>\n",
       "  </thead>\n",
       "  <tbody>\n",
       "    <tr>\n",
       "      <th>Chow_Rep1</th>\n",
       "      <td>1.000000</td>\n",
       "      <td>0.984319</td>\n",
       "      <td>0.984712</td>\n",
       "    </tr>\n",
       "    <tr>\n",
       "      <th>Chow_Rep2</th>\n",
       "      <td>0.984319</td>\n",
       "      <td>1.000000</td>\n",
       "      <td>0.988975</td>\n",
       "    </tr>\n",
       "    <tr>\n",
       "      <th>Chow_Rep3</th>\n",
       "      <td>0.984712</td>\n",
       "      <td>0.988975</td>\n",
       "      <td>1.000000</td>\n",
       "    </tr>\n",
       "  </tbody>\n",
       "</table>\n",
       "</div>"
      ],
      "text/plain": [
       "           Chow_Rep1  Chow_Rep2  Chow_Rep3\n",
       "Chow_Rep1   1.000000   0.984319   0.984712\n",
       "Chow_Rep2   0.984319   1.000000   0.988975\n",
       "Chow_Rep3   0.984712   0.988975   1.000000"
      ]
     },
     "execution_count": 7,
     "metadata": {},
     "output_type": "execute_result"
    },
    {
     "data": {
      "image/png": "[encoded data removed]",
      "text/plain": [
       "<Figure size 432x288 with 1 Axes>"
      ]
     },
     "metadata": {
      "needs_background": "light"
     },
     "output_type": "display_data"
    }
   ],
   "source": [
    "##### Example code for how to compute correlations and draw scatter plots #####\n",
    "\n",
    "%pylab inline\n",
    "import os\n",
    "import pandas as pd\n",
    "import scipy.stats\n",
    "OUTDIR=\"/datasets/cs185-sp21-A00-public/week4/precomputed/\"\n",
    "\n",
    "# Load data for each sample into a pandas data frame\n",
    "prefixes = [\"Chow_Rep1\",\"Chow_Rep2\",\"Chow_Rep3\"]\n",
    "data = pd.read_csv(os.path.join(OUTDIR, \"%s.genes.results\"%prefixes[0]), sep=\"\\t\")\n",
    "data = data[[\"gene_id\", \"TPM\"]]\n",
    "data.columns = [\"gene_id\", prefixes[0]]\n",
    "for i in range(1, len(prefixes)):\n",
    "    d = pd.read_csv(os.path.join(OUTDIR, \"%s.genes.results\"%prefixes[i]), sep=\"\\t\")\n",
    "    d = d[[\"gene_id\",\"TPM\"]]\n",
    "    d.columns = [\"gene_id\", prefixes[i]]\n",
    "    data = pd.merge(data, d, on=[\"gene_id\"])\n",
    "    \n",
    "# For each sample, take log10 TPM and add a pseudocount of 1 to avoid 0s\n",
    "for p in prefixes: data[p] = np.log10(data[p]+1)\n",
    "    \n",
    "# Correlation scatter plots\n",
    "fig = plt.figure()\n",
    "fig.set_size_inches((6, 4))\n",
    "ax = fig.add_subplot(111)\n",
    "ax.scatter((data[\"Chow_Rep1\"]+1), (data[\"Chow_Rep2\"]+1), s=2, alpha=0.5)\n",
    "ax.set_xlabel(\"log10 Chow_Rep1\")\n",
    "ax.set_ylabel(\"log10 Chow_Rep2\")\n",
    "\n",
    "\n",
    "# scipy.stats.pearsonr gives correlation (r, pval)\n",
    "print(scipy.stats.pearsonr((data[\"Chow_Rep2\"]+1), (data[\"Chow_Rep3\"]+1)))\n",
    "print(scipy.stats.pearsonr((data[\"Chow_Rep1\"]+1), (data[\"Chow_Rep2\"]+1)))\n",
    "\n",
    "# Pandas can give you pairwise correlation between all pairs of a set of columns\n",
    "# You can run a similar command in your report to directly print a nicely formatted correlation matrix table!\n",
    "(data[prefixes].corr())"
   ]
  },
  {
   "cell_type": "markdown",
   "metadata": {
    "deletable": false,
    "editable": false,
    "nbgrader": {
     "cell_type": "markdown",
     "checksum": "243e35c3159fc4c1610190c327f1ff17",
     "grade": false,
     "grade_id": "cell-f6a84764a7edc440",
     "locked": true,
     "schema_version": 3,
     "solution": false
    }
   },
   "source": [
    "# 3. Differential expression analysis\n",
    "\n",
    "Now that we have quantified gene expression in each of our samples, we can perform differential expression analysis. For this, we will be using DESeq2, a widely used method that takes in \"counts\" (numbers of reads aligned to each gene) for different samples and outputs a set of differentially expressed genes.\n",
    "\n",
    "This tool is an R package, and so must be run from R. Fortunately, we can write R code directly in Jupyter notebooks using the R \"cell magic\" (see below). Alternatively, you can open a separate \"R\" document from JupyterHub or use R at the terminal if that's more comfortable. Since we have not run R before in this course, we have provided the necessary code to run DESeq2 below. The code does the following:\n",
    "\n",
    "* Loads the `DESeq2` library, as well as the `tximport` library which is needed to load RSEM results\n",
    "* Sets up the list of files to be used as input to DESeq2. We will input the RSEM results from each of our replicates in each condition.\n",
    "* Defines which condition each dataset belongs to (the first three are replicates of \"Chow\", the second three are replicates of \"HFD\").\n",
    "* Imports the data to DESeq2 using the `tximport` library\n",
    "* Runs DESeq2 to find differentially expressed genes.\n",
    "* Outputs results to `~/week4/chow_vs_hfd_deseq2.csv`.\n",
    "\n",
    "<font color=\"red\">**FOR YOUR REPORT (Methods-Q3)**</font> Summarize the methods used to detect differentially expressed genes. Even though you didn't have to write this code yourself, you still should summarize what was done following the prompts in the report document."
   ]
  },
  {
   "cell_type": "code",
   "execution_count": 10,
   "metadata": {
    "deletable": false,
    "editable": false,
    "nbgrader": {
     "cell_type": "code",
     "checksum": "76512568d045b2379b0c99adf45d04c8",
     "grade": false,
     "grade_id": "cell-8d0c80495750e889",
     "locked": true,
     "schema_version": 3,
     "solution": false
    }
   },
   "outputs": [
    {
     "name": "stderr",
     "output_type": "stream",
     "text": [
      "R[write to console]: It looks like you are importing RSEM genes.results files, setting txIn=FALSE\n",
      "\n",
      "R[write to console]: reading in files with read_tsv\n",
      "\n",
      "R[write to console]: 1 \n",
      "R[write to console]: 2 \n",
      "R[write to console]: 3 \n",
      "R[write to console]: 4 \n",
      "R[write to console]: 5 \n",
      "R[write to console]: 6 \n",
      "R[write to console]: using counts and average transcript lengths from tximport\n",
      "\n",
      "R[write to console]: estimating size factors\n",
      "\n",
      "R[write to console]: using 'avgTxLength' from assays(dds), correcting for library size\n",
      "\n",
      "R[write to console]: estimating dispersions\n",
      "\n",
      "R[write to console]: gene-wise dispersion estimates\n",
      "\n",
      "R[write to console]: mean-dispersion relationship\n",
      "\n",
      "R[write to console]: final dispersion estimates\n",
      "\n",
      "R[write to console]: fitting model and testing\n",
      "\n"
     ]
    }
   ],
   "source": [
    "%%R\n",
    "\n",
    "##### Load the libraries we need #####\n",
    "library(\"DESeq2\")\n",
    "library(\"tximport\")\n",
    "\n",
    "##### List the files and set up metadata #####\n",
    "# Note, you should change this to use the files in your home directory\n",
    "files <- c(\"/datasets/cs185s-sp20-public/week4/precomputed/Chow_Rep1.genes.results\",\n",
    "         \"/datasets/cs185s-sp20-public/week4/precomputed/Chow_Rep2.genes.results\",\n",
    "         \"/datasets/cs185s-sp20-public/week4/precomputed/Chow_Rep3.genes.results\",\n",
    "         \"/datasets/cs185s-sp20-public/week4/precomputed/HFD_Rep1.genes.results\",\n",
    "         \"/datasets/cs185s-sp20-public/week4/precomputed/HFD_Rep2.genes.results\",\n",
    "         \"/datasets/cs185s-sp20-public/week4/precomputed/HFD_Rep3.genes.results\")\n",
    "conditions <- c(rep(\"Chow\", 3), rep(\"HFD\", 3))\n",
    "samples <- data.frame(\"run\"=c(\"Chow_Rep1\", \"Chow_Rep2\", \"Chow_Rep3\", \"HFD_Rep1\", \"HFD_Rep2\", \"HFD_Rep3\"),\n",
    "                    \"condition\"=conditions)\n",
    "names(files) = samples$run\n",
    "\n",
    "##### Use \"tximport\" to convert RSEM results to the format needed by DESeq2 #####\n",
    "txi <- tximport(files, type=\"rsem\")\n",
    "txi$length[txi$length == 0] <- 1 # add pseudocount of 1 to lengths to fix error with 0-length transcripts\n",
    "ddsTxi <- DESeqDataSetFromTximport(txi, colData=samples, design=~condition)\n",
    "\n",
    "# Filter things with very low counts to we don't waste time on those\n",
    "keep <- rowSums(counts(ddsTxi)) >= 10\n",
    "ddsTxi <- ddsTxi[keep,]\n",
    "\n",
    "##### Perform deseq2 #####\n",
    "dds <- DESeq(ddsTxi)\n",
    "res <- results(dds)\n",
    "\n",
    "##### Write results to chow_vs_hfd_deseq2.csv #####\n",
    "write.csv(as.data.frame(res), file=\"~/week4/chow_vs_hfd_deseq2.csv\")"
   ]
  },
  {
   "cell_type": "markdown",
   "metadata": {
    "deletable": false,
    "editable": false,
    "nbgrader": {
     "cell_type": "markdown",
     "checksum": "3c573bc170cf756a34f217057a471a77",
     "grade": false,
     "grade_id": "cell-fb50e02079c59383",
     "locked": true,
     "schema_version": 3,
     "solution": false
    }
   },
   "source": [
    "Take a look at the results in the CSV file `~/week4/chow_vs_hfd_deseq2.csv`. The important columns to note are:\n",
    "\n",
    "* Column 1 (no column header): gives the gene id (e.g. ENSMUSG00000000088)\n",
    "* Column 3 (log2FoldChange): gives the log2 of the fold change in expression of the gene between conditions\n",
    "* Column 6 (\"pvalue\"): gives the p-value for each gene, where here the null hypothesis is that the gene is expressed equally in Chow vs. HFD.\n",
    "* Column 7 (\"padj\"): gives the pvalues \"adjusted\" for the number of hypotheses being tested (false discovery rate).\n",
    "\n",
    "<font color=\"red\">**FOR YOUR REPORT (Results-Q4)**</font> Following the prompts in the report notebook, visualize the differential expression results using a [\"volcano plot\"](https://en.wikipedia.org/wiki/Volcano_plot_(statistics)), which plots the log2 fold change vs. the -log10 p-value. We'll see an example in lecture this week of what this should look like.\n",
    "\n",
    "You'll notice all the gene ids are pretty cryptic looking (e.g. ENSMUSG00000000088). We have provided a file, `GRCm38.75.gene_names` in the `week4` directory that can be used to convert these to more canonical gene names. \n",
    "\n",
    "<font color=\"red\">**FOR YOUR REPORT (Results-Q5)**</font>. At an adjusted p-value threshold (FDR) of 5%, how many genes were differentially expressed across the two conditions? Report the top 10 most differentially expressed genes, their log2 fold change, and the p-value. Report the gene names (e.g. *Fads2*) rather than gene ids."
   ]
  },
  {
   "cell_type": "markdown",
   "metadata": {
    "deletable": false,
    "editable": false,
    "nbgrader": {
     "cell_type": "markdown",
     "checksum": "769d7c0314dd66cf5d6eaeeec8103a65",
     "grade": false,
     "grade_id": "cell-a3649e3bdd20eeea",
     "locked": true,
     "schema_version": 3,
     "solution": false
    }
   },
   "source": [
    "# 4. Gene ontology enrichment analysis\n",
    "\n",
    "Finally, we will use gene ontology (GO) enrichment analysis to characterize the genes that were differentially expressed in Chow vs. HFD.\n",
    "\n",
    "We outline below a suggested way to do this using script `find_enrichment.py` from the python package `goatools`. However, there are many web tools available for performing GO analysis which you are welcome to use instead (although you're likely to get at least slightly different results with each, they should hopefully give back similar overall categories). For example these tools are pretty popular:\n",
    "\n",
    "* [DAVID](https://david.ncifcrf.gov/)\n",
    "* [PANTHER](http://www.pantherdb.org/)\n",
    "* [GORILLA](http://cbl-gorilla.cs.technion.ac.il/)\n",
    "\n",
    "For enrichment analysis, we need to define our \"foreground\" and \"background\". Here:\n",
    "* \"Background\" consists of all genes that we analyzed (i.e., all genes with any output in the DESeq2 csv file).\n",
    "* \"Foreground\" consists of all genes that were differentially expressed (padj<0.05). We will create separate foreground sets for up- and down-regulated genes.\n",
    "\n",
    "Then enrichment analysis will identify which annotations were over- or under-represented in our foreground vs. the background.\n",
    "\n",
    "The command `find_enrichment.py` can be used for GO analysis. Below is an example command:\n",
    "\n",
    "```shell\n",
    "find_enrichment.py sig_genes.txt all_genes.txt mgi.assoc \\\n",
    "    --obo go-basic.obo \\\n",
    "    --outfile=goea_fdr_bh.xlsx,goea_fdr_bh.tsv --method=fdr_bh --alpha=0.01\n",
    "```\n",
    "\n",
    "* `sig_genes.txt` is a file containing a list of gene names of differentially expressed genes.\n",
    "* `all_genes.txt` is a file containing a list of gene names of all analyzed genes.\n",
    "* `mgi.assoc` is a file mapping each gene to its annotated GO categories. We have provided this in the `week4/GOAnalysis/` folder\n",
    "* `go-basic.obo` is a file containing the GO database. It is also provided in the `week4/GOAnalysis/` folder.\n",
    "\n",
    "<font color=\"red\">**FOR YOUR REPORT (Results-Q6)**</font>. Perform GO enrichment by comparing your differentially expressed genes (adjusted p<0.05) to all genes analyzed. **Perform a separate analaysis for down-regulated (log2 fold change <0) and up-regulated (log2fold change>0) genes**. For each enriched category, provide at least the name of the category and its enrichment p-value.\n",
    "\n",
    "<font color=\"red\">**FOR YOUR REPORT (Methods-Q4)**</font> Summarize the methods used to perform enrichment analysis."
   ]
  },
  {
   "cell_type": "markdown",
   "metadata": {
    "deletable": false,
    "editable": false,
    "nbgrader": {
     "cell_type": "markdown",
     "checksum": "f27945c61e271a6f2a46b4354dc0d464",
     "grade": false,
     "grade_id": "cell-da66487ba8b7859c",
     "locked": true,
     "schema_version": 3,
     "solution": false
    }
   },
   "source": [
    "<font color=\"red\">**FOR YOUR REPORT (Discussion Q1-3)**</font>. Answer the discussion question prompts which will guide us through interpreting the results and considering how our analysis can be improved."
   ]
  },
  {
   "cell_type": "markdown",
   "metadata": {
    "deletable": false,
    "editable": false,
    "nbgrader": {
     "cell_type": "markdown",
     "checksum": "104f8cc37cee97d4faa8563b5df69c04",
     "grade": false,
     "grade_id": "cell-b540071513547661",
     "locked": true,
     "schema_version": 3,
     "solution": false
    }
   },
   "source": [
    "## (Optional) Visualizing alignments in IGV\n",
    "\n",
    "It is a good practice to visualize our alignments, both to see that the alignment worked well, and also to see whether things we report as differentially expressed make sense. We'll use a genome browser called the [Integrative Genomics Viewer](http://software.broadinstitute.org/software/igv/), or IGV. \n",
    "\n",
    "Navigate to the web version of IGV: [https://igv.org/app/](https://igv.org/app/). Set the genome to GRCh38 (mm10). \n",
    "\n",
    "Take a moment to orient yourself with IGV. The top gives the names of each chromosome. The bottom track, labeled \"Refseq genes\" gives the names and coordinates for all annotated genes. Let's choose one to look at. Type \"Fads2\" in the search box at the top. This will zoom the view in on this gene. Notice how in the gene you can see the exon and intron structure. The little arrows in the introns point to the left, which means this gene is on the reverse strand of the reference. Take a look at another gene (e.g. Cyp2b10) to see a gene on the forward strand. Zoom in further (using the \"+\" at the top right) until you can see actual DNA sequence at the top.\n",
    "\n",
    "Now we'd like to load our sequence alignments. While IGV can directly visualize BAM files, we'll instead look at \"counts\" files (\".tdf\" format) which are much smaller. These give read counts per position (i.e. coverage) which can give us an idea of the abundance of each gene. We have preprocessed the BAM files into tdf using a command line tool offered by IGV (`igvtools`, which is not currently installed on datahub). To access these files locally on your desktop or laptop, first copy them to your home directory:\n",
    "\n",
    "```shell\n",
    "cp /datasets/cs185-sp21-A00-public/week4/tdfs/*.tdf .\n",
    "```\n",
    "\n",
    "Then from your JupyterHub home page you can click the checkbox next to each one and download the files. In IGV, click \"Tracks\" then \"Local file\" and select the tdf files you just downloaded.\n",
    "\n",
    "Navigate again to Fads2 (This should be one of your differentially expressed genes!). Note that the RNA-seq tracks have very \"spiky\" coverage. Some regions have tons of reads and others are flat. Note how that compares to the structure of the gene annotated on the bottom. As expected, the \"spikes\" correspond to reads from exons, since intron and intergenic sequences generally aren't sequenced in our RNA-seq experiment.\n",
    "\n",
    "Take note of the y-axis range for each dataset (after you initially load them, it should range from 0 to a couple hundred for this gene). To make the tracks more comparable, you can set them all to have the same data range by using the \"settings\" icon to the left of each track and clicking \"set data range\". Try setting them all to 500. (the appropriate range will be different for different genes, since genes are really highly expressed whereas others are very lowly expressed. See the huge range on your scatterplot!) \n",
    "\n",
    "It is aslo helpful to color tracks. For instance, you can color tracks by condition (see options in settings to the right of each track). An example screenshot is shown below.\n",
    "\n",
    "<img src=igv_screenshot_lab4.png width=1000>"
   ]
  },
  {
   "cell_type": "markdown",
   "metadata": {},
   "source": [
    "# References\n",
    "\n",
    "To read more about the data used for this lab see [\"High fat diet-induced changes of mouse hepatic transcription and enhancer activity can be reversed by subsequent weight loss.\" Siersbaek et al. ](https://www.ncbi.nlm.nih.gov/pubmed/28071704)"
   ]
  }
 ],
 "metadata": {
  "kernelspec": {
   "display_name": "Python 3",
   "language": "python",
   "name": "python3"
  },
  "language_info": {
   "codemirror_mode": {
    "name": "ipython",
    "version": 3
   },
   "file_extension": ".py",
   "mimetype": "text/x-python",
   "name": "python",
   "nbconvert_exporter": "python",
   "pygments_lexer": "ipython3",
   "version": "3.6.7"
  }
 },
 "nbformat": 4,
 "nbformat_minor": 2
}
