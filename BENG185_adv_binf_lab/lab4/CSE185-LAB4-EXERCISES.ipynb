{
 "cells": [
  {
   "cell_type": "markdown",
   "metadata": {
    "deletable": false,
    "editable": false,
    "nbgrader": {
     "cell_type": "markdown",
     "checksum": "c64c3d74c597c40dd97a42e08ad9f4c2",
     "grade": false,
     "grade_id": "cell-195124595de59559",
     "locked": true,
     "schema_version": 3,
     "solution": false
    }
   },
   "source": [
    "# Week 4 Lab: RNA-seq\n",
    "\n",
    "This week's exercises consist of two parts:\n",
    "* Part 1 (10 pts): review how to quantify gene expression using RNA-sequencing data.\n",
    "* Part 2 (10 pts): Quiz review for this week's quiz! \n",
    "\n",
    "As usual, you may work with a partner or consult your classmates for help.\n",
    "\n",
    "<font color=\"red\">Reminder, Quiz 2 will be held at the beginning of the second lab section this week</font>.\n",
    "\n",
    "# Part 1 (10 pts)\n",
    "\n",
    "## 1. How to measure expression\n",
    "\n",
    "There are two main metrics used to quantify gene expression using RNA-seq:\n",
    "\n",
    "### 1. RPKM/FPKM\n",
    "**RPKM** (\"reads per kilobase per million reads\"): This is defined as:\n",
    "$$ RPKM_i = \\frac{N_i}{(L_i/1000)(R/1000000)}$$\n",
    "\n",
    "where $RPKM_i$ is the RPKM value for gene $i$, $N_i$ is the number of reads mapping to gene $i$, $L_i$ is the length of gene $i$ (in base pairs) and $R$ is the total number of reads sequenced.\n",
    "\n",
    "**FPKM** is a slight modification of RPKM to deal with paired end reads. FPKM gives \"fragments per kilobase per million reads\", where both reads in a pair belong to the same fragment and so are only counted once.\n",
    "\n",
    "### 2. TPM\n",
    "**TPM** (\"transcripts per million\") is computed by:\n",
    "\n",
    "1. Computing the reads per kilobase (RPK) for each gene $i$ as $RPK_i = \\frac{N_i}{(L_i/1000)}$\n",
    "2. Determining a \"per million\" scaling factor defined as $S = \\frac{\\sum_i RPK_i}{1000000}$\n",
    "3. Normalizing $RPK$ values by this factor: $TPM_i = \\frac{RPK_i}{S}$.\n",
    "\n",
    "Putting this together, we get:\n",
    "$$ TPM_i = \\frac{N_i}{(L_i/1000)(\\sum_i RPK_i/1000000)} $$\n",
    "\n",
    "The main difference between these metrics is how we scale the length-normalized read counts. For TPM, counts will always sum to 1 million and should be proportional to the percent of transcripts in the sample coming from each gene, making it easier to compare values across experiments. RPKM/FPKM do not have quite as straightforward of an interpretion. \n",
    "\n",
    "In practice, you will likely achieve similar results using either of these metrics. For a discussion of why TPM is a better metric, see this enjoyable blog post by Lior Pachter: https://liorpachter.wordpress.com/tag/tpm/ and the discussion below (optional reading) that expands on this post."
   ]
  },
  {
   "cell_type": "markdown",
   "metadata": {
    "deletable": false,
    "editable": false,
    "nbgrader": {
     "cell_type": "markdown",
     "checksum": "cc2b1dd635b90a8811ff2c1f384695f9",
     "grade": false,
     "grade_id": "cell-f6d83c98a5b7117b",
     "locked": true,
     "schema_version": 3,
     "solution": false
    }
   },
   "source": [
    "## 2. Computing TPM/RPKM\n",
    "\n",
    "We'll go through some examples computing and interpreting TPKM and RPKM. We'll start by writing functions to compute these values.\n",
    "\n",
    "Consider a sample with five genes expressed:\n",
    "\n",
    "* Gene A is length 5kb and has 1,000 copies expressed.\n",
    "* Gene B is length 3kb and has 200 copies expressed.\n",
    "* Gene C is length 2kb and has 500 copies expressed.\n",
    "* Gene D is length 10kb and has 50 copies expressed.\n",
    "* Gene E is length 7kb and has 1 copy expressed.\n",
    "\n",
    "We perform RNA-sequencing on this sample and count the number of reads mapping to each gene (given in the list `reads_ctrl` below).\n",
    "\n",
    "**Question 1 (7 pts)** Complete the functions `RPKM` and `TPM` below and use these functions to compute RPKM and TPM values for each of the five genes. Examples are given in the autograder tests so you can make sure your solution is working.\n",
    "\n",
    "You should find that the magnitudes of RPKM and TPM are quite different, but the relative difference between genes should be similar (e.g. for both metrics, Gene E has the smallest expression level and Gene A has the largest)."
   ]
  },
  {
   "cell_type": "code",
   "execution_count": 4,
   "metadata": {
    "deletable": false,
    "nbgrader": {
     "cell_type": "code",
     "checksum": "d7c4d0e1ca542adc1a3458b0f7981716",
     "grade": false,
     "grade_id": "cell-9b536826b0d3c0f2",
     "locked": false,
     "schema_version": 3,
     "solution": true
    }
   },
   "outputs": [
    {
     "name": "stdout",
     "output_type": "stream",
     "text": [
      "\n",
      "RPKM/TMP for each gene\n",
      "Gene A: RPKM=140706.35 TPM=571102.23\n",
      "Gene B: RPKM=28141.27 TPM=114220.45\n",
      "Gene C: RPKM=70353.17 TPM=285551.11\n",
      "Gene D: RPKM=7035.32 TPM=28555.11\n",
      "Gene E: RPKM=140.71 TPM=571.10\n"
     ]
    }
   ],
   "source": [
    "import numpy as np\n",
    "\n",
    "def RPKM(read_counts, gene_lengths):\n",
    "    \"\"\" Function to compute RPKM for each gene\n",
    "    \n",
    "    Parameters\n",
    "    ----------\n",
    "    read_counts: list of int\n",
    "       List of read counts for each gene. e.g. [readcount1, readcount2, ...] \n",
    "    gene_lengths: list of int\n",
    "       List of gene lengths for each gene. e.g. [length1, length2, ...]\n",
    "    \n",
    "    Returns\n",
    "    -------\n",
    "    rpkms : list of float\n",
    "       List of rpkms for each gene. e.g. [rpkm1, rpkm2, ...]\n",
    "    \"\"\"\n",
    "    rpkms = [0]*len(read_counts) # return list of rpkm values, one for each gene\n",
    "    # YOUR CODE HERE\n",
    "    for i in range(len(read_counts)):\n",
    "        rpkms[i] = read_counts[i]/((gene_lengths[i]/1000)*(sum(read_counts)/1000000))\n",
    "    #raise NotImplementedError()\n",
    "    return rpkms\n",
    "\n",
    "def TPM(read_counts, gene_lengths):\n",
    "    \"\"\" Function to compute TPM for each gene\n",
    "    \n",
    "    Parameters\n",
    "    ----------\n",
    "    read_counts: list of int\n",
    "       List of read counts for each gene. e.g. [readcount1, readcount2, ...] \n",
    "    gene_lengths: list of int\n",
    "       List of gene lengths for each gene. e.g. [length1, length2, ...]\n",
    "    \n",
    "    Returns\n",
    "    -------\n",
    "    tpms : list of float\n",
    "       List of tpms for each gene. e.g. [tpm1, tpm2, ...]\n",
    "    \"\"\"\n",
    "    tpms = [0]*len(read_counts)\n",
    "    # YOUR CODE HERE\n",
    "    rpk = 0\n",
    "    for i in range(len(read_counts)):\n",
    "        rpk += read_counts[i]/(gene_lengths[i]/1000)\n",
    "    for i in range(len(read_counts)):\n",
    "        tpms[i] = read_counts[i]/((gene_lengths[i]/1000)*(rpk/1000000))\n",
    "    return tpms\n",
    "\n",
    "# Gene info (names, lengths, and transcript counts)\n",
    "txnames = [\"A\",\"B\",\"C\",\"D\",\"E\"]\n",
    "txlens = [5000, 3000, 2000, 10000, 7000]\n",
    "txcounts_ctrl = [1000, 200, 500, 50, 1]\n",
    "# Number of reads observed for each gene\n",
    "reads_ctrl = [txcounts_ctrl[i]*txlens[i] for i in range(len(txlens))]\n",
    "\n",
    "# Compute rpkms and tpms\n",
    "rpkms_ctrl = RPKM(reads_ctrl, txlens)\n",
    "tpms_ctrl = TPM(reads_ctrl, txlens)\n",
    "\n",
    "print(\"\\nRPKM/TMP for each gene\")\n",
    "for i in range(len(txlens)):\n",
    "    print(\"Gene %s: RPKM=%.2f TPM=%.2f\"%(txnames[i], rpkms_ctrl[i], tpms_ctrl[i]))"
   ]
  },
  {
   "cell_type": "code",
   "execution_count": 5,
   "metadata": {
    "deletable": false,
    "editable": false,
    "nbgrader": {
     "cell_type": "code",
     "checksum": "992b83d91899d20d122b0b0e726f7237",
     "grade": true,
     "grade_id": "correct-tpm-fpkm",
     "locked": true,
     "points": 7,
     "schema_version": 3,
     "solution": false
    }
   },
   "outputs": [],
   "source": [
    "\"\"\"Check output of TPM/RPKM functions\"\"\"\n",
    "test_txlens = [400, 300, 20, 10000, 70000]\n",
    "test_txcounts_ctrl = [100, 2000, 800, 2, 1]\n",
    "test_reads_ctrl = [test_txcounts_ctrl[i]*test_txlens[i] for i in range(len(test_txlens))]\n",
    "test_tpms = TPM(test_reads_ctrl, test_txlens)\n",
    "test_rpkms = RPKM(test_reads_ctrl, test_txlens)\n",
    "tpm_results = [34447, 688942, 275576, 688, 344]\n",
    "rpkm_results = [134048, 2680965, 1072386, 2680, 1340]\n",
    "for i in range(len(reads_ctrl)):\n",
    "    assert(abs(test_tpms[i]-tpm_results[i])<1)\n",
    "    assert(abs(test_rpkms[i]-rpkm_results[i])<1)\n",
    "assert(round(sum(test_tpms))==1000000)"
   ]
  },
  {
   "cell_type": "markdown",
   "metadata": {
    "deletable": false,
    "editable": false,
    "nbgrader": {
     "cell_type": "markdown",
     "checksum": "c17a6f92d75aa36c9f9184111f999cb5",
     "grade": false,
     "grade_id": "cell-896da76f0644da19",
     "locked": true,
     "schema_version": 3,
     "solution": false
    }
   },
   "source": [
    "Now we treat the sample with a drug, which doubles the expression of Gene E (from 1 to 2 copies). We perform RNA-sequencing on the sample before and after treatment using 1 million  reads in each experiment and perform differential expression analysis to see if we can detect any genes whose expression changed.\n",
    "\n",
    "**Question 2 (3 pts)**: Complete the function `FoldChange` below which computes the fold change in expression for each gene by comparing expression values in a \"treatment\" vs. \"control\" sample. Use this function to determine the fold change in expression of each gene calculated based on either the TPM or RPKM metrics. Examples are given in the autograder tests to check your answer is correct"
   ]
  },
  {
   "cell_type": "code",
   "execution_count": 9,
   "metadata": {
    "deletable": false,
    "nbgrader": {
     "cell_type": "code",
     "checksum": "c68453d49aa913a43333134f87ac8e2a",
     "grade": false,
     "grade_id": "cell-4cf031c03c85cc9b",
     "locked": false,
     "schema_version": 3,
     "solution": true
    }
   },
   "outputs": [
    {
     "name": "stdout",
     "output_type": "stream",
     "text": [
      "\n",
      "Fold change deteted for each gene\n",
      "Gene A: FoldChange[RPKM]=1.00 FoldChange[TPM]=1.00\n",
      "Gene B: FoldChange[RPKM]=1.00 FoldChange[TPM]=1.00\n",
      "Gene C: FoldChange[RPKM]=1.00 FoldChange[TPM]=1.00\n",
      "Gene D: FoldChange[RPKM]=1.00 FoldChange[TPM]=1.00\n",
      "Gene E: FoldChange[RPKM]=2.00 FoldChange[TPM]=2.00\n"
     ]
    }
   ],
   "source": [
    "def FoldChange(expr_ctrl, expr_treat):\n",
    "    \"\"\" Compute fold change for each gene in treatment vs. control\n",
    "    \n",
    "    Parameters\n",
    "    ----------\n",
    "    expr_ctrl : list of float\n",
    "        List of expression values for each gene in the control experiment\n",
    "    expr_treat : list of float\n",
    "        List of expression values for each gene in the treatment experiment\n",
    "        \n",
    "    Returns\n",
    "    -------\n",
    "    foldchanges : list of float\n",
    "        List of fold changes (treat/ctrl) for each gene\n",
    "    \"\"\"\n",
    "    foldchanges = []\n",
    "    # YOUR CODE HERE\n",
    "    for i in range(len(expr_ctrl)):\n",
    "        foldchanges.append(expr_treat[i]/expr_ctrl[i])\n",
    "    return foldchanges\n",
    "\n",
    "# Gene info (names, lengths, and transcript counts)\n",
    "txnames = [\"A\",\"B\",\"C\",\"D\",\"E\"]\n",
    "txlens = [5000, 3000, 2000, 10000, 7000]\n",
    "txcounts_ctrl = [1000, 200, 500, 50, 1]\n",
    "txcounts_treat = [1000, 200, 500, 50, 2]\n",
    "\n",
    "# Number of reads observed for each gene\n",
    "reads_ctrl = [txcounts_ctrl[i]*txlens[i] for i in range(len(txlens))]\n",
    "reads_ctrl = [reads_ctrl[i]*1000000/np.sum(reads_ctrl) for i in range(len(txlens))]\n",
    "reads_treat = [txcounts_treat[i]*txlens[i] for i in range(len(txlens))]\n",
    "reads_treat = [reads_treat[i]*1000000/np.sum(reads_treat) for i in range(len(txlens))]\n",
    "\n",
    "# Compute rpkms and tpms\n",
    "rpkms_ctrl = RPKM(reads_ctrl, txlens)\n",
    "tpms_ctrl = TPM(reads_ctrl, txlens)\n",
    "rpkms_treat = RPKM(reads_treat, txlens)\n",
    "tpms_treat = TPM(reads_treat, txlens)\n",
    "\n",
    "fc_rpkm = FoldChange(rpkms_ctrl, rpkms_treat)\n",
    "fc_tpm = FoldChange(tpms_ctrl, tpms_treat)\n",
    "\n",
    "print(\"\\nFold change deteted for each gene\")\n",
    "for i in range(len(txlens)):\n",
    "    print(\"Gene %s: FoldChange[RPKM]=%.2f FoldChange[TPM]=%.2f\"%(txnames[i], fc_rpkm[i], fc_tpm[i]))          "
   ]
  },
  {
   "cell_type": "code",
   "execution_count": 10,
   "metadata": {
    "deletable": false,
    "editable": false,
    "nbgrader": {
     "cell_type": "code",
     "checksum": "327e9ac428a1b869a6c77eac0a296af0",
     "grade": true,
     "grade_id": "correct-fc",
     "locked": true,
     "points": 3,
     "schema_version": 3,
     "solution": false
    }
   },
   "outputs": [],
   "source": [
    "\"\"\"Test output of FoldChange\"\"\"\n",
    "values_ctrl = [1,2,3,4,5]\n",
    "values_test = [2,1,6,12,50]\n",
    "fc = FoldChange(values_ctrl, values_test)\n",
    "assert(fc==[2, 0.5, 2, 3, 10])"
   ]
  },
  {
   "cell_type": "markdown",
   "metadata": {
    "deletable": false,
    "editable": false,
    "nbgrader": {
     "cell_type": "markdown",
     "checksum": "cddfcd0a01ccc5854e433e18ff683c54",
     "grade": false,
     "grade_id": "cell-a5cdf87b22e541b4",
     "locked": true,
     "schema_version": 3,
     "solution": false
    }
   },
   "source": [
    "You should hopefully see the expected result: there was no change in expression of Genes A, B, C, and D (fold change=1), but Gene E doubled its expression (fold change=2)! \n",
    "\n",
    "This worked well, since Gene E's expression level is pretty small compared to the total expression of all genes in our sample. Let's see what happens when we see a huge change in expression. Below, we look at the fold changes we would compute using RPKM or TPM if Gene E actually increadsed its expression 100-fold."
   ]
  },
  {
   "cell_type": "code",
   "execution_count": 11,
   "metadata": {
    "deletable": false,
    "editable": false,
    "nbgrader": {
     "cell_type": "code",
     "checksum": "cda0033d8c22f9b7e4eec2c940f58f20",
     "grade": false,
     "grade_id": "cell-35a1f3cf8bc65e07",
     "locked": true,
     "schema_version": 3,
     "solution": false
    }
   },
   "outputs": [
    {
     "name": "stdout",
     "output_type": "stream",
     "text": [
      "\n",
      "Fold change deteted for each gene\n",
      "Gene A: FoldChange[RPKM]=0.91 FoldChange[TPM]=0.95\n",
      "Gene B: FoldChange[RPKM]=0.91 FoldChange[TPM]=0.95\n",
      "Gene C: FoldChange[RPKM]=0.91 FoldChange[TPM]=0.95\n",
      "Gene D: FoldChange[RPKM]=0.91 FoldChange[TPM]=0.95\n",
      "Gene E: FoldChange[RPKM]=91.12 FoldChange[TPM]=94.65\n"
     ]
    }
   ],
   "source": [
    "# Gene info (names, lengths, and transcript counts)\n",
    "txnames = [\"A\",\"B\",\"C\",\"D\",\"E\"]\n",
    "txlens = [5000, 3000, 2000, 10000, 7000]\n",
    "txcounts_ctrl = [1000, 200, 500, 50, 1]\n",
    "txcounts_treat = [1000, 200, 500, 50, 100]\n",
    "\n",
    "# Number of reads observed for each gene\n",
    "reads_ctrl = [txcounts_ctrl[i]*txlens[i] for i in range(len(txlens))]\n",
    "reads_ctrl = [reads_ctrl[i]*1000000/np.sum(reads_ctrl) for i in range(len(txlens))]\n",
    "reads_treat = [txcounts_treat[i]*txlens[i] for i in range(len(txlens))]\n",
    "reads_treat = [reads_treat[i]*1000000/np.sum(reads_treat) for i in range(len(txlens))]\n",
    "\n",
    "# Compute rpkms and tpms\n",
    "rpkms_ctrl = RPKM(reads_ctrl, txlens)\n",
    "tpms_ctrl = TPM(reads_ctrl, txlens)\n",
    "rpkms_treat = RPKM(reads_treat, txlens)\n",
    "tpms_treat = TPM(reads_treat, txlens)\n",
    "\n",
    "fc_rpkm = FoldChange(rpkms_ctrl, rpkms_treat)\n",
    "fc_tpm = FoldChange(tpms_ctrl, tpms_treat)\n",
    "\n",
    "print(\"\\nFold change deteted for each gene\")\n",
    "for i in range(len(txlens)):\n",
    "    print(\"Gene %s: FoldChange[RPKM]=%.2f FoldChange[TPM]=%.2f\"%(txnames[i], fc_rpkm[i], fc_tpm[i]))          "
   ]
  },
  {
   "cell_type": "markdown",
   "metadata": {
    "deletable": false,
    "editable": false,
    "nbgrader": {
     "cell_type": "markdown",
     "checksum": "dcd547897fe33145b428ada568cd61ff",
     "grade": false,
     "grade_id": "cell-cfa0c1ad03f458e9",
     "locked": true,
     "schema_version": 3,
     "solution": false
    }
   },
   "source": [
    "Now we can start to see an inherent limitation of the normalization we have to do when we perform RNA-seq. While Gene E increased 100-fold, the difference we measure is smaller than that (which metric is closer to the real change, TPM or FPKM?). You'll notice another change as well: it looks like the expression of all the other genes is actually going down! (fold change < 1). Since RNA-seq essentially measures expression of each gene as a fraction of the total pool, huge fluctuations in expression can be difficult or impossible to interpret. If some genes increase expression, it will look like expression of the other genes is decreasing, even if they are actually staying the same. Let's look at one additional even more extreme example: say expression of Gene A doubles from 1000 to 2000:"
   ]
  },
  {
   "cell_type": "code",
   "execution_count": 12,
   "metadata": {
    "deletable": false,
    "editable": false,
    "nbgrader": {
     "cell_type": "code",
     "checksum": "cf79bea2e17ba9230305ffbccbce4f56",
     "grade": false,
     "grade_id": "cell-53b3ff2e7c9e506f",
     "locked": true,
     "schema_version": 3,
     "solution": false
    }
   },
   "outputs": [
    {
     "name": "stdout",
     "output_type": "stream",
     "text": [
      "\n",
      "Fold change deteted for each gene\n",
      "Gene A: FoldChange[RPKM]=1.17 FoldChange[TPM]=1.27\n",
      "Gene B: FoldChange[RPKM]=0.59 FoldChange[TPM]=0.64\n",
      "Gene C: FoldChange[RPKM]=0.59 FoldChange[TPM]=0.64\n",
      "Gene D: FoldChange[RPKM]=0.59 FoldChange[TPM]=0.64\n",
      "Gene E: FoldChange[RPKM]=0.59 FoldChange[TPM]=0.64\n"
     ]
    }
   ],
   "source": [
    "# Gene info (names, lengths, and transcript counts)\n",
    "txnames = [\"A\",\"B\",\"C\",\"D\",\"E\"]\n",
    "txlens = [5000, 3000, 2000, 10000, 7000]\n",
    "txcounts_ctrl = [1000, 200, 500, 50, 1]\n",
    "txcounts_treat = [2000, 200, 500, 50, 1]\n",
    "\n",
    "# Number of reads observed for each gene\n",
    "reads_ctrl = [txcounts_ctrl[i]*txlens[i] for i in range(len(txlens))]\n",
    "reads_ctrl = [reads_ctrl[i]*1000000/np.sum(reads_ctrl) for i in range(len(txlens))]\n",
    "reads_treat = [txcounts_treat[i]*txlens[i] for i in range(len(txlens))]\n",
    "reads_treat = [reads_treat[i]*1000000/np.sum(reads_treat) for i in range(len(txlens))]\n",
    "\n",
    "# Compute rpkms and tpms\n",
    "rpkms_ctrl = RPKM(reads_ctrl, txlens)\n",
    "tpms_ctrl = TPM(reads_ctrl, txlens)\n",
    "rpkms_treat = RPKM(reads_treat, txlens)\n",
    "tpms_treat = TPM(reads_treat, txlens)\n",
    "\n",
    "fc_rpkm = FoldChange(rpkms_ctrl, rpkms_treat)\n",
    "fc_tpm = FoldChange(tpms_ctrl, tpms_treat)\n",
    "\n",
    "print(\"\\nFold change deteted for each gene\")\n",
    "for i in range(len(txlens)):\n",
    "    print(\"Gene %s: FoldChange[RPKM]=%.2f FoldChange[TPM]=%.2f\"%(txnames[i], fc_rpkm[i], fc_tpm[i]))          "
   ]
  },
  {
   "cell_type": "markdown",
   "metadata": {
    "deletable": false,
    "editable": false,
    "nbgrader": {
     "cell_type": "markdown",
     "checksum": "12ec24344ce298e704e6982718b22e96",
     "grade": false,
     "grade_id": "cell-e4eeadaacc33136b",
     "locked": true,
     "schema_version": 3,
     "solution": false
    }
   },
   "source": [
    "In reality, genes B-E stayed the same (should have fold-change of 1) and expression of gene A doubled (should have fold-change of 2). However what we see is far from that!"
   ]
  },
  {
   "cell_type": "markdown",
   "metadata": {
    "deletable": false,
    "editable": false,
    "nbgrader": {
     "cell_type": "markdown",
     "checksum": "40d169426553b4098e7666eddd8e8b0a",
     "grade": false,
     "grade_id": "cell-dd679c6b7940b795",
     "locked": true,
     "schema_version": 3,
     "solution": false
    }
   },
   "source": [
    "## 3. More on what TPM/FPKM actually compute (optional reading)\n",
    "\n",
    "The section below is optional reading to understand subtle differences between what is calculated by RPKM vs. TPM.\n",
    "\n",
    "Consider a cell with $N$ total genes, with $n_i$ copies (transcripts) of each gene $i$ expressed.\n",
    "\n",
    "Then the total number of transcripts in the cell is $M=\\sum_i n_i$, and the percentage of transcripts originating from gene $i$ is $p_i = n_i/M$ and by definition $\\sum_i p_i = 1$.\n",
    "\n",
    "Let $l_i$ be the length of gene $i$. Then we would expect the total number of reads mapping to each gene $r_i$ to be:\n",
    "\n",
    "$$ r_i = \\frac{n_il_i}{\\sum_j n_j l_j} * R $$\n",
    "\n",
    "where $R$ is the number of reads sequenced.\n",
    "\n",
    "Then we can work out what the RPKM of gene $i$ would be:\n",
    "$$ rpkm_i = \\frac{r_i}{l_i/10^3*R/10^6}  = \\frac{n_il_i*R*10^9}{l_i*R\\sum_j n_j l_j} = \\frac{n_i*10^9}{\\sum_j n_j l_j}$$\n",
    "\n",
    "We can rewrite this in terms of $p_i$ (since $p_i=n_i/M$ and the $M$ cancels):\n",
    "$$ rpkm_i = \\frac{p_i*10^9}{\\sum_j p_j l_j} $$\n",
    "\n",
    "When analyzing RNA-seq, what we really want is something proportional to $p_i$, so we can analyze what fraction of transcripts in our sample come from each gene. So RPKM doesn't quite give us what we want, since there is this weird normalization term ($\\sum_j p_j l_j$).\n",
    "\n",
    "Let's instead consider TPM:\n",
    "\n",
    "$$ tpm_i = \\frac{\\frac{n_il_i}{\\sum_j n_j l_j} * R}{(l_i/1000)(\\sum_j r_j/(l_j/1000)/1000000}$$\n",
    "\n",
    "Simplifying:\n",
    "$$tpm_i = \\frac{n_i R * 10^6}{\\sum_j n_j l_j \\sum_j r_j/l_j} $$\n",
    "\n",
    "We can further simplify the denominator (by substituting relationships defined above):\n",
    "$\\sum_j n_j l_j \\sum_j r_j/l_j = R \\sum_j n_j l_j \\sum_j \\frac{n_jl_j}{l_j\\sum_j n_j l_j} = R\\sum_j n_j$ to get:\n",
    "\n",
    "$$ tpm_i = \\frac{n_i * 10^6}{\\sum_j n_j} $$\n",
    "\n",
    "replacing the $n$'s with $p$'s using the same logic as above and noting $\\sum_j p_j=1$, we get:\n",
    "\n",
    "$$ tpm_i = p_i * 10^6 $$\n",
    "\n",
    "So, TPM actually gives us an intuitive metric of the percentage of transcripts that come from gene $i$! (just scaled by 1 million to make the numbers easier to deal with)."
   ]
  },
  {
   "cell_type": "markdown",
   "metadata": {
    "deletable": false,
    "editable": false,
    "nbgrader": {
     "cell_type": "markdown",
     "checksum": "06a3c0bfc9cfc9e8ef754077a3be59d2",
     "grade": false,
     "grade_id": "cell-8e979abf7ff7ac78",
     "locked": true,
     "schema_version": 3,
     "solution": false,
     "task": false
    }
   },
   "source": [
    "# Part 2 (Quiz review, 10 pts)\n",
    "\n",
    "Today's lab is a review for quiz 2. These are the types of questions you can expect.\n",
    "\n",
    "So that you can know if your answers are correct, in some cases the actual answers are revealed in the autograder tests. But please make sure you understand how the answer was computed so you know how to do it for the quiz!"
   ]
  },
  {
   "cell_type": "markdown",
   "metadata": {
    "deletable": false,
    "editable": false,
    "nbgrader": {
     "cell_type": "markdown",
     "checksum": "ab989cae9384767427a725640dce436d",
     "grade": false,
     "grade_id": "cell-da0b1c92efd726fb",
     "locked": true,
     "schema_version": 3,
     "solution": false,
     "task": false
    }
   },
   "source": [
    "**Question 1 (1 pt)**: You genotype a SNP in 5,000 people. 200 are homozygous for allele “A” , 1,000 are heterozygous for “A/T”, and the rest are homozygous for “T”. What is the minor allele frequency? Set the value of `maf` to your answer below."
   ]
  },
  {
   "cell_type": "code",
   "execution_count": 19,
   "metadata": {
    "deletable": false,
    "nbgrader": {
     "cell_type": "code",
     "checksum": "bd3283d70e0511d1c8eccdc69566c5b7",
     "grade": false,
     "grade_id": "maf-q1b",
     "locked": false,
     "schema_version": 3,
     "solution": true,
     "task": false
    }
   },
   "outputs": [],
   "source": [
    "maf = 0\n",
    "# YOUR CODE HERE\n",
    "hom_A = 200\n",
    "A_alleles = (hom_A * 2) + 1000\n",
    "maf = A_alleles/10000"
   ]
  },
  {
   "cell_type": "code",
   "execution_count": 20,
   "metadata": {
    "deletable": false,
    "editable": false,
    "nbgrader": {
     "cell_type": "code",
     "checksum": "4ce86f25e67a41c223a199e1bfb24368",
     "grade": true,
     "grade_id": "correct-maf-q1",
     "locked": true,
     "points": 1,
     "schema_version": 3,
     "solution": false,
     "task": false
    }
   },
   "outputs": [],
   "source": [
    "\"\"\"Check value of maf\"\"\"\n",
    "assert(maf>=0 and maf <=1)\n",
    "assert(maf == (200*2+1000*1)*1.0/10000)"
   ]
  },
  {
   "cell_type": "markdown",
   "metadata": {
    "deletable": false,
    "editable": false,
    "nbgrader": {
     "cell_type": "markdown",
     "checksum": "d8be777de72fb2e427345cc6a30d427a",
     "grade": false,
     "grade_id": "cell-894dd64307d1f5f7",
     "locked": true,
     "schema_version": 3,
     "solution": false,
     "task": false
    }
   },
   "source": [
    "**Question 2 (1 pt)**: For the same SNP as above, what is the genotype frequency of \"TT\"? Set `freq_tt` to your answer below."
   ]
  },
  {
   "cell_type": "code",
   "execution_count": 21,
   "metadata": {
    "deletable": false,
    "nbgrader": {
     "cell_type": "code",
     "checksum": "1200936e3d4bdf97c962f6ff8cc7890a",
     "grade": false,
     "grade_id": "gtfreq-q2",
     "locked": false,
     "schema_version": 3,
     "solution": true,
     "task": false
    }
   },
   "outputs": [],
   "source": [
    "freq_tt = (5000 - 1200) / 5000\n"
   ]
  },
  {
   "cell_type": "code",
   "execution_count": 22,
   "metadata": {
    "deletable": false,
    "editable": false,
    "nbgrader": {
     "cell_type": "code",
     "checksum": "ed48218e45d868965aa2cc47334618e3",
     "grade": true,
     "grade_id": "correct-gtfreq-q2",
     "locked": true,
     "points": 1,
     "schema_version": 3,
     "solution": false,
     "task": false
    }
   },
   "outputs": [],
   "source": [
    "\"\"\"Check value of freq_tt\"\"\"\n",
    "assert(freq_tt>=0 and freq_tt<=1)\n",
    "assert(freq_tt == 3800.0/5000)"
   ]
  },
  {
   "cell_type": "markdown",
   "metadata": {
    "deletable": false,
    "editable": false,
    "nbgrader": {
     "cell_type": "markdown",
     "checksum": "614e766de0d802e7588eeea318810070",
     "grade": false,
     "grade_id": "cell-b6db2af56b891206",
     "locked": true,
     "schema_version": 3,
     "solution": false,
     "task": false
    }
   },
   "source": [
    "**Question 3 (1 pt)**: You are performing a GWAS for height, but accidentally shuffled the phenotype (height) values such that each sample is randomly assigned a height value. You test each SNP for assocation with the shuffled phenotypes and obtain a p-value for each SNP. What do you expect the average value of all p-values to be? Set `expected_p` to your answer below.\n",
    "Hint: what distribution do p-values follow under the null hypothesis of no associations? What is the average of that distribution?"
   ]
  },
  {
   "cell_type": "code",
   "execution_count": 23,
   "metadata": {
    "deletable": false,
    "nbgrader": {
     "cell_type": "code",
     "checksum": "fd541cf3ef25e8a9afd4b9e2ea55443e",
     "grade": false,
     "grade_id": "answer-q3",
     "locked": false,
     "schema_version": 3,
     "solution": true,
     "task": false
    }
   },
   "outputs": [],
   "source": [
    "expected_p = 0.5 # set average p-value expected if phenotypes were randomly shuffled\n",
    "# YOUR CODE HERE\n"
   ]
  },
  {
   "cell_type": "code",
   "execution_count": 24,
   "metadata": {
    "deletable": false,
    "editable": false,
    "nbgrader": {
     "cell_type": "code",
     "checksum": "b95acf784f0e67909796b92e1a64db76",
     "grade": true,
     "grade_id": "correct-q3",
     "locked": true,
     "points": 1,
     "schema_version": 3,
     "solution": false,
     "task": false
    }
   },
   "outputs": [],
   "source": [
    "\"\"\"Check value of expected_p\"\"\"\n",
    "import numpy as np\n",
    "assert(expected_p>=0 and expected_p<1)\n",
    "nullp_avg = np.mean([np.random.random() for i in range(100000)])\n",
    "assert(abs(expected_p-nullp_avg)<0.01)"
   ]
  },
  {
   "cell_type": "markdown",
   "metadata": {
    "deletable": false,
    "editable": false,
    "nbgrader": {
     "cell_type": "markdown",
     "checksum": "55e4145742be9ba8aac3b79adcb0114d",
     "grade": false,
     "grade_id": "cell-2e2a3abd571bf180",
     "locked": true,
     "schema_version": 3,
     "solution": false,
     "task": false
    }
   },
   "source": [
    "**Question 4 (1 pt)**: You are performing a GWAS and test 1 million SNPs for association with a trait. If all SNPs were independent (which is not true in reality), and there is no genetic component of the trait (that is, in reality $\\beta=0$ for all SNPs), how many SNPs do you expect to have association p-values <0.05? Set `num_false_pos` to your answer below."
   ]
  },
  {
   "cell_type": "code",
   "execution_count": 32,
   "metadata": {
    "deletable": false,
    "nbgrader": {
     "cell_type": "code",
     "checksum": "028f1a30985826cf997a4a03dbea03ca",
     "grade": false,
     "grade_id": "cell-2679d430f4f91c5a",
     "locked": false,
     "schema_version": 3,
     "solution": true,
     "task": false
    }
   },
   "outputs": [],
   "source": [
    "num_false_pos = 1000000*0.05 # Set below\n",
    "# YOUR CODE HERE"
   ]
  },
  {
   "cell_type": "code",
   "execution_count": 33,
   "metadata": {
    "deletable": false,
    "editable": false,
    "nbgrader": {
     "cell_type": "code",
     "checksum": "596e86e2a02f25ebca3d3ebb31bd0435",
     "grade": true,
     "grade_id": "cell-e8214e82af74b5a4",
     "locked": true,
     "points": 1,
     "schema_version": 3,
     "solution": false,
     "task": false
    }
   },
   "outputs": [],
   "source": [
    "\"\"\"Check value of num_false_pos\"\"\"\n",
    "nullp = [np.random.random() for i in range(1000000)]\n",
    "fp = len([item for item in nullp if item < 0.05])\n",
    "assert(abs(fp-num_false_pos)<1000) # check that we're pretty close"
   ]
  },
  {
   "cell_type": "markdown",
   "metadata": {
    "deletable": false,
    "editable": false,
    "nbgrader": {
     "cell_type": "markdown",
     "checksum": "55d84472bd844debbb6215e1d031cdff",
     "grade": false,
     "grade_id": "cell-063e09baae8dde0c",
     "locked": true,
     "schema_version": 3,
     "solution": false,
     "task": false
    }
   },
   "source": [
    "**Question 5 (1 pt)**: You perform RNA-sequencing using single-end reads of length 36bp and examine the reads mapping to two genes. You aligned 1,000 reads to gene A, which has a length of 5,000bp. You aligned 3,000 reads to gene B, which has a length of 3,000bp. You sequenced 10 million total reads. What is the expression level (in RPKM) of genes A and B? Set your answer to `geneA_RPKM` and `geneB_RPKM` below. \n",
    "\n",
    "(Gene A test is visible, Gene B is not)"
   ]
  },
  {
   "cell_type": "code",
   "execution_count": 34,
   "metadata": {
    "deletable": false,
    "nbgrader": {
     "cell_type": "code",
     "checksum": "02a6b5d585f63a21576733f4c396085b",
     "grade": false,
     "grade_id": "cell-750ad8aac77ac7c8",
     "locked": false,
     "schema_version": 3,
     "solution": true,
     "task": false
    }
   },
   "outputs": [],
   "source": [
    "geneA_RPKM = 1000/((5000/1000)*(10))\n",
    "geneB_RPKM = 3000/((3)*10)\n",
    "# Set geneA_RPKM and geneB_RPKM below\n",
    "# YOUR CODE HERE\n"
   ]
  },
  {
   "cell_type": "code",
   "execution_count": 35,
   "metadata": {
    "deletable": false,
    "editable": false,
    "nbgrader": {
     "cell_type": "code",
     "checksum": "3c6fbfb75ed80fa4db14b0ff1ac205ef",
     "grade": true,
     "grade_id": "cell-8d090c8f98b7c1f4",
     "locked": true,
     "points": 1,
     "schema_version": 3,
     "solution": false,
     "task": false
    }
   },
   "outputs": [],
   "source": [
    "\"\"\"Check answers to geneA_RPKM and geneB_RPKM\"\"\"\n",
    "assert(geneA_RPKM == 20)"
   ]
  },
  {
   "cell_type": "markdown",
   "metadata": {
    "deletable": false,
    "editable": false,
    "nbgrader": {
     "cell_type": "markdown",
     "checksum": "8487c6c61cacbee215652d904509da8e",
     "grade": false,
     "grade_id": "cell-47860f3d8ae51bb1",
     "locked": true,
     "schema_version": 3,
     "solution": false,
     "task": false
    }
   },
   "source": [
    "**Question 6 (1 pt)**: You align a read to a reference genome, resulting in the alignment below. What should the CIGAR score be for Read 1? Read 2 and its CIGAR score are given as an example. Set the variable `cigar` to your answer below. (Only use CIGAR characters \"M\", \"I\", or \"D\" in your answer).\n",
    "\n",
    "```\n",
    "Reference: ACGCAGTCGGGTCGATTTTCTCTCTCTACTAGCTACGA---ATCGACTGGGTCC\n",
    "Read 1:            GGGTCGA----CTCTCTCTACTAGC\n",
    "Read 2:                               ACTAGCTACGAGACATCGACTGGGTCC\n",
    "```"
   ]
  },
  {
   "cell_type": "code",
   "execution_count": 40,
   "metadata": {
    "deletable": false,
    "nbgrader": {
     "cell_type": "code",
     "checksum": "1c2b45ef86969337359f7356293669ca",
     "grade": false,
     "grade_id": "cell-cc59f8e8f6296e22",
     "locked": false,
     "schema_version": 3,
     "solution": true,
     "task": false
    }
   },
   "outputs": [],
   "source": [
    "cigar = \"M7D4M14\" # set to your answer for read 1\n",
    "cigar_example = \"11M3I13M\" # read 2\n",
    "# YOUR CODE HERE"
   ]
  },
  {
   "cell_type": "code",
   "execution_count": 41,
   "metadata": {
    "deletable": false,
    "editable": false,
    "nbgrader": {
     "cell_type": "code",
     "checksum": "3c14753714191ad72480dc0c9d5b305e",
     "grade": true,
     "grade_id": "correct-cigar-q6b",
     "locked": true,
     "points": 1,
     "schema_version": 3,
     "solution": false,
     "task": false
    }
   },
   "outputs": [],
   "source": [
    "\"\"\"Check cigar\"\"\"\n",
    "assert(cigar_example==\"11M3I13M\")\n",
    "assert(cigar.count(\"M\")==2)\n",
    "assert(cigar.count(\"D\")==1)\n",
    "assert(\"14\" in cigar)\n",
    "assert(\"4\" in cigar)\n",
    "assert(\"7\" in cigar)"
   ]
  },
  {
   "cell_type": "code",
   "execution_count": 43,
   "metadata": {
    "deletable": false,
    "editable": false,
    "nbgrader": {
     "cell_type": "code",
     "checksum": "3786eebd2d45655d20cfb5087454e3b4",
     "grade": false,
     "grade_id": "cell-5aeec489f27ee500",
     "locked": true,
     "schema_version": 3,
     "solution": false,
     "task": false
    }
   },
   "outputs": [
    {
     "name": "stdout",
     "output_type": "stream",
     "text": [
      "Overwriting regions.txt\n"
     ]
    }
   ],
   "source": [
    "%%file regions.txt\n",
    "chr1 191203 191300\n",
    "chr2 2000000 2000005\n",
    "chr3 10000 10004\n",
    "chr4 60008 60010\n",
    "chr5 18 25"
   ]
  },
  {
   "cell_type": "markdown",
   "metadata": {
    "deletable": false,
    "editable": false,
    "nbgrader": {
     "cell_type": "markdown",
     "checksum": "2c2277975bc970212566ea955419ccf9",
     "grade": false,
     "grade_id": "cell-45c16d24185144fb",
     "locked": true,
     "schema_version": 3,
     "solution": false,
     "task": false
    }
   },
   "source": [
    "**Question 7 (1 pt)**: The file `regions.txt` is a space delimited file file with chromosomes of the format \"chr1\", \"chr2\", etc. (Run the cell above to create it). Write a command that prints the contents of the file to the screen, but removes \"chr\" from the chromosome names in column 1.  "
   ]
  },
  {
   "cell_type": "code",
   "execution_count": 44,
   "metadata": {
    "deletable": false,
    "nbgrader": {
     "cell_type": "code",
     "checksum": "ded59c575713c0e4346b95433890b691",
     "grade": false,
     "grade_id": "cell-13064fede52d608b",
     "locked": false,
     "schema_version": 3,
     "solution": true,
     "task": false
    }
   },
   "outputs": [],
   "source": [
    "cmd = \"sed 's/chr//g' regions.txt\" # change cmd to your answer\n",
    "# YOUR CODE HERE\n"
   ]
  },
  {
   "cell_type": "code",
   "execution_count": 45,
   "metadata": {
    "deletable": false,
    "editable": false,
    "nbgrader": {
     "cell_type": "code",
     "checksum": "46e3c403df90ebc21b94f155a40150d4",
     "grade": true,
     "grade_id": "correct-unix-q7",
     "locked": true,
     "points": 1,
     "schema_version": 3,
     "solution": false,
     "task": false
    }
   },
   "outputs": [],
   "source": [
    "\"\"\"Test the output of cmd\"\"\"\n",
    "from subprocess import Popen, PIPE\n",
    "p = Popen(cmd, shell=True, stdout=PIPE, stderr=PIPE)\n",
    "out, err = p.communicate()\n",
    "assert(p.returncode == 0)\n",
    "assert(len(str(out).split(\"\\\\n\"))==6)\n",
    "out = str(out)[2:]\n",
    "for i in range(5):\n",
    "    assert(str(out).split(\"\\\\n\")[i][0] == \"%s\"%(i+1))\n",
    "    assert(len(str(out).split(\"\\\\n\")[i].split())==3)"
   ]
  },
  {
   "cell_type": "markdown",
   "metadata": {
    "deletable": false,
    "editable": false,
    "nbgrader": {
     "cell_type": "markdown",
     "checksum": "760debc823af3b7ea46924903e335c5d",
     "grade": false,
     "grade_id": "cell-3044fb08eac7861b",
     "locked": true,
     "schema_version": 3,
     "solution": false,
     "task": false
    }
   },
   "source": [
    "**Question 8 (1 pt)**: Write a one-line UNIX command that outputs the median of column 2 for the file `regions.txt`."
   ]
  },
  {
   "cell_type": "code",
   "execution_count": 51,
   "metadata": {
    "deletable": false,
    "nbgrader": {
     "cell_type": "code",
     "checksum": "9a4a90014ec5a584fef30a476d7e87ef",
     "grade": false,
     "grade_id": "cell-3aa2424ddc849005",
     "locked": false,
     "schema_version": 3,
     "solution": true,
     "task": false
    }
   },
   "outputs": [],
   "source": [
    "cmd = \"\"\"cat regions.txt | awk -F \" \" '{print $2}' | datamash median 1\"\"\" # change cmd to your answer\n",
    "# YOUR CODE HERE"
   ]
  },
  {
   "cell_type": "code",
   "execution_count": 52,
   "metadata": {
    "deletable": false,
    "editable": false,
    "nbgrader": {
     "cell_type": "code",
     "checksum": "b3f97910e104e58b381129a8b891fcb9",
     "grade": true,
     "grade_id": "correct-unix-q8",
     "locked": true,
     "points": 1,
     "schema_version": 3,
     "solution": false,
     "task": false
    }
   },
   "outputs": [],
   "source": [
    "\"\"\"Check output of cmd\"\"\"\n",
    "from subprocess import Popen, PIPE\n",
    "p = Popen(cmd, shell=True, stdout=PIPE, stderr=PIPE)\n",
    "out, err = p.communicate()\n",
    "assert(p.returncode == 0)\n",
    "assert(int(out.strip())==60008)"
   ]
  },
  {
   "cell_type": "markdown",
   "metadata": {
    "deletable": false,
    "editable": false,
    "nbgrader": {
     "cell_type": "markdown",
     "checksum": "475c12c37e3fb194afdd09804ee5b0d2",
     "grade": false,
     "grade_id": "cell-be253b935b907720",
     "locked": true,
     "schema_version": 3,
     "solution": false,
     "task": false
    }
   },
   "source": [
    "**Question 9 (1 pt)**: Write a one-line UNIX command that outputs all rows of `regions.txt` except the row containing \"chr3\"."
   ]
  },
  {
   "cell_type": "code",
   "execution_count": 53,
   "metadata": {
    "deletable": false,
    "nbgrader": {
     "cell_type": "code",
     "checksum": "5646d116ad892a3345ee400f21612c2e",
     "grade": false,
     "grade_id": "cell-de8ee3dbef7c4b97",
     "locked": false,
     "schema_version": 3,
     "solution": true,
     "task": false
    }
   },
   "outputs": [],
   "source": [
    "cmd = 'cat regions.txt | grep -v \"chr3\"' # change cmd to your answer\n",
    "# YOUR CODE HERE"
   ]
  },
  {
   "cell_type": "code",
   "execution_count": 54,
   "metadata": {
    "deletable": false,
    "editable": false,
    "nbgrader": {
     "cell_type": "code",
     "checksum": "138ca09a63d18580e97cd7abb95a35bf",
     "grade": true,
     "grade_id": "correct-unix-q9",
     "locked": true,
     "points": 1,
     "schema_version": 3,
     "solution": false,
     "task": false
    }
   },
   "outputs": [],
   "source": [
    "\"\"\"Check output of cmd\"\"\"\n",
    "from subprocess import Popen, PIPE\n",
    "p = Popen(cmd, shell=True, stdout=PIPE, stderr=PIPE)\n",
    "out, err = p.communicate()\n",
    "assert(p.returncode == 0)\n",
    "assert(len(str(out).split(\"\\\\n\")[:-1])==4)\n",
    "out = str(out)[2:]\n",
    "assert(str(out).split(\"\\\\n\")[0][0:4] == \"chr1\")\n",
    "assert(str(out).split(\"\\\\n\")[1][0:4] == \"chr2\")\n",
    "assert(str(out).split(\"\\\\n\")[2][0:4] == \"chr4\")\n",
    "assert(str(out).split(\"\\\\n\")[3][0:4] == \"chr5\")\n",
    "for i in range(4):\n",
    "    assert(len(str(out).split(\"\\\\n\")[i].split())==3)\n",
    "assert(\"chr3\" not in out)"
   ]
  },
  {
   "cell_type": "markdown",
   "metadata": {
    "deletable": false,
    "editable": false,
    "nbgrader": {
     "cell_type": "markdown",
     "checksum": "0c87de6b8e03a8f1528382c43e44ff6e",
     "grade": false,
     "grade_id": "cell-4d9f4e399a1277a2",
     "locked": true,
     "schema_version": 3,
     "solution": false,
     "task": false
    }
   },
   "source": [
    "**Question 10 (1 pt)**: Match the each of the tools to their appropriate use case.\n",
    "\n",
    "Tools:\n",
    "* BWA\n",
    "* sickle\n",
    "* samtools\n",
    "* bcftools\n",
    "* plink\n",
    "\n",
    "Use cases:\n",
    "* [0] Aligning DNA sequencing data\n",
    "* [1] Performing a GWAS\n",
    "* [2] Inspecting a BAM file\n",
    "* [3] Trimming low quality bases from a read\n",
    "* [4] Counting the number of samples in a VCF file.\n",
    "\n",
    "Set your answers in the dictionary `toolmatch` below. Some tests are hidden."
   ]
  },
  {
   "cell_type": "code",
   "execution_count": 55,
   "metadata": {
    "deletable": false,
    "nbgrader": {
     "cell_type": "code",
     "checksum": "9d1a59f67de6b2a131483ee5d91a74f0",
     "grade": false,
     "grade_id": "cell-49e6f2632d2b00cb",
     "locked": false,
     "schema_version": 3,
     "solution": true,
     "task": false
    }
   },
   "outputs": [],
   "source": [
    "toolmatch = {\n",
    "    \"BWA\": 0,\n",
    "    \"sickle\": 3,\n",
    "    \"samtools\": 2,\n",
    "    \"bcftools\": 4,\n",
    "    \"plink\": 1\n",
    "}\n",
    "toolmatch[\"samtools\"] = 2\n",
    "toolmatch[\"BWA\"] = 0\n",
    "# YOUR CODE HERE"
   ]
  },
  {
   "cell_type": "code",
   "execution_count": 56,
   "metadata": {
    "deletable": false,
    "editable": false,
    "nbgrader": {
     "cell_type": "code",
     "checksum": "5c1ea542a18644d86d430f86a0222388",
     "grade": true,
     "grade_id": "correct-unix-q10",
     "locked": true,
     "points": 1,
     "schema_version": 3,
     "solution": false,
     "task": false
    }
   },
   "outputs": [],
   "source": [
    "\"\"\"Check toolmatch. A couple tests are hidden.\"\"\"\n",
    "for key in [\"BWA\",\"sickle\",\"samtools\", \"bcftools\",\"plink\"]:\n",
    "    assert(toolmatch[key] != -1)\n",
    "assert(len(toolmatch.keys())==5)\n",
    "for i in range(5): assert(i in toolmatch.values())\n",
    "assert(toolmatch[\"samtools\"]==2)\n",
    "assert(toolmatch[\"BWA\"]==0)"
   ]
  },
  {
   "cell_type": "code",
   "execution_count": null,
   "metadata": {},
   "outputs": [],
   "source": []
  }
 ],
 "metadata": {
  "kernelspec": {
   "display_name": "Python 3",
   "language": "python",
   "name": "python3"
  },
  "language_info": {
   "codemirror_mode": {
    "name": "ipython",
    "version": 3
   },
   "file_extension": ".py",
   "mimetype": "text/x-python",
   "name": "python",
   "nbconvert_exporter": "python",
   "pygments_lexer": "ipython3",
   "version": "3.6.7"
  }
 },
 "nbformat": 4,
 "nbformat_minor": 2
}
