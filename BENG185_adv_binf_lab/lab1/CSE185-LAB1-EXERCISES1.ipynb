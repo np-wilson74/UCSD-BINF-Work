{
 "cells": [
  {
   "cell_type": "markdown",
   "metadata": {
    "deletable": false,
    "editable": false,
    "nbgrader": {
     "cell_type": "markdown",
     "checksum": "4051ae33b67fbfe22d200ffe38ae6dc1",
     "grade": false,
     "grade_id": "cell-3746f5a2b4a08ab3",
     "locked": true,
     "schema_version": 3,
     "solution": false
    }
   },
   "source": [
    "# Week 1 Lab: next generation sequencing and mutation hunting\n",
    "\n",
    "## Exercises 1 (setup)\n",
    "\n",
    "**Due: Sunday 4/11/21 11:59pm**\n",
    "\n",
    "The following exercises will help prepare you to complete this week's lab assignment. All lab assignments will be completed using Jupyter notebooks.\n",
    "For our first exercise, we'll focus primarily on making sure you have access to the lab resources on JupyterHub.\n",
    "\n",
    "As a reminder, each week you will need to complete the following:\n",
    "* \"Exercises\" are meant to focus on more theoretical aspects of the topic we're studying. These will typically consist of 20 pts total. \n",
    "* \"Lab assignments\" (usually in parts 1 and 2) consist of the main data analysis assignment. These will typically consist of 80 pts total.\n",
    "\n",
    "All notebooks for each week are collected (virtually) on Sundays at 11:59. Each lab assignment is worth 10% of your total grade, graded out of 100 points.\n",
    "\n",
    "Due dates will be posted at the top of each assignment and possible points for each section will be clearly marked."
   ]
  },
  {
   "cell_type": "markdown",
   "metadata": {
    "deletable": false,
    "editable": false,
    "nbgrader": {
     "cell_type": "markdown",
     "checksum": "ac28c826b32aa8749a3abaff69093cd4",
     "grade": false,
     "grade_id": "cell-c657f8e5291b9ede",
     "locked": true,
     "schema_version": 3,
     "solution": false
    }
   },
   "source": [
    "## 1. Jupyter Lab setup\n",
    "\n",
    "Navigate to [datahub.ucsd.edu](http://datahub.ucsd.edu) and spawn CSE185. \n",
    "\n",
    "First, we'll make sure you can run a Jupyter notebook. Click the \"Assignments\" tab. Then under released assignments, you should see \"lab1-spring21\". Fetch the assignment. You should now see it under \"downloaded assignments\".\n",
    "\n",
    "Click on a notebook to begin! We'll go over how to validate and submit assignments in lab this week.\n",
    "\n",
    "**Question 1 (5 pts):** Edit the python code directly in the cell below to make the `HelloWorld` function return the string \"Hello world\"."
   ]
  },
  {
   "cell_type": "code",
   "execution_count": 3,
   "metadata": {
    "deletable": false,
    "nbgrader": {
     "cell_type": "code",
     "checksum": "36c7fd0c225cb5db324225327bb607b6",
     "grade": false,
     "grade_id": "hello-world",
     "locked": false,
     "schema_version": 3,
     "solution": true
    }
   },
   "outputs": [],
   "source": [
    "# Write some python code to print out \"Hello world\" (5pts)\n",
    "def HelloWorld():\n",
    "    \"\"\"Print out the string Hello world\"\"\"\n",
    "    return(\"Hello world\")\n",
    "    raise NotImplementedError()"
   ]
  },
  {
   "cell_type": "code",
   "execution_count": 4,
   "metadata": {
    "deletable": false,
    "editable": false,
    "nbgrader": {
     "cell_type": "code",
     "checksum": "27332564a3efb267f7bd5a48eacbdaf4",
     "grade": true,
     "grade_id": "check-hello-world",
     "locked": true,
     "points": 5,
     "schema_version": 3,
     "solution": false
    }
   },
   "outputs": [],
   "source": [
    "\"\"\"Check that HelloWorld function works as planned\"\"\"\n",
    "assert(HelloWorld() == \"Hello world\")"
   ]
  },
  {
   "cell_type": "markdown",
   "metadata": {
    "deletable": false,
    "editable": false,
    "nbgrader": {
     "cell_type": "markdown",
     "checksum": "e88daeda3bc90b59703be4dfab6803c0",
     "grade": false,
     "grade_id": "cell-da883dabbafe1c0e",
     "locked": true,
     "schema_version": 3,
     "solution": false
    }
   },
   "source": [
    "## 2. Course server login and basic UNIX navigation\n",
    "\n",
    "Now we will access the terminal that our Jupyter notebook is running on top of. Throughout the lab assignments, we will be switching back and forth between the terminal (where you will run command line tools to perform data analysis) and Jupyter notebooks (where you will complete the assignments and visualize your analysis results).\n",
    "\n",
    "You can access the terminal in two ways:\n",
    "\n",
    "* On the upper right corner of the main Jupyter page (the one that led you to this notebook), click \"New\" then choose \"Terminal\". This will open a new window with a terminal screen.\n",
    "* Alternatively, edit your URL to be https://datahub.ucsd.edu/user/yourusername/lab (rather than /tree) to enter the JupyterLab environment. In the Launcher you should see an option to choose \"Terminal\". JupyterLab is also convenient for viewing the directory structure and files that are available.\n",
    "\n",
    "Both of these will launch a terminal and put you in your home directory. Use `pwd` to print the current working directory:\n",
    "```shell\n",
    "pwd\n",
    "```\n",
    "\n",
    "Use `ls` (list) to see what’s in your home directory (it should be empty). \n",
    "```shell\n",
    "ls\n",
    "```\n",
    "\n",
    "Besides your home directory, the other directory you need to know about is the `/datasets/cs185-sp21-A00-public/` directory which contains all datasets that will be needed for the assignments. To get to this directory, you use the `cd` (change directory) command. The general format for this command is:\n",
    "```shell\n",
    "cd [directory]\n",
    "```\n",
    "\n",
    "To use the command, replace the part in brackets with the path to the directory that you’d like to change too. (We will use a similar format throughout the tutorials for code you will need to fill in.) This path can be absolute or relative. If you just type `cd` alone, the shell will take you to your home directory. To specify relative paths in the [directory] part of the command, a single period refers to the current directory and a double period refers to its parent.\n",
    "\n",
    "So to navigate to the high-level course directory from your home directory, you could also type:\n",
    "```shell\n",
    "cd ../../datasets/cs185-sp21-A00-public/\n",
    "```\n",
    "\n",
    "Now when you type `ls`, you should see the multiple directories, including a directory for each lab (e.g. `week1`, `week2`, etc. and a `genomes` directory with things like reference genomes. You only have access to read files from this directory. You have write access only to your home directory.\n",
    "\n",
    "<blockquote>\n",
    "**UNIX TIP**: Unix has an ‘autocomplete’ feature that will help you correctly type names and paths. If\n",
    "you start typing the command below and then press the tab key, unix will automatically fill in\n",
    "the rest of the directory name, and you can just hit enter. Try it. \n",
    "</blockquote>\n",
    "\n",
    "Go ahead and navigate to the `week1` folder:\n",
    "\n",
    "```shell\n",
    "cd week1/\n",
    "```\n",
    "\n",
    "<blockquote>\n",
    "**UNIX TIP CONTINUED**: If there are multiple options in a file that start with the same letters (ie `week1`\n",
    "and `week2`), when you press tab after you start typing, the shell will autocomplete the shared part,\n",
    "then beep (if the sound is on) and wait for you to specify the rest, then you can keep typing and\n",
    "tabbing. \n",
    "</blockquote>\n",
    "\n",
    "Use `ls` to see what’s in the public folder, and `pwd` to get the absolute path to the public folder. Here you should see 6 files. Fastq files (`*.fq`) contain raw Illumina sequencing reads from our samples (1 and 2 refer to forward and reverse, this was a paired end run). \n",
    "\n",
    "While you are in the `week1` folder, compare the size of each of these files with the disk usage `ls`\n",
    "command. The optional flag `-l` makes the output in \"long format\" and the `-h` makes the results human readable (*e.g.*, 1K 234M 2G instead of the number of bytes).\n",
    "\n",
    "```shell\n",
    "ls -lh\n",
    "```\n",
    "\n",
    "<blockquote>\n",
    "**IMPORTANT NOTE**: Data analysis you do in the class will often be done in your own home directory,\n",
    "and in most cases, you will use an absolute path to refer to the raw data location in the public folder,\n",
    "so lets just leave that data where it is, and cd back your home directory. Unless explicitly directed, **DO\n",
    "NOT copy** the raw sequencing files from the public folder into your folder. This is because they are sometimes\n",
    "very large and the server space for each account and the course\n",
    "as a whole is limited, so we won’t make copies unless we have to. \n",
    "</blockquote>"
   ]
  },
  {
   "cell_type": "markdown",
   "metadata": {
    "deletable": false,
    "editable": false,
    "nbgrader": {
     "cell_type": "markdown",
     "checksum": "ffec2676480d5a5ef31127bec332231b",
     "grade": false,
     "grade_id": "cell-f71ff1448d25fdcd",
     "locked": true,
     "schema_version": 3,
     "solution": false
    }
   },
   "source": [
    "## 3. Some Python intro\n",
    "\n",
    "While lab assignments will not require writing complex Python programs, we will be using some basic Python quite a bit. If you have not used Python before, we strongly recommend going through intro course through Stepik that was posted during week 1. We will also try to introduce some basic Python along the way.\n",
    "\n",
    "Many data types, such as strings, and ints, are similar to any programming language:\n",
    "\n",
    "```python\n",
    "string_variable = 'my string' # This is a string. It must be surrounded by quotes\n",
    "int_variable = 13 # This is an int\n",
    "```\n",
    "\n",
    "In the question below, we will use a Python data type called a dictionary. A dictionary is simply a map of one thing (key) to another (value). For example, the dictionary below maps numbers (ints) to colors (strings).\n",
    "\n",
    "```python\n",
    "colordict = {1: 'red', 2: 'green'} # Create a dictionary\n",
    "\n",
    "colordict[1] # This will return 'red'\n",
    "colordict[3] = 'purple' # This line adds a new item to the dictionary\n",
    "\n",
    "colordict[5] # This will return an error, since 5 is not a key in our dictionary.\n",
    "```\n",
    "\n",
    "You can try the code snippets above by opening the Terminal and typing \"Python\" to start a Python shell."
   ]
  },
  {
   "cell_type": "markdown",
   "metadata": {
    "deletable": false,
    "editable": false,
    "nbgrader": {
     "cell_type": "markdown",
     "checksum": "d67c9b5d505d37f9dd286720b4797a84",
     "grade": false,
     "grade_id": "cell-46304cdc95573143",
     "locked": true,
     "schema_version": 3,
     "solution": false
    }
   },
   "source": [
    "**Question 2 (5 pts):** Use the command `ls -lh` to see the human readable file sizes of the fastq files in the `week1/` directory. In the cell below, add the sizes (in MB) of the rest of the fastq files to the python dictionary `filesizes`, which maps file names to their size (in MB)."
   ]
  },
  {
   "cell_type": "code",
   "execution_count": 2,
   "metadata": {
    "deletable": false,
    "nbgrader": {
     "cell_type": "code",
     "checksum": "6b2b8e692a5512efbd85eb14bce42973",
     "grade": false,
     "grade_id": "cell-db0d3ce5098f7a83",
     "locked": false,
     "schema_version": 3,
     "solution": true
    }
   },
   "outputs": [],
   "source": [
    "# Initialize a dictionary, called filesizes, mapping filename -> file size\n",
    "filesizes = {\n",
    "    'NA12878_child_1.fq': 13,\n",
    "    'NA12878_child_2.fq': 13,\n",
    "}\n",
    "# We can now add items to the dictionary using the syntax below:\n",
    "filesizes['NA12891_father_1.fq'] = 13\n",
    "\n",
    "# YOUR CODE HERE\n",
    "filesizes['NA12891_father_1.fq'] = 13\n",
    "filesizes['NA12891_father_2.fq'] = 13\n",
    "filesizes['NA12891_mother_1.fq'] = 14\n",
    "filesizes['NA12891_mother_2.fq'] = 14\n",
    "#raise NotImplementedError()"
   ]
  },
  {
   "cell_type": "code",
   "execution_count": 3,
   "metadata": {
    "deletable": false,
    "editable": false,
    "nbgrader": {
     "cell_type": "code",
     "checksum": "d3fe1c4c45aee1f2188ae9e4226c371b",
     "grade": true,
     "grade_id": "cell-335eabefcca21723",
     "locked": true,
     "points": 5,
     "schema_version": 3,
     "solution": false
    }
   },
   "outputs": [],
   "source": [
    "# Check that the entered file sizes are correct.\n",
    "assert(filesizes['NA12878_child_1.fq'] == 13)\n",
    "\n",
    "# Check that the completed dictionary has the expected number of keys and unique values\n",
    "assert(len(filesizes.keys())==6)\n",
    "assert(len(set(filesizes.values()))==2)\n",
    "\n",
    "# Hidden tests check the rest of the files."
   ]
  },
  {
   "cell_type": "markdown",
   "metadata": {
    "deletable": false,
    "editable": false,
    "nbgrader": {
     "cell_type": "markdown",
     "checksum": "e11e927a4fc80e9840c98842991f6a13",
     "grade": false,
     "grade_id": "cell-3749a54203f7f8c8",
     "locked": true,
     "schema_version": 3,
     "solution": false
    }
   },
   "source": [
    "Before turning in your assignment, it is a good idea to click the \"Validate\" button at the top. This will make sure you have answered at least the autograded questions, and will run all visible tests. (Note some tests may be hidden to you, so just because the notebook validates doesn't mean all answers are correct.)"
   ]
  }
 ],
 "metadata": {
  "kernelspec": {
   "display_name": "Python 3",
   "language": "python",
   "name": "python3"
  },
  "language_info": {
   "codemirror_mode": {
    "name": "ipython",
    "version": 3
   },
   "file_extension": ".py",
   "mimetype": "text/x-python",
   "name": "python",
   "nbconvert_exporter": "python",
   "pygments_lexer": "ipython3",
   "version": "3.6.7"
  }
 },
 "nbformat": 4,
 "nbformat_minor": 2
}
