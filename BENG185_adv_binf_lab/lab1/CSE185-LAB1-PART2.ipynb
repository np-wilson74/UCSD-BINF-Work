{
 "cells": [
  {
   "cell_type": "markdown",
   "metadata": {
    "deletable": false,
    "editable": false,
    "nbgrader": {
     "cell_type": "markdown",
     "checksum": "72835927f3f1c5fa9bd6c0d6065d5241",
     "grade": false,
     "grade_id": "cell-4ec91fd127f50aa9",
     "locked": true,
     "schema_version": 3,
     "solution": false
    }
   },
   "source": [
    "# Week 1 Lab: next generation sequencing and mutation hunting\n",
    "\n",
    "## Part 2 (50 pts total)\n",
    "\n",
    "**Due: Sunday 4/11/21 11:59pm**\n",
    "\n",
    "Skills covered: More UNIX commands, python scripting, variant calling, error sources\n",
    "\n",
    "In this lab we'll dig into the sequence alignments we generated last time to identify potential mutations that occurred in the patient but not eiter of her parents."
   ]
  },
  {
   "cell_type": "markdown",
   "metadata": {
    "deletable": false,
    "editable": false,
    "nbgrader": {
     "cell_type": "markdown",
     "checksum": "24986970c66c18dad96d8a75acbb63d1",
     "grade": false,
     "grade_id": "cell-ee3a082e514b9144",
     "locked": true,
     "schema_version": 3,
     "solution": false
    }
   },
   "source": [
    "## 1. Preparing for SNP calling: pileup files\n",
    "\n",
    "The goal now is to go through our data, and for each position in the reference genome, see how many reads have a mutation at the same position. The SAM file is inconvenient for this, because the reads aren’t matched with the reference in a simple way (though they do contain all the information needed). The solution is to make an intermediate file type called an mpileup, because it goes through each position and “piles up” the reads, tabulating the number of bases that match or don’t match the reference.\n",
    "\n",
    "mpileup requires a sorted, indexed bam file. We will focus only on a specific region of the genome to make this go faster. Run `samtools mpileup` to see the usage information. Then run the basic command below. Be sure to edit the path to the reference genome file.\n",
    "\n",
    "```\n",
    "samtools mpileup -r chr6:128405804-128605805 -f hg19.fa NA12878_child.sorted.bam > ~/week1/NA12878_child.mpileup\n",
    "```\n",
    "\n",
    "See what the pileup looks like with `head -n 100`. These files will be more convenient for SNP calling, since they \"pileup\" all the bases sequenced at each position in the reference genome. Read about pileup format here: http://samtools.sourceforge.net/pileup.shtml.\n",
    "\n",
    "```\n",
    "head -n 100 NA12878_child.mpileup | more\n",
    "```"
   ]
  },
  {
   "cell_type": "markdown",
   "metadata": {
    "deletable": false,
    "editable": false,
    "nbgrader": {
     "cell_type": "markdown",
     "checksum": "a4d8a93034ea4a6f0124b0d630e04c24",
     "grade": false,
     "grade_id": "mpileup",
     "locked": true,
     "schema_version": 3,
     "solution": false
    }
   },
   "source": [
    "**Question 1 (2 pts):** Look at the usage of `samtools mpileup` to determine how to run the command on multiple BAM files at once (child, father, and mother, in that order so everyone's files are consistent). Output the results to `trio.mpileup`. Set the variable `mpileup_cmd` to your command below."
   ]
  },
  {
   "cell_type": "code",
   "execution_count": 1,
   "metadata": {
    "deletable": false,
    "nbgrader": {
     "cell_type": "code",
     "checksum": "69c9af24eadadff689cef9e192669fc7",
     "grade": false,
     "grade_id": "mpileup-answer",
     "locked": false,
     "schema_version": 3,
     "solution": true
    }
   },
   "outputs": [],
   "source": [
    "# Set this variable to your mpileup command. We have started it for you\n",
    "mpileup_cmd = \"\"\"\n",
    "samtools mpileup -r chr6:128405804-128605805 -f /datasets/cs185-sp21-A00-public/genomes/hg19.fa NA12878_child.sorted.bam NA12891_father.sorted.bam NA12892_mother.sorted.bam > trio.mpileup\"\"\"\n",
    "\n",
    "# YOUR CODE HERE\n",
    "#raise NotImplementedError()"
   ]
  },
  {
   "cell_type": "code",
   "execution_count": 2,
   "metadata": {
    "deletable": false,
    "editable": false,
    "nbgrader": {
     "cell_type": "code",
     "checksum": "523f76f8a9db135268ca8c4e0db2a538",
     "grade": true,
     "grade_id": "mpileup-test",
     "locked": true,
     "points": 2,
     "schema_version": 3,
     "solution": false
    }
   },
   "outputs": [],
   "source": [
    "# Check that the command is reasonable\n",
    "assert(\"samtools mpileup\" in mpileup_cmd)\n",
    "assert(\"trio.mpileup\" in mpileup_cmd)\n",
    "\n",
    "# Hidden tests perform additional checks on the command\n",
    "assert(\"NA12878\" in mpileup_cmd)\n",
    "assert(\"NA12891\" in mpileup_cmd)\n",
    "assert(\"NA12892\" in mpileup_cmd)"
   ]
  },
  {
   "cell_type": "markdown",
   "metadata": {
    "deletable": false,
    "editable": false,
    "nbgrader": {
     "cell_type": "markdown",
     "checksum": "fada45fd6f6b41a8a0358db8ecda7d0e",
     "grade": false,
     "grade_id": "checkpos",
     "locked": true,
     "schema_version": 3,
     "solution": false
    }
   },
   "source": [
    "To examine the output, we'll learn a new UNIX command, `grep`, which is a useful tool for searching files for specific string patterns (kind of like \"ctrl+F\" or \"find\" functions in other tools). Try the command below:\n",
    "\n",
    "```\n",
    "cat trio.mpileup | grep 128419307\n",
    "```\n",
    "\n",
    "**Question 2 (4 pts)**: How many reads does each sample (child, mother, father) have covering the position chr6:128419307? What does it look like the genotype of each sample is? (TT, AT, or AA)?\n",
    "\n",
    "Set the variables `child_numreads`, `mother_numreads`, and `father_numreads` to the number of reads each sample has covering that position.\n",
    "\n",
    "Set the variables `child_gt`, `mother_gt`, and `father_gt` to the genotype of each sample."
   ]
  },
  {
   "cell_type": "code",
   "execution_count": 3,
   "metadata": {
    "deletable": false,
    "nbgrader": {
     "cell_type": "code",
     "checksum": "c3c68caf639442384cd1272bf20795f0",
     "grade": false,
     "grade_id": "checkpos-answer",
     "locked": false,
     "schema_version": 3,
     "solution": true
    }
   },
   "outputs": [],
   "source": [
    "child_numreads = 56\n",
    "mother_numreads = 56\n",
    "father_numreads = 50\n",
    "\n",
    "child_gt = \"AT\"\n",
    "mother_gt = \"AT\"\n",
    "father_gt = \"AT\"\n",
    "\n",
    "# YOUR CODE HERE\n",
    "#raise NotImplementedError()"
   ]
  },
  {
   "cell_type": "code",
   "execution_count": 4,
   "metadata": {
    "deletable": false,
    "editable": false,
    "nbgrader": {
     "cell_type": "code",
     "checksum": "bdbf1bcb5fad34d09fbe7867f503bb76",
     "grade": true,
     "grade_id": "checkpos-test-1",
     "locked": true,
     "points": 2,
     "schema_version": 3,
     "solution": false
    }
   },
   "outputs": [],
   "source": [
    "# Check numreads answers make sense\n",
    "assert(child_numreads + mother_numreads+father_numreads == 162)\n",
    "# Hidden tests check the actual answer\n"
   ]
  },
  {
   "cell_type": "code",
   "execution_count": 5,
   "metadata": {
    "deletable": false,
    "editable": false,
    "nbgrader": {
     "cell_type": "code",
     "checksum": "a46928700f865c68611da9803d4e9851",
     "grade": true,
     "grade_id": "checkpos-test-2",
     "locked": true,
     "points": 2,
     "schema_version": 3,
     "solution": false
    }
   },
   "outputs": [],
   "source": [
    "# Check genotypes make sense\n",
    "assert(child_gt in [\"AA\",\"AT\",\"TA\",\"TT\"])\n",
    "assert(mother_gt in [\"AA\",\"AT\",\"TA\",\"TT\"])\n",
    "assert(father_gt in [\"AA\",\"AT\",\"TA\",\"TT\"])\n",
    "# Hidden tests check the actual answer\n"
   ]
  },
  {
   "cell_type": "markdown",
   "metadata": {
    "deletable": false,
    "editable": false,
    "nbgrader": {
     "cell_type": "markdown",
     "checksum": "33cabd1ec80a9b872f22a378f7cbf454",
     "grade": false,
     "grade_id": "covdist",
     "locked": true,
     "schema_version": 3,
     "solution": false
    }
   },
   "source": [
    "## 2. Plotting the coverage distribution\n",
    "\n",
    "The mpileup format makes it straightforward to plot the distribution of the coverage at each position in the genome for each sample. We can simply pull out the columns of the file for each sample correponding to coverage. \n",
    "\n",
    "**Question 3 (5 pts)** Complete the code below to plot the distribution of coverage and compute the mean of the distribution for each sample. Note, the code below loads our precomputed results for `trio.mpileup`. You can use this file to check your results for the questions above."
   ]
  },
  {
   "cell_type": "code",
   "execution_count": 9,
   "metadata": {
    "deletable": false,
    "nbgrader": {
     "cell_type": "code",
     "checksum": "116f26425ba87f991f8a70f41ed06374",
     "grade": false,
     "grade_id": "covdist-answer",
     "locked": false,
     "schema_version": 3,
     "solution": true
    }
   },
   "outputs": [
    {
     "name": "stdout",
     "output_type": "stream",
     "text": [
      "Populating the interactive namespace from numpy and matplotlib\n",
      "Mean child coverage: 50\n",
      "Mean father coverage: 51\n",
      "Mean mother coverage: 54\n"
     ]
    },
    {
     "data": {
      "image/png": "[encoded data removed]",
      "text/plain": [
       "<Figure size 576x216 with 3 Axes>"
      ]
     },
     "metadata": {
      "needs_background": "light"
     },
     "output_type": "display_data"
    }
   ],
   "source": [
    "%pylab inline\n",
    "import os\n",
    "import numpy as np\n",
    "\n",
    "def PlotCovDist(plot=False):\n",
    "    # Compute these values and return below\n",
    "    mean_child_cov = 0\n",
    "    mean_father_cov = 0\n",
    "    mean_mother_cov = 0\n",
    "    \n",
    "    # Load coverage info\n",
    "    # In trio.mpileup:\n",
    "    #   4th column: child coverage\n",
    "    #   7th column: father coverage\n",
    "    #   10th column: mother coverage\n",
    "    cov_child = []\n",
    "    cov_father = []\n",
    "    cov_mother = []\n",
    "    with open(\"/datasets/cs185-sp21-A00-public/week1/precomputed/trio.mpileup\") as f:\n",
    "        for line in f:\n",
    "            items = line.strip().split() # split columns of each line on whitespace\n",
    "            cov_child.append(int(items[3]))\n",
    "            cov_father.append(int(items[6]))\n",
    "            cov_mother.append(int(items[9]))\n",
    "    \n",
    "    # Plot coverage distributions\n",
    "    if plot:\n",
    "        fig = plt.figure()\n",
    "        fig.set_size_inches((8, 3))\n",
    "        ax = fig.add_subplot(131)\n",
    "        ax.hist(cov_child)\n",
    "        ax.set_xlabel(\"# reads - child\")\n",
    "        ax.set_ylabel(\"# positions\")\n",
    "        ax = fig.add_subplot(132)\n",
    "        ax.hist(cov_father)\n",
    "        ax.set_xlabel(\"# reads - father\")\n",
    "        ax.set_ylabel(\"# positions\")\n",
    "        ax = fig.add_subplot(133)\n",
    "        ax.hist(cov_mother)\n",
    "        ax.set_xlabel(\"# reads - mother\")\n",
    "        ax.set_ylabel(\"# positions\")    \n",
    "        fig.tight_layout();\n",
    "    \n",
    "    # Compute mean coverate of child, father, and mother.\n",
    "    # Hint, see the example in plotting template \n",
    "    # length distribution at the end of Part 1.\n",
    "    # YOUR CODE HERE\n",
    "    mean_child_cov = np.mean(cov_child)\n",
    "    mean_father_cov = np.mean(cov_father)\n",
    "    mean_mother_cov = np.mean(cov_mother)\n",
    "\n",
    "    # Print out results\n",
    "    print(\"Mean child coverage: %d\"%mean_child_cov)\n",
    "    print(\"Mean father coverage: %d\"%mean_father_cov)\n",
    "    print(\"Mean mother coverage: %d\"%mean_mother_cov)\n",
    "\n",
    "    # Return results\n",
    "    return mean_child_cov, mean_father_cov, mean_mother_cov\n",
    "\n",
    "PlotCovDist(plot=True);"
   ]
  },
  {
   "cell_type": "code",
   "execution_count": 10,
   "metadata": {
    "deletable": false,
    "editable": false,
    "nbgrader": {
     "cell_type": "code",
     "checksum": "a7e543d992b1d149f087ac0ee1db38f5",
     "grade": true,
     "grade_id": "covdist-test",
     "locked": true,
     "points": 5,
     "schema_version": 3,
     "solution": false
    }
   },
   "outputs": [
    {
     "name": "stdout",
     "output_type": "stream",
     "text": [
      "Mean child coverage: 50\n",
      "Mean father coverage: 51\n",
      "Mean mother coverage: 54\n"
     ]
    }
   ],
   "source": [
    "\"\"\"Check computed average coverages\"\"\"\n",
    "mean_child_cov, mean_father_cov, mean_mother_cov = PlotCovDist(plot=False)\n",
    "assert(int(mean_child_cov) + int(mean_father_cov)+int(mean_mother_cov) == 155)\n"
   ]
  },
  {
   "cell_type": "markdown",
   "metadata": {
    "deletable": false,
    "editable": false,
    "nbgrader": {
     "cell_type": "markdown",
     "checksum": "290bd4e1bfd0d042e8e3cfc3f82b6a7a",
     "grade": false,
     "grade_id": "cell-72317cb114a6a737",
     "locked": true,
     "schema_version": 3,
     "solution": false
    }
   },
   "source": [
    "## 3. Running a SNP caller (Varscan)\n",
    "\n",
    "Now we will run a SNP caller to identify variants in our three samples. We could parse the mpileup file ourselves to do this, but there are already dozens of existing SNP callers out there so for now we'll choose not to reinvent the wheel.\n",
    "\n",
    "Until now, all the programs you have been using (BWA, fastqc, samtools...) were pre-installed for you in our public folder. Here you’ll get to try your hand at installing one type of program file.\n",
    "\n",
    "Use the command below (`curl` - it's a unix command to access websites) to download VarScan into your `week1` folder. Notice that we are redirecting the contents of the download into a .jar file.\n",
    "\n",
    "```\n",
    "curl -L https://sourceforge.net/projects/varscan/files/VarScan.v2.3.9.jar/download > VarScan.jar\n",
    "```\n",
    "\n",
    "Try to bring up the help message with:\n",
    "```\n",
    "java -jar VarScan.jar\n",
    "```\n",
    "\n",
    "This install method won’t be the same for all bioinformatics programs, and it might not even be the same for other Java programs, as installing open source software often has dependencies (prerequisite software) and can be sensitive to where its installed and how it is executed. We'll try to touch on this throughout the course, and you'll get a lot of experience with this for the final project.\n",
    "\n",
    "On the VarScan man page, you should see several commands. We are interested in the `mpileup2snp` command. Go ahead and enter it with `-h` to bring up the manual.\n",
    "\n",
    "```\n",
    "java -jar VarScan.jar mpileup2snp -h\n",
    "```\n",
    "\n",
    "There are lots of ways we could filter our data. VarScan lets the user define their own cutoffs for including data in calling variants. Other programs rely on more complex statistical procedures to evaluate the likelihood of real mutations.\n",
    "\n",
    "The first option we are interested in setting is the `--min-var-frequency` option. This sets the minimum % of non-reference bases at a position required to call it a variant in the sample. Set this too low, and we'll pick up mostly sequencing errors. Set this too high, and we'll miss real variants. We're also interested in `--min-freq-for-hom`, the minimum % of non-reference bases to call a variant homozygous.\n",
    "\n",
    "We'll set those values to `--min-var-frequency 0.2 --min-freq-for-hom 0.8`. This means to even consider something to be a SNP, we'll require at least 20% of the reads to have non-reference alleles. To consider something as a homozygous non-reference SNP, we'll require at least 80% of the reads to have non-reference alleles."
   ]
  },
  {
   "cell_type": "markdown",
   "metadata": {
    "deletable": false,
    "editable": false,
    "nbgrader": {
     "cell_type": "markdown",
     "checksum": "1fa8cd839e670d8f0c9f11fb78051765",
     "grade": false,
     "grade_id": "varscan",
     "locked": true,
     "schema_version": 3,
     "solution": false
    }
   },
   "source": [
    "**Question 4 (6 pts)**: Use the VarScan `mpileup2snp` command to genotype SNPs from our `trio.mpileup` file. Use options `--min-var-frequency 0.2 --min-freq-for-hom 0.8`, and set the p-value threshold to 0.01. Make VarScan output the resulting genotypes in VCF format, and only output variants (positions that don't match the reference genome). Direct the output to the file `trio.vcf`.\n",
    "\n",
    "* Question 4.1 (2 pts): Set the variable `varscan_cmd` below to the command you used.\n",
    "* Question 4.2 (2 pts): Paste the first two lines of the resulting VCF file `trio.vcf` to the variable `vcf_top2lines` below.\n",
    "* Question 4.3 (2 pts): Set the variable `numvars` to the total number of variants reported by VarScan.\n"
   ]
  },
  {
   "cell_type": "code",
   "execution_count": 8,
   "metadata": {
    "deletable": false,
    "nbgrader": {
     "cell_type": "code",
     "checksum": "5b637ba9705d24c5ee6e7c992d8d43c8",
     "grade": false,
     "grade_id": "varscan-answer",
     "locked": false,
     "schema_version": 3,
     "solution": true
    }
   },
   "outputs": [],
   "source": [
    "# Complete and run the following command\n",
    "varscan_cmd = \"\"\"\n",
    "java -jar VarScan.jar mpileup2snp trio.mpileup --min-var-frequency 0.2 --min-freq-for-hom 0.8 --p-value 0.01 --output-vcf 1 --variants > trio.vcf\n",
    "\"\"\"\n",
    "\n",
    "# Paste the first two lines of trio.vcf here\n",
    "vcf_top2lines = \"\"\"\n",
    "##fileformat=VCFv4.1\n",
    "##source=VarScan2\n",
    "\"\"\"\n",
    "\n",
    "# Set to the number of variants found\n",
    "numvars = 41\n",
    "\n",
    "# YOUR CODE HERE\n",
    "#raise NotImplementedError()"
   ]
  },
  {
   "cell_type": "code",
   "execution_count": 9,
   "metadata": {
    "deletable": false,
    "editable": false,
    "nbgrader": {
     "cell_type": "code",
     "checksum": "54a3d1e2f47a7821d6dcb5c885284fda",
     "grade": true,
     "grade_id": "varscan-test-1",
     "locked": true,
     "points": 2,
     "schema_version": 3,
     "solution": false
    }
   },
   "outputs": [],
   "source": [
    "# Test the command is reasonable\n",
    "assert(\"VarScan.jar\" in varscan_cmd)\n",
    "assert(\"--min-var-frequency\" in varscan_cmd and \"0.2\" in varscan_cmd)\n",
    "assert(\"--min-freq-for-hom\" in varscan_cmd and \"0.8\" in varscan_cmd)\n",
    "assert(\"--p-value\" in varscan_cmd)\n",
    "# Additional hidden tests\n"
   ]
  },
  {
   "cell_type": "code",
   "execution_count": 10,
   "metadata": {
    "deletable": false,
    "editable": false,
    "nbgrader": {
     "cell_type": "code",
     "checksum": "ac9524c6e07f09de0cabb982c5fc2f03",
     "grade": true,
     "grade_id": "varscan-test-2",
     "locked": true,
     "points": 2,
     "schema_version": 3,
     "solution": false
    }
   },
   "outputs": [],
   "source": [
    "# Check value of top 2 lines\n",
    "assert(len(vcf_top2lines.strip().split(\"\\n\"))==2)\n",
    "assert(\"##fileformat=VCF\" in vcf_top2lines)\n",
    "assert(\"VarScan2\" in vcf_top2lines)\n",
    "# Hidden tests check actual value\n"
   ]
  },
  {
   "cell_type": "code",
   "execution_count": 11,
   "metadata": {
    "deletable": false,
    "editable": false,
    "nbgrader": {
     "cell_type": "code",
     "checksum": "dd7bfbd7b1dd39e224553ccc1ac3c9d5",
     "grade": true,
     "grade_id": "varscan-test-3",
     "locked": true,
     "points": 2,
     "schema_version": 3,
     "solution": false
    }
   },
   "outputs": [],
   "source": [
    "# Check number of variants\n",
    "assert(type(numvars) == int)\n",
    "assert(numvars > 30)\n",
    "assert(numvars < 50)\n",
    "# Hidden tests check actual value\n"
   ]
  },
  {
   "cell_type": "markdown",
   "metadata": {
    "deletable": false,
    "editable": false,
    "nbgrader": {
     "cell_type": "markdown",
     "checksum": "c7c85113e0fa363894c9f6fe0148ddad",
     "grade": false,
     "grade_id": "cell-34612010b7238f37",
     "locked": true,
     "schema_version": 3,
     "solution": false
    }
   },
   "source": [
    "## 4. Intro to VCF files\n",
    "\n",
    "VarScan outputs variants in VCF (variant call format), a standard genomics format. To read about all the gory details of VCF files, see the specs: https://samtools.github.io/hts-specs/VCFv4.2.pdf\n",
    "\n",
    "First take a peak and scroll through the file:\n",
    "\n",
    "```\n",
    "cat trio.vcf | less -S\n",
    "```\n",
    "\n",
    "Key things to notice:\n",
    "\n",
    "* The header lines (starting with \"#\") give general information about the file such as the tool use to generate it and a description of all the different data fields in the file.\n",
    "* Below the header, there is one line per variant. For each variant, you can find the chromosome, position, reference allele, alternate allele, and additional info. Following these fields are the variant call and statistics for each sample\n",
    "* \"INFO\" fields describe per-variant statistics. \"FORMAT\" fields describe per-sample statistics at each variant.\n",
    "\n",
    "See lecture slides for more VCF info."
   ]
  },
  {
   "cell_type": "markdown",
   "metadata": {
    "deletable": false,
    "editable": false,
    "nbgrader": {
     "cell_type": "markdown",
     "checksum": "3a8255a8e4400929c99b3714e85072c3",
     "grade": false,
     "grade_id": "vcfcheck",
     "locked": true,
     "schema_version": 3,
     "solution": false
    }
   },
   "source": [
    "**Question 5 (6 pts)**: Look at the position chr6:128593590 (it might be helpful to use grep for this. See example command below). \n",
    "\n",
    "```\n",
    "grep 128593590 trio.vcf\n",
    "```\n",
    "\n",
    "* Question 5.1 (1 pt): What is the reference allele at this position? Set the variable `ref_allele` below to your answer.\n",
    "* Quesiton 5.2 (1 pt): What is the alternate allele at this position? Set the variable `alt_allele` below to your answer.\n",
    "* Question 5.3 (2 pts): Set the variables `child_gt2`, `father_gt2`, and `mother_gt2` below to the genotype at each sample. (e.g. AC, TG, TT, etc.)\n",
    "* Question 5.4 (2 pts): Set the variables `child_p`, `father_p`, and `mother_p` to the p-value for each sample. This p-value gives a measure of how confident we are the position is a SNP. Lower = more confident. More on p-values in a couple weeks."
   ]
  },
  {
   "cell_type": "code",
   "execution_count": 35,
   "metadata": {
    "deletable": false,
    "nbgrader": {
     "cell_type": "code",
     "checksum": "12eb16fe3460e356254915252727593b",
     "grade": false,
     "grade_id": "vcfcheck-answer",
     "locked": false,
     "schema_version": 3,
     "solution": true
    }
   },
   "outputs": [],
   "source": [
    "ref_allele = \"T\"\n",
    "alt_allele = \"G\"\n",
    "child_gt2 = \"TT\"\n",
    "father_gt2 = \"TT\"\n",
    "mother_gt2 = \"TG\"\n",
    "child_p = 1\n",
    "father_p = 1\n",
    "mother_p = 9.8643E-8\n",
    "\n",
    "# YOUR CODE HERE\n",
    "#raise NotImplementedError()"
   ]
  },
  {
   "cell_type": "code",
   "execution_count": 36,
   "metadata": {
    "deletable": false,
    "editable": false,
    "nbgrader": {
     "cell_type": "code",
     "checksum": "cb7cf6a4eedea5781118f7a0b6ba30db",
     "grade": true,
     "grade_id": "vcfcheck-answer-ref",
     "locked": true,
     "points": 1,
     "schema_version": 3,
     "solution": false
    }
   },
   "outputs": [],
   "source": [
    "assert(ref_allele in [\"A\",\"C\",\"G\",\"T\"])\n"
   ]
  },
  {
   "cell_type": "code",
   "execution_count": 37,
   "metadata": {
    "deletable": false,
    "editable": false,
    "nbgrader": {
     "cell_type": "code",
     "checksum": "a6a7b7fc78a4565b44da65a9d815e672",
     "grade": true,
     "grade_id": "vcfcheck-answer-alt",
     "locked": true,
     "points": 1,
     "schema_version": 3,
     "solution": false
    }
   },
   "outputs": [],
   "source": [
    "assert(alt_allele in [\"A\",\"C\",\"G\",\"T\"])\n"
   ]
  },
  {
   "cell_type": "code",
   "execution_count": 38,
   "metadata": {
    "deletable": false,
    "editable": false,
    "nbgrader": {
     "cell_type": "code",
     "checksum": "d476d3ab6fc990b43312fb781758ee1f",
     "grade": true,
     "grade_id": "vcfcheck-answer-gts",
     "locked": true,
     "points": 2,
     "schema_version": 3,
     "solution": false
    }
   },
   "outputs": [],
   "source": [
    "for gt in [child_gt2, father_gt2, mother_gt2]:\n",
    "    assert(gt in [\"GT\",\"GG\",\"TT\",\"TG\"])\n",
    "    "
   ]
  },
  {
   "cell_type": "code",
   "execution_count": 39,
   "metadata": {
    "deletable": false,
    "editable": false,
    "nbgrader": {
     "cell_type": "code",
     "checksum": "0220e2aa043c8d8357748598ece19602",
     "grade": true,
     "grade_id": "vcfcheck-answer-pvals",
     "locked": true,
     "points": 2,
     "schema_version": 3,
     "solution": false
    }
   },
   "outputs": [],
   "source": [
    "for pval in [child_p, father_p, mother_p]:\n",
    "    assert(float(pval)>=0 and float(pval)<=1)\n",
    "assert 1.0 in [float(item) for item in [child_p, father_p, mother_p]]\n",
    "    "
   ]
  },
  {
   "cell_type": "markdown",
   "metadata": {
    "deletable": false,
    "editable": false,
    "nbgrader": {
     "cell_type": "markdown",
     "checksum": "0fe5941ba7cb28b865cce8c3ea13a087",
     "grade": false,
     "grade_id": "denovo",
     "locked": true,
     "schema_version": 3,
     "solution": false
    }
   },
   "source": [
    "## 5. Mutation identification and annotation\n",
    "\n",
    "We'd now like to identify potential *de novo* mutations that occurred in the child genome but that were not passed down by either parent. \n",
    "\n",
    "**Question 6 (10 pts)** In the space below, write a small program that identifies candidate mutations in the child genome.\n",
    "\n",
    "You may do this using whatever means you want, but example template code to get you started using the PyVCF library is provided. This can also be done using bash commands. Your code must run from within the notebook and output a list of candidate mutation positions.\n",
    "\n",
    "The code prints out one line per position genotyped to give you an idea of how PyVCF works. Modify the code so that it returns a list of potential positions of de novo mutations. As in examples above, if `trio.vcf` is loaded below from our precomputed results."
   ]
  },
  {
   "cell_type": "code",
   "execution_count": 68,
   "metadata": {
    "deletable": false,
    "nbgrader": {
     "cell_type": "code",
     "checksum": "c295395cf629f302672a0d52995667f6",
     "grade": false,
     "grade_id": "denovo-answer",
     "locked": false,
     "schema_version": 3,
     "solution": true
    }
   },
   "outputs": [
    {
     "name": "stdout",
     "output_type": "stream",
     "text": [
      "chr6:128414945:T/T;T/T;T/T\n",
      "chr6:128419307:T/A;T/A;T/A\n",
      "chr6:128421762:T/T;T/T;T/T\n",
      "chr6:128435303:C/T;C/T;C/T\n",
      "chr6:128442104:G/G;G/G;G/T\n",
      "chr6:128446509:T/T;T/T;T/T\n",
      "chr6:128450019:T/G;T/G;T/T\n",
      "chr6:128465668:C/T;C/C;C/T\n",
      "chr6:128469937:T/A;T/A;T/A\n",
      "chr6:128471913:A/C;A/C;A/C\n",
      "chr6:128484504:A/G;A/G;A/A\n",
      "chr6:128486139:A/C;A/C;A/C\n",
      "chr6:128488195:T/C;T/C;T/C\n",
      "chr6:128493991:G/T;G/T;G/T\n",
      "chr6:128494093:C/G;C/G;C/G\n",
      "chr6:128496528:T/T;T/T;T/C\n",
      "chr6:128496557:T/T;T/T;T/T\n",
      "chr6:128503550:T/C;T/C;T/T\n",
      "chr6:128505804:A/C;A/A;A/A\n",
      "chr6:128514053:G/A;G/A;G/A\n",
      "chr6:128515718:T/C;T/C;T/T\n",
      "chr6:128517169:T/T;T/T;T/C\n",
      "chr6:128532763:G/C;G/C;G/C\n",
      "chr6:128559329:C/T;C/T;C/T\n",
      "chr6:128564669:G/T;G/T;G/T\n",
      "chr6:128568999:C/T;C/T;C/C\n",
      "chr6:128572877:C/A;C/A;C/A\n",
      "chr6:128583972:G/A;G/G;G/A\n",
      "chr6:128583983:T/G;T/T;T/G\n",
      "chr6:128585618:A/C;A/C;A/C\n",
      "chr6:128591818:T/G;T/G;G/G\n",
      "chr6:128593590:T/T;T/T;T/G\n",
      "chr6:128599580:C/A;C/A;C/A\n",
      "chr6:128599902:A/A;A/A;A/A\n",
      "chr6:128602090:A/C;A/C;A/C\n",
      "chr6:128602577:T/C;T/C;T/C\n",
      "chr6:128602796:C/T;C/T;C/T\n",
      "chr6:128603361:C/T;C/T;C/T\n",
      "chr6:128604078:C/T;C/T;C/T\n",
      "chr6:128604430:G/A;G/A;G/A\n",
      "chr6:128604571:A/C;A/C;A/C\n"
     ]
    },
    {
     "data": {
      "text/plain": [
       "[128505804]"
      ]
     },
     "execution_count": 68,
     "metadata": {},
     "output_type": "execute_result"
    }
   ],
   "source": [
    "# This code simply prints out each position in the VCF file and the genotypes\n",
    "# of each sample. Modify to return a list of positions of potential de novo\n",
    "# mutations. That is, positions where the child has an allele not seen in \n",
    "# either parent.\n",
    "\n",
    "import vcf\n",
    "\n",
    "# This code is using the PyVCF library to parse VCFs\n",
    "# See more here: https://pyvcf.readthedocs.io/en/latest/INTRO.html\n",
    "# You shouldn't have to deal directly with any PyVCF functions\n",
    "# in your solution.\n",
    "\n",
    "# Some Python functions you might find useful:\n",
    "# split: https://www.w3schools.com/python/ref_string_split.asp\n",
    "#    e.g. child_alleles = child_gt.split(\"/\") \n",
    "# Checking if an item is in a list\n",
    "#    e.g.:\n",
    "#         alleles = [\"A\",\"A\"]\n",
    "#       \"A\" in alleles # returns True\n",
    "#        \"T\" in alleles # returns False\n",
    "# Appending to a list\n",
    "#    e.g. positions.append(pos) adds pos to the list\n",
    "\n",
    "def GetDenovoPositions(printpos=False):\n",
    "    reader = vcf.Reader(open(\"/datasets/cs185-sp21-A00-public/week1/precomputed/trio.vcf\", \"r\"))\n",
    "    positions = [] # List of positions of potential de novo variants\n",
    "    \n",
    "    for record in reader:\n",
    "        chrom  = record.CHROM # e.g. chr6\n",
    "        pos = record.POS # e.g. 128414945\n",
    "        \n",
    "        # This assuming your mpileup file is in the order child, father, mother\n",
    "        child_gt = record.genotype(\"Sample1\").gt_bases # e.g. 'T/T'\n",
    "        father_gt = record.genotype(\"Sample2\").gt_bases # e.g. 'T/A'\n",
    "        mother_gt = record.genotype(\"Sample3\").gt_bases # e.g. 'T/T'\n",
    "\n",
    "        # If the position is denovo, add pos to positions\n",
    "        # YOUR CODE HERE\n",
    "        child_alleles = child_gt.split(\"/\")\n",
    "        father_alleles = father_gt.split(\"/\")\n",
    "        mother_alleles = mother_gt.split(\"/\")\n",
    "        \n",
    "        father_has_first = child_alleles[0] in father_alleles\n",
    "        father_has_second = child_alleles[1] in father_alleles\n",
    "        mother_has_first = child_alleles[0] in mother_alleles\n",
    "        mother_has_second = child_alleles[1] in mother_alleles\n",
    "        heterozygous = child_alleles[0] == child_alleles[1]\n",
    "        \n",
    "        #if child has SNP that neither parent has\n",
    "        if (not father_has_first and not mother_has_first) or (not father_has_second and not mother_has_second):\n",
    "            positions.append(pos)\n",
    "      \n",
    "        #if child has SNP where one parent couldn't have contributed either allele\n",
    "        if (not father_has_first and not father_has_second) or (not mother_has_first and not mother_has_second):\n",
    "            positions.append(pos)\n",
    "    \n",
    "        #raise NotImplementedError()\n",
    "        if printpos:\n",
    "            print(\"%s:%s:%s;%s;%s\"%(chrom, pos, child_gt, father_gt, mother_gt))\n",
    "        \n",
    "    return positions\n",
    "\n",
    "GetDenovoPositions(printpos=True)"
   ]
  },
  {
   "cell_type": "code",
   "execution_count": 69,
   "metadata": {
    "deletable": false,
    "editable": false,
    "nbgrader": {
     "cell_type": "code",
     "checksum": "5c3e1c2185a57489667f2bb45c341ba7",
     "grade": true,
     "grade_id": "denovo-tests-1",
     "locked": true,
     "points": 2,
     "schema_version": 3,
     "solution": false
    }
   },
   "outputs": [],
   "source": [
    "# Check that the function runs and outputs a list\n",
    "positions = GetDenovoPositions(printpos=False)\n",
    "assert(type(positions)==list)"
   ]
  },
  {
   "cell_type": "code",
   "execution_count": 70,
   "metadata": {
    "deletable": false,
    "editable": false,
    "nbgrader": {
     "cell_type": "code",
     "checksum": "50f5e1610f1a89a3f00562b99eeac6c4",
     "grade": true,
     "grade_id": "denovo-tests-2",
     "locked": true,
     "points": 2,
     "schema_version": 3,
     "solution": false
    }
   },
   "outputs": [],
   "source": [
    "# Check that the length of positions is correct\n",
    "positions = GetDenovoPositions(printpos=False)\n",
    "assert(len(positions)>0 and len(positions)<100)\n"
   ]
  },
  {
   "cell_type": "code",
   "execution_count": 71,
   "metadata": {
    "deletable": false,
    "editable": false,
    "nbgrader": {
     "cell_type": "code",
     "checksum": "86ee30ecf6e759baf5f68be176d9eb87",
     "grade": true,
     "grade_id": "denovo-tests-3",
     "locked": true,
     "points": 2,
     "schema_version": 3,
     "solution": false
    }
   },
   "outputs": [],
   "source": [
    "# Check that values in positions are reasonable\n",
    "positions = GetDenovoPositions(printpos=False)\n",
    "assert(type(positions[0] == int))"
   ]
  },
  {
   "cell_type": "code",
   "execution_count": 72,
   "metadata": {
    "deletable": false,
    "editable": false,
    "nbgrader": {
     "cell_type": "code",
     "checksum": "22db41f3eb00aa6a87e03553348790b5",
     "grade": true,
     "grade_id": "denovo-tests-4",
     "locked": true,
     "points": 4,
     "schema_version": 3,
     "solution": false
    }
   },
   "outputs": [],
   "source": [
    "# Check actual positions in the list\n",
    "positions = GetDenovoPositions(printpos=False)\n",
    "assert(min(positions)>128414945)\n"
   ]
  },
  {
   "cell_type": "markdown",
   "metadata": {
    "deletable": false,
    "editable": false,
    "nbgrader": {
     "cell_type": "markdown",
     "checksum": "ece104a86ed98f3deea637d089cc4d39",
     "grade": false,
     "grade_id": "browser",
     "locked": true,
     "schema_version": 3,
     "solution": false
    }
   },
   "source": [
    "Now let's figure out if the mutations identified are likely to have an impact on any particular genes. We'll use the UCSC Genome Browser (https://genome.ucsc.edu/) to help with this. Go to the genome browser home page. Then on the top menu bar, hover over \"Genomes\" and choose the hg19 reference genome. We'll post a short video tutorial to canvas on using the genome browser to help familiarize you with various features.\n",
    "\n",
    "**Question 7 (6 pts)**: In the search bar, navigate to the position of each mutation. e.g. \"chr6:XXXX\" in the search bar. Does any mutation fall within a gene? If yes, determine whether it is predicted to change the amino acid structure (i.e. is this a synonymous variant? missense? nonsense?) of the protein and describe the change below. Make sure to determine which strand the gene is on! (forward vs. reverse)\n",
    "\n",
    "You should find that one of your mutation(s) is predicted to alter the amino acid sequence of a protein.\n",
    "\n",
    "* Question 7.1 (1 pt): Which genes does the mutation fall in?\n",
    "* Question 7.2 (1 pt): What codon is at this position in the reference position?\n",
    "* Question 7.3 (1 pt): What amino acid does that codon code for?\n",
    "* Question 7.4 (1 pt): What does your mutation change the codon to?\n",
    "* Question 7.5 (1 pt): What amino acid does the mutant codon code for?\n",
    "* Question 7.6 (1 pt): What type of mutation is this? (missense, nonsense, or synonymous\n",
    "\n",
    "Set your answers in the variables `q7_1`, `q7_2`, etc. below."
   ]
  },
  {
   "cell_type": "code",
   "execution_count": 85,
   "metadata": {
    "deletable": false,
    "nbgrader": {
     "cell_type": "code",
     "checksum": "dea4a00c9436a3f001f685bd307c1aeb",
     "grade": false,
     "grade_id": "browser-answer",
     "locked": false,
     "schema_version": 3,
     "solution": true
    }
   },
   "outputs": [],
   "source": [
    "q7_1 = \"PTPRK\" # Which genes does the mutation fall in?\n",
    "q7_2 = \"CAA\" # What codon is at this position in the reference position?\n",
    "q7_3 = \"Q\" # What amino acid does that codon code for? Use 1 -letter code\n",
    "q7_4 = \"AGC\" # What does your mutation change the codon to?\n",
    "q7_5 = \"S\" # What amino acid does the mutant codon code for?\n",
    "q7_6 = \"missense\" # What type of mutation is this? (missense, nonsense, or synonymous\n",
    "\n",
    "# YOUR CODE HERE\n",
    "#raise NotImplementedError()"
   ]
  },
  {
   "cell_type": "code",
   "execution_count": 86,
   "metadata": {
    "deletable": false,
    "editable": false,
    "nbgrader": {
     "cell_type": "code",
     "checksum": "33feb83c039f321ccd68abb598db57a5",
     "grade": true,
     "grade_id": "browser-test-1",
     "locked": true,
     "points": 1,
     "schema_version": 3,
     "solution": false
    }
   },
   "outputs": [],
   "source": [
    "assert(type(q7_1)==str)\n",
    "assert(len(q7_1)==5)\n"
   ]
  },
  {
   "cell_type": "code",
   "execution_count": 87,
   "metadata": {
    "deletable": false,
    "editable": false,
    "nbgrader": {
     "cell_type": "code",
     "checksum": "200094fd28210e02345f83512a484781",
     "grade": true,
     "grade_id": "browser-test-2",
     "locked": true,
     "points": 1,
     "schema_version": 3,
     "solution": false
    }
   },
   "outputs": [],
   "source": [
    "nucs = [\"A\",\"C\",\"G\",\"U\"]\n",
    "codon_table = []\n",
    "for i in nucs:\n",
    "    for j in nucs:\n",
    "        for k in nucs:\n",
    "            codon_table.append(i+j+k)\n",
    "assert(q7_2 in codon_table)\n",
    "assert(q7_2.startswith(\"C\"))"
   ]
  },
  {
   "cell_type": "code",
   "execution_count": 88,
   "metadata": {
    "deletable": false,
    "editable": false,
    "nbgrader": {
     "cell_type": "code",
     "checksum": "097950012e2da27b772c732f061a4317",
     "grade": true,
     "grade_id": "browser-test-3",
     "locked": true,
     "points": 1,
     "schema_version": 3,
     "solution": false
    }
   },
   "outputs": [],
   "source": [
    "amino_acids = [\"A\",\"R\",\"N\",\"D\",\"B\",\"C\",\"E\",\"Q\",\"Z\",\"G\",\"H\",\"I\",\"L\",\"K\",\"M\",\"F\",\"P\",\"S\",\"T\",\"W\",\"Y\",\"V\"]\n",
    "assert(q7_3 in amino_acids)"
   ]
  },
  {
   "cell_type": "code",
   "execution_count": 89,
   "metadata": {
    "deletable": false,
    "editable": false,
    "nbgrader": {
     "cell_type": "code",
     "checksum": "117757d8a40a63c902d735bffa935949",
     "grade": true,
     "grade_id": "browser-test-4",
     "locked": true,
     "points": 1,
     "schema_version": 3,
     "solution": false
    }
   },
   "outputs": [
    {
     "ename": "AssertionError",
     "evalue": "",
     "output_type": "error",
     "traceback": [
      "\u001b[0;31m---------------------------------------------------------------------------\u001b[0m",
      "\u001b[0;31mAssertionError\u001b[0m                            Traceback (most recent call last)",
      "\u001b[0;32m<ipython-input-89-97066469f57c>\u001b[0m in \u001b[0;36m<module>\u001b[0;34m\u001b[0m\n\u001b[1;32m      1\u001b[0m \u001b[0;32massert\u001b[0m\u001b[0;34m(\u001b[0m\u001b[0mq7_4\u001b[0m \u001b[0;32min\u001b[0m \u001b[0mcodon_table\u001b[0m\u001b[0;34m)\u001b[0m\u001b[0;34m\u001b[0m\u001b[0;34m\u001b[0m\u001b[0m\n\u001b[0;32m----> 2\u001b[0;31m \u001b[0;32massert\u001b[0m\u001b[0;34m(\u001b[0m\u001b[0mq7_4\u001b[0m\u001b[0;34m.\u001b[0m\u001b[0mstartswith\u001b[0m\u001b[0;34m(\u001b[0m\u001b[0;34m\"C\"\u001b[0m\u001b[0;34m)\u001b[0m\u001b[0;34m)\u001b[0m\u001b[0;34m\u001b[0m\u001b[0;34m\u001b[0m\u001b[0m\n\u001b[0m\u001b[1;32m      3\u001b[0m \u001b[0;32massert\u001b[0m\u001b[0;34m(\u001b[0m\u001b[0mq7_4\u001b[0m \u001b[0;34m!=\u001b[0m \u001b[0mq7_2\u001b[0m\u001b[0;34m)\u001b[0m\u001b[0;34m\u001b[0m\u001b[0;34m\u001b[0m\u001b[0m\n",
      "\u001b[0;31mAssertionError\u001b[0m: "
     ]
    }
   ],
   "source": [
    "assert(q7_4 in codon_table)\n",
    "assert(q7_4.startswith(\"C\"))\n",
    "assert(q7_4 != q7_2)"
   ]
  },
  {
   "cell_type": "code",
   "execution_count": 90,
   "metadata": {
    "deletable": false,
    "editable": false,
    "nbgrader": {
     "cell_type": "code",
     "checksum": "1dd0ea671b3ded69637ae3ee8a49b738",
     "grade": true,
     "grade_id": "browser-test-5",
     "locked": true,
     "points": 1,
     "schema_version": 3,
     "solution": false
    }
   },
   "outputs": [],
   "source": [
    "assert(q7_5 in amino_acids)"
   ]
  },
  {
   "cell_type": "code",
   "execution_count": 91,
   "metadata": {
    "deletable": false,
    "editable": false,
    "nbgrader": {
     "cell_type": "code",
     "checksum": "b0446ccef3cf5f176fa84b98c8231ae9",
     "grade": true,
     "grade_id": "browser-test-6",
     "locked": true,
     "points": 1,
     "schema_version": 3,
     "solution": false
    }
   },
   "outputs": [],
   "source": [
    "assert(q7_6 in [\"missense\",\"nonsense\",\"nonsynonymous\"])"
   ]
  },
  {
   "cell_type": "markdown",
   "metadata": {
    "deletable": false,
    "editable": false,
    "nbgrader": {
     "cell_type": "markdown",
     "checksum": "c21ac9ca21131bf10be31259c85405ed",
     "grade": false,
     "grade_id": "cell-4c2db6b1607cdbed",
     "locked": true,
     "schema_version": 3,
     "solution": false
    }
   },
   "source": [
    "# 6. Additional  questions"
   ]
  },
  {
   "cell_type": "markdown",
   "metadata": {
    "deletable": false,
    "editable": false,
    "nbgrader": {
     "cell_type": "markdown",
     "checksum": "6c5b8776c125478f8de45b0a35f23a96",
     "grade": false,
     "grade_id": "seqcov",
     "locked": true,
     "schema_version": 3,
     "solution": false
    }
   },
   "source": [
    "**Question 8 (3 pts)**: You sequenced the genome of a patient in your clinic with a suspected neurodevelopmental disorder and plotted the distribution of coverage across all bases of the genome. The mean coverage is around 40x, with most bases covered between 20-60 times. However you notice some bases are never covered (0 coverage) and other bases have extremely large coverages (1000x). What could be happening at positions with extremely low or high coverage?\n",
    "\n",
    "A. Bases with 0 coverage may represent repeats that we cannot map uniquely to\n",
    "B. Bases with 0 coverage may represent places that are very difficult to sequence (e.g. very high GC content).\n",
    "C. Positions with very high coverage are likely repeats (e.g. centromeres, telomeres, Alu/LINE).\n",
    "D. Positions with low coverage likely represent regions with close to 50% GC content in highly mappable regions.\n",
    "E. A, B, and C, are possible.\n",
    "F. A, B, C, and D are possible.\n",
    "\n",
    "Set the variable `q8` below to your answer."
   ]
  },
  {
   "cell_type": "code",
   "execution_count": 93,
   "metadata": {
    "deletable": false,
    "nbgrader": {
     "cell_type": "code",
     "checksum": "4a930fbefb138bf855113f829bb7efb5",
     "grade": false,
     "grade_id": "seqcov-answer",
     "locked": false,
     "schema_version": 3,
     "solution": true
    }
   },
   "outputs": [],
   "source": [
    "q8 = \"E\" # Set to A, B, C, D, E, or F\n",
    "# YOUR CODE HERE\n",
    "#raise NotImplementedError()"
   ]
  },
  {
   "cell_type": "code",
   "execution_count": 94,
   "metadata": {
    "deletable": false,
    "editable": false,
    "nbgrader": {
     "cell_type": "code",
     "checksum": "f1795adede7b45b54fb089fa6797839d",
     "grade": true,
     "grade_id": "cell-cc1fe27f8ae5c01f",
     "locked": true,
     "points": 3,
     "schema_version": 3,
     "solution": false
    }
   },
   "outputs": [],
   "source": [
    "assert(q8 in [\"A\",\"B\",\"C\",\"D\",\"E\",\"F\"])"
   ]
  },
  {
   "cell_type": "markdown",
   "metadata": {
    "collapsed": true,
    "deletable": false,
    "editable": false,
    "nbgrader": {
     "cell_type": "markdown",
     "checksum": "59f72fe4afd1eeedbf3eafb6cbca4202",
     "grade": false,
     "grade_id": "tlen",
     "locked": true,
     "schema_version": 3,
     "solution": false
    }
   },
   "source": [
    "**Question 9 (4 pts)**: For the same individual's genome, you plot the template length distribution (similar to how we did at the end of Part 1 of this lab.) If you plot the distribution over the entire genome, you see a mean template length of around 300bp. However, when you zoom in on a particular region of the genome, you see many read pairs with template lengths closer to 600bp. What could explain this?\n",
    "\n",
    "A. An insertion of 600bp compared to the reference genome\n",
    "B. An insertion of 300bp compared to the reference genome\n",
    "C. A deletion of 300bp compared to the reference genome.\n",
    "D. A deletion of 600bp compared to the reference genome.\n",
    "\n",
    "Set the variable `q9` below to your answer."
   ]
  },
  {
   "cell_type": "code",
   "execution_count": 96,
   "metadata": {
    "deletable": false,
    "nbgrader": {
     "cell_type": "code",
     "checksum": "024b9c809cbcde2067d19f269d84fd64",
     "grade": false,
     "grade_id": "tlen-answer",
     "locked": false,
     "schema_version": 3,
     "solution": true
    }
   },
   "outputs": [],
   "source": [
    "q9 = \"C\"\n",
    "# YOUR CODE HERE\n",
    "#raise NotImplementedError()"
   ]
  },
  {
   "cell_type": "code",
   "execution_count": null,
   "metadata": {
    "deletable": false,
    "editable": false,
    "nbgrader": {
     "cell_type": "code",
     "checksum": "d173a6441783606ab8f208d1c85a9b31",
     "grade": true,
     "grade_id": "tlen-test",
     "locked": true,
     "points": 4,
     "schema_version": 3,
     "solution": false
    }
   },
   "outputs": [],
   "source": [
    "assert(q9 in [\"A\",\"B\",\"C\",\"D\"])"
   ]
  },
  {
   "cell_type": "markdown",
   "metadata": {
    "collapsed": true,
    "deletable": false,
    "editable": false,
    "nbgrader": {
     "cell_type": "markdown",
     "checksum": "5427a7a2fb739af5da64fcce3f2338b8",
     "grade": false,
     "grade_id": "binom",
     "locked": true,
     "schema_version": 3,
     "solution": false
    }
   },
   "source": [
    "**Question 10 (4 pts)**: You are sequencing the genome of a tetraploid genome (4 copies of the genome, rather than 2 like diploid humans). At a position with 30x coverage where only one of the four copies of the genome contains a variant from the reference genome, how many reads do you expect on average to have the variant? Set the variable `q10` below to your answer."
   ]
  },
  {
   "cell_type": "code",
   "execution_count": 97,
   "metadata": {
    "deletable": false,
    "nbgrader": {
     "cell_type": "code",
     "checksum": "e262998712ab26d04c000b01df23dabc",
     "grade": false,
     "grade_id": "binom-answer",
     "locked": false,
     "schema_version": 3,
     "solution": true
    }
   },
   "outputs": [],
   "source": [
    "q10 = 7.5 # Set to your answer.\n",
    "# YOUR CODE HERE\n",
    "#raise NotImplementedError()"
   ]
  },
  {
   "cell_type": "code",
   "execution_count": 98,
   "metadata": {
    "deletable": false,
    "editable": false,
    "nbgrader": {
     "cell_type": "code",
     "checksum": "ecec64ae28e11cc8f2b3a9ad1dd9bee1",
     "grade": true,
     "grade_id": "binom-test",
     "locked": true,
     "points": 4,
     "schema_version": 3,
     "solution": false
    }
   },
   "outputs": [],
   "source": [
    "assert(type(q10)==float)\n",
    "assert(q10>0 and q10<=30)"
   ]
  },
  {
   "cell_type": "markdown",
   "metadata": {
    "deletable": false,
    "editable": false,
    "nbgrader": {
     "cell_type": "markdown",
     "checksum": "37dc2cff4cbd01ee35d36965dbdb3fe1",
     "grade": false,
     "grade_id": "cell-96565e7ea0a57709",
     "locked": true,
     "schema_version": 3,
     "solution": false
    }
   },
   "source": [
    "## 7. Submit the assignment!\n",
    "\n",
    "Under the \"Assignment\" tab in JupyterHub, for the Lab1 assignment you should see buttons:\n",
    "\n",
    "* Validate: lets you check if your notebooks are passing all visible tests.\n",
    "* Submit: will submit your assignment!"
   ]
  }
 ],
 "metadata": {
  "kernelspec": {
   "display_name": "Python 3",
   "language": "python",
   "name": "python3"
  },
  "language_info": {
   "codemirror_mode": {
    "name": "ipython",
    "version": 3
   },
   "file_extension": ".py",
   "mimetype": "text/x-python",
   "name": "python",
   "nbconvert_exporter": "python",
   "pygments_lexer": "ipython3",
   "version": "3.6.7"
  }
 },
 "nbformat": 4,
 "nbformat_minor": 2
}
