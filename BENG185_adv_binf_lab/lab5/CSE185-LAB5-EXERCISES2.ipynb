{
 "cells": [
  {
   "cell_type": "markdown",
   "metadata": {
    "deletable": false,
    "editable": false,
    "nbgrader": {
     "cell_type": "markdown",
     "checksum": "a461149c9c385d2a31c2ba44c3f82b49",
     "grade": false,
     "grade_id": "cell-af57abb0f53448b5",
     "locked": true,
     "schema_version": 3,
     "solution": false
    }
   },
   "source": [
    "# Week 5 \n",
    "\n",
    "## Exercises - Part 2 (10 pts)\n",
    "\n",
    "This exercise explores how to find motifs that are enriched in a set of sequences.\n",
    "\n",
    "You have performed ChIP-seq for your favorite transcription factor and identified a set of binding sites (\"peaks\"). We would now like to scan the sites that are bound to identify specific motifs our TF might be binding to.\n",
    "\n",
    "## 1. Loading the sequences \n",
    "\n",
    "In `/datasets/cs185-sp21-A00-public/week5/exercises/` you will find:\n",
    "* `peak_seqs.txt`: a list of sequences extracted from peaks where your TF is binding\n",
    "* `bg_seqs.txt`: a list of sequences extracted from random background regions.\n",
    "\n",
    "For both files, there are 100 sequences of length 75.\n",
    "\n",
    "The cell below loads sequences from each into the lists `peak_seqs` and `bg_seqs` which you will be using in the next sections."
   ]
  },
  {
   "cell_type": "code",
   "execution_count": 1,
   "metadata": {
    "deletable": false,
    "editable": false,
    "nbgrader": {
     "cell_type": "code",
     "checksum": "e6745f5deb5472fb011e02b53a5d7f08",
     "grade": false,
     "grade_id": "cell-76f0f8997d7ff038",
     "locked": true,
     "schema_version": 3,
     "solution": false
    }
   },
   "outputs": [
    {
     "name": "stdout",
     "output_type": "stream",
     "text": [
      "Loaded sequences:\n",
      "Peak seqs: 100\n",
      "Background seqs: 100\n"
     ]
    }
   ],
   "source": [
    "peak_seqs = []\n",
    "bg_seqs = []\n",
    "\n",
    "peak_seqs = [item.strip() for item in open(\"/datasets/cs185-sp21-A00-public/week5/exercises/peak_seqs.txt\", \"r\").readlines()]\n",
    "bg_seqs = [item.strip() for item in open(\"/datasets/cs185-sp21-A00-public/week5/exercises/bg_seqs.txt\", \"r\").readlines()]\n",
    "\n",
    "print(\"Loaded sequences:\")\n",
    "print(\"Peak seqs: %s\"%len(peak_seqs))\n",
    "print(\"Background seqs: %s\"%len(bg_seqs))"
   ]
  },
  {
   "cell_type": "markdown",
   "metadata": {
    "deletable": false,
    "editable": false,
    "nbgrader": {
     "cell_type": "markdown",
     "checksum": "716ce1846be28a4ca3352bc790559650",
     "grade": false,
     "grade_id": "cell-62f2eb4c9f165c6f",
     "locked": true,
     "schema_version": 3,
     "solution": false
    }
   },
   "source": [
    "## 2. Defining the PWMs\n",
    "\n",
    "The cell below defines PWMs for three motifs we will use to test for enrichment and plots their sequence logos. Pay attention to the following variables which you'll be using below:\n",
    "\n",
    "* `PWMList`: a list of three PWMs. Each PWM is a 2d numpy array with 4 rows and $n$ columns, using the same format we had for the first exercise notebook this week.\n",
    "* `pwm_names`: a list of the names of the three PWMs (Sox2, Gata4, and Hnf4a)"
   ]
  },
  {
   "cell_type": "code",
   "execution_count": 2,
   "metadata": {
    "deletable": false,
    "editable": false,
    "nbgrader": {
     "cell_type": "code",
     "checksum": "a37b3d029c6d269c7fff76ea5567d1fa",
     "grade": false,
     "grade_id": "cell-1b50b784c91b56ed",
     "locked": true,
     "schema_version": 3,
     "solution": false
    }
   },
   "outputs": [
    {
     "name": "stdout",
     "output_type": "stream",
     "text": [
      "Example PWM\n"
     ]
    },
    {
     "data": {
      "text/plain": [
       "array([[-1.83361299, -2.15554108, -2.31903981,  0.81189105, -6.96289593,\n",
       "        -4.15554107, -1.67749378, -1.26245629, -0.14271704,  1.44649493,\n",
       "        -1.792971  , -2.71496849, -2.3779335 ,  1.16122531,  1.15084616,\n",
       "         1.62956103],\n",
       "       [-0.43933405,  1.17153032,  1.12456684, -4.37793349, -3.50346438,\n",
       "        -6.96289593, -0.71496849, -6.96289593, -0.00869969, -1.67749378,\n",
       "        -4.6409679 , -2.10491501,  1.34544303, -1.29047066, -1.40830715,\n",
       "        -2.71496849],\n",
       "       [ 0.22692855, -0.81314888, -3.962896  , -4.96289599, -4.6409679 ,\n",
       "        -5.96289597,  1.57626281, -3.3779335 , -0.67749379, -1.91850188,\n",
       "        -2.71496849,  1.58785078, -1.08025295, -2.87543316, -0.792971  ,\n",
       "        -1.71496849],\n",
       "       [ 0.85728296, -0.06807824,  0.63701684,  1.11391959,  1.94999333,\n",
       "         1.97079465, -3.3779335 ,  1.79865523,  0.56066595, -0.51995251,\n",
       "         1.81518112, -0.71496849, -0.33353938,  0.28503151, -0.27639548,\n",
       "        -1.15554108]])"
      ]
     },
     "metadata": {},
     "output_type": "display_data"
    }
   ],
   "source": [
    "######### This cell defines the PWMs we'll be using below in PWMList ##########\n",
    "import numpy as np\n",
    "import seqlogo\n",
    "\n",
    "# Sox2\n",
    "pfm_1 = np.array([\n",
    "[35.0,92.0,146.0,226.0],\n",
    "[28.0,281.0,71.0,119.0],\n",
    "[25.0,272.0,8.0,194.0],\n",
    "[219.0,6.0,4.0,270.0],\n",
    "[1.0,11.0,5.0,482.0],\n",
    "[7.0,1.0,2.0,489.0],\n",
    "[39.0,76.0,372.0,12.0],\n",
    "[52.0,1.0,12.0,434.0],\n",
    "[113.0,124.0,78.0,184.0],\n",
    "[340.0,39.0,33.0,87.0],\n",
    "[36.0,5.0,19.0,439.0],\n",
    "[19.0,29.0,375.0,76.0],\n",
    "[24.0,317.0,59.0,99.0],\n",
    "[279.0,51.0,17.0,152.0],\n",
    "[277.0,47.0,72.0,103.0],\n",
    "[386.0,19.0,38.0,56.0]\n",
    "]).transpose()\n",
    "\n",
    "# Gata4\n",
    "pfm_2 = np.array([\n",
    "[184.0,64.0,156.0,96.0],\n",
    "[94.0,215.0,142.0,49.0],\n",
    "[332.0,4.0,8.0,156.0],\n",
    "[2.0,0.0,498.0,0.0],\n",
    "[490.0,2.0,4.0,4.0],\n",
    "[4.0,11.0,20.0,465.0],\n",
    "[481.0,2.0,2.0,15.0],\n",
    "[459.0,1.0,35.0,5.0],\n",
    "[47.0,91.0,349.0,13.0],\n",
    "[285.0,71.0,128.0,16.0],\n",
    "]).transpose()\n",
    "\n",
    "# HNF4A\n",
    "pfm_3 = np.array([\n",
    "    [141.0,127.0,177.0,55.0],\n",
    "[228.0,16.0,199.0,57.0],\n",
    "[36.0,9.0,424.0,31.0],\n",
    "[91.0,35.0,163.0,211.0],\n",
    "[75.0,154.0,139.0,132.0],\n",
    "[4.0,463.0,5.0,28.0],\n",
    "[475.0,11.0,8.0,6.0],\n",
    "[423.0,4.0,72.0,1.0],\n",
    "[461.0,0.0,34.0,5.0],\n",
    "[4.0,3.0,484.0,9.0],\n",
    "[8.0,4.0,191.0,297.0],\n",
    "[21.0,248.0,64.0,167.0],\n",
    "[9.0,418.0,8.0,65.0],\n",
    "[351.0,32.0,65.0,52.0]\n",
    "]).transpose()\n",
    "\n",
    "# Compute the pwms, which we'll use below\n",
    "PWMList = []\n",
    "pwm_names = [\"SOX2\",\"GATA4\",\"HNF4A\"]\n",
    "\n",
    "# Plot the sequence logos\n",
    "for pfm in [pfm_1, pfm_2, pfm_3]:\n",
    "    seq_pfm = seqlogo.Pfm(pfm/np.sum(pfm, 0)[0]) # normalize to probabilities rather than counts\n",
    "    seq_ppm = seqlogo.Ppm(seqlogo.pfm2ppm(seq_pfm))\n",
    "    PWMList.append(np.array(seqlogo.ppm2pwm(seq_ppm)).transpose())\n",
    "    seqlogo.seqlogo(seq_ppm, ic_scale = True, format = 'png', size = 'medium')\n",
    "\n",
    "print(\"Example PWM\")\n",
    "display(PWMList[0])"
   ]
  },
  {
   "cell_type": "markdown",
   "metadata": {
    "deletable": false,
    "editable": false,
    "nbgrader": {
     "cell_type": "markdown",
     "checksum": "5b3db10fcc85751fd4675382f0ad2ef3",
     "grade": false,
     "grade_id": "cell-026e064ba3fe0600",
     "locked": true,
     "schema_version": 3,
     "solution": false
    }
   },
   "source": [
    "## 3. Scoring sequences\n",
    "\n",
    "To determine which motifs are enriched in our bound regions, we will want to be able to score each sequence to see if it matches a particular motif. In this section we'll write functions to score each sequence. Some notes to keep in mind:\n",
    "\n",
    "* A sequence may have more than one \"match\" to a PWM. So we'll just keep track of the maximum score for each sequence.\n",
    "* We'll need to check for matches on both DNA strands: if a motif matches either the sequence or its reverse complement, it should be considered a match.\n",
    "\n",
    "**Question 1 (4 pts)**: Complete the functions below needed to determine the maximum PWM match score for each sequence:\n",
    "\n",
    "* `ScoreSeq(pwm, seq)`: takes in a sequence of length $n$, and a pwm of size $4\\times n$, and computes the PWM score for that sequence. You already wrote a function to do this in the first exercise notebook. You can copy it here. There are no additional points for this here.\n",
    "* `ReverseComplement(sequence)` (2 pts): should take in a string of nucleotides and output the reverse complement string\n",
    "* `FindMaxScore(pwm, sequence)` (2 pts): should take in a string of nucleotides (of length longer than $n$), scan it (and its reverse complement) with the PWM, and output the maximum PWM match score for that sequence."
   ]
  },
  {
   "cell_type": "code",
   "execution_count": 7,
   "metadata": {
    "deletable": false,
    "nbgrader": {
     "cell_type": "code",
     "checksum": "718a593c6a2f40ee5e4dadb2bd46bb9b",
     "grade": false,
     "grade_id": "correct-seq-match",
     "locked": false,
     "schema_version": 3,
     "solution": true
    }
   },
   "outputs": [
    {
     "data": {
      "text/plain": [
       "15.78518525594452"
      ]
     },
     "execution_count": 7,
     "metadata": {},
     "output_type": "execute_result"
    }
   ],
   "source": [
    "nucs = {\"A\": 0, \"C\": 1, \"G\": 2, \"T\": 3} # this might be helpful\n",
    "\n",
    "def ScoreSeq(pwm, sequence):\n",
    "    \"\"\" Score a sequence using a PWM\n",
    "    \n",
    "    Parameters\n",
    "    ----------\n",
    "    pwm : 2d np.array\n",
    "       Position weight matrix\n",
    "    sequence : str\n",
    "       Sequence of nucleotides to be scored\n",
    "       \n",
    "    Returns\n",
    "    -------\n",
    "    score : float\n",
    "       PWM score of the sequence\n",
    "    \"\"\"\n",
    "    score = 0\n",
    "    # YOUR CODE HERE\n",
    "    for i in range(len(sequence)):\n",
    "        nuc = sequence[i]\n",
    "        score += pwm[nucs[nuc], i]\n",
    "    return score\n",
    "\n",
    "def ReverseComplement(sequence):\n",
    "    \"\"\" Get the reverse complement of a sequence\n",
    "    \n",
    "    Parameters\n",
    "    ----------\n",
    "    sequence : str\n",
    "      Sequence of nucleotides\n",
    "      \n",
    "    Returns\n",
    "    -------\n",
    "    revcomp : str\n",
    "      Reverse complement of sequence\n",
    "    \"\"\"\n",
    "    revcomp = \"\"\n",
    "    # YOUR CODE HERE\n",
    "    comps = {\"A\":\"T\", \"T\":\"A\", \"C\":\"G\", \"G\":\"C\"}\n",
    "    for nuc in sequence:\n",
    "        revcomp = comps[nuc] + revcomp\n",
    "    return revcomp\n",
    "\n",
    "def FindMaxScore(pwm, sequence):\n",
    "    \"\"\" Get highest PWM match for a sequence\n",
    "    \n",
    "    Scan a sequence with a pwm\n",
    "    Compute the highest pwm score for a given sequence\n",
    "    Be sure to check the forward and reverse strands!\n",
    "    \n",
    "    Parameters\n",
    "    ----------\n",
    "    pwm : 2d np.array\n",
    "       PWM matrix\n",
    "    sequence : str\n",
    "       Sequence of nucleotides\n",
    "       \n",
    "    Returns\n",
    "    -------\n",
    "    max_score : float\n",
    "       Score of top match to the PWM\n",
    "    \"\"\"\n",
    "    max_score = -1*np.inf\n",
    "    # YOUR CODE HERE\n",
    "    n = pwm.shape[1]\n",
    "    scores = []\n",
    "    rev_seq = ReverseComplement(sequence)\n",
    "    for i in range(len(sequence)-n+1):\n",
    "        scores.append(ScoreSeq(pwm, sequence[i:i+n]))\n",
    "        scores.append(ScoreSeq(pwm, rev_seq[i:i+n]))\n",
    "    max_score = max(scores)\n",
    "    return max_score\n",
    "\n",
    "# Check that it works. Should get an answer close to 16\n",
    "FindMaxScore(PWMList[0], peak_seqs[0])"
   ]
  },
  {
   "cell_type": "code",
   "execution_count": 8,
   "metadata": {
    "deletable": false,
    "editable": false,
    "nbgrader": {
     "cell_type": "code",
     "checksum": "a9d8416bca99addb341a0a2b86056900",
     "grade": true,
     "grade_id": "correct-revcomp",
     "locked": true,
     "points": 2,
     "schema_version": 3,
     "solution": false
    }
   },
   "outputs": [],
   "source": [
    "\"\"\"Check ReverseComplement\"\"\"\n",
    "assert(ReverseComplement(\"ATG\")==\"CAT\")\n",
    "assert(ReverseComplement(\"CA\")==\"TG\")\n",
    "assert(ReverseComplement(\"AATCGACTG\")==\"CAGTCGATT\")"
   ]
  },
  {
   "cell_type": "code",
   "execution_count": 9,
   "metadata": {
    "deletable": false,
    "editable": false,
    "nbgrader": {
     "cell_type": "code",
     "checksum": "38ca1b46d27ffe070f6fd7550f9b0219",
     "grade": true,
     "grade_id": "correct-findmaxscore",
     "locked": true,
     "points": 2,
     "schema_version": 3,
     "solution": false
    }
   },
   "outputs": [],
   "source": [
    "\"\"\"Correct FindMaxScore\"\"\"\n",
    "test_pwm = np.array([[1, 0, 0, 0], [0, -1, 1, 1], [2, -4, 0, 6], [1, -2, 1, 0]]).transpose()\n",
    "test_seq = \"GTAT\"\n",
    "assert(FindMaxScore(test_pwm, test_seq)==3)\n",
    "assert(FindMaxScore(test_pwm, ReverseComplement(test_seq))==3)\n",
    "test_seq = \"GTATACT\"\n",
    "assert(FindMaxScore(test_pwm, test_seq)==9)\n",
    "assert(FindMaxScore(test_pwm, ReverseComplement(test_seq))==9)"
   ]
  },
  {
   "cell_type": "markdown",
   "metadata": {
    "deletable": false,
    "editable": false,
    "nbgrader": {
     "cell_type": "markdown",
     "checksum": "686aec04d024a3026f843af9bb33a208",
     "grade": false,
     "grade_id": "cell-7d908eeb4643bdbb",
     "locked": true,
     "schema_version": 3,
     "solution": false
    }
   },
   "source": [
    "## 3. Setting the threshold\n",
    "\n",
    "Now, we'd like to set thresholds for significant matches based on random sequences. \n",
    "\n",
    "**Question 2 (4 pts)**: Complete the functions below needed to determine appropriate thresholds for PWM matches:\n",
    "\n",
    "* `ComputeNucFreqs(sequences)` (2 pts): computes the frequencies of A, C, G, and T in the input sequences\n",
    "* `RandomSequence(n, freqs)` (2 pts): computes a random sequence of length $n$ based on background frequencies\n",
    "* `GetThreshold(null_dist, pval)`: determine a score threshold for the desired p-value. You already wrote a function to do this in the first exercises. You can copy it here. There are no points for doing this here.\n",
    "\n",
    "The code below will use your functions to compute score thresholds for each PWM. They will be stored in the list `pwm_thresholds`, with 3 values (one for each PWM in `PWMList`)."
   ]
  },
  {
   "cell_type": "code",
   "execution_count": 16,
   "metadata": {
    "deletable": false,
    "nbgrader": {
     "cell_type": "code",
     "checksum": "fcb2c1b6439857eda79d6e53d5dcabd6",
     "grade": false,
     "grade_id": "cell-5808c80a0333e884",
     "locked": false,
     "schema_version": 3,
     "solution": true
    }
   },
   "outputs": [
    {
     "name": "stdout",
     "output_type": "stream",
     "text": [
      "Populating the interactive namespace from numpy and matplotlib\n"
     ]
    },
    {
     "data": {
      "image/png": "[encoded data removed]",
      "text/plain": [
       "<Figure size 720x288 with 3 Axes>"
      ]
     },
     "metadata": {
      "needs_background": "light"
     },
     "output_type": "display_data"
    }
   ],
   "source": [
    "%pylab inline\n",
    "nucs = {\"A\": 0, \"C\": 1, \"G\": 2, \"T\": 3}\n",
    "def ComputeNucFreqs(sequences):\n",
    "    \"\"\" Compute nucleotide frequencies of a list of sequences\n",
    "    \n",
    "    Parameters\n",
    "    ----------\n",
    "    sequences : list of str\n",
    "       List of sequences\n",
    "       \n",
    "    Returns\n",
    "    -------\n",
    "    freqs : list of float\n",
    "       Frequencies of A, C, G, T in the sequences\n",
    "    \"\"\"\n",
    "    freqs = [0.25, 0.25, 0.25, 0.25] # compute frequency of A, C, G, T\n",
    "    # YOUR CODE HERE\n",
    "    counts = [0,0,0,0]\n",
    "    sum_count = 0\n",
    "    for seq in sequences:\n",
    "        sum_count += len(seq)\n",
    "        for nuc in seq:\n",
    "            counts[nucs[nuc]] += 1\n",
    "    for i in range(4):\n",
    "        freqs[i] = counts[i]/sum_count\n",
    "    return freqs\n",
    "\n",
    "def RandomSequence(n, freqs):\n",
    "    \"\"\" Generate a random string of nucleotides of length n\n",
    "    \n",
    "    Use the given nucleotide frequences\n",
    "    \n",
    "    Parameters\n",
    "    ----------\n",
    "    n : int\n",
    "       Length of random string to generate\n",
    "    freqs : list of float\n",
    "       List of frequencies of A, C, G, T\n",
    "       \n",
    "    Returns\n",
    "    -------\n",
    "    seq : str\n",
    "       random sequence of length n with the specified allele frequencies\n",
    "    \"\"\"\n",
    "    seq = \"\" # replace with your randomly generated sequence below\n",
    "    # YOUR CODE HERE\n",
    "    import random\n",
    "    for i in range(n):\n",
    "        seq += random.choices([\"A\",\"C\",\"G\",\"T\"], weights=freqs)[0]\n",
    "    return seq\n",
    "\n",
    "def GetThreshold(null_dist, pval):\n",
    "    \"\"\" Find the threshold to achieve a desired p-value\n",
    "    \n",
    "    Given a null distribution (list of values),\n",
    "    find the threshold to achieve a desired p-value\n",
    "    \n",
    "    Parameters\n",
    "    ----------\n",
    "    null_dist : list of float\n",
    "       Null distribution of scores\n",
    "    pval : float\n",
    "       pval% of null_dist should be above the threshold returned\n",
    "       \n",
    "    Returns\n",
    "    -------\n",
    "    thresh : float\n",
    "       Threshold to achieve the desired p-value    \n",
    "    \"\"\"\n",
    "    thresh = 0 # set this  below to be the score threshold to obtain a p-value <0.01\n",
    "    # YOUR CODE HERE\n",
    "    null_dist = sorted(null_dist)\n",
    "    thresh = null_dist[int(len(null_dist)*(1-pval))]\n",
    "    return thresh\n",
    "\n",
    "freqs = ComputeNucFreqs(peak_seqs+bg_seqs+[ReverseComplement(item) for item in peak_seqs] + [ReverseComplement(item) for item in bg_seqs])\n",
    "numsim = 10000\n",
    "pval = 0.01\n",
    "\n",
    "pwm_thresholds = []\n",
    "fig = plt.figure()\n",
    "fig.set_size_inches((10, 4))\n",
    "for i in range(3):\n",
    "    null_scores = [ScoreSeq(PWMList[i], RandomSequence(PWMList[i].shape[1], freqs)) for j in range(numsim)]\n",
    "    thresh = GetThreshold(null_scores, pval)\n",
    "    ax = fig.add_subplot(1, 3, i+1)\n",
    "    ax.hist(null_scores, bins=10);\n",
    "    ax.axvline(x=thresh, color=\"red\")\n",
    "    ax.set_xlabel(\"Score\")\n",
    "    ax.set_ylabel(\"Frequency\");\n",
    "    ax.set_title(pwm_names[i])\n",
    "    pwm_thresholds.append(thresh)\n",
    "fig.tight_layout()"
   ]
  },
  {
   "cell_type": "code",
   "execution_count": 17,
   "metadata": {
    "deletable": false,
    "editable": false,
    "nbgrader": {
     "cell_type": "code",
     "checksum": "a6be41991d22a2643e762752fdf6d2be",
     "grade": true,
     "grade_id": "correct-freq",
     "locked": true,
     "points": 2,
     "schema_version": 3,
     "solution": false
    }
   },
   "outputs": [],
   "source": [
    "\"\"\"Test value of ComputeNucFreqs\"\"\"\n",
    "seqs = [\"A\",\"T\",\"C\",\"G\"]\n",
    "f = ComputeNucFreqs(seqs)\n",
    "for i in range(4): assert(f[i]==0.25)\n",
    "seqs = [\"AAA\",\"CCC\",\"GGG\",\"TTT\"]\n",
    "f = ComputeNucFreqs(seqs)\n",
    "for i in range(4): assert(f[i]==0.25)\n",
    "seqs = [\"AAA\",\"CCC\"]\n",
    "f = ComputeNucFreqs(seqs)\n",
    "for i in range(2): assert(f[i]==0.5)\n",
    "for i in range(2,4): assert(f[i]==0.0)"
   ]
  },
  {
   "cell_type": "code",
   "execution_count": 18,
   "metadata": {
    "deletable": false,
    "editable": false,
    "nbgrader": {
     "cell_type": "code",
     "checksum": "febe4a14406f5c851b5aaf83a274823d",
     "grade": true,
     "grade_id": "correct-random",
     "locked": true,
     "points": 2,
     "schema_version": 3,
     "solution": false
    }
   },
   "outputs": [],
   "source": [
    "\"\"\"Test value of RandomSequence\"\"\"\n",
    "freqs = [1, 0, 0, 0]\n",
    "assert(RandomSequence(5, freqs)==\"AAAAA\")\n",
    "freqs = [0, 1, 0, 0]\n",
    "assert(RandomSequence(3, freqs)==\"CCC\")\n",
    "freqs = [0, 0, 1, 0]\n",
    "assert(RandomSequence(6, freqs)==\"GGGGGG\")\n",
    "freqs = [0, 0, 0, 1]\n",
    "assert(RandomSequence(3, freqs)==\"TTT\")\n",
    "freqs = [0.5, 0, 0.5, 0]\n",
    "rseq = RandomSequence(10, freqs)\n",
    "assert(\"C\" not in rseq)\n",
    "assert(\"T\" not in rseq)\n",
    "assert(len(rseq)==10)\n",
    "assert(\"A\" in rseq)\n",
    "assert(\"G\" in rseq)"
   ]
  },
  {
   "cell_type": "markdown",
   "metadata": {
    "deletable": false,
    "editable": false,
    "nbgrader": {
     "cell_type": "markdown",
     "checksum": "67d4af56c7e9453dd9d292b48d40e04f",
     "grade": false,
     "grade_id": "cell-71c286c26ead66b8",
     "locked": true,
     "schema_version": 3,
     "solution": false
    }
   },
   "source": [
    "## 4. Testing for motif enrichment\n",
    "\n",
    "Finally, now that we have everything we need to score sequences for PWM matches, let's determine if motifs based on the three PWMs defined at the top of this notebook are enriched in our bound sequences vs. background sequences.\n",
    "\n",
    "To test for enrichment, we'll use a Fisher Exact Test. This is one method for performing enrichment tests, which we discussed last week and which were used in your GO analysis for Lab 4.\n",
    "\n",
    "To do this ourselves, we need to construct a *contingency table* of the following form:\n",
    "\n",
    "|   x| Bound | Not Bound |\n",
    "|----|-----|-------|\n",
    "| Match PWM | A| B|\n",
    "| Don't match PWM |C |D |\n",
    "\n",
    "where:\n",
    "* A is the number of bound sequences matching the PWM\n",
    "* C is the number of bound sequences not matching the PWM\n",
    "* B is the number of background sequences matching the PWM\n",
    "* D is the number of background sequences not matching the PWM.\n",
    "\n",
    "In Python, we can then test whether bound sequences are enriched (or depleted) for matches to a specific PWM compared to background sequences (i.e., there is a non-random association between whether a sequence is bound and whether it matches a motif) using the following:\n",
    "```python\n",
    "import scipy.stats\n",
    "table = [[A, B], [C, D]]\n",
    "odds, pval = scipy.stats.fisher_exact(table)\n",
    "```\n",
    "\n",
    "The code below will use your functions to:\n",
    "1. Count the number of bound sequences matching each motif.\n",
    "2. Count the number of background sequences matching each motif.\n",
    "3. Call a function `ComputeEnrichment` to test whether bound sequences are enriched for the motif.\n",
    "\n",
    "**Question 3 (2 pts)**: Complete the function `ComputeEnrichment(peak_total, peak_motif, bg_total, bg_motif)`, which should return the p-value from your Fisher Exact Test."
   ]
  },
  {
   "cell_type": "code",
   "execution_count": 1,
   "metadata": {
    "deletable": false,
    "nbgrader": {
     "cell_type": "code",
     "checksum": "50d0b40ad7adb4fa1848aab11abe5728",
     "grade": false,
     "grade_id": "cell-0bdf3dba6cba77b1",
     "locked": false,
     "schema_version": 3,
     "solution": true
    }
   },
   "outputs": [
    {
     "ename": "NameError",
     "evalue": "name 'PWMList' is not defined",
     "output_type": "error",
     "traceback": [
      "\u001b[0;31m---------------------------------------------------------------------------\u001b[0m",
      "\u001b[0;31mNameError\u001b[0m                                 Traceback (most recent call last)",
      "\u001b[0;32m<ipython-input-1-af480a676bd6>\u001b[0m in \u001b[0;36m<module>\u001b[0;34m\u001b[0m\n\u001b[1;32m     26\u001b[0m     \u001b[0;32mreturn\u001b[0m \u001b[0mpval\u001b[0m\u001b[0;34m\u001b[0m\u001b[0;34m\u001b[0m\u001b[0m\n\u001b[1;32m     27\u001b[0m \u001b[0;34m\u001b[0m\u001b[0m\n\u001b[0;32m---> 28\u001b[0;31m \u001b[0;32mfor\u001b[0m \u001b[0mi\u001b[0m \u001b[0;32min\u001b[0m \u001b[0mrange\u001b[0m\u001b[0;34m(\u001b[0m\u001b[0mlen\u001b[0m\u001b[0;34m(\u001b[0m\u001b[0mPWMList\u001b[0m\u001b[0;34m)\u001b[0m\u001b[0;34m)\u001b[0m\u001b[0;34m:\u001b[0m\u001b[0;34m\u001b[0m\u001b[0;34m\u001b[0m\u001b[0m\n\u001b[0m\u001b[1;32m     29\u001b[0m     \u001b[0mpwm\u001b[0m \u001b[0;34m=\u001b[0m \u001b[0mPWMList\u001b[0m\u001b[0;34m[\u001b[0m\u001b[0mi\u001b[0m\u001b[0;34m]\u001b[0m\u001b[0;34m\u001b[0m\u001b[0;34m\u001b[0m\u001b[0m\n\u001b[1;32m     30\u001b[0m     \u001b[0mthresh\u001b[0m \u001b[0;34m=\u001b[0m \u001b[0mpwm_thresholds\u001b[0m\u001b[0;34m[\u001b[0m\u001b[0mi\u001b[0m\u001b[0;34m]\u001b[0m\u001b[0;34m\u001b[0m\u001b[0;34m\u001b[0m\u001b[0m\n",
      "\u001b[0;31mNameError\u001b[0m: name 'PWMList' is not defined"
     ]
    }
   ],
   "source": [
    "import scipy.stats\n",
    "\n",
    "def ComputeEnrichment(peak_total, peak_motif, bg_total, bg_motif):\n",
    "    \"\"\" Compute fisher exact test to test whether motif enriched in bound sequences\n",
    "    \n",
    "    Parameters\n",
    "    ----------\n",
    "    peak_total : int\n",
    "       Number of total peaks\n",
    "    peak_motif : int\n",
    "       Number of peaks matching the motif\n",
    "    bg_total : int\n",
    "       Number of background sequences\n",
    "    bg_motif : int\n",
    "       Number of background sequences matching the motif\n",
    "       \n",
    "    Returns\n",
    "    -------\n",
    "    pval : float\n",
    "       Fisher Exact Test p-value    \n",
    "    \"\"\"\n",
    "    pval = -1\n",
    "    # YOUR CODE HERE\n",
    "    table = [[peak_motif, bg_motif], [peak_total-peak_motif, bg_total-bg_motif]]\n",
    "    odds, pval = scipy.stats.fisher_exact(table)\n",
    "    return pval\n",
    "\n",
    "for i in range(len(PWMList)):\n",
    "    pwm = PWMList[i]\n",
    "    thresh = pwm_thresholds[i]\n",
    "    num_peak_pass = np.sum([int(FindMaxScore(pwm, seq)>thresh) for seq in peak_seqs])\n",
    "    num_bg_pass = np.sum([int(FindMaxScore(pwm, seq)>thresh) for seq in bg_seqs])\n",
    "    pval = ComputeEnrichment(len(peak_seqs), num_peak_pass, len(bg_seqs), num_bg_pass)\n",
    "    print(\"PWM: %s, %s/%s peaks, %s/%s background; p-val: %s\"%(pwm_names[i], num_peak_pass, len(peak_seqs), num_bg_pass, len(bg_seqs), pval))\n",
    "    "
   ]
  },
  {
   "cell_type": "code",
   "execution_count": 5,
   "metadata": {},
   "outputs": [
    {
     "name": "stdout",
     "output_type": "stream",
     "text": [
      "0.006571861984825153\n"
     ]
    }
   ],
   "source": [
    "table = [ [ 6, 6 ], [ 2, 24 ] ]\n",
    "odds, pval = scipy.stats.fisher_exact(table)\n",
    "print(pval)"
   ]
  },
  {
   "cell_type": "code",
   "execution_count": null,
   "metadata": {
    "deletable": false,
    "editable": false,
    "nbgrader": {
     "cell_type": "code",
     "checksum": "7317f13186761b58f6392cab0be5f023",
     "grade": true,
     "grade_id": "correct-compute-enrich",
     "locked": true,
     "points": 2,
     "schema_version": 3,
     "solution": false
    }
   },
   "outputs": [],
   "source": [
    "\"\"\"Check ComputeContingencyTable\"\"\"\n",
    "assert(ComputeEnrichment(100, 0, 100, 0)==1.0)\n",
    "assert(int(np.log10(ComputeEnrichment(100, 50, 100, 0)))==-18)\n",
    "assert(round(ComputeEnrichment(100, 5, 100, 0), 2)==0.06)"
   ]
  },
  {
   "cell_type": "markdown",
   "metadata": {
    "deletable": false,
    "editable": false,
    "nbgrader": {
     "cell_type": "markdown",
     "checksum": "fc447cdf9979d91fc8517e330917f2af",
     "grade": false,
     "grade_id": "cell-cdaf6df12cee72de",
     "locked": true,
     "schema_version": 3,
     "solution": false
    }
   },
   "source": [
    "Hopefully you will find that a familiar motif is enriched (Sox2).\n",
    "\n",
    "You will also find that there are many matches to all of the PWMs also in the background sequences! We were probably a little lenient in setting our thresholds (using p<0.01), which does not account for all the tests we performed. Even so, we'd still find perfect matches just by chance in background sequences. This is the topic of the last section of this week's lab."
   ]
  }
 ],
 "metadata": {
  "kernelspec": {
   "display_name": "Python 3",
   "language": "python",
   "name": "python3"
  },
  "language_info": {
   "codemirror_mode": {
    "name": "ipython",
    "version": 3
   },
   "file_extension": ".py",
   "mimetype": "text/x-python",
   "name": "python",
   "nbconvert_exporter": "python",
   "pygments_lexer": "ipython3",
   "version": "3.6.7"
  }
 },
 "nbformat": 4,
 "nbformat_minor": 2
}
